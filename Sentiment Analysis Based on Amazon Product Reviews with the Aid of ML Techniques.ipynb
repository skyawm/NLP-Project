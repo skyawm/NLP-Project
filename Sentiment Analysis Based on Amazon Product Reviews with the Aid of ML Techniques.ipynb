{
 "cells": [
  {
   "cell_type": "markdown",
   "metadata": {},
   "source": [
    "### Importing Essential Libraries"
   ]
  },
  {
   "cell_type": "code",
   "execution_count": 1,
   "metadata": {
    "_cell_guid": "b1076dfc-b9ad-4769-8c92-a6c4dae69d19",
    "_uuid": "8f2839f25d086af736a60e9eeb907d3b93b6e0e5",
    "scrolled": false
   },
   "outputs": [],
   "source": [
    "import numpy as np # linear algebra\n",
    "import pandas as pd # data processing, CSV file I/O (e.g. pd.read_csv)\n",
    "import seaborn as sns\n",
    "import matplotlib.pyplot as plt\n",
    "\n",
    "from sklearn.feature_extraction.text import CountVectorizer\n",
    "from sklearn.linear_model import LinearRegression\n",
    "from keras.preprocessing.sequence import pad_sequences\n",
    "\n",
    "\n",
    "from collections import Counter\n",
    "import nltk\n",
    "import seaborn as sns\n",
    "import string\n",
    "from nltk.corpus import stopwords\n",
    "import regex as re\n",
    "\n",
    "from keras.preprocessing.text import Tokenizer\n",
    "from keras.preprocessing.sequence import pad_sequences\n",
    "\n",
    "from keras.models import Sequential\n",
    "from keras.layers import Dense\n",
    "from keras.backend import eval\n",
    "from keras.optimizers import Adam\n",
    "from keras.layers import LSTM\n",
    "from keras.layers.embeddings import Embedding\n",
    "from keras.layers import Dropout\n",
    "from keras.layers.convolutional import Conv1D,MaxPooling1D\n"
   ]
  },
  {
   "cell_type": "markdown",
   "metadata": {},
   "source": [
    "### Importing Dataset\n",
    "\n",
    "Amazon Consumer Reviewa of Amazon Products May19"
   ]
  },
  {
   "cell_type": "code",
   "execution_count": 2,
   "metadata": {
    "_cell_guid": "79c7e3d0-c299-4dcb-8224-4455121ee9b0",
    "_uuid": "d629ff2d2480ee46fbb7e2d37f6b5fab8052498a",
    "scrolled": false
   },
   "outputs": [
    {
     "data": {
      "text/html": [
       "<div>\n",
       "<style scoped>\n",
       "    .dataframe tbody tr th:only-of-type {\n",
       "        vertical-align: middle;\n",
       "    }\n",
       "\n",
       "    .dataframe tbody tr th {\n",
       "        vertical-align: top;\n",
       "    }\n",
       "\n",
       "    .dataframe thead th {\n",
       "        text-align: right;\n",
       "    }\n",
       "</style>\n",
       "<table border=\"1\" class=\"dataframe\">\n",
       "  <thead>\n",
       "    <tr style=\"text-align: right;\">\n",
       "      <th></th>\n",
       "      <th>id</th>\n",
       "      <th>dateAdded</th>\n",
       "      <th>dateUpdated</th>\n",
       "      <th>name</th>\n",
       "      <th>asins</th>\n",
       "      <th>brand</th>\n",
       "      <th>categories</th>\n",
       "      <th>primaryCategories</th>\n",
       "      <th>imageURLs</th>\n",
       "      <th>keys</th>\n",
       "      <th>...</th>\n",
       "      <th>reviews.didPurchase</th>\n",
       "      <th>reviews.doRecommend</th>\n",
       "      <th>reviews.id</th>\n",
       "      <th>reviews.numHelpful</th>\n",
       "      <th>reviews.rating</th>\n",
       "      <th>reviews.sourceURLs</th>\n",
       "      <th>reviews.text</th>\n",
       "      <th>reviews.title</th>\n",
       "      <th>reviews.username</th>\n",
       "      <th>sourceURLs</th>\n",
       "    </tr>\n",
       "  </thead>\n",
       "  <tbody>\n",
       "    <tr>\n",
       "      <th>0</th>\n",
       "      <td>AVpgNzjwLJeJML43Kpxn</td>\n",
       "      <td>2015-10-30T08:59:32Z</td>\n",
       "      <td>2019-04-25T09:08:16Z</td>\n",
       "      <td>AmazonBasics AAA Performance Alkaline Batterie...</td>\n",
       "      <td>B00QWO9P0O,B00LH3DMUO</td>\n",
       "      <td>Amazonbasics</td>\n",
       "      <td>AA,AAA,Health,Electronics,Health &amp; Household,C...</td>\n",
       "      <td>Health &amp; Beauty</td>\n",
       "      <td>https://images-na.ssl-images-amazon.com/images...</td>\n",
       "      <td>amazonbasics/hl002619,amazonbasicsaaaperforman...</td>\n",
       "      <td>...</td>\n",
       "      <td>NaN</td>\n",
       "      <td>NaN</td>\n",
       "      <td>NaN</td>\n",
       "      <td>NaN</td>\n",
       "      <td>3</td>\n",
       "      <td>https://www.amazon.com/product-reviews/B00QWO9...</td>\n",
       "      <td>I order 3 of them and one of the item is bad q...</td>\n",
       "      <td>... 3 of them and one of the item is bad quali...</td>\n",
       "      <td>Byger yang</td>\n",
       "      <td>https://www.barcodable.com/upc/841710106442,ht...</td>\n",
       "    </tr>\n",
       "    <tr>\n",
       "      <th>1</th>\n",
       "      <td>AVpgNzjwLJeJML43Kpxn</td>\n",
       "      <td>2015-10-30T08:59:32Z</td>\n",
       "      <td>2019-04-25T09:08:16Z</td>\n",
       "      <td>AmazonBasics AAA Performance Alkaline Batterie...</td>\n",
       "      <td>B00QWO9P0O,B00LH3DMUO</td>\n",
       "      <td>Amazonbasics</td>\n",
       "      <td>AA,AAA,Health,Electronics,Health &amp; Household,C...</td>\n",
       "      <td>Health &amp; Beauty</td>\n",
       "      <td>https://images-na.ssl-images-amazon.com/images...</td>\n",
       "      <td>amazonbasics/hl002619,amazonbasicsaaaperforman...</td>\n",
       "      <td>...</td>\n",
       "      <td>NaN</td>\n",
       "      <td>NaN</td>\n",
       "      <td>NaN</td>\n",
       "      <td>NaN</td>\n",
       "      <td>4</td>\n",
       "      <td>https://www.amazon.com/product-reviews/B00QWO9...</td>\n",
       "      <td>Bulk is always the less expensive way to go fo...</td>\n",
       "      <td>... always the less expensive way to go for pr...</td>\n",
       "      <td>ByMG</td>\n",
       "      <td>https://www.barcodable.com/upc/841710106442,ht...</td>\n",
       "    </tr>\n",
       "    <tr>\n",
       "      <th>2</th>\n",
       "      <td>AVpgNzjwLJeJML43Kpxn</td>\n",
       "      <td>2015-10-30T08:59:32Z</td>\n",
       "      <td>2019-04-25T09:08:16Z</td>\n",
       "      <td>AmazonBasics AAA Performance Alkaline Batterie...</td>\n",
       "      <td>B00QWO9P0O,B00LH3DMUO</td>\n",
       "      <td>Amazonbasics</td>\n",
       "      <td>AA,AAA,Health,Electronics,Health &amp; Household,C...</td>\n",
       "      <td>Health &amp; Beauty</td>\n",
       "      <td>https://images-na.ssl-images-amazon.com/images...</td>\n",
       "      <td>amazonbasics/hl002619,amazonbasicsaaaperforman...</td>\n",
       "      <td>...</td>\n",
       "      <td>NaN</td>\n",
       "      <td>NaN</td>\n",
       "      <td>NaN</td>\n",
       "      <td>NaN</td>\n",
       "      <td>5</td>\n",
       "      <td>https://www.amazon.com/product-reviews/B00QWO9...</td>\n",
       "      <td>Well they are not Duracell but for the price i...</td>\n",
       "      <td>... are not Duracell but for the price i am ha...</td>\n",
       "      <td>BySharon Lambert</td>\n",
       "      <td>https://www.barcodable.com/upc/841710106442,ht...</td>\n",
       "    </tr>\n",
       "    <tr>\n",
       "      <th>3</th>\n",
       "      <td>AVpgNzjwLJeJML43Kpxn</td>\n",
       "      <td>2015-10-30T08:59:32Z</td>\n",
       "      <td>2019-04-25T09:08:16Z</td>\n",
       "      <td>AmazonBasics AAA Performance Alkaline Batterie...</td>\n",
       "      <td>B00QWO9P0O,B00LH3DMUO</td>\n",
       "      <td>Amazonbasics</td>\n",
       "      <td>AA,AAA,Health,Electronics,Health &amp; Household,C...</td>\n",
       "      <td>Health &amp; Beauty</td>\n",
       "      <td>https://images-na.ssl-images-amazon.com/images...</td>\n",
       "      <td>amazonbasics/hl002619,amazonbasicsaaaperforman...</td>\n",
       "      <td>...</td>\n",
       "      <td>NaN</td>\n",
       "      <td>NaN</td>\n",
       "      <td>NaN</td>\n",
       "      <td>NaN</td>\n",
       "      <td>5</td>\n",
       "      <td>https://www.amazon.com/product-reviews/B00QWO9...</td>\n",
       "      <td>Seem to work as well as name brand batteries a...</td>\n",
       "      <td>... as well as name brand batteries at a much ...</td>\n",
       "      <td>Bymark sexson</td>\n",
       "      <td>https://www.barcodable.com/upc/841710106442,ht...</td>\n",
       "    </tr>\n",
       "    <tr>\n",
       "      <th>4</th>\n",
       "      <td>AVpgNzjwLJeJML43Kpxn</td>\n",
       "      <td>2015-10-30T08:59:32Z</td>\n",
       "      <td>2019-04-25T09:08:16Z</td>\n",
       "      <td>AmazonBasics AAA Performance Alkaline Batterie...</td>\n",
       "      <td>B00QWO9P0O,B00LH3DMUO</td>\n",
       "      <td>Amazonbasics</td>\n",
       "      <td>AA,AAA,Health,Electronics,Health &amp; Household,C...</td>\n",
       "      <td>Health &amp; Beauty</td>\n",
       "      <td>https://images-na.ssl-images-amazon.com/images...</td>\n",
       "      <td>amazonbasics/hl002619,amazonbasicsaaaperforman...</td>\n",
       "      <td>...</td>\n",
       "      <td>NaN</td>\n",
       "      <td>NaN</td>\n",
       "      <td>NaN</td>\n",
       "      <td>NaN</td>\n",
       "      <td>5</td>\n",
       "      <td>https://www.amazon.com/product-reviews/B00QWO9...</td>\n",
       "      <td>These batteries are very long lasting the pric...</td>\n",
       "      <td>... batteries are very long lasting the price ...</td>\n",
       "      <td>Bylinda</td>\n",
       "      <td>https://www.barcodable.com/upc/841710106442,ht...</td>\n",
       "    </tr>\n",
       "  </tbody>\n",
       "</table>\n",
       "<p>5 rows × 24 columns</p>\n",
       "</div>"
      ],
      "text/plain": [
       "                     id             dateAdded           dateUpdated  \\\n",
       "0  AVpgNzjwLJeJML43Kpxn  2015-10-30T08:59:32Z  2019-04-25T09:08:16Z   \n",
       "1  AVpgNzjwLJeJML43Kpxn  2015-10-30T08:59:32Z  2019-04-25T09:08:16Z   \n",
       "2  AVpgNzjwLJeJML43Kpxn  2015-10-30T08:59:32Z  2019-04-25T09:08:16Z   \n",
       "3  AVpgNzjwLJeJML43Kpxn  2015-10-30T08:59:32Z  2019-04-25T09:08:16Z   \n",
       "4  AVpgNzjwLJeJML43Kpxn  2015-10-30T08:59:32Z  2019-04-25T09:08:16Z   \n",
       "\n",
       "                                                name                  asins  \\\n",
       "0  AmazonBasics AAA Performance Alkaline Batterie...  B00QWO9P0O,B00LH3DMUO   \n",
       "1  AmazonBasics AAA Performance Alkaline Batterie...  B00QWO9P0O,B00LH3DMUO   \n",
       "2  AmazonBasics AAA Performance Alkaline Batterie...  B00QWO9P0O,B00LH3DMUO   \n",
       "3  AmazonBasics AAA Performance Alkaline Batterie...  B00QWO9P0O,B00LH3DMUO   \n",
       "4  AmazonBasics AAA Performance Alkaline Batterie...  B00QWO9P0O,B00LH3DMUO   \n",
       "\n",
       "          brand                                         categories  \\\n",
       "0  Amazonbasics  AA,AAA,Health,Electronics,Health & Household,C...   \n",
       "1  Amazonbasics  AA,AAA,Health,Electronics,Health & Household,C...   \n",
       "2  Amazonbasics  AA,AAA,Health,Electronics,Health & Household,C...   \n",
       "3  Amazonbasics  AA,AAA,Health,Electronics,Health & Household,C...   \n",
       "4  Amazonbasics  AA,AAA,Health,Electronics,Health & Household,C...   \n",
       "\n",
       "  primaryCategories                                          imageURLs  \\\n",
       "0   Health & Beauty  https://images-na.ssl-images-amazon.com/images...   \n",
       "1   Health & Beauty  https://images-na.ssl-images-amazon.com/images...   \n",
       "2   Health & Beauty  https://images-na.ssl-images-amazon.com/images...   \n",
       "3   Health & Beauty  https://images-na.ssl-images-amazon.com/images...   \n",
       "4   Health & Beauty  https://images-na.ssl-images-amazon.com/images...   \n",
       "\n",
       "                                                keys  ... reviews.didPurchase  \\\n",
       "0  amazonbasics/hl002619,amazonbasicsaaaperforman...  ...                 NaN   \n",
       "1  amazonbasics/hl002619,amazonbasicsaaaperforman...  ...                 NaN   \n",
       "2  amazonbasics/hl002619,amazonbasicsaaaperforman...  ...                 NaN   \n",
       "3  amazonbasics/hl002619,amazonbasicsaaaperforman...  ...                 NaN   \n",
       "4  amazonbasics/hl002619,amazonbasicsaaaperforman...  ...                 NaN   \n",
       "\n",
       "  reviews.doRecommend reviews.id reviews.numHelpful reviews.rating  \\\n",
       "0                 NaN        NaN                NaN              3   \n",
       "1                 NaN        NaN                NaN              4   \n",
       "2                 NaN        NaN                NaN              5   \n",
       "3                 NaN        NaN                NaN              5   \n",
       "4                 NaN        NaN                NaN              5   \n",
       "\n",
       "                                  reviews.sourceURLs  \\\n",
       "0  https://www.amazon.com/product-reviews/B00QWO9...   \n",
       "1  https://www.amazon.com/product-reviews/B00QWO9...   \n",
       "2  https://www.amazon.com/product-reviews/B00QWO9...   \n",
       "3  https://www.amazon.com/product-reviews/B00QWO9...   \n",
       "4  https://www.amazon.com/product-reviews/B00QWO9...   \n",
       "\n",
       "                                        reviews.text  \\\n",
       "0  I order 3 of them and one of the item is bad q...   \n",
       "1  Bulk is always the less expensive way to go fo...   \n",
       "2  Well they are not Duracell but for the price i...   \n",
       "3  Seem to work as well as name brand batteries a...   \n",
       "4  These batteries are very long lasting the pric...   \n",
       "\n",
       "                                       reviews.title  reviews.username  \\\n",
       "0  ... 3 of them and one of the item is bad quali...        Byger yang   \n",
       "1  ... always the less expensive way to go for pr...              ByMG   \n",
       "2  ... are not Duracell but for the price i am ha...  BySharon Lambert   \n",
       "3  ... as well as name brand batteries at a much ...     Bymark sexson   \n",
       "4  ... batteries are very long lasting the price ...           Bylinda   \n",
       "\n",
       "                                          sourceURLs  \n",
       "0  https://www.barcodable.com/upc/841710106442,ht...  \n",
       "1  https://www.barcodable.com/upc/841710106442,ht...  \n",
       "2  https://www.barcodable.com/upc/841710106442,ht...  \n",
       "3  https://www.barcodable.com/upc/841710106442,ht...  \n",
       "4  https://www.barcodable.com/upc/841710106442,ht...  \n",
       "\n",
       "[5 rows x 24 columns]"
      ]
     },
     "execution_count": 2,
     "metadata": {},
     "output_type": "execute_result"
    }
   ],
   "source": [
    "data=pd.read_csv('Datafiniti_Amazon_Consumer_Reviews_of_Amazon_Products_May19.csv')\n",
    "data.head()"
   ]
  },
  {
   "cell_type": "markdown",
   "metadata": {},
   "source": [
    "### Transforming the data into a dataframe structure\n",
    "\n",
    "Identification of distribution of review ratings\n",
    "\n",
    "If any NA values exist drop those records\n",
    "\n",
    "Identifying any null records exisitng in the data"
   ]
  },
  {
   "cell_type": "code",
   "execution_count": 3,
   "metadata": {
    "_uuid": "14986b7d106e3f45d35ef104c20fab97a5e0e91b",
    "scrolled": true
   },
   "outputs": [
    {
     "data": {
      "text/html": [
       "<div>\n",
       "<style scoped>\n",
       "    .dataframe tbody tr th:only-of-type {\n",
       "        vertical-align: middle;\n",
       "    }\n",
       "\n",
       "    .dataframe tbody tr th {\n",
       "        vertical-align: top;\n",
       "    }\n",
       "\n",
       "    .dataframe thead th {\n",
       "        text-align: right;\n",
       "    }\n",
       "</style>\n",
       "<table border=\"1\" class=\"dataframe\">\n",
       "  <thead>\n",
       "    <tr style=\"text-align: right;\">\n",
       "      <th></th>\n",
       "      <th>reviews.rating</th>\n",
       "      <th>No of Users</th>\n",
       "    </tr>\n",
       "  </thead>\n",
       "  <tbody>\n",
       "    <tr>\n",
       "      <th>0</th>\n",
       "      <td>5</td>\n",
       "      <td>19897</td>\n",
       "    </tr>\n",
       "    <tr>\n",
       "      <th>1</th>\n",
       "      <td>4</td>\n",
       "      <td>5648</td>\n",
       "    </tr>\n",
       "    <tr>\n",
       "      <th>2</th>\n",
       "      <td>3</td>\n",
       "      <td>1206</td>\n",
       "    </tr>\n",
       "    <tr>\n",
       "      <th>3</th>\n",
       "      <td>1</td>\n",
       "      <td>965</td>\n",
       "    </tr>\n",
       "    <tr>\n",
       "      <th>4</th>\n",
       "      <td>2</td>\n",
       "      <td>616</td>\n",
       "    </tr>\n",
       "  </tbody>\n",
       "</table>\n",
       "</div>"
      ],
      "text/plain": [
       "   reviews.rating  No of Users\n",
       "0               5        19897\n",
       "1               4         5648\n",
       "2               3         1206\n",
       "3               1          965\n",
       "4               2          616"
      ]
     },
     "execution_count": 3,
     "metadata": {},
     "output_type": "execute_result"
    }
   ],
   "source": [
    "review=pd.DataFrame(data.groupby('reviews.rating').size().sort_values(ascending=False).rename('No of Users').reset_index())\n",
    "review.head()"
   ]
  },
  {
   "cell_type": "code",
   "execution_count": 4,
   "metadata": {},
   "outputs": [
    {
     "data": {
      "text/plain": [
       "<BarContainer object of 5 artists>"
      ]
     },
     "execution_count": 4,
     "metadata": {},
     "output_type": "execute_result"
    },
    {
     "data": {
      "image/png": "[encoded data removed]",
      "text/plain": [
       "<Figure size 432x288 with 1 Axes>"
      ]
     },
     "metadata": {
      "needs_background": "light"
     },
     "output_type": "display_data"
    }
   ],
   "source": [
    "plt.bar(review['reviews.rating'], review['No of Users'], width =0.8, )"
   ]
  },
  {
   "cell_type": "code",
   "execution_count": 5,
   "metadata": {
    "_uuid": "8f733ea2cb83ba541c093fe2ac75cc24aae0e981",
    "scrolled": true
   },
   "outputs": [
    {
     "data": {
      "text/html": [
       "<div>\n",
       "<style scoped>\n",
       "    .dataframe tbody tr th:only-of-type {\n",
       "        vertical-align: middle;\n",
       "    }\n",
       "\n",
       "    .dataframe tbody tr th {\n",
       "        vertical-align: top;\n",
       "    }\n",
       "\n",
       "    .dataframe thead th {\n",
       "        text-align: right;\n",
       "    }\n",
       "</style>\n",
       "<table border=\"1\" class=\"dataframe\">\n",
       "  <thead>\n",
       "    <tr style=\"text-align: right;\">\n",
       "      <th></th>\n",
       "      <th>reviews.rating</th>\n",
       "      <th>reviews.text</th>\n",
       "      <th>reviews.title</th>\n",
       "      <th>reviews.username</th>\n",
       "    </tr>\n",
       "  </thead>\n",
       "  <tbody>\n",
       "    <tr>\n",
       "      <th>0</th>\n",
       "      <td>3</td>\n",
       "      <td>I order 3 of them and one of the item is bad q...</td>\n",
       "      <td>... 3 of them and one of the item is bad quali...</td>\n",
       "      <td>Byger yang</td>\n",
       "    </tr>\n",
       "    <tr>\n",
       "      <th>1</th>\n",
       "      <td>4</td>\n",
       "      <td>Bulk is always the less expensive way to go fo...</td>\n",
       "      <td>... always the less expensive way to go for pr...</td>\n",
       "      <td>ByMG</td>\n",
       "    </tr>\n",
       "    <tr>\n",
       "      <th>2</th>\n",
       "      <td>5</td>\n",
       "      <td>Well they are not Duracell but for the price i...</td>\n",
       "      <td>... are not Duracell but for the price i am ha...</td>\n",
       "      <td>BySharon Lambert</td>\n",
       "    </tr>\n",
       "    <tr>\n",
       "      <th>3</th>\n",
       "      <td>5</td>\n",
       "      <td>Seem to work as well as name brand batteries a...</td>\n",
       "      <td>... as well as name brand batteries at a much ...</td>\n",
       "      <td>Bymark sexson</td>\n",
       "    </tr>\n",
       "    <tr>\n",
       "      <th>4</th>\n",
       "      <td>5</td>\n",
       "      <td>These batteries are very long lasting the pric...</td>\n",
       "      <td>... batteries are very long lasting the price ...</td>\n",
       "      <td>Bylinda</td>\n",
       "    </tr>\n",
       "  </tbody>\n",
       "</table>\n",
       "</div>"
      ],
      "text/plain": [
       "   reviews.rating                                       reviews.text  \\\n",
       "0               3  I order 3 of them and one of the item is bad q...   \n",
       "1               4  Bulk is always the less expensive way to go fo...   \n",
       "2               5  Well they are not Duracell but for the price i...   \n",
       "3               5  Seem to work as well as name brand batteries a...   \n",
       "4               5  These batteries are very long lasting the pric...   \n",
       "\n",
       "                                       reviews.title  reviews.username  \n",
       "0  ... 3 of them and one of the item is bad quali...        Byger yang  \n",
       "1  ... always the less expensive way to go for pr...              ByMG  \n",
       "2  ... are not Duracell but for the price i am ha...  BySharon Lambert  \n",
       "3  ... as well as name brand batteries at a much ...     Bymark sexson  \n",
       "4  ... batteries are very long lasting the price ...           Bylinda  "
      ]
     },
     "execution_count": 5,
     "metadata": {},
     "output_type": "execute_result"
    }
   ],
   "source": [
    "permanent = data[['reviews.rating' , 'reviews.text' , 'reviews.title' , 'reviews.username']]\n",
    "mpermanent=permanent.dropna()\n",
    "mpermanent.head()"
   ]
  },
  {
   "cell_type": "code",
   "execution_count": 6,
   "metadata": {
    "_uuid": "4e4360c359abc14a4bafae33bc026de538d61d99"
   },
   "outputs": [
    {
     "data": {
      "text/html": [
       "<div>\n",
       "<style scoped>\n",
       "    .dataframe tbody tr th:only-of-type {\n",
       "        vertical-align: middle;\n",
       "    }\n",
       "\n",
       "    .dataframe tbody tr th {\n",
       "        vertical-align: top;\n",
       "    }\n",
       "\n",
       "    .dataframe thead th {\n",
       "        text-align: right;\n",
       "    }\n",
       "</style>\n",
       "<table border=\"1\" class=\"dataframe\">\n",
       "  <thead>\n",
       "    <tr style=\"text-align: right;\">\n",
       "      <th></th>\n",
       "      <th>reviews.rating</th>\n",
       "      <th>reviews.text</th>\n",
       "      <th>reviews.title</th>\n",
       "      <th>reviews.username</th>\n",
       "    </tr>\n",
       "  </thead>\n",
       "  <tbody>\n",
       "  </tbody>\n",
       "</table>\n",
       "</div>"
      ],
      "text/plain": [
       "Empty DataFrame\n",
       "Columns: [reviews.rating, reviews.text, reviews.title, reviews.username]\n",
       "Index: []"
      ]
     },
     "execution_count": 6,
     "metadata": {},
     "output_type": "execute_result"
    }
   ],
   "source": [
    "check =  mpermanent[mpermanent[\"reviews.text\"].isnull()]\n",
    "check"
   ]
  },
  {
   "cell_type": "markdown",
   "metadata": {},
   "source": [
    "### Classifying the data into two classes\n",
    "\n",
    "class-1 : Positive if the review rating > 3\n",
    "\n",
    "Class-2 : Negative if the review rating <= 3"
   ]
  },
  {
   "cell_type": "code",
   "execution_count": 7,
   "metadata": {
    "_uuid": "bec45e098d59872886616c1f5a54fe2d77bada49",
    "scrolled": true
   },
   "outputs": [
    {
     "data": {
      "text/plain": [
       "(28332, 2)"
      ]
     },
     "execution_count": 7,
     "metadata": {},
     "output_type": "execute_result"
    }
   ],
   "source": [
    "# actualrating = mpermanent[(mpermanent['reviews.rating'] == 1) | (mpermanent['reviews.rating'] == 5)]\n",
    "# actualrating.shape\n",
    "\n",
    "\n",
    "mpermanent[\"review\"] = mpermanent[\"reviews.text\"]\n",
    "\n",
    "mpermanent[\"score\"] = mpermanent[\"reviews.rating\"].apply(lambda x: \"negative\" if x<=3 else \"positive\")\n",
    "\n",
    "# Creating a seperate new variable\n",
    "\n",
    "actualrating = mpermanent[[\"review\", \"score\"]]\n",
    "actualrating.shape"
   ]
  },
  {
   "cell_type": "code",
   "execution_count": 8,
   "metadata": {},
   "outputs": [
    {
     "name": "stdout",
     "output_type": "stream",
     "text": [
      "                                              review     score\n",
      "0  I order 3 of them and one of the item is bad q...  negative\n",
      "1  Bulk is always the less expensive way to go fo...  positive\n",
      "2  Well they are not Duracell but for the price i...  positive\n",
      "3  Seem to work as well as name brand batteries a...  positive\n",
      "4  These batteries are very long lasting the pric...  positive\n",
      "\n",
      "\n",
      "\n",
      "0    I order 3 of them and one of the item is bad q...\n",
      "1    Bulk is always the less expensive way to go fo...\n",
      "2    Well they are not Duracell but for the price i...\n",
      "3    Seem to work as well as name brand batteries a...\n",
      "4    These batteries are very long lasting the pric...\n",
      "5    Bought a lot of batteries for Christmas and th...\n",
      "6    ive not had any problame with these batteries ...\n",
      "7    Well if you are looking for cheap non-recharge...\n",
      "8    These do not hold the amount of high power jui...\n",
      "9    AmazonBasics AA AAA batteries have done well b...\n",
      "Name: review, dtype: object\n"
     ]
    }
   ],
   "source": [
    "print(actualrating.head())\n",
    "print('\\n\\n')\n",
    "print(actualrating['review'].head(10))"
   ]
  },
  {
   "cell_type": "code",
   "execution_count": 9,
   "metadata": {
    "_uuid": "6128b59637c21d008ce8e25c6d0e356a1506dad0"
   },
   "outputs": [],
   "source": [
    "y = actualrating['score']\n",
    "x = actualrating['review'].reset_index()\n",
    "# X =x[xindex(False)]"
   ]
  },
  {
   "cell_type": "code",
   "execution_count": 10,
   "metadata": {
    "_uuid": "16c33c90202091b1ce8c7713510bf9174c5016d8",
    "scrolled": true
   },
   "outputs": [
    {
     "name": "stdout",
     "output_type": "stream",
     "text": [
      "28332\n",
      "28332\n"
     ]
    }
   ],
   "source": [
    "print(len(y))\n",
    "print(len(x))"
   ]
  },
  {
   "cell_type": "code",
   "execution_count": 11,
   "metadata": {
    "_uuid": "2e34c2ee6ffa22684284a723cbb7c6014437195b",
    "scrolled": true
   },
   "outputs": [
    {
     "name": "stdout",
     "output_type": "stream",
     "text": [
      "0        I order 3 of them and one of the item is bad q...\n",
      "1        Bulk is always the less expensive way to go fo...\n",
      "2        Well they are not Duracell but for the price i...\n",
      "3        Seem to work as well as name brand batteries a...\n",
      "4        These batteries are very long lasting the pric...\n",
      "                               ...                        \n",
      "28327    I got 2 of these for my 8 yr old twins. My 11 ...\n",
      "28328    I bought this for my niece for a Christmas gif...\n",
      "28329    Very nice for light internet browsing, keeping...\n",
      "28330    This Tablet does absolutely everything I want!...\n",
      "28331    At ninety dollars, the expectionations are low...\n",
      "Name: review, Length: 28332, dtype: object\n"
     ]
    }
   ],
   "source": [
    "X = x['review']\n",
    "print(X)"
   ]
  },
  {
   "cell_type": "code",
   "execution_count": 12,
   "metadata": {
    "_uuid": "912a3b4a2ec5353f8842170a0c5cf41331652c4d",
    "scrolled": true
   },
   "outputs": [
    {
     "name": "stdout",
     "output_type": "stream",
     "text": [
      "28332\n"
     ]
    }
   ],
   "source": [
    "print(len(X))"
   ]
  },
  {
   "cell_type": "markdown",
   "metadata": {},
   "source": [
    "### Applying Natural Language Processing Techniques\n",
    "\n",
    "1. Removal of all Punctuations.\n",
    "2. Removal of all Stopwords\n",
    "3. Obtaining the clean data that is free of punctuations and stopwords\n",
    "\n",
    "Importing essential libraries for NLP and framing a function that is used for text processing to obtain clean text or data"
   ]
  },
  {
   "cell_type": "code",
   "execution_count": 13,
   "metadata": {
    "_uuid": "f9ed21eb8c535c8073737ad9576bd522e9198730"
   },
   "outputs": [],
   "source": [
    "import string\n",
    "from nltk.corpus import stopwords\n",
    "# stop=set(stopwords.words('english'))\n",
    "def text_process(text):\n",
    "    nopunc = [char for char in text if char not in string.punctuation]\n",
    "    nopunc = ''.join(nopunc)\n",
    "    \n",
    "    return [word for word in nopunc.split() if word.lower() not in stopwords.words('english')]"
   ]
  },
  {
   "cell_type": "markdown",
   "metadata": {},
   "source": [
    "#### Splitting the data into word tokens"
   ]
  },
  {
   "cell_type": "code",
   "execution_count": 14,
   "metadata": {
    "_uuid": "aef7fdab075eb621d5340bbca119357e0f9ef154"
   },
   "outputs": [
    {
     "name": "stdout",
     "output_type": "stream",
     "text": [
      "['I', 'order', '3', 'of', 'them', 'and', 'one', 'of', 'the', 'item', 'is', 'bad', 'quality.', 'Is', 'missing', 'backup', 'spring', 'so', 'I', 'have', 'to', 'put', 'a', 'pcs', 'of', 'aluminum', 'to', 'make', 'the', 'battery', 'work.']\n"
     ]
    }
   ],
   "source": [
    "tokens = X[0].split()\n",
    "print(tokens)"
   ]
  },
  {
   "cell_type": "markdown",
   "metadata": {},
   "source": [
    "#### Processing the information using text_process function"
   ]
  },
  {
   "cell_type": "code",
   "execution_count": 15,
   "metadata": {},
   "outputs": [
    {
     "name": "stdout",
     "output_type": "stream",
     "text": [
      "['order', '3', 'one', 'item', 'bad', 'quality', 'missing', 'backup', 'spring', 'put', 'pcs', 'aluminum', 'make', 'battery', 'work']\n"
     ]
    }
   ],
   "source": [
    "print(text_process(X[0]))"
   ]
  },
  {
   "cell_type": "markdown",
   "metadata": {},
   "source": [
    "#### Obtained information will be utilized to extract features with ecoding using CountVectorizer library"
   ]
  },
  {
   "cell_type": "code",
   "execution_count": 16,
   "metadata": {
    "_uuid": "d900bae60367671c766d989c19a12f30f48a0d45"
   },
   "outputs": [],
   "source": [
    "from sklearn.feature_extraction.text import CountVectorizer\n",
    "bow_transformer = CountVectorizer(analyzer=text_process).fit(X)"
   ]
  },
  {
   "cell_type": "code",
   "execution_count": 17,
   "metadata": {
    "_uuid": "967cbf7a0a320cec780c5f4729099d5a06f68d2f"
   },
   "outputs": [
    {
     "data": {
      "text/plain": [
       "15281"
      ]
     },
     "execution_count": 17,
     "metadata": {},
     "output_type": "execute_result"
    }
   ],
   "source": [
    "len(bow_transformer.vocabulary_)"
   ]
  },
  {
   "cell_type": "code",
   "execution_count": 18,
   "metadata": {},
   "outputs": [
    {
     "data": {
      "text/plain": [
       "{'order': 10814,\n",
       " '3': 261,\n",
       " 'one': 10734,\n",
       " 'item': 9246,\n",
       " 'bad': 4818,\n",
       " 'quality': 11797,\n",
       " 'missing': 10176,\n",
       " 'backup': 4810,\n",
       " 'spring': 13256,\n",
       " 'put': 11778,\n",
       " 'pcs': 11070,\n",
       " 'aluminum': 4413,\n",
       " 'make': 9900,\n",
       " 'battery': 4952,\n",
       " 'work': 15082,\n",
       " 'Bulk': 1046,\n",
       " 'always': 4415,\n",
       " 'less': 9583,\n",
       " 'expensive': 7487,\n",
       " 'way': 14871,\n",
       " 'go': 8215,\n",
       " 'products': 11635,\n",
       " 'like': 9655,\n",
       " 'Well': 3950,\n",
       " 'Duracell': 1485,\n",
       " 'price': 11492,\n",
       " 'happy': 8508,\n",
       " 'Seem': 3346,\n",
       " 'well': 14925,\n",
       " 'name': 10395,\n",
       " 'brand': 5266,\n",
       " 'batteries': 4893,\n",
       " 'much': 10332,\n",
       " 'better': 5068,\n",
       " 'long': 9750,\n",
       " 'lasting': 9498,\n",
       " 'great': 8354,\n",
       " 'Bought': 1018,\n",
       " 'lot': 9797,\n",
       " 'Christmas': 1177,\n",
       " 'AmazonBasics': 750,\n",
       " 'Cell': 1142,\n",
       " 'good': 8242,\n",
       " 'havent': 8551,\n",
       " 'noticed': 10617,\n",
       " 'difference': 6690,\n",
       " 'Amazon': 745,\n",
       " 'Basic': 932,\n",
       " 'easier': 7076,\n",
       " 'purchase': 11748,\n",
       " 'arrive': 4641,\n",
       " 'house': 8769,\n",
       " 'hand': 8466,\n",
       " 'buy': 5425,\n",
       " 'ive': 9278,\n",
       " 'problame': 11575,\n",
       " 'ordered': 10817,\n",
       " 'past': 11047,\n",
       " 'pleased': 11281,\n",
       " 'looking': 9776,\n",
       " 'cheap': 5680,\n",
       " 'nonrechargeable': 10573,\n",
       " 'last': 9491,\n",
       " 'quite': 11849,\n",
       " 'perfect': 11095,\n",
       " 'Nothing': 2730,\n",
       " 'say': 12539,\n",
       " 'hold': 8701,\n",
       " 'amount': 4446,\n",
       " 'high': 8649,\n",
       " 'power': 11403,\n",
       " 'juice': 9306,\n",
       " 'energizer': 7245,\n",
       " 'duracell': 7029,\n",
       " 'half': 8461,\n",
       " 'AA': 582,\n",
       " 'AAA': 583,\n",
       " 'done': 6888,\n",
       " 'appear': 4545,\n",
       " 'shelf': 12781,\n",
       " 'life': 9610,\n",
       " 'Ill': 2145,\n",
       " 'find': 7736,\n",
       " 'amazon': 4429,\n",
       " 'basics': 4868,\n",
       " 'equal': 7303,\n",
       " 'superior': 13572,\n",
       " 'ones': 10744,\n",
       " 'Cant': 1127,\n",
       " 'believe': 5041,\n",
       " 'didnt': 6681,\n",
       " 'start': 13305,\n",
       " 'buying': 5431,\n",
       " 'sooner': 13137,\n",
       " 'packages': 10946,\n",
       " 'large': 9484,\n",
       " 'first': 7773,\n",
       " 'started': 13307,\n",
       " 'getting': 8147,\n",
       " 'basic': 4866,\n",
       " 'really': 11965,\n",
       " 'liked': 9658,\n",
       " 'recent': 11996,\n",
       " 'purchases': 11755,\n",
       " 'seem': 12652,\n",
       " 'maybe': 9993,\n",
       " 'mixedbag': 10185,\n",
       " 'inconsistent': 8962,\n",
       " 'others': 10839,\n",
       " 'tests': 13856,\n",
       " 'feel': 7679,\n",
       " 'brands': 5279,\n",
       " 'may': 9992,\n",
       " 'longer': 9756,\n",
       " 'However': 2093,\n",
       " 'hard': 8514,\n",
       " 'beat': 4989,\n",
       " 'Use': 3821,\n",
       " 'fish': 7780,\n",
       " 'tanks': 13760,\n",
       " 'light': 9633,\n",
       " 'night': 10520,\n",
       " 'works': 15109,\n",
       " 'love': 9813,\n",
       " 'easily': 7078,\n",
       " 'switch': 13658,\n",
       " 'want': 14815,\n",
       " 'guests': 8431,\n",
       " 'got': 8278,\n",
       " 'em': 7195,\n",
       " 'cant': 5503,\n",
       " 'comment': 5907,\n",
       " 'job': 9293,\n",
       " 'quick': 11830,\n",
       " 'delivery': 6551,\n",
       " 'two': 14367,\n",
       " 'keyboards': 9337,\n",
       " 'year': 15196,\n",
       " 'three': 14014,\n",
       " 'days': 6427,\n",
       " 'many': 9945,\n",
       " 'things': 13971,\n",
       " 'need': 10439,\n",
       " 'aa': 4091,\n",
       " 'Thankful': 3645,\n",
       " 'able': 4101,\n",
       " 'even': 7366,\n",
       " 'shipping': 12806,\n",
       " 'Arrived': 817,\n",
       " 'condition': 6027,\n",
       " 'exactly': 7407,\n",
       " 'needed': 10442,\n",
       " 'Great': 1951,\n",
       " 'would': 15135,\n",
       " 'dont': 6894,\n",
       " 'know': 9420,\n",
       " 'thus': 14035,\n",
       " 'seems': 12657,\n",
       " 'opinion': 10789,\n",
       " 'anywhere': 4528,\n",
       " 'near': 10424,\n",
       " 'Duracel': 1484,\n",
       " 'LED': 2315,\n",
       " 'candles': 5496,\n",
       " 'crazy': 6297,\n",
       " 'trail': 14227,\n",
       " 'cameras': 5483,\n",
       " 'Cameras': 1121,\n",
       " 'exposed': 7527,\n",
       " 'cold': 5862,\n",
       " 'temps': 13831,\n",
       " 'bulk': 5381,\n",
       " 'north': 10593,\n",
       " 'Basics': 935,\n",
       " 'sheets': 12779,\n",
       " 'beeding': 5014,\n",
       " 'towels': 14196,\n",
       " 'package': 10938,\n",
       " 'aaa': 4092,\n",
       " 'size': 12945,\n",
       " 'purchased': 11751,\n",
       " 'lacking': 9450,\n",
       " 'enough': 7274,\n",
       " 'considering': 6085,\n",
       " 'cheaper': 5684,\n",
       " 'gifts': 8164,\n",
       " 'month': 10244,\n",
       " 'december': 6469,\n",
       " 'lasted': 9496,\n",
       " '2months': 253,\n",
       " 'toys': 14201,\n",
       " 'replacement': 12204,\n",
       " 'also': 4397,\n",
       " 'used': 14585,\n",
       " 'doorbell': 6901,\n",
       " 'needs': 10447,\n",
       " 'Tv': 3753,\n",
       " 'Remote': 3191,\n",
       " 'control': 6139,\n",
       " 'still': 13362,\n",
       " 'working': 15100,\n",
       " 'second': 12637,\n",
       " 'ship': 12799,\n",
       " 'door': 6900,\n",
       " 'Xbox': 4036,\n",
       " 'controllers': 6144,\n",
       " 'none': 10558,\n",
       " 'exploded': 7519,\n",
       " 'reviews': 12348,\n",
       " 'said': 12483,\n",
       " 'seemed': 12653,\n",
       " 'names': 10401,\n",
       " 'disappointed': 6747,\n",
       " 'yet': 15221,\n",
       " 'although': 4409,\n",
       " 'gave': 8120,\n",
       " '4star': 372,\n",
       " 'full': 8034,\n",
       " 'strong': 13457,\n",
       " 'pretty': 11481,\n",
       " 'weak': 14875,\n",
       " 'box': 5245,\n",
       " '48': 341,\n",
       " 'definitely': 6520,\n",
       " 'priceIm': 11506,\n",
       " 'satisfiedThank': 12519,\n",
       " 'Weve': 3958,\n",
       " 'times': 14074,\n",
       " 'cause': 5582,\n",
       " 'weve': 14956,\n",
       " 'product': 11612,\n",
       " 'recommend': 12031,\n",
       " 'CHANCE': 1070,\n",
       " 'USE': 3780,\n",
       " 'HOPEFULLY': 1999,\n",
       " 'REMAIN': 3129,\n",
       " 'GOOD': 1833,\n",
       " 'ORDER': 2760,\n",
       " 'REASONABLE': 3123,\n",
       " 'AMOUNT': 625,\n",
       " 'TIME': 3585,\n",
       " 'MEANING': 2469,\n",
       " 'YEARS': 4048,\n",
       " 'thought': 14006,\n",
       " 'fit': 7782,\n",
       " 'arrived': 4642,\n",
       " 'nice': 10504,\n",
       " 'company': 5932,\n",
       " 'okit': 10710,\n",
       " 'fault': 7644,\n",
       " 'knowing': 9421,\n",
       " 'thanks': 13883,\n",
       " 'use': 14567,\n",
       " 'game': 8082,\n",
       " 'several': 12745,\n",
       " 'weeks': 14906,\n",
       " 'convenient': 6156,\n",
       " 'compare': 5938,\n",
       " 'pricing': 11544,\n",
       " 'stores': 13408,\n",
       " 'time': 14056,\n",
       " 'ago': 4320,\n",
       " 'except': 7424,\n",
       " 'hundred': 8809,\n",
       " 'lets': 9590,\n",
       " 'share': 12764,\n",
       " 'kids': 9361,\n",
       " 'grand': 8303,\n",
       " 'okay': 10706,\n",
       " 'far': 7611,\n",
       " 'Works': 4007,\n",
       " 'every': 7383,\n",
       " 'Powers': 3018,\n",
       " 'sons': 13132,\n",
       " 'months': 10249,\n",
       " 'wont': 15071,\n",
       " 'kno': 9412,\n",
       " 'eeeks': 7133,\n",
       " 'Energizer': 1588,\n",
       " 'horrible': 8746,\n",
       " 'depend': 6575,\n",
       " 'wireless': 15026,\n",
       " 'microphone': 10094,\n",
       " 'found': 7948,\n",
       " 'brandname': 5276,\n",
       " 'per': 11091,\n",
       " 'usage': 14561,\n",
       " 'switched': 13659,\n",
       " 'try': 14315,\n",
       " 'subscription': 13510,\n",
       " 'preferred': 11441,\n",
       " 'available': 4746,\n",
       " 'week': 14898,\n",
       " 'Thats': 3649,\n",
       " '14': 106,\n",
       " 'capacity': 5511,\n",
       " '3rd': 310,\n",
       " 'expiration': 7504,\n",
       " '2027': 197,\n",
       " 'Ones': 2798,\n",
       " 'Ive': 2202,\n",
       " 'Long': 2424,\n",
       " '100': 19,\n",
       " 'satisfied': 12517,\n",
       " '10': 18,\n",
       " '12': 71,\n",
       " 'window': 15014,\n",
       " 'bought': 5234,\n",
       " '2': 178,\n",
       " 'Batteries': 940,\n",
       " 'Since': 3409,\n",
       " 'experimented': 7498,\n",
       " 'see': 12648,\n",
       " 'consistent': 6088,\n",
       " 'average': 4754,\n",
       " '17': 147,\n",
       " 'First': 1756,\n",
       " 'worked': 15097,\n",
       " 'almost': 4384,\n",
       " 'around': 4633,\n",
       " 'charge': 5654,\n",
       " '46': 338,\n",
       " 'hours': 8764,\n",
       " 'run': 12454,\n",
       " 'Junk': 2238,\n",
       " 'simple': 12907,\n",
       " 'digital': 6711,\n",
       " 'clock': 5810,\n",
       " 'best': 5059,\n",
       " '4': 321,\n",
       " '6': 418,\n",
       " 'made': 9865,\n",
       " 'years': 15206,\n",
       " 'never': 10481,\n",
       " 'looked': 9774,\n",
       " 'back': 4789,\n",
       " 'reasonable': 11970,\n",
       " 'cost': 6213,\n",
       " 'Date': 1373,\n",
       " '1992': 161,\n",
       " 'Yeah': 4059,\n",
       " 'Inedible': 2168,\n",
       " 'GOT': 1835,\n",
       " 'PACK': 2836,\n",
       " 'USEDD': 3782,\n",
       " 'FASTER': 1670,\n",
       " 'THOUGHT': 3579,\n",
       " 'WOULDSO': 3906,\n",
       " 'IM': 2114,\n",
       " 'ORDERING': 2762,\n",
       " 'packs': 10959,\n",
       " 'lowest': 9832,\n",
       " 'device': 6648,\n",
       " '8': 494,\n",
       " 'new': 10482,\n",
       " 'day': 6419,\n",
       " 'get': 8144,\n",
       " 'hour': 8760,\n",
       " 'could': 6233,\n",
       " 'rechargeable': 12005,\n",
       " 'simplicity': 12912,\n",
       " 'putting': 11781,\n",
       " 'fooling': 7874,\n",
       " 'recharging': 12011,\n",
       " 'worth': 15127,\n",
       " 'quantity': 11813,\n",
       " 'tthrough': 14324,\n",
       " 'fast': 7630,\n",
       " 'least': 9559,\n",
       " 'Standard': 3484,\n",
       " 'kind': 9375,\n",
       " 'everyday': 7386,\n",
       " 'Excellent': 1641,\n",
       " 'performance': 11108,\n",
       " 'earlier': 7064,\n",
       " 'expected': 7471,\n",
       " 'affordable': 4279,\n",
       " 'Theyre': 3665,\n",
       " 'LOVE': 2341,\n",
       " 'BATTERIES': 863,\n",
       " 'BETTER': 875,\n",
       " 'DURACELL': 1357,\n",
       " 'SAVES': 3248,\n",
       " 'MONEY': 2479,\n",
       " 'THANK': 3573,\n",
       " 'GREAT': 1842,\n",
       " 'PRODUCT': 2881,\n",
       " 'AMAZON': 616,\n",
       " 'rock': 12396,\n",
       " 'nothing': 10613,\n",
       " 'Perfect': 2945,\n",
       " 'Amazing': 741,\n",
       " 'AAAs': 588,\n",
       " 'WalMart': 3916,\n",
       " 'update': 14525,\n",
       " 'end': 7225,\n",
       " 'report': 12215,\n",
       " 'fine': 7740,\n",
       " 'issues': 9205,\n",
       " 'plan': 11248,\n",
       " 'seller': 12677,\n",
       " 'Thank': 3644,\n",
       " 'Jn': 2227,\n",
       " 'terms': 13843,\n",
       " 'tied': 14043,\n",
       " 'top': 14151,\n",
       " 'spot': 13245,\n",
       " 'compared': 5940,\n",
       " 'tested': 13850,\n",
       " 'edge': 7119,\n",
       " 'dollar': 6877,\n",
       " 'computed': 6004,\n",
       " 'value': 14640,\n",
       " 'dividing': 6846,\n",
       " 'cheapest': 5687,\n",
       " 'took': 14142,\n",
       " 'respectable': 12273,\n",
       " 'third': 13982,\n",
       " 'place': 11239,\n",
       " 'advantage': 4251,\n",
       " 'trusted': 14309,\n",
       " 'leader': 9533,\n",
       " 'images': 8884,\n",
       " 'attached': 4701,\n",
       " 'graph': 8338,\n",
       " 'table': 13687,\n",
       " 'summarizing': 13555,\n",
       " 'test': 13849,\n",
       " 'results': 12308,\n",
       " '7': 460,\n",
       " 'types': 14377,\n",
       " 'youd': 15234,\n",
       " 'indept': 8982,\n",
       " 'reviewIve': 12341,\n",
       " 'bit': 5115,\n",
       " 'quest': 11820,\n",
       " 'topselling': 14163,\n",
       " 'repeatable': 12198,\n",
       " 'precise': 11429,\n",
       " 'means': 10002,\n",
       " 'equipment': 7308,\n",
       " 'environmental': 7297,\n",
       " 'conditions': 6030,\n",
       " 'slots': 13012,\n",
       " 'fully': 8040,\n",
       " 'discharge': 6759,\n",
       " 'Opus': 2812,\n",
       " 'BTC2000': 902,\n",
       " 'analyzer': 4458,\n",
       " 'rates': 11900,\n",
       " '200': 180,\n",
       " '400': 323,\n",
       " 'rate': 11897,\n",
       " 'affects': 4273,\n",
       " 'usable': 14560,\n",
       " 'performed': 11116,\n",
       " 'exact': 7405,\n",
       " 'ACDelco': 598,\n",
       " 'Procell': 3059,\n",
       " 'Coppertop': 1265,\n",
       " 'MAX': 2465,\n",
       " 'Maxell': 2539,\n",
       " 'Rayovac': 3153,\n",
       " 'linked': 9680,\n",
       " 'reviewed': 12344,\n",
       " 'review': 12339,\n",
       " 'take': 13743,\n",
       " 'look': 9773,\n",
       " 'comparison': 5943,\n",
       " 'purposes': 11770,\n",
       " 'wasDisch': 14840,\n",
       " 'Rt': 3230,\n",
       " 'Capacity': 1129,\n",
       " 'Runtime': 3238,\n",
       " 'Sample': 3312,\n",
       " 'case100': 5554,\n",
       " '997': 565,\n",
       " 'mAh': 9857,\n",
       " 'hrs': 8782,\n",
       " 'Lowpower': 2452,\n",
       " 'flashlight200': 7806,\n",
       " '914': 551,\n",
       " '45': 336,\n",
       " 'Electronic': 1574,\n",
       " 'toy': 14199,\n",
       " 'medium': 10017,\n",
       " 'flashlight400': 7807,\n",
       " '623': 429,\n",
       " '15': 115,\n",
       " 'Motorized': 2614,\n",
       " 'bright': 5313,\n",
       " 'flashlightNote': 7808,\n",
       " 'Alkalines': 719,\n",
       " 'achieve': 4163,\n",
       " 'somewhat': 13120,\n",
       " 'higher': 8654,\n",
       " '1200': 73,\n",
       " 'low': 9824,\n",
       " 'application': 4560,\n",
       " 'mouse': 10301,\n",
       " 'keyboard': 9334,\n",
       " 'remote': 12164,\n",
       " 'etc': 7341,\n",
       " 'alkaline': 4358,\n",
       " 'internal': 9128,\n",
       " 'resistance': 12256,\n",
       " 'reduces': 12068,\n",
       " 'ratesThe': 11901,\n",
       " 'among': 4442,\n",
       " 'data': 6406,\n",
       " 'comparative': 5936,\n",
       " '031ea': 8,\n",
       " '36': 289,\n",
       " 'pack': 10933,\n",
       " 'right': 12365,\n",
       " 'decent': 6470,\n",
       " 'beatable': 4993,\n",
       " 'supplied': 13579,\n",
       " 'spent': 13222,\n",
       " 'eclipsed': 7104,\n",
       " 'currently': 6351,\n",
       " 'optionsComparisonThese': 10807,\n",
       " 'capacitywise': 5512,\n",
       " 'valuewise': 14651,\n",
       " 'blown': 5159,\n",
       " 'away': 4764,\n",
       " 'energydollar': 7250,\n",
       " 'aaas': 4093,\n",
       " 'wereDisch': 14952,\n",
       " 'Runtime100': 3239,\n",
       " '1005': 23,\n",
       " 'hrs200': 8783,\n",
       " '864': 509,\n",
       " '43': 331,\n",
       " 'hrs400': 8784,\n",
       " '670': 440,\n",
       " 'hrsAs': 8785,\n",
       " 'comperable': 5958,\n",
       " 'current': 6350,\n",
       " '021ea': 3,\n",
       " 'significantly': 12890,\n",
       " 'possible': 11382,\n",
       " 'sitting': 12936,\n",
       " 'drawer': 6961,\n",
       " 'Although': 732,\n",
       " 'certainly': 5613,\n",
       " 'contract': 6135,\n",
       " 'party': 11036,\n",
       " 'think': 13975,\n",
       " 'trust': 14308,\n",
       " 'provide': 11717,\n",
       " 'trouble': 14299,\n",
       " 'noting': 10623,\n",
       " 'come': 5891,\n",
       " 'clearly': 5796,\n",
       " 'packaging': 10947,\n",
       " 'gigantic': 8173,\n",
       " 'plastic': 11256,\n",
       " 'blister': 5146,\n",
       " 'closable': 5818,\n",
       " 'cardboard': 5523,\n",
       " 'organization': 10824,\n",
       " 'important': 8908,\n",
       " 'push': 11774,\n",
       " 'allaround': 4362,\n",
       " 'winner': 15018,\n",
       " 'category': 5579,\n",
       " 'despite': 6617,\n",
       " '50': 379,\n",
       " 'premiumFinally': 11453,\n",
       " 'another': 4495,\n",
       " 'specifically': 13197,\n",
       " 'mentions': 10053,\n",
       " 'AAs': 590,\n",
       " 'scenarios': 12559,\n",
       " 'Id': 2137,\n",
       " 'findings': 7738,\n",
       " 'short': 12831,\n",
       " 'theyre': 13959,\n",
       " 'garbage': 8108,\n",
       " 'EVERY': 1524,\n",
       " 'case': 5553,\n",
       " 'likely': 9659,\n",
       " 'version': 14687,\n",
       " 'Rayovacs': 3154,\n",
       " 'website': 14891,\n",
       " 'different': 6696,\n",
       " 'popular': 11355,\n",
       " 'source': 13165,\n",
       " 'ran': 11879,\n",
       " 'couldnt': 6234,\n",
       " 'poorly': 11350,\n",
       " 'typical': 14379,\n",
       " 'resultsDisch': 12310,\n",
       " '908': 548,\n",
       " '9': 544,\n",
       " '590': 403,\n",
       " '29': 238,\n",
       " '443': 335,\n",
       " '11': 54,\n",
       " 'hrsMy': 8786,\n",
       " 'testsreviewsI': 13858,\n",
       " 'posted': 11388,\n",
       " 'gathered': 8115,\n",
       " 'using': 14612,\n",
       " 'method': 10079,\n",
       " 'pages': 10971,\n",
       " 'search': 12626,\n",
       " 'mah': 9885,\n",
       " 'browse': 5341,\n",
       " 'profile': 11649,\n",
       " 'Ifwhen': 2142,\n",
       " 'additional': 4212,\n",
       " 'testsreviews': 13857,\n",
       " 'future': 8067,\n",
       " 'listACDelco': 9687,\n",
       " 'Super': 3535,\n",
       " 'Alkaline': 717,\n",
       " 'BatteriesDuracell': 941,\n",
       " 'MN2400': 2476,\n",
       " '20': 179,\n",
       " 'PackDuracell': 2899,\n",
       " 'PC2400BKD09Energizer': 2842,\n",
       " 'BatteriesMaxell': 943,\n",
       " 'Battery': 951,\n",
       " 'CellRayovac': 1143,\n",
       " 'storage': 13392,\n",
       " 'stored': 13407,\n",
       " 'indoors': 8999,\n",
       " 'bang': 4838,\n",
       " 'buck': 5353,\n",
       " 'Almost': 724,\n",
       " 'everything': 7392,\n",
       " 'uses': 14607,\n",
       " 'gotten': 8283,\n",
       " 'dud': 7012,\n",
       " 'batch': 4875,\n",
       " 'sure': 13602,\n",
       " 'BLEW': 885,\n",
       " 'arent': 4621,\n",
       " 'super': 13567,\n",
       " 'powered': 11408,\n",
       " 'remotes': 12169,\n",
       " 'change': 5635,\n",
       " 'often': 10697,\n",
       " 'example': 7411,\n",
       " 'magic': 9874,\n",
       " 'touch': 14181,\n",
       " 'counting': 6246,\n",
       " 'store': 13398,\n",
       " 'Popped': 3004,\n",
       " '1': 17,\n",
       " 'child': 5713,\n",
       " 'play': 11262,\n",
       " 'nearly': 10427,\n",
       " 'Im': 2147,\n",
       " 'going': 8231,\n",
       " 'NICE': 2645,\n",
       " 'Fantastic': 1711,\n",
       " 'stockpile': 13375,\n",
       " 'Oprah': 2808,\n",
       " 'probably': 11573,\n",
       " 'chuckle': 5753,\n",
       " 'primitive': 11557,\n",
       " 'integral': 9092,\n",
       " 'part': 11024,\n",
       " 'daily': 6384,\n",
       " 'lives': 9712,\n",
       " 'food': 7870,\n",
       " 'drink': 6974,\n",
       " 'shelter': 12784,\n",
       " 'pricequality': 11534,\n",
       " 'combination': 5885,\n",
       " 'Enginzer': 1592,\n",
       " 'stock': 13371,\n",
       " 'home': 8714,\n",
       " 'repeat': 12197,\n",
       " 'purchaser': 11754,\n",
       " 'sizes': 12954,\n",
       " 'Lasts': 2361,\n",
       " 'might': 10110,\n",
       " 'consider': 6077,\n",
       " 'improving': 8932,\n",
       " 'graphics': 8341,\n",
       " 'though': 14004,\n",
       " 'exciting': 7439,\n",
       " 'cars': 5544,\n",
       " 'awesome': 4766,\n",
       " 'deal': 6444,\n",
       " 'Costco': 1275,\n",
       " 'Kirkland': 2292,\n",
       " 'testing': 13855,\n",
       " 'based': 4861,\n",
       " 'experience': 7492,\n",
       " 'nicely': 10508,\n",
       " 'placed': 11240,\n",
       " 'replace': 12201,\n",
       " 'clear': 5792,\n",
       " 'thumbs': 14032,\n",
       " 'Sorry': 3452,\n",
       " 'RC': 3116,\n",
       " 'transmitters': 14247,\n",
       " 'Got': 1928,\n",
       " 'already': 4393,\n",
       " 'Never': 2685,\n",
       " 'Work': 4004,\n",
       " 'lasts': 9504,\n",
       " 'smaller': 13029,\n",
       " 'realize': 11962,\n",
       " 'quickly': 11834,\n",
       " 'runs': 12462,\n",
       " 'Like': 2393,\n",
       " 'online': 10755,\n",
       " 'Thes': 3659,\n",
       " 'xpected': 15187,\n",
       " 'alternative': 4406,\n",
       " 'particularly': 11029,\n",
       " 'useful': 14590,\n",
       " 'gaming': 8103,\n",
       " 'frequent': 7979,\n",
       " 'controller': 6143,\n",
       " 'headset': 8577,\n",
       " 'Good': 1914,\n",
       " 'preform': 11444,\n",
       " 'staying': 13330,\n",
       " 'highly': 8663,\n",
       " 'mainly': 9893,\n",
       " 'xbox': 15180,\n",
       " 'friend': 7992,\n",
       " 'advised': 4268,\n",
       " 'family': 7598,\n",
       " 'swears': 13647,\n",
       " 'agree': 4323,\n",
       " 'money': 10219,\n",
       " 'worried': 15120,\n",
       " 'running': 12459,\n",
       " 'commodity': 5914,\n",
       " 'supposed': 13597,\n",
       " 'Everyone': 1628,\n",
       " 'little': 9707,\n",
       " 'tired': 14092,\n",
       " 'forth': 7934,\n",
       " 'local': 9727,\n",
       " 'small': 13027,\n",
       " 'therefore': 13930,\n",
       " 'decided': 6475,\n",
       " 'since': 12918,\n",
       " 'approximately': 4586,\n",
       " 'bargain': 4848,\n",
       " 'inexpensive': 9008,\n",
       " 'youre': 15242,\n",
       " 'bank': 4839,\n",
       " 'account': 4150,\n",
       " 'comes': 5892,\n",
       " 'tried': 14281,\n",
       " '9volt': 573,\n",
       " 'shopper': 12825,\n",
       " 'LeapPads': 2370,\n",
       " 'held': 8609,\n",
       " 'comparable': 5934,\n",
       " 'lifespan': 9623,\n",
       " 'household': 8772,\n",
       " 'practically': 11420,\n",
       " 'hit': 8690,\n",
       " 'face': 7562,\n",
       " 'pick': 11181,\n",
       " 'thoseIve': 14002,\n",
       " 'couple': 6252,\n",
       " 'sets': 12730,\n",
       " 'qualitylifespan': 11805,\n",
       " 'DEFINTELY': 1326,\n",
       " 'happily': 8506,\n",
       " 'recommended': 12035,\n",
       " 'friends': 8001,\n",
       " 'handy': 8491,\n",
       " 'plenty': 11289,\n",
       " 'especially': 7332,\n",
       " 'birthdays': 5114,\n",
       " 'holidays': 8711,\n",
       " 'PS3': 2889,\n",
       " 'television': 13818,\n",
       " 'controls': 6147,\n",
       " 'teacher': 13785,\n",
       " 'tons': 14136,\n",
       " 'refused': 12093,\n",
       " 'spend': 13218,\n",
       " 'excessive': 7431,\n",
       " 'amounts': 4447,\n",
       " 'figured': 7718,\n",
       " 'option': 10803,\n",
       " 'longlasting': 9765,\n",
       " 'cute': 6368,\n",
       " 'matters': 9983,\n",
       " 'lol': 9748,\n",
       " 'storesI': 13409,\n",
       " 'selling': 12679,\n",
       " 'leaked': 9539,\n",
       " 'rather': 11902,\n",
       " 'candle': 5495,\n",
       " 'heads': 8576,\n",
       " 'check': 5695,\n",
       " 'happen': 8497,\n",
       " 'turned': 14339,\n",
       " 'brown': 5339,\n",
       " 'side': 12874,\n",
       " 'ruined': 12447,\n",
       " 'clean': 5787,\n",
       " 'real': 11958,\n",
       " 'old': 10713,\n",
       " 'infrequently': 9026,\n",
       " 'air': 4335,\n",
       " 'conditioned': 6028,\n",
       " 'continue': 6128,\n",
       " 'indoor': 8997,\n",
       " 'flameless': 7799,\n",
       " 'longa': 9755,\n",
       " 'Lieutenant': 2384,\n",
       " 'Dan': 1367,\n",
       " 'call': 5466,\n",
       " 'saying': 12540,\n",
       " 'worry': 15123,\n",
       " 'thats': 13890,\n",
       " 'One': 2797,\n",
       " 'thing': 13968,\n",
       " 'Forrest': 1770,\n",
       " 'must': 10375,\n",
       " 'living': 9713,\n",
       " 'room': 12411,\n",
       " 'bunch': 5395,\n",
       " 'guy': 8444,\n",
       " 'keep': 9327,\n",
       " 'Worked': 4005,\n",
       " 'outdoor': 10859,\n",
       " 'Compared': 1224,\n",
       " 'leading': 9534,\n",
       " 'namebrands': 10398,\n",
       " 'four': 7949,\n",
       " 'pair': 10984,\n",
       " 'instead': 9074,\n",
       " 'surveillance': 13634,\n",
       " 'bothered': 5223,\n",
       " 'throw': 14025,\n",
       " 'checking': 5700,\n",
       " 'fellow': 7687,\n",
       " 'reviewers': 12346,\n",
       " 'remember': 12155,\n",
       " 'claimed': 5770,\n",
       " 'deals': 6456,\n",
       " 'waste': 14849,\n",
       " 'packagingSo': 10949,\n",
       " 'advice': 4264,\n",
       " 'flashlights': 7809,\n",
       " 'TENS': 3570,\n",
       " 'machines': 9862,\n",
       " 'fluctuate': 7840,\n",
       " 'paying': 11065,\n",
       " 'locally': 9728,\n",
       " 'Best': 971,\n",
       " 'tiny': 14087,\n",
       " 'measures': 10009,\n",
       " 'x': 15173,\n",
       " 'sealed': 12619,\n",
       " 'theres': 13932,\n",
       " 'claims': 5771,\n",
       " '10year': 51,\n",
       " 'noleak': 10547,\n",
       " 'faster': 7634,\n",
       " 'thatI': 13887,\n",
       " 'Glad': 1892,\n",
       " 'stumbled': 13485,\n",
       " 'onto': 10768,\n",
       " 'whole': 14983,\n",
       " 'branded': 5272,\n",
       " 'big': 5091,\n",
       " 'chain': 5622,\n",
       " 'packaged': 10941,\n",
       " 'wrapped': 15145,\n",
       " 'included': 8954,\n",
       " 'pictures': 11198,\n",
       " 'details': 6630,\n",
       " 'extra': 7542,\n",
       " 'electronics': 7175,\n",
       " 'hate': 8540,\n",
       " 'mail': 9886,\n",
       " 'scavenging': 12556,\n",
       " 'stealing': 13334,\n",
       " 'afford': 4277,\n",
       " 'devices': 6659,\n",
       " 'bring': 5325,\n",
       " 'renewed': 12182,\n",
       " 'vigor': 14733,\n",
       " 'course': 6256,\n",
       " 'bunny': 5400,\n",
       " 'individual': 8994,\n",
       " 'inside': 9051,\n",
       " 'white': 14978,\n",
       " 'packed': 10954,\n",
       " 'reusable': 12334,\n",
       " 'leaking': 9543,\n",
       " 'wrapping': 15149,\n",
       " 'coming': 5901,\n",
       " 'TERRIBLE': 3571,\n",
       " 'Barely': 925,\n",
       " 'camera': 5480,\n",
       " 'shoot': 12818,\n",
       " 'multiple': 10351,\n",
       " 'operated': 10782,\n",
       " 'pump': 11738,\n",
       " 'transfers': 14241,\n",
       " 'gas': 8112,\n",
       " 'tank': 13759,\n",
       " 'riding': 12364,\n",
       " 'mower': 10325,\n",
       " 'fueling': 8028,\n",
       " 'trying': 14319,\n",
       " 'lift': 9627,\n",
       " 'five': 7790,\n",
       " 'gallon': 8081,\n",
       " 'empty': 7210,\n",
       " 'bundled': 5397,\n",
       " 'foursomes': 7951,\n",
       " 'perfectly': 11100,\n",
       " 'batteriesThese': 4917,\n",
       " 'ten': 13833,\n",
       " 'genuine': 8142,\n",
       " 'offer': 10681,\n",
       " 'fone': 7867,\n",
       " 'fraction': 7956,\n",
       " 'market': 9955,\n",
       " 'today': 14109,\n",
       " 'Greaatttt': 1950,\n",
       " 'AAAAA': 585,\n",
       " 'FAST': 1669,\n",
       " 'DELIVERY': 1327,\n",
       " 'DESCRIBE': 1328,\n",
       " 'Lets': 2381,\n",
       " 'hope': 8736,\n",
       " 'boot': 5209,\n",
       " 'replacements': 12205,\n",
       " 'advertised': 4258,\n",
       " 'Awesome': 848,\n",
       " 'duds': 7014,\n",
       " 'Came': 1119,\n",
       " 'Seems': 3349,\n",
       " 'shop': 12822,\n",
       " 'Quality': 3102,\n",
       " 'Excellant': 1639,\n",
       " 'Price': 3036,\n",
       " 'High': 2055,\n",
       " 'tell': 13820,\n",
       " 'othersYou': 10842,\n",
       " 'complaints': 5981,\n",
       " 'hesitate': 8638,\n",
       " 'proven': 11715,\n",
       " 'wrong': 15163,\n",
       " 'disappoint': 6746,\n",
       " 'either': 7159,\n",
       " 'priced': 11520,\n",
       " 'Yes': 4064,\n",
       " 'impressed': 8915,\n",
       " 'commercial': 5910,\n",
       " 'Another': 790,\n",
       " 'delivers': 6550,\n",
       " 'perfarmance': 11094,\n",
       " 'electronic': 7174,\n",
       " 'agenda': 4310,\n",
       " 'emergency': 7203,\n",
       " 'extended': 7534,\n",
       " 'outage': 10853,\n",
       " 'receiving': 11995,\n",
       " 'confirmed': 6047,\n",
       " 'printed': 11560,\n",
       " '2025': 193,\n",
       " '2015Now': 187,\n",
       " 'ordinary': 10820,\n",
       " 'discharging': 6762,\n",
       " 'internally': 9129,\n",
       " 'environment': 7296,\n",
       " 'pocket': 11304,\n",
       " 'grateful': 8347,\n",
       " 'Thanks': 3647,\n",
       " 'Last': 2356,\n",
       " 'Duracells': 1491,\n",
       " 'normally': 10591,\n",
       " 'excellent': 7420,\n",
       " 'Currently': 1302,\n",
       " 'along': 4387,\n",
       " 'fake': 7587,\n",
       " 'lights': 9646,\n",
       " 'wife': 14994,\n",
       " 'batts': 4975,\n",
       " 'Time': 3693,\n",
       " 'true': 14304,\n",
       " 'story': 13417,\n",
       " 'batterieswhat': 4943,\n",
       " 'Amazons': 770,\n",
       " 'manufacturers': 9941,\n",
       " 'subscribe': 13505,\n",
       " 'save': 12525,\n",
       " 'solid': 13093,\n",
       " ...}"
      ]
     },
     "execution_count": 18,
     "metadata": {},
     "output_type": "execute_result"
    }
   ],
   "source": [
    "bow_transformer.vocabulary_"
   ]
  },
  {
   "cell_type": "code",
   "execution_count": 19,
   "metadata": {
    "_uuid": "ce582fe0f5967146a6a362238c24df1a60731d90"
   },
   "outputs": [],
   "source": [
    "review_24 = X[24]"
   ]
  },
  {
   "cell_type": "code",
   "execution_count": 20,
   "metadata": {
    "_uuid": "28e5cb816a8a804e46041c0f1380b04a69e4ba16"
   },
   "outputs": [
    {
     "data": {
      "text/plain": [
       "<1x15281 sparse matrix of type '<class 'numpy.int64'>'\n",
       "\twith 5 stored elements in Compressed Sparse Row format>"
      ]
     },
     "execution_count": 20,
     "metadata": {},
     "output_type": "execute_result"
    }
   ],
   "source": [
    "bow_25 = bow_transformer.transform([review_24])\n",
    "bow_25"
   ]
  },
  {
   "cell_type": "code",
   "execution_count": 21,
   "metadata": {
    "_uuid": "0ac7801b5ce68126dba4d12f00a9048eabb71dc3",
    "scrolled": true
   },
   "outputs": [
    {
     "name": "stdout",
     "output_type": "stream",
     "text": [
      "  (0, 4893)\t1\n",
      "  (0, 5680)\t1\n",
      "  (0, 8508)\t1\n",
      "  (0, 9491)\t1\n",
      "  (0, 9750)\t1\n"
     ]
    }
   ],
   "source": [
    "print(bow_25)"
   ]
  },
  {
   "cell_type": "code",
   "execution_count": 22,
   "metadata": {
    "_uuid": "891710e23ac873cfdf6971065e63ce36213f0362"
   },
   "outputs": [],
   "source": [
    "X = bow_transformer.transform(X)"
   ]
  },
  {
   "cell_type": "code",
   "execution_count": 23,
   "metadata": {
    "_uuid": "eb33a3b88fd29050672aae64fee64a425f8a58f7",
    "scrolled": true
   },
   "outputs": [],
   "source": [
    "#training the model\n",
    "from sklearn.model_selection import train_test_split\n",
    "#using 25% of the data for testing\n",
    "X_train, X_test, y_train, y_test = train_test_split(X, y, test_size=0.25, random_state=101)"
   ]
  },
  {
   "cell_type": "markdown",
   "metadata": {
    "_uuid": "2b398fbd5d4d07dbec3d91dbc46a6bdc3e6fdb4b"
   },
   "source": [
    "## **Naive Bayes Classifier**"
   ]
  },
  {
   "cell_type": "code",
   "execution_count": 24,
   "metadata": {
    "_uuid": "6daeeffaa6e0c8b5bf6b305a4e02fcde6cfd656a",
    "scrolled": true
   },
   "outputs": [
    {
     "data": {
      "text/plain": [
       "MultinomialNB()"
      ]
     },
     "execution_count": 24,
     "metadata": {},
     "output_type": "execute_result"
    }
   ],
   "source": [
    "from sklearn.naive_bayes import MultinomialNB\n",
    "nb = MultinomialNB()\n",
    "nb.fit(X_train, y_train)"
   ]
  },
  {
   "cell_type": "code",
   "execution_count": 25,
   "metadata": {
    "_uuid": "a4b2b24046113d57b92e65b646f26b5b8d59e031"
   },
   "outputs": [],
   "source": [
    "preds = nb.predict(X_test)"
   ]
  },
  {
   "cell_type": "code",
   "execution_count": 26,
   "metadata": {
    "_uuid": "396402513d5a7dc7e7c4d91d8e7e59dafa965e78",
    "scrolled": true
   },
   "outputs": [
    {
     "name": "stdout",
     "output_type": "stream",
     "text": [
      "[[ 340  345]\n",
      " [ 218 6180]]\n",
      "\n",
      "\n",
      "              precision    recall  f1-score   support\n",
      "\n",
      "    negative       0.61      0.50      0.55       685\n",
      "    positive       0.95      0.97      0.96      6398\n",
      "\n",
      "    accuracy                           0.92      7083\n",
      "   macro avg       0.78      0.73      0.75      7083\n",
      "weighted avg       0.91      0.92      0.92      7083\n",
      "\n",
      "Accuracy:  92.051\n"
     ]
    }
   ],
   "source": [
    "from sklearn.metrics import confusion_matrix, classification_report, accuracy_score\n",
    "print(confusion_matrix(y_test, preds))\n",
    "print('\\n')\n",
    "print(classification_report(y_test, preds))\n",
    "print(\"Accuracy: \",round(accuracy_score(y_test, preds)*100,3))"
   ]
  },
  {
   "cell_type": "markdown",
   "metadata": {
    "_uuid": "18dcb24a7bd48113db9f1e3af45d0560424f9482"
   },
   "source": [
    "## **support vector machine**"
   ]
  },
  {
   "cell_type": "code",
   "execution_count": 27,
   "metadata": {
    "_uuid": "763441c2b721a80fdd0794324f7dcdc4875c9065",
    "scrolled": false
   },
   "outputs": [],
   "source": [
    "from sklearn.svm import SVC\n",
    "clf = SVC()\n",
    "clf.fit(X_train, y_train) \n",
    "predsvm=clf.predict(X_test)"
   ]
  },
  {
   "cell_type": "code",
   "execution_count": 28,
   "metadata": {
    "_uuid": "76f8edf18cfb1bd2589ffea523ed147262d7e443",
    "scrolled": true
   },
   "outputs": [
    {
     "name": "stdout",
     "output_type": "stream",
     "text": [
      "[[ 286  399]\n",
      " [  13 6385]]\n",
      "\n",
      "\n",
      "              precision    recall  f1-score   support\n",
      "\n",
      "    negative       0.96      0.42      0.58       685\n",
      "    positive       0.94      1.00      0.97      6398\n",
      "\n",
      "    accuracy                           0.94      7083\n",
      "   macro avg       0.95      0.71      0.78      7083\n",
      "weighted avg       0.94      0.94      0.93      7083\n",
      "\n",
      "Accuracy:  94.183\n"
     ]
    }
   ],
   "source": [
    "from sklearn.metrics import confusion_matrix, classification_report\n",
    "print(confusion_matrix(y_test, predsvm))\n",
    "print('\\n')\n",
    "print(classification_report(y_test, predsvm))\n",
    "predsvm=clf.predict(X_test)\n",
    "print(\"Accuracy: \",round(accuracy_score(y_test, predsvm)*100,3))"
   ]
  },
  {
   "cell_type": "markdown",
   "metadata": {
    "_uuid": "d7e82ebb72d62cbfa857fa479a4ae43afbb7e8e5"
   },
   "source": [
    "## **K-NearestNeighbors (KNN) Classifier**"
   ]
  },
  {
   "cell_type": "code",
   "execution_count": 29,
   "metadata": {
    "_uuid": "f59511ad5ebd18da5846ee42b1ae5b0f9943393f"
   },
   "outputs": [
    {
     "data": {
      "text/plain": [
       "KNeighborsClassifier(n_neighbors=3)"
      ]
     },
     "execution_count": 29,
     "metadata": {},
     "output_type": "execute_result"
    }
   ],
   "source": [
    "from sklearn.neighbors import KNeighborsClassifier\n",
    "neigh = KNeighborsClassifier(n_neighbors=3)\n",
    "neigh.fit(X, y) "
   ]
  },
  {
   "cell_type": "code",
   "execution_count": 30,
   "metadata": {
    "_uuid": "beacc2af34b071cc909c967625ff6f9c819254f8"
   },
   "outputs": [],
   "source": [
    "predsknn=neigh.predict(X_test)"
   ]
  },
  {
   "cell_type": "code",
   "execution_count": 31,
   "metadata": {
    "_uuid": "00fa36a366cdddb92720178b9e2ac2ffc8b8ba8d"
   },
   "outputs": [
    {
     "name": "stdout",
     "output_type": "stream",
     "text": [
      "[[ 457  228]\n",
      " [  50 6348]]\n",
      "\n",
      "\n",
      "              precision    recall  f1-score   support\n",
      "\n",
      "    negative       0.90      0.67      0.77       685\n",
      "    positive       0.97      0.99      0.98      6398\n",
      "\n",
      "    accuracy                           0.96      7083\n",
      "   macro avg       0.93      0.83      0.87      7083\n",
      "weighted avg       0.96      0.96      0.96      7083\n",
      "\n",
      "Accuracy:  96.075\n"
     ]
    }
   ],
   "source": [
    "from sklearn.metrics import confusion_matrix, classification_report\n",
    "print(confusion_matrix(y_test, predsknn))\n",
    "print('\\n')\n",
    "print(classification_report(y_test, predsknn))\n",
    "print(\"Accuracy: \",round(accuracy_score(y_test, predsknn)*100,3))"
   ]
  },
  {
   "cell_type": "markdown",
   "metadata": {
    "_uuid": "c2d665e7750eeb403c089e3750a3275ec282e76f"
   },
   "source": [
    "## **GradientBoostingClassifier**"
   ]
  },
  {
   "cell_type": "code",
   "execution_count": 32,
   "metadata": {
    "_uuid": "f751ca5fcfe242a3bd38e2058d9806a8031d2fde"
   },
   "outputs": [],
   "source": [
    "from sklearn.ensemble import GradientBoostingClassifier\n",
    "model= GradientBoostingClassifier(n_estimators=100, learning_rate=0.01, max_depth=1, random_state=0)\n",
    "model.fit(X_train, y_train)\n",
    "predicted= model.predict(X_test)"
   ]
  },
  {
   "cell_type": "code",
   "execution_count": 33,
   "metadata": {
    "_uuid": "90c1375614ae3dfd82413e609e5281b18c62b7cb",
    "scrolled": true
   },
   "outputs": [
    {
     "name": "stdout",
     "output_type": "stream",
     "text": [
      "[[   0  685]\n",
      " [   0 6398]]\n",
      "\n",
      "\n"
     ]
    },
    {
     "name": "stderr",
     "output_type": "stream",
     "text": [
      "C:\\ProgramData\\Anaconda3\\lib\\site-packages\\sklearn\\metrics\\_classification.py:1221: UndefinedMetricWarning: Precision and F-score are ill-defined and being set to 0.0 in labels with no predicted samples. Use `zero_division` parameter to control this behavior.\n",
      "  _warn_prf(average, modifier, msg_start, len(result))\n"
     ]
    },
    {
     "name": "stdout",
     "output_type": "stream",
     "text": [
      "              precision    recall  f1-score   support\n",
      "\n",
      "    negative       0.00      0.00      0.00       685\n",
      "    positive       0.90      1.00      0.95      6398\n",
      "\n",
      "    accuracy                           0.90      7083\n",
      "   macro avg       0.45      0.50      0.47      7083\n",
      "weighted avg       0.82      0.90      0.86      7083\n",
      "\n",
      "Accuracy:  90.329\n"
     ]
    }
   ],
   "source": [
    "from sklearn.metrics import confusion_matrix, classification_report\n",
    "print(confusion_matrix(y_test, predicted))\n",
    "print('\\n')\n",
    "print(classification_report(y_test, predicted))\n",
    "print(\"Accuracy: \",round(accuracy_score(y_test, predicted)*100,3))"
   ]
  },
  {
   "cell_type": "markdown",
   "metadata": {},
   "source": [
    "#### Creating Label Attribute Utilizing Binary Classes in Score Attribute  "
   ]
  },
  {
   "cell_type": "code",
   "execution_count": 34,
   "metadata": {
    "_uuid": "b0b3b25f92f55a94ff50be96fa79822ab3a1a8e8",
    "scrolled": false
   },
   "outputs": [],
   "source": [
    "mpermanent['label'] = ['1' if star == 'positive' else '0' for star in mpermanent['score']];"
   ]
  },
  {
   "cell_type": "code",
   "execution_count": 35,
   "metadata": {
    "_uuid": "9e385d5bf80b474e9f6e90e131cd6c823b3150e4",
    "scrolled": true
   },
   "outputs": [
    {
     "data": {
      "text/html": [
       "<div>\n",
       "<style scoped>\n",
       "    .dataframe tbody tr th:only-of-type {\n",
       "        vertical-align: middle;\n",
       "    }\n",
       "\n",
       "    .dataframe tbody tr th {\n",
       "        vertical-align: top;\n",
       "    }\n",
       "\n",
       "    .dataframe thead th {\n",
       "        text-align: right;\n",
       "    }\n",
       "</style>\n",
       "<table border=\"1\" class=\"dataframe\">\n",
       "  <thead>\n",
       "    <tr style=\"text-align: right;\">\n",
       "      <th></th>\n",
       "      <th>reviews.rating</th>\n",
       "      <th>reviews.text</th>\n",
       "      <th>reviews.title</th>\n",
       "      <th>reviews.username</th>\n",
       "      <th>review</th>\n",
       "      <th>score</th>\n",
       "      <th>label</th>\n",
       "    </tr>\n",
       "  </thead>\n",
       "  <tbody>\n",
       "    <tr>\n",
       "      <th>0</th>\n",
       "      <td>3</td>\n",
       "      <td>I order 3 of them and one of the item is bad q...</td>\n",
       "      <td>... 3 of them and one of the item is bad quali...</td>\n",
       "      <td>Byger yang</td>\n",
       "      <td>I order 3 of them and one of the item is bad q...</td>\n",
       "      <td>negative</td>\n",
       "      <td>0</td>\n",
       "    </tr>\n",
       "    <tr>\n",
       "      <th>1</th>\n",
       "      <td>4</td>\n",
       "      <td>Bulk is always the less expensive way to go fo...</td>\n",
       "      <td>... always the less expensive way to go for pr...</td>\n",
       "      <td>ByMG</td>\n",
       "      <td>Bulk is always the less expensive way to go fo...</td>\n",
       "      <td>positive</td>\n",
       "      <td>1</td>\n",
       "    </tr>\n",
       "    <tr>\n",
       "      <th>2</th>\n",
       "      <td>5</td>\n",
       "      <td>Well they are not Duracell but for the price i...</td>\n",
       "      <td>... are not Duracell but for the price i am ha...</td>\n",
       "      <td>BySharon Lambert</td>\n",
       "      <td>Well they are not Duracell but for the price i...</td>\n",
       "      <td>positive</td>\n",
       "      <td>1</td>\n",
       "    </tr>\n",
       "    <tr>\n",
       "      <th>3</th>\n",
       "      <td>5</td>\n",
       "      <td>Seem to work as well as name brand batteries a...</td>\n",
       "      <td>... as well as name brand batteries at a much ...</td>\n",
       "      <td>Bymark sexson</td>\n",
       "      <td>Seem to work as well as name brand batteries a...</td>\n",
       "      <td>positive</td>\n",
       "      <td>1</td>\n",
       "    </tr>\n",
       "    <tr>\n",
       "      <th>4</th>\n",
       "      <td>5</td>\n",
       "      <td>These batteries are very long lasting the pric...</td>\n",
       "      <td>... batteries are very long lasting the price ...</td>\n",
       "      <td>Bylinda</td>\n",
       "      <td>These batteries are very long lasting the pric...</td>\n",
       "      <td>positive</td>\n",
       "      <td>1</td>\n",
       "    </tr>\n",
       "    <tr>\n",
       "      <th>...</th>\n",
       "      <td>...</td>\n",
       "      <td>...</td>\n",
       "      <td>...</td>\n",
       "      <td>...</td>\n",
       "      <td>...</td>\n",
       "      <td>...</td>\n",
       "      <td>...</td>\n",
       "    </tr>\n",
       "    <tr>\n",
       "      <th>28327</th>\n",
       "      <td>5</td>\n",
       "      <td>I got 2 of these for my 8 yr old twins. My 11 ...</td>\n",
       "      <td>Xmas gift</td>\n",
       "      <td>Mom2twinsplus1</td>\n",
       "      <td>I got 2 of these for my 8 yr old twins. My 11 ...</td>\n",
       "      <td>positive</td>\n",
       "      <td>1</td>\n",
       "    </tr>\n",
       "    <tr>\n",
       "      <th>28328</th>\n",
       "      <td>4</td>\n",
       "      <td>I bought this for my niece for a Christmas gif...</td>\n",
       "      <td>yes it is a great tablet.</td>\n",
       "      <td>fireman21</td>\n",
       "      <td>I bought this for my niece for a Christmas gif...</td>\n",
       "      <td>positive</td>\n",
       "      <td>1</td>\n",
       "    </tr>\n",
       "    <tr>\n",
       "      <th>28329</th>\n",
       "      <td>5</td>\n",
       "      <td>Very nice for light internet browsing, keeping...</td>\n",
       "      <td>You get a lot for the price!</td>\n",
       "      <td>suzannalicious</td>\n",
       "      <td>Very nice for light internet browsing, keeping...</td>\n",
       "      <td>positive</td>\n",
       "      <td>1</td>\n",
       "    </tr>\n",
       "    <tr>\n",
       "      <th>28330</th>\n",
       "      <td>5</td>\n",
       "      <td>This Tablet does absolutely everything I want!...</td>\n",
       "      <td>You get the entire World for less than $100!</td>\n",
       "      <td>SandyJ</td>\n",
       "      <td>This Tablet does absolutely everything I want!...</td>\n",
       "      <td>positive</td>\n",
       "      <td>1</td>\n",
       "    </tr>\n",
       "    <tr>\n",
       "      <th>28331</th>\n",
       "      <td>4</td>\n",
       "      <td>At ninety dollars, the expectionations are low...</td>\n",
       "      <td>You get what your paying for</td>\n",
       "      <td>Hung</td>\n",
       "      <td>At ninety dollars, the expectionations are low...</td>\n",
       "      <td>positive</td>\n",
       "      <td>1</td>\n",
       "    </tr>\n",
       "  </tbody>\n",
       "</table>\n",
       "<p>28332 rows × 7 columns</p>\n",
       "</div>"
      ],
      "text/plain": [
       "       reviews.rating                                       reviews.text  \\\n",
       "0                   3  I order 3 of them and one of the item is bad q...   \n",
       "1                   4  Bulk is always the less expensive way to go fo...   \n",
       "2                   5  Well they are not Duracell but for the price i...   \n",
       "3                   5  Seem to work as well as name brand batteries a...   \n",
       "4                   5  These batteries are very long lasting the pric...   \n",
       "...               ...                                                ...   \n",
       "28327               5  I got 2 of these for my 8 yr old twins. My 11 ...   \n",
       "28328               4  I bought this for my niece for a Christmas gif...   \n",
       "28329               5  Very nice for light internet browsing, keeping...   \n",
       "28330               5  This Tablet does absolutely everything I want!...   \n",
       "28331               4  At ninety dollars, the expectionations are low...   \n",
       "\n",
       "                                           reviews.title  reviews.username  \\\n",
       "0      ... 3 of them and one of the item is bad quali...        Byger yang   \n",
       "1      ... always the less expensive way to go for pr...              ByMG   \n",
       "2      ... are not Duracell but for the price i am ha...  BySharon Lambert   \n",
       "3      ... as well as name brand batteries at a much ...     Bymark sexson   \n",
       "4      ... batteries are very long lasting the price ...           Bylinda   \n",
       "...                                                  ...               ...   \n",
       "28327                                          Xmas gift    Mom2twinsplus1   \n",
       "28328                          yes it is a great tablet.         fireman21   \n",
       "28329                       You get a lot for the price!    suzannalicious   \n",
       "28330       You get the entire World for less than $100!            SandyJ   \n",
       "28331                       You get what your paying for              Hung   \n",
       "\n",
       "                                                  review     score label  \n",
       "0      I order 3 of them and one of the item is bad q...  negative     0  \n",
       "1      Bulk is always the less expensive way to go fo...  positive     1  \n",
       "2      Well they are not Duracell but for the price i...  positive     1  \n",
       "3      Seem to work as well as name brand batteries a...  positive     1  \n",
       "4      These batteries are very long lasting the pric...  positive     1  \n",
       "...                                                  ...       ...   ...  \n",
       "28327  I got 2 of these for my 8 yr old twins. My 11 ...  positive     1  \n",
       "28328  I bought this for my niece for a Christmas gif...  positive     1  \n",
       "28329  Very nice for light internet browsing, keeping...  positive     1  \n",
       "28330  This Tablet does absolutely everything I want!...  positive     1  \n",
       "28331  At ninety dollars, the expectionations are low...  positive     1  \n",
       "\n",
       "[28332 rows x 7 columns]"
      ]
     },
     "execution_count": 35,
     "metadata": {},
     "output_type": "execute_result"
    }
   ],
   "source": [
    "mpermanent"
   ]
  },
  {
   "cell_type": "code",
   "execution_count": 36,
   "metadata": {
    "_uuid": "52197b99b5c7a00f91e1457d1d0e71feda9998ce",
    "scrolled": true
   },
   "outputs": [
    {
     "data": {
      "text/html": [
       "<div>\n",
       "<style scoped>\n",
       "    .dataframe tbody tr th:only-of-type {\n",
       "        vertical-align: middle;\n",
       "    }\n",
       "\n",
       "    .dataframe tbody tr th {\n",
       "        vertical-align: top;\n",
       "    }\n",
       "\n",
       "    .dataframe thead th {\n",
       "        text-align: right;\n",
       "    }\n",
       "</style>\n",
       "<table border=\"1\" class=\"dataframe\">\n",
       "  <thead>\n",
       "    <tr style=\"text-align: right;\">\n",
       "      <th></th>\n",
       "      <th>reviews.rating</th>\n",
       "      <th>reviews.text</th>\n",
       "      <th>reviews.title</th>\n",
       "      <th>reviews.username</th>\n",
       "      <th>review</th>\n",
       "      <th>score</th>\n",
       "      <th>label</th>\n",
       "    </tr>\n",
       "  </thead>\n",
       "  <tbody>\n",
       "    <tr>\n",
       "      <th>28327</th>\n",
       "      <td>5</td>\n",
       "      <td>I got 2 of these for my 8 yr old twins. My 11 ...</td>\n",
       "      <td>Xmas gift</td>\n",
       "      <td>Mom2twinsplus1</td>\n",
       "      <td>I got 2 of these for my 8 yr old twins. My 11 ...</td>\n",
       "      <td>positive</td>\n",
       "      <td>1</td>\n",
       "    </tr>\n",
       "    <tr>\n",
       "      <th>28328</th>\n",
       "      <td>4</td>\n",
       "      <td>I bought this for my niece for a Christmas gif...</td>\n",
       "      <td>yes it is a great tablet.</td>\n",
       "      <td>fireman21</td>\n",
       "      <td>I bought this for my niece for a Christmas gif...</td>\n",
       "      <td>positive</td>\n",
       "      <td>1</td>\n",
       "    </tr>\n",
       "    <tr>\n",
       "      <th>28329</th>\n",
       "      <td>5</td>\n",
       "      <td>Very nice for light internet browsing, keeping...</td>\n",
       "      <td>You get a lot for the price!</td>\n",
       "      <td>suzannalicious</td>\n",
       "      <td>Very nice for light internet browsing, keeping...</td>\n",
       "      <td>positive</td>\n",
       "      <td>1</td>\n",
       "    </tr>\n",
       "    <tr>\n",
       "      <th>28330</th>\n",
       "      <td>5</td>\n",
       "      <td>This Tablet does absolutely everything I want!...</td>\n",
       "      <td>You get the entire World for less than $100!</td>\n",
       "      <td>SandyJ</td>\n",
       "      <td>This Tablet does absolutely everything I want!...</td>\n",
       "      <td>positive</td>\n",
       "      <td>1</td>\n",
       "    </tr>\n",
       "    <tr>\n",
       "      <th>28331</th>\n",
       "      <td>4</td>\n",
       "      <td>At ninety dollars, the expectionations are low...</td>\n",
       "      <td>You get what your paying for</td>\n",
       "      <td>Hung</td>\n",
       "      <td>At ninety dollars, the expectionations are low...</td>\n",
       "      <td>positive</td>\n",
       "      <td>1</td>\n",
       "    </tr>\n",
       "  </tbody>\n",
       "</table>\n",
       "</div>"
      ],
      "text/plain": [
       "       reviews.rating                                       reviews.text  \\\n",
       "28327               5  I got 2 of these for my 8 yr old twins. My 11 ...   \n",
       "28328               4  I bought this for my niece for a Christmas gif...   \n",
       "28329               5  Very nice for light internet browsing, keeping...   \n",
       "28330               5  This Tablet does absolutely everything I want!...   \n",
       "28331               4  At ninety dollars, the expectionations are low...   \n",
       "\n",
       "                                      reviews.title reviews.username  \\\n",
       "28327                                     Xmas gift   Mom2twinsplus1   \n",
       "28328                     yes it is a great tablet.        fireman21   \n",
       "28329                  You get a lot for the price!   suzannalicious   \n",
       "28330  You get the entire World for less than $100!           SandyJ   \n",
       "28331                  You get what your paying for             Hung   \n",
       "\n",
       "                                                  review     score label  \n",
       "28327  I got 2 of these for my 8 yr old twins. My 11 ...  positive     1  \n",
       "28328  I bought this for my niece for a Christmas gif...  positive     1  \n",
       "28329  Very nice for light internet browsing, keeping...  positive     1  \n",
       "28330  This Tablet does absolutely everything I want!...  positive     1  \n",
       "28331  At ninety dollars, the expectionations are low...  positive     1  "
      ]
     },
     "execution_count": 36,
     "metadata": {},
     "output_type": "execute_result"
    }
   ],
   "source": [
    "mpermanent.tail()"
   ]
  },
  {
   "cell_type": "code",
   "execution_count": 37,
   "metadata": {
    "_uuid": "0c03fb4c999c05b48bb22b2e3dd112580946435e"
   },
   "outputs": [],
   "source": [
    "reviews = mpermanent['review']\n",
    "labels = mpermanent['label']"
   ]
  },
  {
   "cell_type": "code",
   "execution_count": 38,
   "metadata": {},
   "outputs": [
    {
     "data": {
      "text/plain": [
       "array(['0', '1'], dtype=object)"
      ]
     },
     "execution_count": 38,
     "metadata": {},
     "output_type": "execute_result"
    }
   ],
   "source": [
    "labels.unique()"
   ]
  },
  {
   "cell_type": "code",
   "execution_count": 39,
   "metadata": {
    "_uuid": "58344efc25dc41bae7bb3af73de0233847879699",
    "scrolled": true
   },
   "outputs": [
    {
     "name": "stdout",
     "output_type": "stream",
     "text": [
      "28332\n"
     ]
    }
   ],
   "source": [
    "print(len(reviews))"
   ]
  },
  {
   "cell_type": "code",
   "execution_count": 40,
   "metadata": {
    "_uuid": "c2c5d823da91b1fe29f5f59a195c6c2e75f881f9"
   },
   "outputs": [
    {
     "name": "stdout",
     "output_type": "stream",
     "text": [
      "28332\n"
     ]
    }
   ],
   "source": [
    "print(len(labels))"
   ]
  },
  {
   "cell_type": "code",
   "execution_count": 41,
   "metadata": {
    "_uuid": "cb16d4bdbad9f1faaf5a351e99358aa31480a923"
   },
   "outputs": [],
   "source": [
    "stop = set(stopwords.words('english'))"
   ]
  },
  {
   "cell_type": "code",
   "execution_count": 42,
   "metadata": {
    "_uuid": "f0b4abb5b751d79945d4cbb5a2c88b88b01c449d"
   },
   "outputs": [],
   "source": [
    "def clean_document(doco):\n",
    "    punctuation = string.punctuation\n",
    "    punc_replace = ''.join([' ' for s in punctuation])\n",
    "    doco_link_clean = re.sub(r'http\\S+', '', doco)\n",
    "    doco_clean_and = re.sub(r'&\\S+', '', doco_link_clean)\n",
    "    doco_clean_at = re.sub(r'@\\S+', '', doco_clean_and)\n",
    "    doco_clean = doco_clean_at.replace('-', ' ')\n",
    "    doco_alphas = re.sub(r'\\W +', ' ', doco_clean)\n",
    "    trans_table = str.maketrans(punctuation, punc_replace)\n",
    "    doco_clean = ' '.join([word.translate(trans_table) for word in doco_alphas.split(' ')])\n",
    "    doco_clean = doco_clean.split(' ')\n",
    "    p = re.compile(r'\\s*\\b(?=[a-z\\d]*([a-z\\d])\\1{3}|\\d+\\b)[a-z\\d]+', re.IGNORECASE)\n",
    "    doco_clean = ([p.sub(\"\", x).strip() for x in doco_clean])\n",
    "    doco_clean = [word.lower() for word in doco_clean if len(word) > 2]\n",
    "    doco_clean = ([i for i in doco_clean if i not in stop])\n",
    "#     doco_clean = [spell(word) for word in doco_clean]\n",
    "#     p = re.compile(r'\\s*\\b(?=[a-z\\d]*([a-z\\d])\\1{3}|\\d+\\b)[a-z\\d]+', re.IGNORECASE)\n",
    "    doco_clean = ([p.sub(\"\", x).strip() for x in doco_clean])\n",
    "#     doco_clean = ([spell(k) for k in doco_clean])\n",
    "    return doco_clean"
   ]
  },
  {
   "cell_type": "code",
   "execution_count": 43,
   "metadata": {
    "_uuid": "4ea9c18b7e7e6b8bedda9f1a599aa55587beff6e",
    "scrolled": true
   },
   "outputs": [],
   "source": [
    "# Generate a cleaned reviews array from original review texts\n",
    "review_cleans = [clean_document(doc) for doc in reviews];\n",
    "sentences = [' '.join(r) for r in review_cleans ]"
   ]
  },
  {
   "cell_type": "code",
   "execution_count": 44,
   "metadata": {
    "_uuid": "af2b6a64c998d93212441a596ecf8ded9e2f8838",
    "scrolled": true
   },
   "outputs": [
    {
     "name": "stdout",
     "output_type": "stream",
     "text": [
      "well looking cheap non rechargeable batteries last quite perfect nothing say\n"
     ]
    }
   ],
   "source": [
    "print(sentences[7])"
   ]
  },
  {
   "cell_type": "code",
   "execution_count": 45,
   "metadata": {
    "_uuid": "da21b1db54dfe4852435ee20b53edca4d192c4ba",
    "scrolled": true
   },
   "outputs": [
    {
     "name": "stdout",
     "output_type": "stream",
     "text": [
      "Well if you are looking for cheap non-rechargeable batteries that last quite a while then these are perfect. Nothing more to say.\n"
     ]
    }
   ],
   "source": [
    "print(reviews[7])"
   ]
  },
  {
   "cell_type": "code",
   "execution_count": 46,
   "metadata": {
    "_uuid": "85aad0bf745cbecfa1b407c81ba8418ccbcfb20f",
    "scrolled": true
   },
   "outputs": [
    {
     "name": "stdout",
     "output_type": "stream",
     "text": [
      "(28332,)\n"
     ]
    }
   ],
   "source": [
    "print(reviews.shape)"
   ]
  },
  {
   "cell_type": "code",
   "execution_count": 47,
   "metadata": {
    "_uuid": "8c847fd2e311fb2da6c57507737d6a795e745669",
    "scrolled": true
   },
   "outputs": [],
   "source": [
    "tokenizer = Tokenizer()\n",
    "tokenizer.fit_on_texts(sentences)"
   ]
  },
  {
   "cell_type": "code",
   "execution_count": 48,
   "metadata": {
    "_uuid": "a5f3e0735f3804fc761210cb5967c4c1c453bdb7"
   },
   "outputs": [
    {
     "name": "stderr",
     "output_type": "stream",
     "text": [
      "<ipython-input-48-a92060aceaaf>:1: VisibleDeprecationWarning: Creating an ndarray from ragged nested sequences (which is a list-or-tuple of lists-or-tuples-or ndarrays with different lengths or shapes) is deprecated. If you meant to do this, you must specify 'dtype=object' when creating the ndarray\n",
      "  text_sequences = np.array(tokenizer.texts_to_sequences(sentences))\n"
     ]
    }
   ],
   "source": [
    "text_sequences = np.array(tokenizer.texts_to_sequences(sentences))\n",
    "sequence_dict = tokenizer.word_index\n",
    "word_dict = dict((num, val) for (val, num) in sequence_dict.items())"
   ]
  },
  {
   "cell_type": "code",
   "execution_count": 49,
   "metadata": {
    "_uuid": "d68d117225ace9aede9c9017ae69a0d7004f18d4"
   },
   "outputs": [
    {
     "name": "stdout",
     "output_type": "stream",
     "text": [
      "[list([214, 12, 159, 246, 37, 1208, 1267, 2023, 94, 3411, 3779, 150, 23, 17])\n",
      " list([416, 97, 127, 121, 89, 201, 15]) list([16, 85, 5, 70]) ...\n",
      " list([44, 81, 125, 488, 823, 252, 394, 711, 149, 46, 35, 15, 27, 88, 419, 4, 849, 4, 23, 175, 82, 95, 2879, 1465, 5091, 1989, 47, 1073, 787, 196, 2175, 929, 1398, 5])\n",
      " list([3, 250, 84, 91, 112, 313, 87, 434, 1038, 504, 133, 226, 2883, 3754, 82, 886, 32, 320, 84, 91, 3, 127])\n",
      " list([6754, 717, 6755, 174, 74, 4, 591, 4, 81, 6, 15, 253, 149, 242, 488, 167, 224, 1729, 811, 177, 54, 1581, 1103, 187, 4, 3, 25, 52, 302, 752])]\n"
     ]
    }
   ],
   "source": [
    "print(text_sequences)"
   ]
  },
  {
   "cell_type": "code",
   "execution_count": 50,
   "metadata": {
    "_uuid": "52797155b9b3d93a459a4f49a9cb031551247cb4"
   },
   "outputs": [
    {
     "name": "stdout",
     "output_type": "stream",
     "text": [
      "{'great': 1, 'batteries': 2, 'tablet': 3, 'good': 4, 'price': 5, 'use': 6, 'amazon': 7, 'love': 8, 'bought': 9, 'easy': 10, 'kindle': 11, 'one': 12, 'long': 13, 'kids': 14, 'like': 15, 'well': 16, 'work': 17, 'last': 18, 'buy': 19, 'loves': 20, 'fire': 21, 'old': 22, 'battery': 23, 'time': 24, 'would': 25, 'product': 26, 'get': 27, 'year': 28, 'apps': 29, 'games': 30, 'much': 31, 'screen': 32, 'works': 33, 'better': 34, 'books': 35, 'really': 36, 'quality': 37, 'best': 38, 'purchased': 39, 'brand': 40, 'also': 41, 'got': 42, 'far': 43, 'nice': 44, 'name': 45, 'reading': 46, 'read': 47, 'play': 48, 'used': 49, 'perfect': 50, 'value': 51, 'recommend': 52, 'gift': 53, 'device': 54, 'store': 55, 'life': 56, 'son': 57, 'little': 58, 'size': 59, 'new': 60, 'daughter': 61, 'purchase': 62, 'lot': 63, 'need': 64, 'brands': 65, 'using': 66, 'christmas': 67, 'seem': 68, 'deal': 69, 'happy': 70, 'set': 71, 'case': 72, 'many': 73, 'still': 74, 'even': 75, 'ipad': 76, 'first': 77, 'money': 78, 'excellent': 79, 'tablets': 80, 'light': 81, 'fast': 82, 'two': 83, 'everything': 84, 'duracell': 85, 'could': 86, 'movies': 87, 'free': 88, 'way': 89, 'cheap': 90, 'want': 91, 'able': 92, 'awesome': 93, 'put': 94, 'charge': 95, 'fine': 96, 'always': 97, 'since': 98, 'pretty': 99, 'years': 100, 'every': 101, 'things': 102, 'features': 103, 'wanted': 104, 'buying': 105, 'enough': 106, 'never': 107, 'say': 108, 'without': 109, 'app': 110, 'big': 111, 'watch': 112, 'right': 113, 'kid': 114, 'music': 115, 'reader': 116, 'grandson': 117, 'back': 118, 'box': 119, 'small': 120, 'expensive': 121, 'definitely': 122, 'needed': 123, 'around': 124, 'internet': 125, 'child': 126, 'less': 127, 'worth': 128, 'prime': 129, 'download': 130, 'beat': 131, 'seems': 132, 'google': 133, 'day': 134, 'longer': 135, 'keep': 136, 'cheaper': 137, 'take': 138, 'think': 139, 'see': 140, 'thing': 141, 'wife': 142, 'children': 143, 'learning': 144, 'cost': 145, 'find': 146, 'looking': 147, 'know': 148, 'videos': 149, 'make': 150, 'another': 151, 'sure': 152, 'going': 153, 'something': 154, 'access': 155, 'getting': 156, 'friendly': 157, 'granddaughter': 158, 'item': 159, 'sound': 160, 'parental': 161, 'toys': 162, 'performance': 163, 'loved': 164, 'ones': 165, 'needs': 166, 'camera': 167, 'makes': 168, 'expected': 169, 'aaa': 170, 'uses': 171, 'working': 172, 'made': 173, 'low': 174, 'power': 175, 'storage': 176, 'times': 177, 'found': 178, 'come': 179, 'pack': 180, 'issues': 181, 'etc': 182, 'lasting': 183, 'amazing': 184, 'playing': 185, 'worked': 186, 'overall': 187, 'several': 188, 'ever': 189, 'lots': 190, 'controls': 191, 'highly': 192, 'enjoy': 193, 'months': 194, 'alexa': 195, 'hours': 196, 'durable': 197, 'book': 198, 'hold': 199, 'replace': 200, 'products': 201, 'user': 202, 'came': 203, 'available': 204, 'comes': 205, 'energizer': 206, 'quickly': 207, 'basic': 208, 'different': 209, 'devices': 210, 'yet': 211, 'problem': 212, 'days': 213, 'order': 214, 'remote': 215, 'already': 216, 'memory': 217, 'amazonbasics': 218, 'however': 219, 'home': 220, 'phone': 221, 'though': 222, 'easier': 223, 'bit': 224, 'lasted': 225, 'pay': 226, 'basics': 227, 'thought': 228, 'version': 229, 'anything': 230, 'run': 231, 'high': 232, 'tap': 233, 'problems': 234, 'pleased': 235, 'warranty': 236, 'older': 237, 'card': 238, 'android': 239, 'echo': 240, 'decent': 241, 'web': 242, 'give': 243, 'black': 244, 'plus': 245, 'bad': 246, 'especially': 247, 'fun': 248, 'wish': 249, 'absolutely': 250, 'wifi': 251, 'top': 252, 'watching': 253, 'difference': 254, 'simple': 255, 'netflix': 256, 'house': 257, 'control': 258, 'second': 259, 'compared': 260, 'clear': 261, 'hard': 262, 'mom': 263, 'easily': 264, 'tried': 265, 'packaging': 266, 'navigate': 267, 'look': 268, 'super': 269, 'hand': 270, 'decided': 271, 'sale': 272, 'keeps': 273, 'color': 274, 'slow': 275, 'family': 276, 'speaker': 277, 'amount': 278, 'reviews': 279, 'quite': 280, 'job': 281, 'almost': 282, 'faster': 283, 'charging': 284, 'cover': 285, 'items': 286, 'thanks': 287, 'educational': 288, 'others': 289, 'affordable': 290, 'remotes': 291, 'age': 292, 'account': 293, 'content': 294, 'voyage': 295, 'month': 296, 'inexpensive': 297, 'picture': 298, 'may': 299, 'alkaline': 300, 'went': 301, 'anyone': 302, 'laptop': 303, 'week': 304, 'tell': 305, 'video': 306, 'game': 307, 'online': 308, 'else': 309, 'turn': 310, 'extra': 311, 'portable': 312, 'shows': 313, 'display': 314, 'model': 315, 'feel': 316, 'weeks': 317, 'try': 318, 'glad': 319, 'said': 320, 'stuff': 321, 'upgrade': 322, 'page': 323, 'disappointed': 324, 'point': 325, 'wrong': 326, 'fact': 327, 'birthday': 328, 'favorite': 329, 'friday': 330, 'actually': 331, 'replacement': 332, 'change': 333, 'gave': 334, 'computer': 335, 'took': 336, 'lasts': 337, 'nothing': 338, 'couple': 339, 'previous': 340, 'takes': 341, 'carry': 342, 'done': 343, 'half': 344, 'ordered': 345, 'three': 346, 'weight': 347, 'add': 348, 'cannot': 349, 'kindles': 350, 'satisfied': 351, 'full': 352, 'instead': 353, 'resolution': 354, 'feature': 355, 'probably': 356, 'help': 357, 'experience': 358, 'complaints': 359, 'dead': 360, 'package': 361, 'mouse': 362, 'charger': 363, 'bigger': 364, 'space': 365, 'larger': 366, 'likes': 367, 'paperwhite': 368, 'replaced': 369, 'grandkids': 370, 'mother': 371, 'exactly': 372, 'thank': 373, 'issue': 374, 'arrived': 375, 'ease': 376, 'apple': 377, 'quick': 378, 'wireless': 379, 'perfectly': 380, 'lights': 381, 'reason': 382, 'wonderful': 383, 'xbox': 384, 'convenient': 385, 'side': 386, 'school': 387, 'downloaded': 388, 'stars': 389, 'learn': 390, 'plenty': 391, 'regular': 392, 'service': 393, 'email': 394, 'niece': 395, 'next': 396, 'purchasing': 397, 'young': 398, 'keyboard': 399, 'gets': 400, 'travel': 401, 'touch': 402, 'save': 403, 'youtube': 404, 'option': 405, 'husband': 406, 'ago': 407, 'plays': 408, 'large': 409, 'maybe': 410, 'night': 411, 'smaller': 412, 'packaged': 413, 'expect': 414, 'grand': 415, 'bulk': 416, 'original': 417, 'present': 418, 'library': 419, 'enjoys': 420, 'described': 421, 'sometimes': 422, 'anywhere': 423, 'button': 424, 'spend': 425, 'open': 426, 'speed': 427, 'options': 428, 'liked': 429, 'end': 430, 'received': 431, 'load': 432, 'review': 433, 'check': 434, 'unit': 435, 'priced': 436, 'ability': 437, 'extremely': 438, 'started': 439, 'often': 440, 'fantastic': 441, 'advertised': 442, 'allows': 443, 'dropped': 444, 'short': 445, 'must': 446, 'four': 447, 'lightweight': 448, 'system': 449, 'hands': 450, 'nephew': 451, 'ads': 452, 'samsung': 453, 'fit': 454, 'shipping': 455, 'away': 456, 'choice': 457, 'fits': 458, 'controllers': 459, 'pictures': 460, 'trying': 461, 'impressed': 462, 'mostly': 463, 'enjoying': 464, 'electronics': 465, 'either': 466, 'hd8': 467, 'worry': 468, 'people': 469, 'oasis': 470, 'update': 471, 'might': 472, 'recommended': 473, 'bluetooth': 474, 'real': 475, 'installed': 476, 'limited': 477, 'inch': 478, 'reasonable': 479, 'least': 480, 'charged': 481, 'surprised': 482, 'toddler': 483, 'setup': 484, 'daily': 485, 'break': 486, 'let': 487, 'browsing': 488, 'believe': 489, 'strong': 490, 'member': 491, 'eyes': 492, 'mine': 493, 'edition': 494, 'surfing': 495, 'wants': 496, 'taking': 497, 'rechargeable': 498, 'start': 499, 'buttons': 500, 'running': 501, 'flashlights': 502, 'someone': 503, 'facebook': 504, 'car': 505, 'major': 506, 'plastic': 507, 'handy': 508, 'returned': 509, 'return': 510, 'appropriate': 511, 'protective': 512, 'mini': 513, 'everyday': 514, 'listen': 515, 'usually': 516, 'enjoyed': 517, 'past': 518, 'minutes': 519, 'within': 520, 'line': 521, 'future': 522, 'friend': 523, 'yes': 524, 'paid': 525, 'making': 526, 'huge': 527, 'bright': 528, 'broke': 529, 'third': 530, 'ask': 531, 'parents': 532, 'tech': 533, 'reliable': 534, 'safe': 535, 'die': 536, 'looks': 537, 'noticed': 538, 'built': 539, 'generation': 540, 'tool': 541, 'entertained': 542, 'although': 543, 'mainly': 544, 'place': 545, 'continue': 546, 'market': 547, 'higher': 548, 'finally': 549, 'per': 550, 'show': 551, 'goes': 552, 'sturdy': 553, 'led': 554, 'candles': 555, 'room': 556, 'purpose': 557, 'install': 558, 'settings': 559, 'speakers': 560, 'adults': 561, 'usage': 562, 'tested': 563, 'comparable': 564, 'fraction': 565, 'solid': 566, 'due': 567, 'added': 568, 'test': 569, 'part': 570, 'useful': 571, 'wait': 572, 'figure': 573, 'colors': 574, 'mode': 575, 'stock': 576, 'rather': 577, 'along': 578, 'perform': 579, 'photos': 580, 'tab': 581, 'dollar': 582, 'included': 583, 'shopping': 584, 'limit': 585, 'downloading': 586, 'holds': 587, 'operate': 588, 'nook': 589, 'packs': 590, 'table': 591, 'everyone': 592, 'white': 593, 'friends': 594, 'cant': 595, 'entertainment': 596, 'kind': 597, 'normal': 598, 'bargain': 599, 'dont': 600, 'soon': 601, 'close': 602, 'limits': 603, 'fully': 604, 'multiple': 605, 'left': 606, 'compact': 607, 'person': 608, 'adult': 609, 'choose': 610, 'media': 611, 'compare': 612, 'customer': 613, 'sister': 614, 'gifts': 615, 'helpful': 616, 'connect': 617, 'trips': 618, 'delivery': 619, 'runs': 620, 'lower': 621, 'design': 622, 'port': 623, 'annoying': 624, 'connection': 625, 'setting': 626, 'streaming': 627, 'ebooks': 628, 'ordering': 629, 'gaming': 630, 'heavy': 631, 'complaint': 632, 'plug': 633, 'drops': 634, 'blue': 635, 'toy': 636, 'profile': 637, 'controller': 638, 'tons': 639, 'fan': 640, 'died': 641, 'understand': 642, 'everywhere': 643, 'ages': 644, 'traveling': 645, 'upgraded': 646, 'shelf': 647, 'offers': 648, 'voice': 649, 'alternative': 650, 'wrapped': 651, 'cool': 652, 'special': 653, 'drain': 654, 'difficult': 655, 'kept': 656, 'outside': 657, 'loaded': 658, 'plan': 659, 'graphics': 660, 'local': 661, 'simply': 662, 'comfortable': 663, 'handle': 664, 'owned': 665, 'subscription': 666, 'costco': 667, 'prices': 668, 'trip': 669, 'questions': 670, 'protection': 671, 'hour': 672, 'holding': 673, 'allow': 674, 'front': 675, 'waste': 676, 'opened': 677, 'listening': 678, 'law': 679, 'cardboard': 680, 'alot': 681, 'star': 682, 'gives': 683, 'lighter': 684, 'ereader': 685, 'parent': 686, 'purse': 687, 'pad': 688, 'stores': 689, 'based': 690, 'turned': 691, 'recently': 692, 'otherwise': 693, 'purchases': 694, 'hit': 695, 'level': 696, 'pre': 697, 'drop': 698, 'appear': 699, 'quantity': 700, 'standard': 701, 'pages': 702, 'whole': 703, 'delivered': 704, 'emails': 705, 'looked': 706, 'cable': 707, 'constantly': 708, 'paper': 709, 'functions': 710, 'viewing': 711, 'non': 712, 'previously': 713, 'duracells': 714, 'ton': 715, 'expectations': 716, 'dollars': 717, 'similar': 718, 'lock': 719, 'feels': 720, 'movie': 721, 'opinion': 722, 'capacity': 723, 'nicely': 724, 'guess': 725, 'later': 726, 'brought': 727, 'micro': 728, 'stream': 729, 'stand': 730, 'freetime': 731, 'sizes': 732, 'dad': 733, 'addition': 734, 'seen': 735, 'idea': 736, 'technology': 737, 'surf': 738, 'nearly': 739, 'five': 740, 'hope': 741, 'normally': 742, 'twice': 743, 'giving': 744, 'helps': 745, 'busy': 746, 'thinking': 747, 'switch': 748, 'cameras': 749, 'okay': 750, 'leak': 751, 'budget': 752, 'text': 753, 'ipads': 754, 'programs': 755, 'held': 756, 'number': 757, 'poor': 758, 'unlimited': 759, 'readers': 760, 'none': 761, 'lol': 762, 'told': 763, 'bumper': 764, 'crazy': 765, 'date': 766, 'inside': 767, 'applications': 768, 'stick': 769, 'primarily': 770, 'require': 771, 'powerful': 772, 'mind': 773, 'excited': 774, 'ready': 775, 'worst': 776, 'picked': 777, 'responsive': 778, 'additional': 779, 'operated': 780, 'office': 781, 'sharp': 782, 'electronic': 783, 'powered': 784, 'prefer': 785, 'complain': 786, 'given': 787, 'unless': 788, 'main': 789, 'pro': 790, '2nd': 791, 'turning': 792, 'audio': 793, 'users': 794, 'ended': 795, 'news': 796, 'expandable': 797, 'search': 798, 'batch': 799, 'leaked': 800, 'terrible': 801, 'subscribe': 802, 'stop': 803, 'brother': 804, 'models': 805, 'grandchildren': 806, 'clarity': 807, 'seemed': 808, 'digital': 809, 'knew': 810, 'certain': 811, 'totally': 812, 'stopped': 813, 'says': 814, 'saw': 815, 'loving': 816, 'functionality': 817, 'supposed': 818, 'figured': 819, 'course': 820, 'various': 821, 'usb': 822, 'keeping': 823, 'weather': 824, 'road': 825, 'sales': 826, 'software': 827, 'interface': 828, 'cell': 829, 'except': 830, 'pick': 831, 'world': 832, 'bottom': 833, 'designed': 834, 'average': 835, 'spent': 836, 'function': 837, 'downloads': 838, 'considering': 839, '3rd': 840, 'gotten': 841, 'move': 842, 'smart': 843, 'functional': 844, 'completely': 845, 'learned': 846, 'reads': 847, 'cord': 848, 'browser': 849, 'beginner': 850, 'view': 851, 'charges': 852, 'immediately': 853, 'piece': 854, 'brightness': 855, 'father': 856, 'damage': 857, 'pink': 858, 'galaxy': 859, 'processor': 860, 'bag': 861, 'today': 862, 'fairly': 863, 'pros': 864, 'replacing': 865, 'instructions': 866, 'support': 867, 'connected': 868, 'crisp': 869, 'magazines': 870, 'offer': 871, 'type': 872, 'including': 873, 'loose': 874, 'negative': 875, 'stay': 876, 'remove': 877, 'step': 878, 'dot': 879, 'selection': 880, 'clock': 881, 'buck': 882, 'bunch': 883, 'longevity': 884, 'boys': 885, 'beautiful': 886, 'basically': 887, 'versions': 888, 'variety': 889, 'improvement': 890, 'portability': 891, 'starter': 892, '16gb': 893, 'pair': 894, 'remember': 895, 'flashlight': 896, 'volume': 897, 'drive': 898, 'avid': 899, 'it‚äôs': 900, 'rayovac': 901, 'household': 902, 'general': 903, 'convenience': 904, 'asked': 905, 'waiting': 906, 'outstanding': 907, 'services': 908, 'operating': 909, 'junk': 910, 'results': 911, 'trouble': 912, 'leaking': 913, 'bed': 914, 'radio': 915, 'broken': 916, 'sons': 917, 'bang': 918, 'shipped': 919, 'expecting': 920, 'anymore': 921, 'baby': 922, 'lighting': 923, 'personal': 924, 'ran': 925, 'checking': 926, 'shop': 927, 'changed': 928, 'information': 929, 'daughters': 930, 'flash': 931, 'program': 932, 'members': 933, 'latest': 934, 'newer': 935, 'thus': 936, 'names': 937, 'putting': 938, 'provide': 939, 'hoping': 940, 'live': 941, 'please': 942, 'returning': 943, 'proof': 944, 'lost': 945, 'provides': 946, 'data': 947, 'six': 948, 'phones': 949, 'social': 950, 'onto': 951, 'generic': 952, 'durability': 953, 'single': 954, 'awhile': 955, 'press': 956, 'iphone': 957, 'earlier': 958, 'rate': 959, 'trust': 960, 'important': 961, 'whatever': 962, 'care': 963, 'energizers': 964, 'investment': 965, 'leave': 966, 'forward': 967, 'sold': 968, 'slot': 969, 'capabilities': 970, 'dark': 971, 'protected': 972, 'geek': 973, 'rest': 974, 'gone': 975, 'biggest': 976, 'cons': 977, 'younger': 978, 'girl': 979, 'automatically': 980, 'profiles': 981, 'means': 982, 'saying': 983, 'copper': 984, 'double': 985, 'alone': 986, 'downside': 987, 'tough': 988, 'happier': 989, 'bucks': 990, 'accidentally': 991, 'activities': 992, 'branded': 993, 'coming': 994, 'con': 995, 'heard': 996, 'rough': 997, 'fix': 998, 'toddlers': 999, 'win': 1000, 'loading': 1001, 'build': 1002, 'savvy': 1003, 'door': 1004, 'reasonably': 1005, 'sell': 1006, 'clocks': 1007, 'prior': 1008, 'upon': 1009, 'numerous': 1010, 'recharge': 1011, 'unfortunately': 1012, 'rating': 1013, 'area': 1014, 'matter': 1015, 'range': 1016, 'xmas': 1017, 'serves': 1018, 'packages': 1019, 'knowing': 1020, 'wont': 1021, 'comparison': 1022, 'currently': 1023, 'hate': 1024, 'talk': 1025, 'unlike': 1026, 'pass': 1027, 'asking': 1028, 'equipment': 1029, 'holidays': 1030, 'receive': 1031, 'helped': 1032, 'fresh': 1033, 'slightly': 1034, 'backpack': 1035, 'backlight': 1036, 'popular': 1037, 'mail': 1038, 'pocket': 1039, 'forever': 1040, 'business': 1041, 'honestly': 1042, 'groups': 1043, 'research': 1044, 'timer': 1045, 'loud': 1046, 'finding': 1047, 'improved': 1048, 'adjust': 1049, 'audible': 1050, 'near': 1051, 'packed': 1052, 'fair': 1053, 'sense': 1054, 'sent': 1055, 'disappointing': 1056, 'spending': 1057, 'miss': 1058, 'acid': 1059, 'notice': 1060, 'wall': 1061, 'together': 1062, 'college': 1063, 'lets': 1064, 'performs': 1065, 'thrilled': 1066, 'updated': 1067, 'nabi': 1068, 'beginners': 1069, 'selling': 1070, 'energy': 1071, 'typical': 1072, 'browse': 1073, 'sets': 1074, 'early': 1075, 'thru': 1076, 'played': 1077, 'interested': 1078, 'boy': 1079, 'met': 1080, 'bonus': 1081, 'photo': 1082, 'rubber': 1083, 'squad': 1084, 'chance': 1085, 'sitting': 1086, 'certainly': 1087, 'class': 1088, 'opening': 1089, 'shrink': 1090, 'become': 1091, 'brainer': 1092, 'turns': 1093, 'known': 1094, 'offered': 1095, 'sounds': 1096, 'note': 1097, 'constant': 1098, '4th': 1099, 'grandchild': 1100, 'monitor': 1101, 'chose': 1102, 'lag': 1103, '1st': 1104, 'preloaded': 1105, 'horrible': 1106, 'kirkland': 1107, 'tired': 1108, 'didnt': 1109, 'paying': 1110, 'true': 1111, 'fancy': 1112, 'frequently': 1113, 'supply': 1114, 'span': 1115, 'material': 1116, 'smooth': 1117, 'specs': 1118, 'frustrating': 1119, 'lack': 1120, 'via': 1121, 'hdx': 1122, 'cracked': 1123, 'ram': 1124, 'company': 1125, 'list': 1126, 'felt': 1127, 'middle': 1128, 'adds': 1129, 'economical': 1130, 'meets': 1131, 'entire': 1132, 'send': 1133, 'efficient': 1134, 'separate': 1135, 'protect': 1136, 'accounts': 1137, 'ive': 1138, 'purposes': 1139, 'specifically': 1140, 'lives': 1141, 'throw': 1142, 'headphones': 1143, 'properly': 1144, 'promised': 1145, 'hear': 1146, 'required': 1147, 'plugged': 1148, 'credit': 1149, 'worse': 1150, 'relatively': 1151, 'appears': 1152, 'intended': 1153, 'rides': 1154, 'occupied': 1155, 'share': 1156, 'performed': 1157, 'premium': 1158, 'consider': 1159, 'leading': 1160, 'needing': 1161, 'truly': 1162, 'originally': 1163, 'click': 1164, 'total': 1165, 'beats': 1166, 'decision': 1167, 'guarantee': 1168, 'external': 1169, 'happened': 1170, 'noticeable': 1171, 'lit': 1172, 'network': 1173, 'base': 1174, 'stays': 1175, 'hulu': 1176, 'words': 1177, 'wanting': 1178, 'menu': 1179, 'sunlight': 1180, 'font': 1181, 'homework': 1182, 'current': 1183, 'possible': 1184, 'despite': 1185, 'face': 1186, 'gadgets': 1187, 'appreciate': 1188, 'effective': 1189, 'hundreds': 1190, 'sleeve': 1191, 'wrap': 1192, 'saver': 1193, 'saved': 1194, 'failed': 1195, 'wow': 1196, 'actual': 1197, 'anyway': 1198, 'changing': 1199, 'across': 1200, 'info': 1201, 'factor': 1202, 'till': 1203, 'grandsons': 1204, 'lose': 1205, 'youngest': 1206, 'glare': 1207, 'missing': 1208, 'weak': 1209, 'switched': 1210, 'likely': 1211, 'barely': 1212, 'par': 1213, 'steal': 1214, 'length': 1215, 'discount': 1216, 'skeptical': 1217, 'seeing': 1218, 'carrying': 1219, 'thin': 1220, 'auto': 1221, 'screens': 1222, 'versatile': 1223, 'entertaining': 1224, 'format': 1225, 'magazine': 1226, 'conditions': 1227, 'testing': 1228, 'cases': 1229, 'experienced': 1230, 'personally': 1231, 'literally': 1232, 'obviously': 1233, 'ahead': 1234, 'bother': 1235, 'penny': 1236, 'rear': 1237, 'intuitive': 1238, 'commands': 1239, 'locked': 1240, 'plane': 1241, 'watches': 1242, 'tube': 1243, 'juice': 1244, 'application': 1245, 'internal': 1246, 'wise': 1247, 'source': 1248, 'happen': 1249, 'guy': 1250, 'tag': 1251, 'regret': 1252, 'flawlessly': 1253, 'checked': 1254, 'shorter': 1255, 'greatest': 1256, 'installing': 1257, 'perhaps': 1258, 'moving': 1259, 'wear': 1260, 'impossible': 1261, 'word': 1262, 'loads': 1263, 'bestbuy': 1264, 'connectivity': 1265, 'silk': 1266, 'backup': 1267, 'advantage': 1268, 'party': 1269, 'clean': 1270, 'bring': 1271, 'adequate': 1272, 'typically': 1273, 'cells': 1274, 'avoid': 1275, 'doubt': 1276, 'surprisingly': 1277, 'breaks': 1278, 'dim': 1279, 'changes': 1280, 'luck': 1281, 'called': 1282, 'response': 1283, 'defective': 1284, 'necessary': 1285, 'membership': 1286, 'site': 1287, 'tabs': 1288, 'lacks': 1289, 'enjoyable': 1290, 'capability': 1291, 'cause': 1292, 'pricing': 1293, 'drawer': 1294, 'sorry': 1295, 'deals': 1296, 'smoke': 1297, 'manufacturer': 1298, 'surprise': 1299, 'voltage': 1300, 'discovered': 1301, 'regularly': 1302, 'searching': 1303, 'pleasure': 1304, 'behind': 1305, 'print': 1306, 'allowed': 1307, 'exceeded': 1308, 'generally': 1309, 'reset': 1310, 'shut': 1311, 'choices': 1312, 'ebook': 1313, 'swipe': 1314, 'freezes': 1315, 'ecosystem': 1316, 'ship': 1317, 'hopefully': 1318, 'candle': 1319, 'air': 1320, 'bunny': 1321, 'extended': 1322, 'advertising': 1323, 'machine': 1324, 'post': 1325, 'savings': 1326, 'knows': 1327, 'honest': 1328, 'rechargeables': 1329, 'overpriced': 1330, 'water': 1331, 'speak': 1332, 'pop': 1333, 'brighter': 1334, 'ways': 1335, 'self': 1336, 'breaking': 1337, 'com': 1338, 'damaged': 1339, 'aware': 1340, 'pics': 1341, 'protector': 1342, 'tasks': 1343, 'fires': 1344, 'drawback': 1345, 'sites': 1346, 'password': 1347, 'sooner': 1348, 'terms': 1349, 'example': 1350, 'living': 1351, 'whether': 1352, 'mess': 1353, 'taken': 1354, 'cents': 1355, 'process': 1356, 'aas': 1357, 'question': 1358, 'cut': 1359, 'pleasantly': 1360, 'rely': 1361, 'amazed': 1362, 'quicker': 1363, 'showed': 1364, 'player': 1365, 'boxes': 1366, 'key': 1367, 'expand': 1368, 'cartoons': 1369, 'answer': 1370, 'starting': 1371, 'increase': 1372, 'exchange': 1373, 'olds': 1374, 'cloud': 1375, 'protects': 1376, 'downfall': 1377, 'trail': 1378, 'window': 1379, 'cheapest': 1380, 'discharge': 1381, 'mah': 1382, 'form': 1383, 'realized': 1384, 'thoroughly': 1385, 'saving': 1386, 'entry': 1387, 'tend': 1388, 'longest': 1389, 'requires': 1390, 'typing': 1391, 'terrific': 1392, 'head': 1393, 'initially': 1394, 'mobile': 1395, 'usual': 1396, 'unable': 1397, 'minimal': 1398, 'unbelievable': 1399, 'updates': 1400, 'restrictions': 1401, 'bulky': 1402, 'pockets': 1403, 'background': 1404, 'vacation': 1405, 'create': 1406, 'beach': 1407, 'granddaughters': 1408, 'grow': 1409, 'maneuver': 1410, 'processing': 1411, 'nexus': 1412, 'underground': 1413, 'expiration': 1414, 'seller': 1415, 'linked': 1416, 'realize': 1417, 'worried': 1418, 'therefore': 1419, 'disappoint': 1420, 'amazons': 1421, 'unbeatable': 1422, 'quit': 1423, 'tester': 1424, 'moment': 1425, 'national': 1426, 'write': 1427, 'forget': 1428, 'wii': 1429, 'whenever': 1430, 'zero': 1431, 'removed': 1432, 'basis': 1433, 'stated': 1434, 'shape': 1435, 'apart': 1436, 'incredible': 1437, 'hooked': 1438, 'letters': 1439, 'places': 1440, 'net': 1441, 'smartphone': 1442, 'surface': 1443, 'falls': 1444, 'restart': 1445, 'slower': 1446, 'notes': 1447, 'associate': 1448, 'chrome': 1449, 'equal': 1450, 'spot': 1451, 'significantly': 1452, 'lifespan': 1453, 'individual': 1454, 'ten': 1455, 'fall': 1456, 'holiday': 1457, 'rated': 1458, 'count': 1459, 'fail': 1460, 'complete': 1461, 'link': 1462, 'hassle': 1463, 'hey': 1464, 'sit': 1465, 'leakage': 1466, 'motion': 1467, 'hot': 1468, 'starts': 1469, 'elsewhere': 1470, 'ideal': 1471, 'stuck': 1472, 'sufficient': 1473, 'talking': 1474, 'directly': 1475, 'ray': 1476, 'pricey': 1477, 'security': 1478, 'mention': 1479, 'helping': 1480, 'links': 1481, 'red': 1482, 'nicer': 1483, 'concern': 1484, 'rugged': 1485, 'adapter': 1486, 'recipient': 1487, 'recent': 1488, 'push': 1489, 'duds': 1490, 'delivers': 1491, 'sleep': 1492, 'performing': 1493, 'fell': 1494, 'include': 1495, 'imagine': 1496, 'flat': 1497, 'beyond': 1498, 'wore': 1499, 'storing': 1500, 'green': 1501, 'alarm': 1502, 'mean': 1503, 'station': 1504, 'sized': 1505, 'volts': 1506, 'speedy': 1507, 'useless': 1508, 'bill': 1509, 'nieces': 1510, 'gen': 1511, 'padded': 1512, 'stereo': 1513, 'connects': 1514, 'transfer': 1515, 'puzzles': 1516, 'advertisements': 1517, '32gb': 1518, 'microsd': 1519, '8gb': 1520, 'i‚äôm': 1521, 'duracel': 1522, 'hrs': 1523, 'stored': 1524, 'call': 1525, 'eat': 1526, 'lithium': 1527, 'term': 1528, 'named': 1529, 'seriously': 1530, 'image': 1531, 'trick': 1532, 'careful': 1533, 'yrs': 1534, 'begin': 1535, 'sort': 1536, 'hardware': 1537, 'positive': 1538, 'anytime': 1539, 'doesnt': 1540, 'pressure': 1541, 'meet': 1542, 'suggest': 1543, 'straight': 1544, 'shown': 1545, 'finger': 1546, 'floor': 1547, 'eventually': 1548, 'reasons': 1549, 'dog': 1550, 'seconds': 1551, 'shuts': 1552, 'opens': 1553, 'follow': 1554, 'rid': 1555, 'platform': 1556, 'confusing': 1557, 'thick': 1558, 'couch': 1559, 'log': 1560, 'soft': 1561, 'activate': 1562, 'compatible': 1563, 'strain': 1564, 'expansion': 1565, 'sensitive': 1566, '128gb': 1567, 'appstore': 1568, 'keyboards': 1569, 'fault': 1570, 'acdelco': 1571, 'thats': 1572, 'sealed': 1573, 'superb': 1574, 'stocked': 1575, 'triple': 1576, 'costs': 1577, 'kinds': 1578, 'lanterns': 1579, 'frustration': 1580, 'freeze': 1581, 'pull': 1582, 'sleek': 1583, 'style': 1584, 'teens': 1585, 'feeling': 1586, 'related': 1587, 'fixed': 1588, 'teenage': 1589, 'throughout': 1590, 'grip': 1591, 'complicated': 1592, 'benefits': 1593, 'calls': 1594, 'breeze': 1595, 'files': 1596, 'grandma': 1597, 'superior': 1598, 'comment': 1599, 'cold': 1600, 'types': 1601, 'procell': 1602, 'reviewed': 1603, 'rayovacs': 1604, 'cars': 1605, 'ruined': 1606, 'afford': 1607, 'specific': 1608, 'refund': 1609, 'consumer': 1610, 'numbers': 1611, 'worries': 1612, 'grocery': 1613, 'season': 1614, 'suppose': 1615, 'attention': 1616, 'mice': 1617, 'eye': 1618, 'late': 1619, 'train': 1620, 'physical': 1621, 'automatic': 1622, 'exception': 1623, 'match': 1624, 'girlfriend': 1625, 'extensive': 1626, 'snap': 1627, 'gig': 1628, 'tho': 1629, 'directions': 1630, 'meant': 1631, 'foam': 1632, 'wherever': 1633, 'lap': 1634, 'improvements': 1635, 'respond': 1636, 'playstore': 1637, 'grandaughter': 1638, 'offline': 1639, 'tests': 1640, 'preferred': 1641, 'walmart': 1642, 'website': 1643, 'placed': 1644, 'particularly': 1645, 'television': 1646, 'tiny': 1647, 'batts': 1648, 'kinda': 1649, 'kitchen': 1650, 'mid': 1651, 'happens': 1652, 'yay': 1653, 'awful': 1654, 'mac': 1655, 'aside': 1656, 'detectors': 1657, 'period': 1658, 'computers': 1659, 'effort': 1660, 'morning': 1661, 'group': 1662, 'delighted': 1663, 'activated': 1664, 'god': 1665, 'edit': 1666, 'warning': 1667, 'benefit': 1668, 'fingers': 1669, 'sign': 1670, 'paired': 1671, 'nephews': 1672, 'windows': 1673, 'adjustment': 1674, 'upgrading': 1675, 'thousands': 1676, 'louder': 1677, 'crystal': 1678, 'sun': 1679, 'knowledgeable': 1680, 'transferred': 1681, 'skype': 1682, 'wrapping': 1683, 'pump': 1684, 'receiving': 1685, 'printed': 1686, 'environment': 1687, 'timers': 1688, 'hardly': 1689, 'impressive': 1690, 'hesitant': 1691, 'reorder': 1692, 'reviewers': 1693, 'yesterday': 1694, 'moved': 1695, 'decide': 1696, 'concerned': 1697, 'common': 1698, 'scale': 1699, 'grab': 1700, 'flight': 1701, 'draw': 1702, 'tools': 1703, 'possibly': 1704, 'policy': 1705, 'dependable': 1706, 'guys': 1707, 'became': 1708, 'compartment': 1709, 'besides': 1710, 'periods': 1711, 'separately': 1712, 'secure': 1713, 'gadget': 1714, 'afraid': 1715, 'safety': 1716, 'sides': 1717, 'instantly': 1718, 'unlock': 1719, 'areas': 1720, 'travels': 1721, 'logic': 1722, 'difficulty': 1723, 'occasional': 1724, 'integration': 1725, 'casual': 1726, '4yr': 1727, 'don‚äôt': 1728, 'lacking': 1729, 'edge': 1730, 'attached': 1731, 'somewhat': 1732, 'winner': 1733, 'garbage': 1734, 'cute': 1735, 'electric': 1736, 'opportunity': 1737, 'particular': 1738, 'equivalent': 1739, 'greatly': 1740, 'plain': 1741, 'disappointment': 1742, 'spare': 1743, 'tight': 1744, 'multi': 1745, 'aspect': 1746, 'thrown': 1747, '5th': 1748, 'shot': 1749, 'absolute': 1750, 'darn': 1751, 'technical': 1752, 'girls': 1753, 'feedback': 1754, 'catch': 1755, 'isnt': 1756, 'slim': 1757, 'provided': 1758, 'seven': 1759, 'wide': 1760, 'locks': 1761, 'covers': 1762, 'songs': 1763, 'block': 1764, 'skills': 1765, 'pandora': 1766, 'navigation': 1767, 'voyager': 1768, 'owning': 1769, 'flights': 1770, 'inappropriate': 1771, 'education': 1772, 'lowest': 1773, 'recharging': 1774, 'saves': 1775, 'bank': 1776, 'outdoor': 1777, 'serious': 1778, 'contacted': 1779, 'familiar': 1780, 'crap': 1781, 'board': 1782, 'mistake': 1783, 'heat': 1784, 'leaks': 1785, 'dies': 1786, 'strength': 1787, 'lighted': 1788, 'mirror': 1789, 'pain': 1790, 'contact': 1791, 'correctly': 1792, 'includes': 1793, 'exclusively': 1794, 'exceptional': 1795, 'worthwhile': 1796, 'glass': 1797, 'solution': 1798, 'presents': 1799, 'target': 1800, 'corrosion': 1801, 'randomly': 1802, 'falling': 1803, 'pin': 1804, 'beating': 1805, 'employees': 1806, 'mic': 1807, 'shade': 1808, 'position': 1809, 'command': 1810, 'documents': 1811, 'bezel': 1812, 'touchscreen': 1813, 'oldest': 1814, 'clearer': 1815, 'geared': 1816, 'leather': 1817, 'disney': 1818, 'aunt': 1819, 'engaged': 1820, 'audiobooks': 1821, 'teach': 1822, 'teaching': 1823, 'indestructible': 1824, 'handed': 1825, 'arrive': 1826, 'microphone': 1827, 'images': 1828, 'maxell': 1829, 'medium': 1830, 'approximately': 1831, 'matters': 1832, 'charm': 1833, 'man': 1834, 'tooth': 1835, 'vac': 1836, 'camping': 1837, 'thermostat': 1838, 'writing': 1839, 'lately': 1840, 'deliver': 1841, 'apparently': 1842, 'april': 1843, 'threw': 1844, 'drained': 1845, 'club': 1846, 'silver': 1847, 'killer': 1848, 'interest': 1849, 'cables': 1850, 'showing': 1851, 'wonderfully': 1852, 'student': 1853, 'cards': 1854, 'planning': 1855, 'switching': 1856, 'systems': 1857, 'hang': 1858, 'guns': 1859, 'hoped': 1860, 'newest': 1861, 'interesting': 1862, 'pool': 1863, 'exchanged': 1864, 'utilize': 1865, 'quiet': 1866, 'finds': 1867, 'leaves': 1868, 'series': 1869, 'kiddos': 1870, 'messages': 1871, 'spotify': 1872, 'public': 1873, 'interactive': 1874, 'advanced': 1875, 'assistance': 1876, 'grandmother': 1877, 'fighting': 1878, 'throws': 1879, 'filter': 1880, 'snappy': 1881, 'upload': 1882, 'rooting': 1883, 'chromecast': 1884, 'freezing': 1885, 'square': 1886, 'wallpaper': 1887, 'can‚äôt': 1888, 'consistent': 1889, 'alkalines': 1890, 'clearly': 1891, 'brown': 1892, 'emergency': 1893, 'disposable': 1894, 'container': 1895, 'competition': 1896, 'notch': 1897, 'competitors': 1898, 'sad': 1899, 'minute': 1900, 'arrival': 1901, 'trash': 1902, 'traditional': 1903, 'owner': 1904, 'capable': 1905, 'neither': 1906, 'missed': 1907, 'gonna': 1908, 'drains': 1909, 'fluid': 1910, 'tip': 1911, 'coppertops': 1912, 'register': 1913, 'tree': 1914, 'customers': 1915, 'ups': 1916, 'regarding': 1917, 'curious': 1918, 'bundle': 1919, 'consistently': 1920, 'tops': 1921, 'readable': 1922, 'occasionally': 1923, 'bass': 1924, 'neatly': 1925, 'standards': 1926, 'manage': 1927, 'grown': 1928, 'twin': 1929, 'complained': 1930, 'track': 1931, 'claim': 1932, 'staff': 1933, 'bugs': 1934, 'spends': 1935, 'attractive': 1936, 'satisfactory': 1937, 'filled': 1938, 'waterproof': 1939, 'prevent': 1940, 'ipod': 1941, 'travelling': 1942, 'adding': 1943, 'programming': 1944, 'invested': 1945, 'deck': 1946, 'connecting': 1947, 'supports': 1948, 'responds': 1949, 'abc': 1950, 'abuse': 1951, 'unwanted': 1952, 'goals': 1953, 'visuals': 1954, 'exposed': 1955, 'yeah': 1956, 'exact': 1957, 'among': 1958, 'popped': 1959, 'thumbs': 1960, 'frequent': 1961, 'alright': 1962, 'lucky': 1963, 'units': 1964, 'flashes': 1965, 'desk': 1966, 'october': 1967, 'allowing': 1968, 'reached': 1969, 'bose': 1970, 'suggested': 1971, 'garage': 1972, 'washington': 1973, 'desired': 1974, 'waited': 1975, 'powering': 1976, 'enabled': 1977, 'indonesia': 1978, 'minor': 1979, 'candy': 1980, 'convinced': 1981, 'def': 1982, 'sweet': 1983, 'operation': 1984, 'neat': 1985, 'thinks': 1986, 'thoughts': 1987, 'ensure': 1988, 'chair': 1989, 'throwing': 1990, 'measured': 1991, 'sensor': 1992, 'direct': 1993, 'pen': 1994, 'borrow': 1995, 'state': 1996, 'challenge': 1997, 'odd': 1998, 'materials': 1999, 'upgrades': 2000, 'robust': 2001, 'ultra': 2002, 'registered': 2003, 'manually': 2004, 'release': 2005, 'teenager': 2006, 'folder': 2007, 'points': 2008, 'versatility': 2009, 'backlit': 2010, 'dropping': 2011, 'fastest': 2012, 'fingertips': 2013, 'icons': 2014, 'touching': 2015, 'vibrant': 2016, 'clicking': 2017, 'classes': 2018, 'fee': 2019, 'siblings': 2020, 'clumsy': 2021, 'buffering': 2022, 'spring': 2023, 'rock': 2024, 'usable': 2025, 'magic': 2026, 'forth': 2027, 'flameless': 2028, 'story': 2029, 'consumption': 2030, 'competitive': 2031, 'initial': 2032, 'santa': 2033, 'obvious': 2034, 'string': 2035, 'determine': 2036, 'significant': 2037, 'decorations': 2038, 'expanded': 2039, 'functioning': 2040, 'grade': 2041, 'signal': 2042, 'noise': 2043, 'eats': 2044, 'prompt': 2045, 'burning': 2046, 'luckily': 2047, 'modern': 2048, 'wouldnt': 2049, 'caught': 2050, 'factory': 2051, 'output': 2052, 'buyer': 2053, 'duty': 2054, 'versus': 2055, 'serve': 2056, 'costly': 2057, 'lite': 2058, 'sat': 2059, 'relative': 2060, 'individually': 2061, 'companies': 2062, '7yr': 2063, 'instruction': 2064, 'portion': 2065, 'beginning': 2066, 'brings': 2067, 'puts': 2068, 'weird': 2069, 'accessible': 2070, 'substitute': 2071, 'fourth': 2072, 'potential': 2073, 'adjustable': 2074, 'textbooks': 2075, 'flimsy': 2076, 'direction': 2077, 'knowledge': 2078, 'sync': 2079, 'airplane': 2080, 'disable': 2081, 'senior': 2082, 'glitch': 2083, '16g': 2084, 'savy': 2085, '3yr': 2086, 'searches': 2087, 'restricted': 2088, 'autism': 2089, 'graphic': 2090, 'meaning': 2091, 'hundred': 2092, 'trusted': 2093, 'shoot': 2094, 'amazonbasic': 2095, 'installation': 2096, 'began': 2097, 'brick': 2098, 'curve': 2099, 'brain': 2100, 'roku': 2101, 'dying': 2102, 'wrapper': 2103, 'eveready': 2104, 'boyfriend': 2105, 'sharing': 2106, 'shortly': 2107, 'sorts': 2108, 'accessories': 2109, 'controlled': 2110, 'duration': 2111, 'kit': 2112, 'causing': 2113, 'researched': 2114, 'meter': 2115, 'marked': 2116, 'shame': 2117, 'alarms': 2118, 'fill': 2119, 'leaving': 2120, 'professional': 2121, 'band': 2122, 'country': 2123, 'annoyed': 2124, 'event': 2125, 'town': 2126, 'prevents': 2127, 'heck': 2128, 'metal': 2129, 'messing': 2130, 'demand': 2131, 'upset': 2132, 'logo': 2133, '6th': 2134, 'select': 2135, 'proved': 2136, 'field': 2137, 'greater': 2138, 'leds': 2139, 'practical': 2140, 'minecraft': 2141, 'enable': 2142, 'wake': 2143, 'worthless': 2144, 'scientific': 2145, 'advance': 2146, 'compete': 2147, 'lines': 2148, 'growing': 2149, 'flip': 2150, 'sucks': 2151, 'thinner': 2152, 'binder': 2153, 'workers': 2154, 'sounding': 2155, 'slip': 2156, 'uncomfortable': 2157, 'outlet': 2158, 'lil': 2159, 'primary': 2160, 'flaw': 2161, 'adjusting': 2162, 'paperback': 2163, 'origami': 2164, 'flush': 2165, 'manual': 2166, 'accidental': 2167, '2yr': 2168, 'watched': 2169, 'explain': 2170, 'comfortably': 2171, 'contents': 2172, 'menus': 2173, 'hd7': 2174, 'enjoyment': 2175, '7th': 2176, 'tank': 2177, 'condition': 2178, 'december': 2179, 'report': 2180, 'tied': 2181, 'coppertop': 2182, 'locally': 2183, 'boot': 2184, 'manufacturers': 2185, 'depending': 2186, 'label': 2187, 'rocks': 2188, 'eight': 2189, 'timely': 2190, 'theses': 2191, 'explode': 2192, 'encourage': 2193, 'hurricane': 2194, 'reports': 2195, 'extras': 2196, 'fabulous': 2197, 'reduced': 2198, 'november': 2199, 'organized': 2200, 'halloween': 2201, 'orders': 2202, 'providing': 2203, 'handheld': 2204, 'worn': 2205, 'justify': 2206, 'shipment': 2207, 'monthly': 2208, 'separated': 2209, 'picking': 2210, 'burned': 2211, 'arms': 2212, 'rolling': 2213, 'detector': 2214, 'ridiculous': 2215, 'everybody': 2216, 'retail': 2217, 'assuming': 2218, 'coffee': 2219, 'radios': 2220, 'active': 2221, 'suspect': 2222, 'error': 2223, 'tad': 2224, 'bedroom': 2225, 'draining': 2226, 'accidently': 2227, 'sub': 2228, 'gps': 2229, 'unsure': 2230, 'covered': 2231, 'handles': 2232, 'students': 2233, 'aging': 2234, 'lunch': 2235, 'overseas': 2236, 'closes': 2237, 'miles': 2238, 'anybody': 2239, 'shoulder': 2240, 'angle': 2241, 'keys': 2242, 'resistant': 2243, 'slide': 2244, 'plugs': 2245, 'assistant': 2246, 'fills': 2247, 'playback': 2248, 'adjusts': 2249, 'limitations': 2250, 'released': 2251, 'replaces': 2252, 'adaptive': 2253, 'aspects': 2254, 'refurbished': 2255, 'delete': 2256, 'bells': 2257, 'whistles': 2258, 'definite': 2259, 'cpu': 2260, 'productivity': 2261, 'proprietary': 2262, 'customizable': 2263, 'locate': 2264, 'explored': 2265, 'bedtime': 2266, 'crush': 2267, 'navigating': 2268, 'salesman': 2269, 'kiddo': 2270, 'websites': 2271, 'reboot': 2272, 'tables': 2273, 'doctor': 2274, 'newstand': 2275, 'twins': 2276, 'blown': 2277, 'method': 2278, 'volt': 2279, 'indoor': 2280, 'describe': 2281, 'competitor': 2282, 'expectancy': 2283, 'nervous': 2284, 'solar': 2285, 'admit': 2286, 'owns': 2287, 'constructed': 2288, 'yup': 2289, 'shiny': 2290, 'closet': 2291, 'tear': 2292, 'basement': 2293, 'sisters': 2294, 'noticeably': 2295, 'toss': 2296, 'depends': 2297, 'sony': 2298, 'anyways': 2299, 'aged': 2300, 'created': 2301, 'lists': 2302, 'february': 2303, 'private': 2304, 'monitoring': 2305, 'jumped': 2306, 'lived': 2307, 'somewhere': 2308, 'excelent': 2309, 'acceptable': 2310, 'requirements': 2311, 'marketing': 2312, 'advertisement': 2313, 'department': 2314, 'balance': 2315, 'spectacular': 2316, 'quantities': 2317, 'husbands': 2318, 'detailed': 2319, 'extreme': 2320, 'parts': 2321, 'comparing': 2322, 'lamp': 2323, 'reccomend': 2324, 'willing': 2325, 'assume': 2326, 'location': 2327, 'inconvenient': 2328, 'final': 2329, 'receiver': 2330, 'unnecessary': 2331, 'failure': 2332, 'instance': 2333, 'reputable': 2334, 'suitable': 2335, 'highest': 2336, 'remaining': 2337, 'universal': 2338, 'destroyed': 2339, 'mentioned': 2340, 'inches': 2341, 'nowhere': 2342, 'losing': 2343, 'cartoon': 2344, 'fly': 2345, 'incredibly': 2346, 'updating': 2347, 'resource': 2348, 'regrets': 2349, 'compartments': 2350, 'instant': 2351, 'fight': 2352, 'gripe': 2353, 'verizon': 2354, 'ports': 2355, 'bubble': 2356, 'continues': 2357, 'steps': 2358, 'joy': 2359, 'letting': 2360, 'worrying': 2361, 'adjusted': 2362, 'dots': 2363, 'development': 2364, 'calling': 2365, 'existing': 2366, 'pushing': 2367, 'companion': 2368, 'explore': 2369, 'impulse': 2370, 'language': 2371, 'reach': 2372, 'debated': 2373, 'bored': 2374, 'trial': 2375, 'flexibility': 2376, 'connector': 2377, 'ink': 2378, 'pdf': 2379, 'weighs': 2380, 'ergonomic': 2381, 'asleep': 2382, 'grader': 2383, 'mails': 2384, 'entertain': 2385, 'deleted': 2386, 'challenged': 2387, 'instagram': 2388, 'surgery': 2389, 'activity': 2390, 'articles': 2391, 'section': 2392, 'sensitivity': 2393, 'customization': 2394, 'located': 2395, 'enlarge': 2396, 'facing': 2397, 'hes': 2398, 'exploded': 2399, 'dud': 2400, 'counting': 2401, 'birthdays': 2402, 'amounts': 2403, 'claims': 2404, 'details': 2405, 'proven': 2406, 'knock': 2407, 'gold': 2408, 'somehow': 2409, 'inserted': 2410, 'corner': 2411, 'ill': 2412, 'assured': 2413, 'brush': 2414, 'cash': 2415, 'repurchase': 2416, 'searched': 2417, 'indeed': 2418, 'wedding': 2419, 'everready': 2420, 'happening': 2421, 'round': 2422, 'coat': 2423, 'china': 2424, 'split': 2425, 'buys': 2426, 'sick': 2427, 'recommendation': 2428, 'goodness': 2429, 'twenty': 2430, 'competing': 2431, 'burn': 2432, 'nope': 2433, 'laser': 2434, 'tells': 2435, 'grabbed': 2436, 'mad': 2437, 'recycling': 2438, 'suck': 2439, 'steady': 2440, 'minimum': 2441, 'firestick': 2442, 'min': 2443, 'overnight': 2444, 'march': 2445, 'gear': 2446, 'pads': 2447, 'importantly': 2448, 'dates': 2449, 'hdmi': 2450, 'phenomenal': 2451, 'levels': 2452, 'gotta': 2453, 'fuss': 2454, 'seemingly': 2455, 'earned': 2456, 'batterys': 2457, 'harder': 2458, 'situation': 2459, 'promptly': 2460, 'closed': 2461, 'truck': 2462, 'force': 2463, 'headlamps': 2464, 'offering': 2465, 'arm': 2466, 'haha': 2467, 'welcome': 2468, 'laying': 2469, 'dish': 2470, 'gladly': 2471, 'sticky': 2472, 'managed': 2473, 'electrical': 2474, 'damages': 2475, 'increased': 2476, 'skin': 2477, 'brilliant': 2478, 'slight': 2479, 'lightning': 2480, 'request': 2481, 'toothbrushes': 2482, 'displays': 2483, 'accessing': 2484, 'thirty': 2485, 'resolved': 2486, 'dislike': 2487, 'commercials': 2488, 'sluggish': 2489, 'guard': 2490, 'techie': 2491, 'introduced': 2492, 'blank': 2493, 'ample': 2494, 'streams': 2495, 'endless': 2496, 'listens': 2497, 'hook': 2498, 'hotspot': 2499, 'requests': 2500, 'rooms': 2501, 'lags': 2502, 'punch': 2503, 'wished': 2504, 'operates': 2505, 'frustrated': 2506, 'iphones': 2507, 'backlighting': 2508, 'distracting': 2509, 'prefers': 2510, 'teen': 2511, 'swiping': 2512, 'progress': 2513, 'customize': 2514, 'challenging': 2515, 'transition': 2516, 'goodreads': 2517, '8in': 2518, 'tailored': 2519, 'smoothly': 2520, 'restrict': 2521, 'resist': 2522, 'alphabet': 2523, '1yr': 2524, 'jealous': 2525, 'magenta': 2526, 'purple': 2527, 'slows': 2528, 'elderly': 2529, 'responsibility': 2530, 'approved': 2531, 'login': 2532, 'employee': 2533, 'solitaire': 2534, 'shapes': 2535, 'study': 2536, '6yr': 2537, 'limiting': 2538, 'newspaper': 2539, 'core': 2540, 'webroot': 2541, 'merlot': 2542, 'depend': 2543, 'max': 2544, 'achieve': 2545, 'repeat': 2546, 'practically': 2547, 'refused': 2548, 'gas': 2549, 'hesitate': 2550, 'commercial': 2551, 'toothbrush': 2552, 'damn': 2553, 'produce': 2554, 'safely': 2555, 'families': 2556, 'ratio': 2557, 'transmitter': 2558, 'manner': 2559, 'dozen': 2560, 'compares': 2561, 'differently': 2562, 'cheapo': 2563, 'outlasted': 2564, 'stocking': 2565, 'identical': 2566, 'drug': 2567, 'staple': 2568, 'beware': 2569, 'folks': 2570, 'bike': 2571, 'gamer': 2572, 'wasnt': 2573, 'regardless': 2574, 'vary': 2575, 'boxed': 2576, 'favorites': 2577, 'frills': 2578, 'yep': 2579, 'hair': 2580, 'heart': 2581, 'fans': 2582, 'yellow': 2583, 'stupid': 2584, 'cheaply': 2585, 'usa': 2586, 'collection': 2587, 'zone': 2588, 'roll': 2589, 'june': 2590, 'august': 2591, 'microphones': 2592, 'church': 2593, 'sadly': 2594, 'visiting': 2595, 'indicator': 2596, 'pairs': 2597, 'invest': 2598, 'freight': 2599, 'shell': 2600, 'description': 2601, 'accurate': 2602, 'chargers': 2603, 'channels': 2604, 'matthew': 2605, 'sam': 2606, 'entirely': 2607, 'jack': 2608, 'recommending': 2609, 'smile': 2610, 'packing': 2611, 'suits': 2612, 'quarter': 2613, 'havent': 2614, 'outer': 2615, 'gifted': 2616, 'upper': 2617, 'tends': 2618, 'nights': 2619, 'caveat': 2620, 'alternatives': 2621, 'becoming': 2622, 'sells': 2623, 'strongly': 2624, 'appreciated': 2625, 'colored': 2626, 'rarely': 2627, 'decently': 2628, 'stations': 2629, 'vehicle': 2630, 'babies': 2631, 'pic': 2632, 'choosing': 2633, 'glove': 2634, 'wallet': 2635, 'imo': 2636, 'effect': 2637, 'heavier': 2638, 'snug': 2639, 'theyre': 2640, 'warm': 2641, 'contrast': 2642, 'hence': 2643, 'microsoft': 2644, 'carried': 2645, 'handled': 2646, 'nine': 2647, 'substantial': 2648, 'traded': 2649, 'evening': 2650, 'vision': 2651, 'guide': 2652, 'addicted': 2653, 'acts': 2654, 'accident': 2655, 'thousand': 2656, 'angry': 2657, 'ignore': 2658, 'visit': 2659, 'zippers': 2660, 'rain': 2661, 'rep': 2662, 'dual': 2663, 'solve': 2664, 'birds': 2665, 'activation': 2666, 'lug': 2667, 'seamless': 2668, 'chat': 2669, 'exploring': 2670, 'didn‚äôt': 2671, 'improve': 2672, 'native': 2673, 'readability': 2674, 'slimmer': 2675, 'devise': 2676, 'lastly': 2677, 'magnetic': 2678, 'responsiveness': 2679, 'researching': 2680, 'catching': 2681, 'borrowed': 2682, '64gb': 2683, 'preinstalled': 2684, 'grandparents': 2685, 'modified': 2686, '720p': 2687, 'androids': 2688, 'fir': 2689, 'desire': 2690, 'raffle': 2691, 'curfew': 2692, 'supported': 2693, 'stopping': 2694, 'quirks': 2695, 'glued': 2696, 'occupy': 2697, 'downloadable': 2698, 'task': 2699, 'gmail': 2700, 'operations': 2701, 'hoops': 2702, 'vudu': 2703, 'grows': 2704, 'manga': 2705, 'dauther': 2706, 'following': 2707, 'nvidia': 2708, 'quad': 2709, 'isn‚äôt': 2710, 'insurance': 2711, 'mines': 2712, 'couldn‚äôt': 2713, 'mixed': 2714, 'north': 2715, 'powers': 2716, 'simplicity': 2717, 'slots': 2718, 'resistance': 2719, 'reduces': 2720, 'category': 2721, 'poorly': 2722, 'posted': 2723, 'happily': 2724, 'bothered': 2725, 'bundled': 2726, 'requiring': 2727, 'converted': 2728, 'prize': 2729, 'aaas': 2730, 'prepared': 2731, 'beautifully': 2732, 'differences': 2733, 'blow': 2734, 'assumed': 2735, 'btw': 2736, 'lantern': 2737, 'contacts': 2738, 'summer': 2739, 'upcoming': 2740, 'math': 2741, 'recharged': 2742, 'cancelling': 2743, 'hubby': 2744, 'joke': 2745, 'needless': 2746, 'solved': 2747, 'weigh': 2748, 'situations': 2749, 'nose': 2750, 'thomas': 2751, 'recycle': 2752, 'periodically': 2753, 'cats': 2754, 'chinese': 2755, 'legs': 2756, 'caused': 2757, 'weekly': 2758, 'keypad': 2759, 'cabinet': 2760, 'doa': 2761, 'flashing': 2762, 'corroded': 2763, 'ruin': 2764, 'input': 2765, 'leap': 2766, 'mp3': 2767, 'warehouse': 2768, 'availability': 2769, 'costing': 2770, 'endurance': 2771, 'retailers': 2772, 'shared': 2773, 'prefect': 2774, 'jacket': 2775, 'temperature': 2776, 'sensors': 2777, 'bummer': 2778, 'fifty': 2779, 'consume': 2780, 'abilities': 2781, 'reluctant': 2782, 'natural': 2783, 'lifetime': 2784, 'correct': 2785, 'depot': 2786, 'cake': 2787, 'ridiculously': 2788, 'pricy': 2789, 'ultimately': 2790, 'tomorrow': 2791, 'discounted': 2792, 'suited': 2793, 'tendency': 2794, 'overly': 2795, 'eco': 2796, 'bout': 2797, 'cast': 2798, 'suit': 2799, 'wasting': 2800, 'ultimate': 2801, 'lesser': 2802, 'informed': 2803, 'success': 2804, 'shocked': 2805, 'walk': 2806, 'verify': 2807, 'random': 2808, 'nest': 2809, 'theres': 2810, 'gigs': 2811, 'code': 2812, 'creating': 2813, 'whatsoever': 2814, 'bummed': 2815, 'ride': 2816, 'ruining': 2817, 'essential': 2818, 'bar': 2819, 'events': 2820, 'telling': 2821, 'regards': 2822, 'appearance': 2823, 'served': 2824, 'ends': 2825, 'discover': 2826, 'spots': 2827, 'title': 2828, 'sometime': 2829, 'combined': 2830, 'amazingly': 2831, 'awkward': 2832, 'crack': 2833, 'silly': 2834, 'citizen': 2835, 'recognize': 2836, 'connectors': 2837, 'mommy': 2838, 'laptops': 2839, 'sits': 2840, 'mesh': 2841, 'secondary': 2842, 'macbook': 2843, 'blocks': 2844, 'patience': 2845, 'adapters': 2846, 'informative': 2847, 'answers': 2848, 'networks': 2849, 'pressing': 2850, 'itunes': 2851, 'learns': 2852, 'integrated': 2853, 'ios': 2854, 'cellular': 2855, 'hearing': 2856, 'sports': 2857, 'pleasant': 2858, 'syncs': 2859, 'smarter': 2860, 'improves': 2861, 'dictionary': 2862, 'fonts': 2863, 'management': 2864, 'peace': 2865, 'jump': 2866, 'dedicated': 2867, 'paperweight': 2868, 'uniform': 2869, 'stylus': 2870, 'east': 2871, 'gym': 2872, 'awsome': 2873, 'towards': 2874, 'survived': 2875, 'mickey': 2876, 'clubhouse': 2877, 'vivid': 2878, 'relaxing': 2879, 'exit': 2880, 'layout': 2881, 'everytime': 2882, 'bills': 2883, 'shes': 2884, 'godson': 2885, 'carousel': 2886, 'characters': 2887, 'atleast': 2888, 'completed': 2889, 'copies': 2890, 'bonuses': 2891, 'novels': 2892, 'autistic': 2893, 'partly': 2894, 'explained': 2895, 'convert': 2896, 'cumbersome': 2897, 'associates': 2898, 'preschool': 2899, 'struggling': 2900, 'daugther': 2901, 'barnes': 2902, 'luv': 2903, 'boost': 2904, 'lightest': 2905, 'won‚äôt': 2906, 'prizes': 2907, 'i‚äôve': 2908, 'quest': 2909, 'blister': 2910, 'food': 2911, 'agree': 2912, 'commodity': 2913, 'advice': 2914, 'stumbled': 2915, 'riding': 2916, 'replacements': 2917, 'internally': 2918, 'rechargable': 2919, 'dirt': 2920, 'tier': 2921, 'comforting': 2922, 'maintain': 2923, 'comfort': 2924, 'backing': 2925, 'appliances': 2926, 'subscribed': 2927, 'tremendous': 2928, 'wizard': 2929, 'considerably': 2930, 'labeled': 2931, 'walkie': 2932, 'hurry': 2933, 'arrives': 2934, 'hits': 2935, 'resting': 2936, 'cellophane': 2937, 'shots': 2938, 'photography': 2939, 'badly': 2940, 'cleaning': 2941, 'insulin': 2942, 'omg': 2943, 'knife': 2944, 'expert': 2945, 'slowly': 2946, 'bathroom': 2947, 'trimmer': 2948, 'appliance': 2949, 'motor': 2950, 'unused': 2951, 'score': 2952, 'kidding': 2953, 'dispose': 2954, 'prepare': 2955, 'neck': 2956, 'recieved': 2957, 'blood': 2958, 'construction': 2959, 'deadbolt': 2960, 'ground': 2961, 'logitech': 2962, 'harbor': 2963, 'wonder': 2964, 'sooo': 2965, 'understatement': 2966, 'channel': 2967, 'produces': 2968, 'complains': 2969, 'amd': 2970, 'stash': 2971, 'faulty': 2972, 'fresher': 2973, 'team': 2974, 'advertise': 2975, 'highlight': 2976, 'hanging': 2977, 'rule': 2978, 'statement': 2979, 'trusty': 2980, 'hardcore': 2981, 'insane': 2982, 'tonight': 2983, 'stood': 2984, 'rescue': 2985, 'repeatedly': 2986, 'leg': 2987, 'panasonic': 2988, 'message': 2989, 'carefully': 2990, 'chances': 2991, 'organize': 2992, 'layer': 2993, 'result': 2994, 'yard': 2995, 'soap': 2996, 'schedule': 2997, 'loss': 2998, 'wire': 2999, 'talked': 3000, 'backwards': 3001, 'dvd': 3002, 'displayed': 3003, 'orange': 3004, 'dependent': 3005, 'conveniently': 3006, 'desktop': 3007, 'compromise': 3008, 'pace': 3009, 'yearly': 3010, 'thanksgiving': 3011, 'visual': 3012, 'dust': 3013, 'heavily': 3014, 'unique': 3015, 'apparent': 3016, 'cds': 3017, 'echos': 3018, 'freedom': 3019, 'written': 3020, 'dream': 3021, 'sleeping': 3022, 'carries': 3023, 'blows': 3024, 'tote': 3025, 'necessarily': 3026, 'patio': 3027, 'rapid': 3028, 'angles': 3029, 'stops': 3030, 'cooler': 3031, 'nylon': 3032, 'padding': 3033, 'letter': 3034, 'sleeker': 3035, 'florida': 3036, 'document': 3037, 'disabled': 3038, 'describing': 3039, 'song': 3040, 'vocabulary': 3041, 'recognition': 3042, 'upstairs': 3043, 'headphone': 3044, 'understands': 3045, 'siri': 3046, 'calendar': 3047, 'selections': 3048, 'effortlessly': 3049, 'flawless': 3050, 'tries': 3051, 'dirty': 3052, 'outdoors': 3053, 'debating': 3054, 'promotion': 3055, 'finish': 3056, 'coverage': 3057, 'sharper': 3058, 'worthy': 3059, 'definition': 3060, 'exceeds': 3061, 'hindsight': 3062, 'sunny': 3063, 'distracted': 3064, 'travelers': 3065, 'addict': 3066, 'environments': 3067, 'flaws': 3068, 'retired': 3069, 'dinner': 3070, 'engage': 3071, 'clunky': 3072, 'primetime': 3073, 'navigates': 3074, 'gigabytes': 3075, 'vlc': 3076, 'seamlessly': 3077, 'appointments': 3078, 'rotating': 3079, 'rotate': 3080, 'moms': 3081, 'wonders': 3082, 'meetings': 3083, 'approve': 3084, 'fireos': 3085, 'slippery': 3086, 'puzzle': 3087, 'editing': 3088, 'intermediate': 3089, 'crashed': 3090, 'ticking': 3091, 'bath': 3092, 'neice': 3093, 'permission': 3094, 'stepdaughter': 3095, 'accessed': 3096, 'combine': 3097, 'shield': 3098, 'stories': 3099, 'inability': 3100, 'fees': 3101, '7in': 3102, '8th': 3103, 'unfortunate': 3104, 'repairs': 3105, 'aggravating': 3106, 'router': 3107, 'prob': 3108, 'overdrive': 3109, 'asus': 3110, 'horizontal': 3111, 'seat': 3112, 'scrolling': 3113, 'sim': 3114, 'occasions': 3115, 'disch': 3116, 'staying': 3117, 'teacher': 3118, 'confirmed': 3119, 'pulled': 3120, 'surprising': 3121, 'restock': 3122, 'wal': 3123, 'mart': 3124, 'performer': 3125, 'namebrand': 3126, 'returns': 3127, 'elaborate': 3128, 'console': 3129, 'sending': 3130, 'rip': 3131, 'cheep': 3132, 'mortar': 3133, 'outperformed': 3134, 'procells': 3135, 'production': 3136, 'buzzing': 3137, 'crappy': 3138, 'retailer': 3139, 'bundles': 3140, 'tightly': 3141, 'dig': 3142, 'nowadays': 3143, 'mics': 3144, 'continuous': 3145, 'cleaned': 3146, 'winter': 3147, 'carrier': 3148, 'lying': 3149, 'english': 3150, 'counter': 3151, 'whose': 3152, 'fortune': 3153, 'liquid': 3154, 'scared': 3155, 'dry': 3156, 'razor': 3157, 'continued': 3158, 'nobody': 3159, 'recurring': 3160, 'monday': 3161, 'dads': 3162, 'confidence': 3163, 'woman': 3164, 'labels': 3165, 'esp': 3166, 'lovely': 3167, 'hurt': 3168, 'wasted': 3169, 'stayed': 3170, 'strap': 3171, 'electricity': 3172, 'manufacturing': 3173, 'pictured': 3174, 'satisfaction': 3175, 'japan': 3176, 'promises': 3177, 'batters': 3178, 'insert': 3179, 'reordering': 3180, 'posts': 3181, 'concerns': 3182, 'opinions': 3183, 'contemplating': 3184, 'stack': 3185, 'ebay': 3186, 'thicker': 3187, 'calculators': 3188, 'elements': 3189, 'tax': 3190, 'maps': 3191, 'simpler': 3192, 'secret': 3193, 'remains': 3194, 'beaten': 3195, 'matched': 3196, 'considered': 3197, 'decoration': 3198, 'defiantly': 3199, 'recorder': 3200, 'liking': 3201, 'reviewing': 3202, 'hide': 3203, 'imagined': 3204, 'opposed': 3205, 'dozens': 3206, 'reordered': 3207, 'expense': 3208, 'closely': 3209, 'booklet': 3210, 'drove': 3211, 'density': 3212, 'unhappy': 3213, 'driving': 3214, 'drawers': 3215, 'army': 3216, 'cancel': 3217, 'indicated': 3218, 'reputation': 3219, 'handful': 3220, 'struggle': 3221, 'dispenser': 3222, 'branding': 3223, 'certified': 3224, 'measure': 3225, 'mile': 3226, 'tips': 3227, 'taste': 3228, 'unacceptable': 3229, 'sanity': 3230, 'energenizer': 3231, 'payment': 3232, 'suddenly': 3233, 'handling': 3234, 'lackluster': 3235, 'ninja': 3236, 'mwh': 3237, 'july': 3238, 'destroy': 3239, 'frozen': 3240, 'eating': 3241, 'additionally': 3242, 'foot': 3243, 'astonishing': 3244, 'anti': 3245, 'tivo': 3246, 'weighing': 3247, 'nature': 3248, 'nonstop': 3249, 'satisfying': 3250, 'philosophy': 3251, 'experiences': 3252, 'south': 3253, 'usefulness': 3254, 'utility': 3255, 'effectively': 3256, 'potato': 3257, 'raise': 3258, 'strings': 3259, 'reduction': 3260, 'intention': 3261, 'compatibility': 3262, 'screws': 3263, 'american': 3264, 'extend': 3265, 'virus': 3266, 'frame': 3267, 'recognized': 3268, 'unusable': 3269, 'cruise': 3270, 'praise': 3271, 'reception': 3272, 'wanna': 3273, 'training': 3274, 'pieces': 3275, 'sudden': 3276, 'satisfy': 3277, 'practice': 3278, 'drives': 3279, 'alleviate': 3280, 'breakage': 3281, 'featured': 3282, 'grey': 3283, 'straps': 3284, 'shaped': 3285, 'els': 3286, 'neoprene': 3287, 'educated': 3288, 'glasses': 3289, 'preference': 3290, 'resolve': 3291, 'tapping': 3292, 'answered': 3293, 'mobility': 3294, 'hue': 3295, 'disadvantage': 3296, 'whim': 3297, 'episode': 3298, 'connections': 3299, 'aps': 3300, 'pulling': 3301, 'synced': 3302, 'valuable': 3303, 'figuring': 3304, 'glitches': 3305, 'alternate': 3306, 'amps': 3307, 'understanding': 3308, 'foreign': 3309, 'pw2': 3310, 'scroll': 3311, 'focus': 3312, 'copy': 3313, 'becomes': 3314, 'ambient': 3315, 'lovers': 3316, 'sunshine': 3317, 'spoiled': 3318, 'misses': 3319, 'beauty': 3320, 'spouse': 3321, 'dpi': 3322, 'suggestions': 3323, 'adore': 3324, 'optional': 3325, 'cousin': 3326, 'launcher': 3327, 'laggy': 3328, 'insisted': 3329, 'icon': 3330, '3yo': 3331, 'entertains': 3332, 'airport': 3333, 'disability': 3334, 'limitation': 3335, 'googleplay': 3336, 'mothers': 3337, 'childproof': 3338, 'brothers': 3339, 'dosent': 3340, 'cracks': 3341, 'preschooler': 3342, 'salesperson': 3343, 'dropbox': 3344, 'throughly': 3345, 'beneficial': 3346, 'component': 3347, 'insignia': 3348, 'withstand': 3349, 'achievements': 3350, 'smoother': 3351, 'driver': 3352, 'tutorial': 3353, 'weekend': 3354, 'preschoolers': 3355, 'modest': 3356, 'introducing': 3357, '5gb': 3358, 'eliminates': 3359, 'syndrome': 3360, 'outdated': 3361, 'semester': 3362, 'reward': 3363, 'aswell': 3364, 'ghz': 3365, 'requirement': 3366, 'dispute': 3367, 'tutorials': 3368, 'enter': 3369, 'spoke': 3370, 'summary': 3371, 'visits': 3372, '4yo': 3373, 'drag': 3374, 'gorgeous': 3375, 'yahoo': 3376, 'equipped': 3377, 'aimed': 3378, 'restricts': 3379, 'airline': 3380, '5yr': 3381, 'elementary': 3382, 'att': 3383, 'sturdier': 3384, 'fianc√': 3385, 'utube': 3386, 'crisper': 3387, '8hd': 3388, 'banking': 3389, 'asks': 3390, 'spreadsheets': 3391, 'safeguard': 3392, 'circadian': 3393, 'rhythm': 3394, 'baught': 3395, 'registering': 3396, 'grandpa': 3397, 'grandfather': 3398, 'stepkids': 3399, 'clash': 3400, 'illumination': 3401, '‚äù': 3402, 'doesn‚äôt': 3403, 'instructed': 3404, 'quirk': 3405, 'iceland': 3406, 'pintrest': 3407, 'earbuds': 3408, 'steelbook': 3409, 'casing': 3410, 'pcs': 3411, 'inconsistent': 3412, 'fish': 3413, 'thankful': 3414, 'respectable': 3415, 'rates': 3416, 'motorized': 3417, 'blew': 3418, 'combination': 3419, 'exciting': 3420, 'shopper': 3421, 'reviewer': 3422, 'claimed': 3423, 'fake': 3424, 'bravo': 3425, 'rival': 3426, '10x': 3427, 'mediocre': 3428, 'mercury': 3429, 'closer': 3430, 'scales': 3431, 'varieties': 3432, 'laugh': 3433, 'mainstream': 3434, 'stronger': 3435, 'fewer': 3436, 'income': 3437, 'fool': 3438, 'equivalents': 3439, 'countless': 3440, 'indicate': 3441, 'inferior': 3442, 'drinks': 3443, 'hunting': 3444, 'lay': 3445, 'fluke': 3446, 'variation': 3447, 'attempted': 3448, 'annoyance': 3449, 'confirm': 3450, 'confident': 3451, 'feb': 3452, 'bomb': 3453, 'mon': 3454, 'wrist': 3455, 'physically': 3456, 'sunday': 3457, 'trains': 3458, 'emergencies': 3459, 'eneloop': 3460, 'famous': 3461, 'sacrifice': 3462, 'performers': 3463, 'contain': 3464, 'prepaid': 3465, 'project': 3466, 'ceiling': 3467, 'deserves': 3468, 'responding': 3469, 'essentially': 3470, 'earth': 3471, 'distractions': 3472, 'recieve': 3473, 'walked': 3474, 'ikea': 3475, 'experiment': 3476, 'burnt': 3477, 'terribly': 3478, 'sams': 3479, 'circuit': 3480, 'guaranteed': 3481, 'scissors': 3482, 'lid': 3483, 'environmentally': 3484, 'dated': 3485, 'mark': 3486, 'drugstore': 3487, 'thermometers': 3488, 'sticking': 3489, 'boat': 3490, 'file': 3491, 'batery': 3492, 'ish': 3493, 'giant': 3494, 'seal': 3495, 'generics': 3496, 'dough': 3497, 'goo': 3498, 'juju': 3499, 'cams': 3500, 'massive': 3501, 'listed': 3502, 'wasteful': 3503, 'bear': 3504, 'calculator': 3505, 'selecting': 3506, 'supplier': 3507, 'rechargables': 3508, 'mag': 3509, 'freshness': 3510, 'loosing': 3511, 'bye': 3512, 'negatives': 3513, 'weaker': 3514, 'cousins': 3515, 'twist': 3516, 'prove': 3517, 'anticipated': 3518, 'vacs': 3519, 'lowes': 3520, 'players': 3521, 'placing': 3522, 'insanely': 3523, 'organizer': 3524, 'teenagers': 3525, 'rich': 3526, 'spares': 3527, 'arranged': 3528, 'transport': 3529, 'dimmer': 3530, 'slick': 3531, 'smallest': 3532, 'examples': 3533, 'headlamp': 3534, 'lightening': 3535, 'talkies': 3536, 'woo': 3537, 'attempts': 3538, 'produced': 3539, 'states': 3540, 'proudly': 3541, 'stairs': 3542, 'hopes': 3543, 'thermometer': 3544, 'supplies': 3545, 'remarkably': 3546, 'stable': 3547, 'economy': 3548, 'relief': 3549, 'suprised': 3550, 'firetv': 3551, 'chocolate': 3552, 'gun': 3553, 'noticing': 3554, 'shall': 3555, 'ratings': 3556, 'bet': 3557, 'roughly': 3558, 'switches': 3559, 'continuously': 3560, 'generous': 3561, 'medical': 3562, 'doctors': 3563, 'weekends': 3564, 'patient': 3565, 'truth': 3566, 'sources': 3567, 'recharges': 3568, 'whoever': 3569, 'fabric': 3570, 'estimate': 3571, 'edges': 3572, 'messes': 3573, 'complaining': 3574, 'dump': 3575, 'forgotten': 3576, 'equally': 3577, 'lie': 3578, 'center': 3579, 'act': 3580, 'fare': 3581, 'accepted': 3582, 'burns': 3583, 'batterie': 3584, 'licensing': 3585, 'plans': 3586, 'spelling': 3587, 'resale': 3588, 'habit': 3589, 'remembers': 3590, 'science': 3591, 'meh': 3592, 'ate': 3593, 'individuals': 3594, 'stink': 3595, 'concept': 3596, 'filtered': 3597, 'killing': 3598, 'goodies': 3599, '10th': 3600, 'lazy': 3601, 'culprit': 3602, 'nonetheless': 3603, 'sends': 3604, 'tall': 3605, 'passed': 3606, 'clients': 3607, 'spine': 3608, 'unplugged': 3609, 'alexia': 3610, 'expired': 3611, 'sessions': 3612, 'mix': 3613, 'repair': 3614, 'foray': 3615, 'clip': 3616, 'remembered': 3617, 'rocket': 3618, 'binge': 3619, 'girlfriends': 3620, 'sliding': 3621, 'uploads': 3622, 'minimally': 3623, 'stylish': 3624, 'distraction': 3625, 'canvas': 3626, 'briefcase': 3627, 'usability': 3628, 'nomad': 3629, 'kindal': 3630, 'procedure': 3631, 'hotels': 3632, 'cooking': 3633, 'communications': 3634, 'dock': 3635, 'answering': 3636, 'texas': 3637, 'bringing': 3638, 'unexpected': 3639, 'tinny': 3640, 'cradle': 3641, 'nursing': 3642, 'degrees': 3643, 'audiophile': 3644, 'hype': 3645, 'bothering': 3646, 'obsessed': 3647, 'controlling': 3648, 'lugging': 3649, 'extent': 3650, 'pet': 3651, 'chip': 3652, 'bible': 3653, 'backward': 3654, 'translations': 3655, 'ereaders': 3656, 'kobo': 3657, 'york': 3658, 'evenly': 3659, 'nearest': 3660, 'refresh': 3661, 'lcd': 3662, 'mastered': 3663, 'pickup': 3664, 'canceled': 3665, 'palm': 3666, 'reference': 3667, 'goal': 3668, 'address': 3669, 'awake': 3670, 'wakes': 3671, 'wider': 3672, 'slides': 3673, 'refer': 3674, 'pure': 3675, 'waking': 3676, 'viber': 3677, 'grt': 3678, 'immensely': 3679, 'kickstand': 3680, '3gb': 3681, 'standing': 3682, 'gpu': 3683, 'hogging': 3684, 'casually': 3685, 'restriction': 3686, 'rights': 3687, 'onother': 3688, 'repossess': 3689, 'clearing': 3690, 'cache': 3691, 'stating': 3692, 'upgradable': 3693, 'supporting': 3694, 'novice': 3695, 'booting': 3696, 'certificate': 3697, 'stone': 3698, 'root': 3699, 'paw': 3700, 'surprises': 3701, 'lover': 3702, 'tvs': 3703, 'hurts': 3704, 'wears': 3705, 'slowing': 3706, 'refined': 3707, 'interests': 3708, 'descent': 3709, 'screed': 3710, 'structure': 3711, 'implemented': 3712, 'grandbaby': 3713, 'personnel': 3714, 'outperforms': 3715, 'supervise': 3716, 'babysitter': 3717, 'bloatware': 3718, 'pixels': 3719, 'magnets': 3720, 'specially': 3721, 'scratches': 3722, 'nursery': 3723, 'rhymes': 3724, 'hospital': 3725, 'silicon': 3726, 'backlights': 3727, 'pdfs': 3728, 'amazone': 3729, 'twitter': 3730, 'manageable': 3731, 'subscriptions': 3732, 'subscribing': 3733, 'unconditional': 3734, 'withstands': 3735, 'disabilities': 3736, 'languages': 3737, 'breakable': 3738, 'episodes': 3739, '8yo': 3740, 'destructive': 3741, 'subsidize': 3742, 'freebies': 3743, 'comics': 3744, 'centered': 3745, 'wondering': 3746, 'popping': 3747, 'sesame': 3748, 'street': 3749, '32g': 3750, 'noble': 3751, 'curved': 3752, 'lte': 3753, 'processes': 3754, 'permanently': 3755, 'clutter': 3756, 'horsepower': 3757, 'representative': 3758, 'clans': 3759, 'therapy': 3760, 'assists': 3761, 'youth': 3762, 'excuse': 3763, 'deducted': 3764, 'pleasurable': 3765, 'fatigue': 3766, 'he‚äôs': 3767, 'worm': 3768, 'hbo': 3769, 'maximum': 3770, 'unaware': 3771, 'removes': 3772, 'assignments': 3773, 'reduce': 3774, 'misleading': 3775, 'crossword': 3776, 'touches': 3777, 'kindel': 3778, 'aluminum': 3779, 'leader': 3780, 'runtime': 3781, 'sample': 3782, 'runtime100': 3783, 'hrs200': 3784, 'hrs400': 3785, 'gigantic': 3786, 'purchaser': 3787, 'headset': 3788, 'heads': 3789, 'measures': 3790, 'mower': 3791, 'excellant': 3792, 'outage': 3793, 'dissatisfied': 3794, 'reflects': 3795, 'beet': 3796, 'industry': 3797, 'coin': 3798, 'corroding': 3799, 'excelente': 3800, 'rivals': 3801, 'carton': 3802, 'aok': 3803, 'theater': 3804, 'record': 3805, 'immediate': 3806, 'kick': 3807, 'retain': 3808, 'woods': 3809, 'boom': 3810, 'lacka': 3811, 'duh': 3812, 'multimeter': 3813, 'cordless': 3814, 'mas': 3815, 'canon': 3816, 'exposure': 3817, 'ear': 3818, 'downstairs': 3819, 'vote': 3820, 'pays': 3821, 'temperatures': 3822, 'holder': 3823, 'proper': 3824, 'unreal': 3825, 'impatient': 3826, 'thankfully': 3827, 'longtime': 3828, 'adv': 3829, 'pressed': 3830, 'disappear': 3831, 'groupon': 3832, 'breast': 3833, 'encountered': 3834, 'death': 3835, 'row': 3836, 'gizmos': 3837, 'pointer': 3838, 'pinch': 3839, 'proud': 3840, 'manufactured': 3841, 'sunbeam': 3842, 'stats': 3843, 'bags': 3844, 'wearing': 3845, 'bats': 3846, 'brief': 3847, 'corners': 3848, 'expansive': 3849, 'shack': 3850, 'freaking': 3851, 'kill': 3852, 'earthquake': 3853, 'critical': 3854, 'ripoff': 3855, 'official': 3856, 'failing': 3857, 'backs': 3858, 'consumers': 3859, 'screwing': 3860, 'eyesight': 3861, 'reserve': 3862, 'cvs': 3863, 'depth': 3864, 'cam': 3865, 'rounds': 3866, 'surround': 3867, 'wine': 3868, 'opener': 3869, 'characteristics': 3870, 'surely': 3871, 'loyal': 3872, 'feed': 3873, 'impossibly': 3874, 'strike': 3875, 'durcell': 3876, 'eneloops': 3877, 'arises': 3878, 'boots': 3879, 'solutions': 3880, 'indistinguishable': 3881, 'clue': 3882, 'clicker': 3883, 'expectation': 3884, 'rabbit': 3885, 'grate': 3886, 'directed': 3887, 'allot': 3888, 'yea': 3889, 'sensing': 3890, 'cup': 3891, 'amongst': 3892, 'torn': 3893, 'comparably': 3894, 'batter': 3895, 'childrens': 3896, 'accessibility': 3897, 'subjective': 3898, 'painful': 3899, 'combo': 3900, 'deer': 3901, 'pantry': 3902, 'ugh': 3903, 'upside': 3904, 'competitively': 3905, 'removing': 3906, 'majority': 3907, 'naturally': 3908, 'responsible': 3909, 'gamers': 3910, 'hopeful': 3911, 'pricier': 3912, 'hurting': 3913, 'mounted': 3914, 'apartment': 3915, 'hunt': 3916, 'fanatic': 3917, 'nite': 3918, 'million': 3919, 'admittedly': 3920, 'runner': 3921, 'importance': 3922, 'exaggerating': 3923, 'cluttered': 3924, 'darker': 3925, 'projects': 3926, 'electrons': 3927, 'reliably': 3928, 'stretch': 3929, 'locations': 3930, 'lead': 3931, 'according': 3932, 'xfinity': 3933, 'unwrap': 3934, 'swap': 3935, 'photographer': 3936, 'thermostats': 3937, 'til': 3938, 'twelve': 3939, 'trucks': 3940, 'camper': 3941, 'exceptionally': 3942, 'gem': 3943, 'deciding': 3944, 'commonly': 3945, 'backpacks': 3946, 'dealing': 3947, 'whichever': 3948, 'japanese': 3949, 'industrial': 3950, 'nerf': 3951, 'risk': 3952, 'fortunately': 3953, 'heating': 3954, 'village': 3955, 'plant': 3956, 'iam': 3957, 'efficiently': 3958, 'obsolete': 3959, 'downsides': 3960, 'engineering': 3961, 'sing': 3962, 'lowe': 3963, 'dslr': 3964, 'toilet': 3965, 'drum': 3966, 'planned': 3967, 'virtually': 3968, 'identify': 3969, 'spam': 3970, 'breaker': 3971, 'seeking': 3972, 'distinguish': 3973, 'fuzzy': 3974, 'soi': 3975, 'cat': 3976, 'wet': 3977, 'sauce': 3978, 'piano': 3979, 'stain': 3980, 'focused': 3981, 'scope': 3982, 'essentials': 3983, 'shutting': 3984, 'moves': 3985, 'shortest': 3986, 'replenish': 3987, 'eliminate': 3988, 'easter': 3989, 'opposite': 3990, 'ect': 3991, 'moderate': 3992, 'stress': 3993, 'unusual': 3994, 'bricks': 3995, 'varies': 3996, 'manufacture': 3997, 'suffice': 3998, 'raovac': 3999, 'dissapointed': 4000, 'shocking': 4001, 'reciever': 4002, 'comments': 4003, 'crying': 4004, 'corrected': 4005, 'calculations': 4006, 'extrapolating': 4007, 'shirt': 4008, 'forced': 4009, 'skip': 4010, 'objective': 4011, 'blu': 4012, 'warnings': 4013, 'digging': 4014, 'forgot': 4015, 'independent': 4016, 'decade': 4017, 'swapped': 4018, 'lesson': 4019, 'sophisticated': 4020, 'pacific': 4021, 'farther': 4022, 'pants': 4023, 'evens': 4024, 'frother': 4025, 'encased': 4026, 'consideration': 4027, 'vibrator': 4028, 'typed': 4029, 'memberships': 4030, 'fyi': 4031, 'goog': 4032, 'icing': 4033, 'cartridge': 4034, 'backyard': 4035, '99cent': 4036, 'bleed': 4037, 'prone': 4038, 'spectrum': 4039, 'counts': 4040, 'pause': 4041, 'enables': 4042, 'frankly': 4043, 'arent': 4044, 'guarantees': 4045, 'centre': 4046, 'binders': 4047, 'discs': 4048, 'excitement': 4049, 'kodi': 4050, 'signs': 4051, 'sheet': 4052, 'stands': 4053, 'daylight': 4054, 'circle': 4055, 'doll': 4056, 'drone': 4057, 'animals': 4058, 'rectangular': 4059, 'logs': 4060, 'standby': 4061, 'taller': 4062, 'similarly': 4063, 'lieu': 4064, 'pens': 4065, 'daddy': 4066, 'lady': 4067, 'preparation': 4068, 'guards': 4069, 'crinkly': 4070, 'belongings': 4071, 'sections': 4072, 'accordingly': 4073, 'pocketed': 4074, 'highlights': 4075, 'zipper': 4076, 'traveled': 4077, 'notebook': 4078, 'toward': 4079, 'fitted': 4080, 'wars': 4081, 'fashionable': 4082, 'usb3': 4083, 'slipping': 4084, 'expands': 4085, 'mailed': 4086, 'settle': 4087, 'socket': 4088, 'privacy': 4089, 'accidents': 4090, 'facts': 4091, 'funny': 4092, 'phrase': 4093, 'neil': 4094, 'wemo': 4095, 'transportation': 4096, 'recipes': 4097, 'wikipedia': 4098, 'complants': 4099, 'continually': 4100, 'accustomed': 4101, 'activating': 4102, 'jbl': 4103, 'listened': 4104, 'conversation': 4105, 'habe': 4106, 'fort': 4107, 'requested': 4108, 'podcasts': 4109, 'filling': 4110, 'automated': 4111, 'alexis': 4112, 'integrate': 4113, 'poolside': 4114, 'status': 4115, 'taps': 4116, 'housework': 4117, 'downgraded': 4118, 'building': 4119, 'session': 4120, 'volumes': 4121, '60s': 4122, 'doubles': 4123, 'notifications': 4124, 'syncing': 4125, 'plated': 4126, 'speeds': 4127, 'designing': 4128, 'irritating': 4129, 'gentle': 4130, 'distributed': 4131, 'dictionaries': 4132, 'wonky': 4133, 'ounces': 4134, 'dims': 4135, 'experimental': 4136, 'thrones': 4137, 'tweaking': 4138, 'viable': 4139, 'bothers': 4140, 'fingerprints': 4141, 'flying': 4142, 'turner': 4143, 'problematic': 4144, 'inadvertently': 4145, 'ancient': 4146, 'acct': 4147, 'aloud': 4148, 'zippy': 4149, 'attract': 4150, 'hefty': 4151, 'spendy': 4152, 'audiobook': 4153, 'haptic': 4154, 'healthy': 4155, 'hiccups': 4156, 'rolled': 4157, 'settled': 4158, 'graphical': 4159, 'worlds': 4160, 'chooses': 4161, 'scary': 4162, 'nails': 4163, 'sprout': 4164, 'technological': 4165, 'nbc': 4166, 'jumping': 4167, 'disconcerting': 4168, 'categories': 4169, 'hasmore': 4170, 'novices': 4171, 'treated': 4172, 'colorful': 4173, 'intelligent': 4174, 'tuck': 4175, '7inch': 4176, 'somewhe': 4177, 'intimidating': 4178, 'mono': 4179, 'alight': 4180, '64gig': 4181, 'reg': 4182, 'kindlefire': 4183, 'temporary': 4184, 'whilst': 4185, 'customized': 4186, 'custom': 4187, 'estate': 4188, 'mindless': 4189, 'glitchy': 4190, 'insure': 4191, 'ties': 4192, 'restaurant': 4193, 'saavy': 4194, 'segment': 4195, '20gb': 4196, 'defect': 4197, 'glossy': 4198, 'guides': 4199, 'resetting': 4200, 'newphew': 4201, 'belong': 4202, 'tasking': 4203, 'dji': 4204, 'powerhouse': 4205, 'absorbs': 4206, 'git': 4207, 'possibilities': 4208, 'referring': 4209, 'portal': 4210, 'tricky': 4211, 'supervision': 4212, 'passes': 4213, 'renew': 4214, 'nana': 4215, 'art': 4216, 'impaired': 4217, 'bumpers': 4218, 'dryer': 4219, 'landed': 4220, 'dose': 4221, 'alittle': 4222, 'perks': 4223, 'straightforward': 4224, 'awseome': 4225, 'granddaugther': 4226, 'dreamtab': 4227, 'enclosure': 4228, 'affected': 4229, 'allotted': 4230, 'multitasking': 4231, 'goggle': 4232, 'spin': 4233, 'housed': 4234, 'slik': 4235, 'folders': 4236, 'heading': 4237, 'despise': 4238, 'swyping': 4239, 'relying': 4240, 'carpal': 4241, 'tunnel': 4242, 'weaknesses': 4243, 'legitimately': 4244, 'biting': 4245, 'alike': 4246, '1gb': 4247, 'fire8': 4248, 'hitting': 4249, 'homerun': 4250, 'washed': 4251, 'leaning': 4252, '10in': 4253, 'watcher': 4254, 'byod': 4255, 'howto': 4256, 'fixes': 4257, 'opportunities': 4258, 'cross': 4259, 'fundraiser': 4260, '11yr': 4261, 'sega': 4262, 'teaches': 4263, 'conclusion': 4264, 'tweeting': 4265, 'curriculums': 4266, 'acess': 4267, 'guppies': 4268, 'reported': 4269, 'kindled': 4270, 'tot': 4271, 'toast': 4272, 'fianc': 4273, '32mb': 4274, 'manager': 4275, 'sees': 4276, 'bedt': 4277, 'sideload': 4278, 'wound': 4279, 'bloat': 4280, 'fed': 4281, 'protectors': 4282, 'clogs': 4283, 'hardwood': 4284, 'schooling': 4285, 'seventy': 4286, 'bent': 4287, 'hack': 4288, 'presence': 4289, 'samsungs': 4290, 'playtime': 4291, 'exam': 4292, 'taught': 4293, 'frees': 4294, 'schools': 4295, 'appreciation': 4296, 'voids': 4297, 'miniature': 4298, 'positives': 4299, 'acting': 4300, '5year': 4301, 'spilled': 4302, 'bookshelves': 4303, 'renting': 4304, 'snappier': 4305, 'aren‚äôt': 4306, 'lovin': 4307, 'taplet': 4308, 'lettering': 4309, 'texting': 4310, 'rainy': 4311, 'political': 4312, 'introduction': 4313, 'merchandise': 4314, 'fiance': 4315, 'targeted': 4316, 'delicate': 4317, 'conceal': 4318, 'messed': 4319, 'article': 4320, 'relax': 4321, 'doors': 4322, 'getjar': 4323, 'restarted': 4324, 'bending': 4325, 'expressed': 4326, 'flag': 4327, 'measly': 4328, 'variant': 4329, 'pixel': 4330, 'you‚äôre': 4331, 'that‚äôs': 4332, 'viewer': 4333, 'australia': 4334, 'temps': 4335, 'dividing': 4336, 'comparative': 4337, 'organization': 4338, 'scenarios': 4339, 'gathered': 4340, 'indoors': 4341, 'primitive': 4342, 'improving': 4343, 'preform': 4344, 'infrequently': 4345, 'conditioned': 4346, 'dan': 4347, 'surveillance': 4348, 'fellow': 4349, 'reusable': 4350, 'genuine': 4351, 'ordinary': 4352, 'troubles': 4353, 'kodak': 4354, 'floating': 4355, 'cylinders': 4356, 'effectiveness': 4357, 'arthritis': 4358, 'fired': 4359, 'quantum': 4360, 'determined': 4361, 'receipt': 4362, 'necessities': 4363, 'recycled': 4364, 'fifth': 4365, 'perishable': 4366, 'remainder': 4367, 'mill': 4368, 'voltmeter': 4369, 'ripping': 4370, 'playstation': 4371, 'outlast': 4372, 'detail': 4373, 'shifts': 4374, 'corrugated': 4375, 'disposables': 4376, 'tolerance': 4377, 'concert': 4378, 'translate': 4379, 'hated': 4380, 'permanent': 4381, 'ending': 4382, 'demands': 4383, 'nuff': 4384, 'instances': 4385, 'polarity': 4386, 'partially': 4387, 'discharged': 4388, 'alive': 4389, 'biased': 4390, 'french': 4391, 'restocked': 4392, 'temp': 4393, 'swings': 4394, 'bouncers': 4395, 'functioned': 4396, 'deserved': 4397, 'suction': 4398, 'preformed': 4399, 'occurs': 4400, 'january': 4401, 'evaluating': 4402, 'disturbing': 4403, 'timed': 4404, 'oversized': 4405, 'freak': 4406, 'vibrating': 4407, 'appalled': 4408, 'feet': 4409, 'attack': 4410, 'motors': 4411, 'beeps': 4412, 'distance': 4413, 'cap': 4414, 'terminal': 4415, 'disposed': 4416, 'hazardous': 4417, 'projector': 4418, 'idk': 4419, 'solely': 4420, 'mos': 4421, 'recharger': 4422, 'cabinets': 4423, 'spray': 4424, 'joule': 4425, 'wreaths': 4426, 'unimportant': 4427, 'photographers': 4428, 'discard': 4429, 'guessed': 4430, 'frameless': 4431, 'nizn': 4432, 'favor': 4433, 'subpar': 4434, 'hidden': 4435, 'blah': 4436, 'vouch': 4437, 'dura': 4438, 'fresheners': 4439, 'lamps': 4440, 'realistic': 4441, 'ion': 4442, 'bottle': 4443, 'reservations': 4444, 'false': 4445, 'bars': 4446, 'fashion': 4447, 'argue': 4448, 'duralast': 4449, 'easiest': 4450, 'humble': 4451, 'scenario': 4452, 'shipper': 4453, 'thx': 4454, 'cheapos': 4455, 'battle': 4456, 'planet': 4457, 'circuits': 4458, 'batterize': 4459, 'transaction': 4460, 'tuff': 4461, 'fulfill': 4462, 'handing': 4463, 'specifications': 4464, 'adorable': 4465, 'fantastically': 4466, 'pile': 4467, 'refrigerator': 4468, 'pkg': 4469, 'imho': 4470, 'apiece': 4471, 'dent': 4472, 'competes': 4473, 'unfair': 4474, 'honesty': 4475, 'beard': 4476, 'impression': 4477, 'nearby': 4478, 'namely': 4479, 'hungry': 4480, 'exceed': 4481, 'shaver': 4482, 'military': 4483, 'consuming': 4484, 'bubbles': 4485, 'sellers': 4486, 'placement': 4487, 'wrappers': 4488, 'criteria': 4489, 'counterparts': 4490, 'moisture': 4491, 'jeff': 4492, 'marks': 4493, 'emptor': 4494, 'fancier': 4495, 'lifesaver': 4496, 'goodbye': 4497, 'approx': 4498, 'battiers': 4499, 'increasingly': 4500, 'recomend': 4501, 'sore': 4502, 'reckless': 4503, 'tie': 4504, 'shops': 4505, 'exp': 4506, 'pods': 4507, 'glowing': 4508, 'ole': 4509, 'clamshells': 4510, 'granted': 4511, 'plow': 4512, 'foreseeable': 4513, 'burst': 4514, 'backups': 4515, 'definetly': 4516, 'melt': 4517, 'enegizer': 4518, 'opted': 4519, 'associated': 4520, 'bay': 4521, 'triggers': 4522, 'demanding': 4523, 'fumbling': 4524, 'exercise': 4525, 'leary': 4526, 'stole': 4527, 'route': 4528, 'rentals': 4529, 'topic': 4530, 'jet': 4531, 'reliability': 4532, 'qty': 4533, 'twos': 4534, 'chew': 4535, 'context': 4536, 'mundane': 4537, 'patterns': 4538, 'destroying': 4539, 'suggestion': 4540, 'withing': 4541, 'september': 4542, 'rayovak': 4543, 'investing': 4544, 'responses': 4545, 'dangerous': 4546, 'engine': 4547, 'baggies': 4548, 'sided': 4549, 'workout': 4550, 'waistband': 4551, 'errands': 4552, 'warmer': 4553, 'maxwell': 4554, 'modem': 4555, 'horrendous': 4556, 'sticker': 4557, 'printing': 4558, 'rust': 4559, 'nevertheless': 4560, 'alas': 4561, 'screw': 4562, 'robot': 4563, 'entering': 4564, 'beeped': 4565, 'signed': 4566, 'minus': 4567, 'former': 4568, 'oily': 4569, 'optical': 4570, 'soaked': 4571, 'beater': 4572, 'leaky': 4573, 'swapping': 4574, 'degrade': 4575, 'wee': 4576, 'picky': 4577, 'monitored': 4578, 'body': 4579, 'discoloration': 4580, 'knocked': 4581, 'knockoffs': 4582, 'grouped': 4583, 'lame': 4584, 'steep': 4585, 'weekdays': 4586, 'decades': 4587, 'unsatisfactory': 4588, 'shear': 4589, 'utterly': 4590, 'begining': 4591, 'driven': 4592, 'sleeves': 4593, 'rapidly': 4594, 'accomodate': 4595, 'readily': 4596, 'finished': 4597, 'deep': 4598, 'iffy': 4599, 'cycle': 4600, 'countries': 4601, 'reminds': 4602, 'surrounding': 4603, 'swear': 4604, 'wild': 4605, 'sword': 4606, 'dice': 4607, 'harmful': 4608, 'percentage': 4609, 'indicates': 4610, 'containing': 4611, 'conventional': 4612, 'measuring': 4613, 'lens': 4614, 'ticks': 4615, 'fat': 4616, 'variable': 4617, 'techs': 4618, 'menards': 4619, 'quirky': 4620, 'malfunctions': 4621, 'interrupted': 4622, 'film': 4623, 'verified': 4624, 'uncommon': 4625, 'degree': 4626, 'todays': 4627, 'gauge': 4628, 'studio': 4629, 'seals': 4630, 'questionable': 4631, 'durecell': 4632, 'wishing': 4633, 'watering': 4634, 'adopted': 4635, 'animal': 4636, '9th': 4637, 'convienent': 4638, 'ferocious': 4639, 'sole': 4640, 'grat': 4641, 'listing': 4642, 'whereas': 4643, 'credible': 4644, 'titan': 4645, 'wave': 4646, 'panel': 4647, 'qualify': 4648, 'sennheiser': 4649, 'shooting': 4650, 'rare': 4651, 'bicycle': 4652, 'nikon': 4653, 'convince': 4654, 'dude': 4655, 'tape': 4656, 'interior': 4657, 'bjs': 4658, 'ring': 4659, 'horribly': 4660, 'hama': 4661, 'hung': 4662, 'tension': 4663, 'whats': 4664, 'directtv': 4665, 'ethernet': 4666, 'pointless': 4667, '2hrs': 4668, 'compliment': 4669, 'disappoints': 4670, 'albeit': 4671, 'millions': 4672, 'racks': 4673, 'survive': 4674, 'drainage': 4675, 'followed': 4676, 'mush': 4677, 'vehicles': 4678, 'dandy': 4679, 'glade': 4680, 'smells': 4681, 'fork': 4682, 'attempting': 4683, 'refuses': 4684, 'heaven': 4685, 'uploaded': 4686, 'shoes': 4687, 'embarrassing': 4688, 'relationships': 4689, 'unbearably': 4690, 'grew': 4691, 'clips': 4692, 'keeper': 4693, 'toshiba': 4694, 'vibration': 4695, 'suspended': 4696, 'modification': 4697, 'strips': 4698, 'bottoms': 4699, 'retrofit': 4700, 'interfere': 4701, 'accommodate': 4702, 'lecture': 4703, 'tags': 4704, 'pulls': 4705, 'chromebook': 4706, 'macair': 4707, 'snags': 4708, 'friction': 4709, 'beer': 4710, 'cozy': 4711, 'koozie': 4712, 'slit': 4713, 'machinery': 4714, 'wandering': 4715, 'shoutout': 4716, 'classy': 4717, 'scene': 4718, 'darth': 4719, 'vader': 4720, 'mask': 4721, 'unboxed': 4722, 'tee': 4723, 'amp': 4724, 'dell': 4725, 'slips': 4726, 'fab': 4727, 'passport': 4728, 'hides': 4729, 'litter': 4730, 'conversion': 4731, 'guest': 4732, 'echoes': 4733, 'traffic': 4734, 'appearing': 4735, 'expanding': 4736, 'unplug': 4737, 'adaptable': 4738, 'automation': 4739, 'inclusion': 4740, 'partner': 4741, 'host': 4742, 'gathering': 4743, 'bare': 4744, 'lows': 4745, 'footprint': 4746, 'shopped': 4747, 'shines': 4748, 'understandable': 4749, 'wires': 4750, 'alex': 4751, 'speaking': 4752, 'scores': 4753, 'advantages': 4754, 'unlocking': 4755, 'discontinued': 4756, 'headline': 4757, 'bough': 4758, 'stationary': 4759, 'scheduled': 4760, 'tub': 4761, 'dos': 4762, 'speech': 4763, 'pairing': 4764, 'beef': 4765, 'onboard': 4766, 'maximize': 4767, 'closest': 4768, 'talks': 4769, 'lightweigh': 4770, 'knitting': 4771, 'clicks': 4772, 'commute': 4773, 'hub': 4774, 'flipping': 4775, 'narrow': 4776, 'christian': 4777, 'bump': 4778, 'squeeze': 4779, 'yellowish': 4780, 'elegant': 4781, 'nighttime': 4782, 'newspapers': 4783, 'join': 4784, 'secondly': 4785, 'tint': 4786, 'visibility': 4787, 'glowlight': 4788, 'latter': 4789, 'misplaced': 4790, 'swipes': 4791, 'pluses': 4792, 'quietly': 4793, 'tilted': 4794, 'thumb': 4795, 'fold': 4796, 'intrusive': 4797, 'trigger': 4798, 'splurge': 4799, 'skipping': 4800, 'preferences': 4801, 'introduce': 4802, 'reflective': 4803, 'wether': 4804, 'unwrapped': 4805, 'thorough': 4806, 'challenges': 4807, 'standpoint': 4808, 'treadmill': 4809, 'begging': 4810, 'restarting': 4811, 'unsupervised': 4812, 'kicks': 4813, 'gigahertz': 4814, 'megapixel': 4815, 'shoots': 4816, 'excitedly': 4817, 'stutdy': 4818, '8mm': 4819, 'unbox': 4820, 'dyslexic': 4821, 'ranges': 4822, 'adultsa': 4823, 'encounter': 4824, 'clog': 4825, 'tabletthe': 4826, 'programmer': 4827, 'grandchilds': 4828, 'streamlined': 4829, 'restrictive': 4830, 'hesitation': 4831, 'adolescent': 4832, '4yrs': 4833, 'chronic': 4834, 'droid': 4835, 'survives': 4836, '30yr': 4837, 'majorly': 4838, 'guided': 4839, 'didon': 4840, 'recreational': 4841, 'rewards': 4842, 'wind': 4843, 'observe': 4844, 'micky': 4845, 'minnie': 4846, 'hypersensitive': 4847, 'rent': 4848, 'studying': 4849, 'tween': 4850, 'crosswords': 4851, 'wifes': 4852, 'distribute': 4853, 'viewed': 4854, 'accomplished': 4855, 'panels': 4856, 'recommends': 4857, 'aka': 4858, 'positively': 4859, 'entered': 4860, 'payed': 4861, 'array': 4862, 'stepping': 4863, 'infant': 4864, 'beforehand': 4865, 'clerk': 4866, 'handlings': 4867, '2year': 4868, 'restricting': 4869, 'ireader': 4870, 'amaxzon': 4871, 'toddlerseasy': 4872, 'carryeasy': 4873, 'difficulties': 4874, 'pushed': 4875, 'honeatly': 4876, 'inconvenience': 4877, 'logging': 4878, 'shabby': 4879, 'usr': 4880, 'cushioning': 4881, '‚ò∫': 4882, 'geating': 4883, 'boredom': 4884, 'lick': 4885, 'easyer': 4886, 'grafics': 4887, 'conection': 4888, 'fallen': 4889, 'downfalls': 4890, 'courses': 4891, 'blotches': 4892, 'anyday': 4893, 'farmers': 4894, 'almanac': 4895, 'patents': 4896, 'afternoon': 4897, 'tooo': 4898, 'bounced': 4899, 'bland': 4900, 'snuff': 4901, 'retina': 4902, 'city': 4903, 'concrete': 4904, 'intact': 4905, 'stepped': 4906, 'misbehaving': 4907, 'toodler': 4908, 'enroll': 4909, 'conducive': 4910, 'mucheveryday': 4911, 'gamehis': 4912, 'pove': 4913, 'refuse': 4914, 'parameters': 4915, 'prop': 4916, 'specials': 4917, 'amozon': 4918, 'whit': 4919, 'surrounds': 4920, 'desent': 4921, '15mins': 4922, 'glambaby': 4923, 'fiddled': 4924, 'lifesavers': 4925, 'object': 4926, 'lifw': 4927, 'witnessed': 4928, 'laminate': 4929, 'gaurantee': 4930, 'aweosme': 4931, 'encouraged': 4932, 'dictate': 4933, 'kindleized': 4934, 'pricegood': 4935, 'unrelated': 4936, 'goggleplay': 4937, 'musicality': 4938, 'kidproof': 4939, 'action': 4940, 'eady': 4941, 'certificates': 4942, 'buffers': 4943, 'assisted': 4944, 'grainy': 4945, 'fascinated': 4946, 'kindergarten': 4947, 'gaining': 4948, 'experiance': 4949, 'figthing': 4950, 'catalog': 4951, 'exited': 4952, 'height': 4953, 'golden': 4954, 'duarable': 4955, 'needespecially': 4956, 'jissela': 4957, 'quieter': 4958, 'instructional': 4959, 'nakes': 4960, 'shatter': 4961, 'gurantee': 4962, 'regulate': 4963, 'ips': 4964, 'chosen': 4965, 'expandability': 4966, 'purposly': 4967, 'curiosity': 4968, 'hammer': 4969, 'washer': 4970, 'recipients': 4971, 'quetion': 4972, 'warenty': 4973, 'incorporate': 4974, 'selected': 4975, 'investigated': 4976, 'headstart': 4977, 'kiosk': 4978, 'trys': 4979, 'menial': 4980, 'perspective': 4981, 'grouping': 4982, '200gb': 4983, 'titles': 4984, 'equates': 4985, 'nterface': 4986, 'interruption': 4987, 'unauthorized': 4988, 'rethinking': 4989, 'bold': 4990, 'youngster': 4991, 'contorl': 4992, 'grands': 4993, 'usin': 4994, 'grownup': 4995, 'durrible': 4996, 'cords': 4997, 'partial': 4998, 'sdmini': 4999, 'chtistmas': 5000, 'crime': 5001, 'farone': 5002, 'adhd': 5003, 'sterdy': 5004, 'dif': 5005, 'differentiate': 5006, 'imagination': 5007, 'appschild': 5008, '1yo': 5009, 'granville': 5010, '100s': 5011, 'someday': 5012, 'everynight': 5013, 'dnt': 5014, '3yrs': 5015, 'fondly': 5016, 'pokemon': 5017, 'easiness': 5018, 'cooperate': 5019, 'antivirus': 5020, 'satisfies': 5021, 'broadcasting': 5022, 'whey': 5023, 'wrath': 5024, 'prof': 5025, 'reboots': 5026, 'tablett': 5027, 'phooey': 5028, 'suggesting': 5029, 'assumwd': 5030, 'hover': 5031, 'daugter': 5032, 'kiddy': 5033, 'proclaims': 5034, 'pausing': 5035, 'roaming': 5036, 'gamecircle': 5037, 'shelves': 5038, 'indestructable': 5039, 'invention': 5040, 'stair': 5041, 'velcro': 5042, 'maui': 5043, 'onext': 5044, 'abke': 5045, 'ranged': 5046, 'invasive': 5047, 'mgr': 5048, 'jerk': 5049, 'elite': 5050, 'conpaired': 5051, 'facets': 5052, 'tge': 5053, 'incident': 5054, 'nobles': 5055, 'foldover': 5056, 'phablet': 5057, '500ish': 5058, 'tying': 5059, 'uniformity': 5060, '6yrs': 5061, 'tosses': 5062, 'externally': 5063, 'engineered': 5064, 'hardback': 5065, 'webpage': 5066, 'froze': 5067, 'undone': 5068, 'albums': 5069, 'wad': 5070, 'interact': 5071, 'drawing': 5072, 'werent': 5073, '10and': 5074, 'pixelated': 5075, 'bascially': 5076, 'commuter': 5077, 'sleeps': 5078, 'endure': 5079, 'overloaded': 5080, 'managing': 5081, 'reactions': 5082, 'goodidn': 5083, 'sentences': 5084, 'sone': 5085, 'pumper': 5086, 'gripping': 5087, 'avoids': 5088, 'smartphones': 5089, 'lockscreen': 5090, 'comfy': 5091, 'sounded': 5092, 'cautious': 5093, 'fiddle': 5094, 'configurable': 5095, 'babes': 5096, 'jeans': 5097, 'tinier': 5098, 'modify': 5099, 'procesor': 5100, 'raining': 5101, 'differentiator': 5102, 'gravity': 5103, 'kindels': 5104, 'ergonomical': 5105, 'ergonomics': 5106, 'snaps': 5107, 'deliberately': 5108, 'align': 5109, 'prolongs': 5110, 'brainier': 5111, 'reappearance': 5112, 'vanished': 5113, 'pinched': 5114, 'shifting': 5115, 'positions': 5116, 'thinness': 5117, 'justification': 5118, 'unsnaps': 5119, 'wheni': 5120, 'refreshes': 5121, 'squarish': 5122, 'elliptical': 5123, 'orientation': 5124, 'passages': 5125, 'laston': 5126, 'occur': 5127, 'succeed': 5128, 'unprepared': 5129, 'ounce': 5130, 'designs': 5131, 'trace': 5132, 'illusion': 5133, 'rotates': 5134, 'loudly': 5135, 'redesign': 5136, 'lighweight': 5137, 'author': 5138, 'promotional': 5139, 'misinformed': 5140, 'inherited': 5141, 'audibles': 5142, 'reinstall': 5143, 'starbucks': 5144, 'messenger': 5145, 'tabletsome': 5146, 'multiplication': 5147, 'division': 5148, 'securely': 5149, 'musically': 5150, 'pocketbook': 5151, 'professionals': 5152, 'jon': 5153, 'tony': 5154, 'gbss': 5155, 'morn': 5156, 'coherent': 5157, '14yo': 5158, 'grabs': 5159, 'hitch': 5160, 'shy': 5161, 'shattered': 5162, 'existed': 5163, 'udated': 5164, 'interfacing': 5165, 'nices': 5166, 'speedcons': 5167, 'digitally': 5168, 'fortunate': 5169, 'conecctions': 5170, 'solitare': 5171, 'sodoko': 5172, 'slr': 5173, 'wipe': 5174, 'tsa': 5175, 'screening': 5176, 'circling': 5177, 'atlantic': 5178, 'bite': 5179, 'fire7': 5180, 'northern': 5181, 'theach': 5182, 'hockey': 5183, 'playimg': 5184, 'baskey': 5185, 'snob': 5186, 'mere': 5187, 'mathematically': 5188, 'equation': 5189, 'combining': 5190, 'nextbook': 5191, 'browses': 5192, 'spoiler': 5193, 'sport': 5194, 'bypassed': 5195, 'brightest': 5196, 'loudness': 5197, 'blazing': 5198, 'kidsmode': 5199, 'adapt': 5200, 'endured': 5201, 'begginers': 5202, 'reccommend': 5203, 'screensaver': 5204, 'chipper': 5205, 'viewers': 5206, 'niche': 5207, 'pare': 5208, 'oonz': 5209, 'texted': 5210, 'kurio': 5211, 'published': 5212, 'messageer': 5213, 'annoys': 5214, 'angel': 5215, 'preteens': 5216, 'my9': 5217, 'craft': 5218, 'ligher': 5219, 'ore': 5220, 'giveaways': 5221, 'india': 5222, 'rightly': 5223, 'scanned': 5224, 'fought': 5225, 'textbook': 5226, 'influence': 5227, 'readings': 5228, 'mtv': 5229, 'kicked': 5230, 'hugh': 5231, '5yo': 5232, 'desciples': 5233, 'autofocus': 5234, 'qualities': 5235, '2days': 5236, 'tweens': 5237, 'displaynice': 5238, 'heft': 5239, 'marketchild': 5240, 'ration': 5241, 'johnny': 5242, 'visa': 5243, 'hay': 5244, 'sails': 5245, 'insensitive': 5246, 'determination': 5247, 'tabletyou': 5248, 'nnby': 5249, 'authors': 5250, 'sahre': 5251, 'availablesare': 5252, 'relevant': 5253, 'definate': 5254, 'beoke': 5255, 'soo': 5256, 'llite': 5257, 'polarizing': 5258, 'kinde': 5259, 'firends': 5260, 'allots': 5261, 'clumsiness': 5262, 'knack': 5263, 'map': 5264, 'deletion': 5265, 'approach': 5266, 'consice': 5267, 'chime': 5268, 'trilogies': 5269, 'sorcerer': 5270, 'magical': 5271, 'kiddie': 5272, 'safeguards': 5273, 'repaved': 5274, 'spongy': 5275, 'furbished': 5276, 'pops': 5277, 'dubious': 5278, 'interferes': 5279, 'graduates': 5280, 'compatable': 5281, 'acording': 5282, 'linsay': 5283, 'anticipate': 5284, 'screenlike': 5285, 'feachers': 5286, 'goodexcellent': 5287, 'stalls': 5288, 'downtime': 5289, 'tempered': 5290, 'gleeful': 5291, 'supportive': 5292, 'traditionalist': 5293, 'tryed': 5294, 'goings': 5295, 'ixl': 5296, 'flowers': 5297, 'miracle': 5298, 'hd10': 5299, 'faces': 5300, 'excellence': 5301, 'discussions': 5302, 'portrait': 5303, 'bypass': 5304, 'dashboard': 5305, 'strategy': 5306, 'distances': 5307, 'patrol': 5308, 'child‚äôs': 5309, 'periodicals': 5310, 'hdtv': 5311, 'mobi': 5312, 'problame': 5313, 'guests': 5314, '4star': 5315, 'priceim': 5316, 'remain': 5317, 'fooling': 5318, 'computed': 5319, 'graph': 5320, 'summarizing': 5321, 'dept': 5322, 'repeatable': 5323, 'precise': 5324, 'environmental': 5325, 'opus': 5326, 'c2000': 5327, 'analyzer': 5328, 'affects': 5329, 'case100': 5330, 'flashlight200': 5331, 'flashlight400': 5332, 'flashlightnote': 5333, 'beatable': 5334, 'supplied': 5335, 'eclipsed': 5336, 'hrsas': 5337, 'comperable': 5338, 'contract': 5339, 'noting': 5340, 'closable': 5341, 'mentions': 5342, 'findings': 5343, 'hrsmy': 5344, 'batteriesduracell': 5345, 'mn2400': 5346, 'packduracell': 5347, 'pc2400bkd09energizer': 5348, 'batteriesmaxell': 5349, 'cellrayovac': 5350, 'stockpile': 5351, 'drink': 5352, 'shelter': 5353, 'enginzer': 5354, 'transmitters': 5355, 'advised': 5356, 'defintely': 5357, 'namebrands': 5358, 'tens': 5359, 'machines': 5360, 'chain': 5361, 'transfers': 5362, 'lift': 5363, 'empty': 5364, 'fone': 5365, 'perfarmance': 5366, 'agenda': 5367, 'discharging': 5368, 'grateful': 5369, 'abundance': 5370, 'chaege': 5371, 'poorest': 5372, 'dang': 5373, 'triplets': 5374, 'strikes': 5375, 'uncertainty': 5376, 'supplement': 5377, 'dfd': 5378, 'specified': 5379, 'leery': 5380, 'foods': 5381, 'consistency': 5382, 'acceptably': 5383, 'upsized': 5384, 'wax': 5385, 'effusive': 5386, 'poetic': 5387, 'handhelds': 5388, 'lotta': 5389, 'delight': 5390, 'hero': 5391, 'brandname': 5392, 'biodegradable': 5393, 'fearful': 5394, 'rigorous': 5395, 'shacka': 5396, 'cr123': 5397, 'weddings': 5398, 'wegmans': 5399, 'rav': 5400, 'refunded': 5401, 'fails': 5402, 'wrecked': 5403, 'altogether': 5404, 'oxidation': 5405, 'knocking': 5406, 'paging': 5407, 'greatplease': 5408, 'sockets': 5409, 'cupboard': 5410, 'gained': 5411, 'furnace': 5412, 'replenishment': 5413, 'crash': 5414, 'decorative': 5415, 'sins': 5416, 'mar': 5417, '26really': 5418, 'spanish': 5419, 'advocate': 5420, 'goto': 5421, 'operational': 5422, 'ventured': 5423, 'costo': 5424, 'disturb': 5425, 'bateries': 5426, 'begins': 5427, 'skeptic': 5428, 'concerning': 5429, 'rows': 5430, 'duracellslast': 5431, 'dormant': 5432, 'fixture': 5433, 'notably': 5434, 'recording': 5435, 'surpised': 5436, 'noted': 5437, 'sligtly': 5438, 'faith': 5439, 'doubts': 5440, 'unexpectedly': 5441, 'pencil': 5442, 'deplete': 5443, 'jury': 5444, 'doo': 5445, 'equate': 5446, 'prematurely': 5447, 'gritty': 5448, 'diapers': 5449, 'capacitancethey': 5450, 'mouses': 5451, 'checker': 5452, 'evaluation': 5453, 'lonely': 5454, 'rougher': 5455, 'hose': 5456, 'fan1': 5457, 'mechanism': 5458, 'holders': 5459, 'headsets': 5460, 'cosco': 5461, 'recyclable': 5462, 'postage': 5463, 'makeup': 5464, 'roof': 5465, 'mostof': 5466, '12x': 5467, 'operable': 5468, 'skimp': 5469, 'beg': 5470, 'confirmation': 5471, 'cbatteries': 5472, 'landfills': 5473, 'amazn': 5474, 'deterred': 5475, 'cuff': 5476, 'wired': 5477, 'closets': 5478, 'docket': 5479, 'thief': 5480, 'dorky': 5481, 'headache': 5482, 'conduct': 5483, 'hiking': 5484, 'tire': 5485, 'expends': 5486, 'workused': 5487, 'hyped': 5488, 'plots': 5489, 'nov': 5490, 'unpack': 5491, 'dynamic': 5492, 'affordability': 5493, '66v': 5494, 'vey': 5495, 'agaun': 5496, 'vacuum': 5497, 'scanner': 5498, 'batteris': 5499, 'consequently': 5500, 'simultaneously': 5501, 'supplying': 5502, 'masses': 5503, 'vastly': 5504, 'amazom': 5505, 'reflect': 5506, 'trade': 5507, 'homes': 5508, 'expeted': 5509, 'diameter': 5510, 'childs': 5511, 'jod': 5512, 'jobs': 5513, 'hight': 5514, 'batteriess': 5515, 'decribed': 5516, 'vender': 5517, 'goodgood': 5518, 'blast': 5519, 'notable': 5520, 'orderd': 5521, 'sucking': 5522, 'impress': 5523, 'pice': 5524, 'cares': 5525, 'cuts': 5526, 'batteries4': 5527, 'sourced': 5528, 'expectedfit': 5529, 'anazon': 5530, 'slime': 5531, 'outlasting': 5532, 'guitar': 5533, 'scientist': 5534, 'wink': 5535, 'values': 5536, 'boss': 5537, 'definately': 5538, '39in': 5539, 'itemfast': 5540, 'shipmenthigh': 5541, 'whopping': 5542, 'refill': 5543, 'coz': 5544, 'energetically': 5545, 'tact': 5546, 'battieries': 5547, 'sbe': 5548, 'evaluates': 5549, 'etekcity': 5550, 'hat': 5551, 'driggs': 5552, 'stockpiling': 5553, 'pleasing': 5554, 'diabetic': 5555, 'inner': 5556, 'behold': 5557, 'teddy': 5558, 'proceeded': 5559, 'prosgood': 5560, 'valueworks': 5561, 'expectedappropriate': 5562, 'lifeconsnone': 5563, 'detecting': 5564, 'qc15': 5565, 'forming': 5566, 'unbiased': 5567, 'trackpad': 5568, 'race': 5569, 'tracks': 5570, 'comcast': 5571, 'batties': 5572, 'assorted': 5573, 'relabeled': 5574, 'everyready': 5575, 'excels': 5576, 'shrunk': 5577, 'llike': 5578, 'enougfh': 5579, 'laundry': 5580, 'blackjack': 5581, 'optimal': 5582, 'steer': 5583, 'utilitarian': 5584, 'advisable': 5585, 'seeping': 5586, 'undamaged': 5587, 'conducted': 5588, 'gut': 5589, 'rayovaks': 5590, 'appealing': 5591, 'uncertain': 5592, 'deliveryl': 5593, 'ankles': 5594, 'swelling': 5595, 'silky': 5596, 'dec': 5597, 'snag': 5598, 'marginal': 5599, 'undervoltage': 5600, '48v': 5601, 'wrt': 5602, 'satisfactorily': 5603, 'junky': 5604, 'david': 5605, 'undoubtedly': 5606, 'gobbles': 5607, 'discounts': 5608, 'studies': 5609, 'contained': 5610, 'graphing': 5611, 'acme': 5612, 'coyote': 5613, 'ray333ray2001yahoo': 5614, 'bid': 5615, 'disclosure': 5616, 'monetary': 5617, 'feelings': 5618, 'titanium': 5619, 'seldom': 5620, 'camp': 5621, 'evaluator': 5622, 'cycles': 5623, 'seeming': 5624, 'labor': 5625, 'meticulously': 5626, 'cent': 5627, 'intervalometers': 5628, 'uppity': 5629, 'jiggy': 5630, 'noisemakers': 5631, 'exist': 5632, 'snmap': 5633, 'electroniucs': 5634, 'uising': 5635, 'durably': 5636, 'maisto': 5637, 'crawler': 5638, 'yucky': 5639, 'inclement': 5640, 'dogs': 5641, 'partway': 5642, 'outlasts': 5643, 'profitable': 5644, 'enuf': 5645, 'dressed': 5646, 'cancellation': 5647, 'marker': 5648, 'insider': 5649, 'speeding': 5650, 'convient': 5651, 'mucho': 5652, 'grassyass': 5653, 'frogs': 5654, 'athey': 5655, 'heartbeat': 5656, 'amazin': 5657, 'qc25': 5658, 'negligible': 5659, 'staples': 5660, 'moneys': 5661, 'tracking': 5662, 'stuffer': 5663, 'hoo': 5664, 'backed': 5665, 'bunnies': 5666, 'noteven': 5667, 'atany': 5668, 'flame': 5669, 'hole': 5670, 'thieves': 5671, 'sept': 5672, 'bus': 5673, 'vector': 5674, 'despicable': 5675, 'unworthy': 5676, 'fabulously': 5677, 'definently': 5678, 'advertized': 5679, 'puzzled': 5680, 'refusing': 5681, 'overwhelmingly': 5682, 'postive': 5683, 'investigation': 5684, 'fbi': 5685, 'yeari': 5686, 'gray': 5687, 'zoom': 5688, 'wrote': 5689, 'plainly': 5690, 'someplace': 5691, 'forgetting': 5692, 'wally': 5693, 'amaozon': 5694, 'bootie': 5695, 'coral': 5696, 'wearable': 5697, 'peter': 5698, 'referred': 5699, 'alt': 5700, 'drastically': 5701, 'musician': 5702, 'shure': 5703, 'beta': 5704, 'disastrous': 5705, 'pity': 5706, 'gullible': 5707, 'dancing': 5708, 'decor': 5709, 'seek': 5710, 'sawing': 5711, 'vital': 5712, 'stacked': 5713, 'corresponding': 5714, 'labeler': 5715, 'manufactures': 5716, 'draws': 5717, 'magnificent': 5718, 'deserve': 5719, 'rake': 5720, 'lazer': 5721, 'forking': 5722, 'measurements': 5723, 'neater': 5724, 'debates': 5725, 'roomates': 5726, 'coud': 5727, 'mistaken': 5728, 'hiss': 5729, 'coughing': 5730, 'choking': 5731, 'literal': 5732, 'puddles': 5733, 'peeled': 5734, 'overexposure': 5735, 'surfaces': 5736, 'ineffective': 5737, 'unsafe': 5738, 'freshener': 5739, 'inspection': 5740, 'developed': 5741, 'paranoia': 5742, 'rings': 5743, 'puddle': 5744, 'upto': 5745, 'orangeish': 5746, 'loan': 5747, 'knob': 5748, 'faded': 5749, 'agian': 5750, 'acive': 5751, 'tactical': 5752, 'musical': 5753, 'ranch': 5754, 'nit': 5755, 'blinked': 5756, 'successful': 5757, 'divide': 5758, 'exorbitant': 5759, 'collar': 5760, 'sucked': 5761, 'newegg': 5762, 'trackball': 5763, 'proclaimed': 5764, 'scaring': 5765, 'rite': 5766, 'aid': 5767, 'qualms': 5768, 'rolls': 5769, 'lightup': 5770, '4pack': 5771, 'dip': 5772, 'misc': 5773, 'opt': 5774, 'defeats': 5775, 'motorola': 5776, 'walkabouts': 5777, 'walkabout': 5778, 'noqw': 5779, 'depleted': 5780, 'dispensers': 5781, 'milliamp': 5782, 'outputting': 5783, 'gradual': 5784, 'marginally': 5785, 'tune': 5786, 'ent': 5787, 'brutal': 5788, 'ugly': 5789, 'baffled': 5790, 'tore': 5791, 'insta': 5792, 'bulb': 5793, 'inserting': 5794, 'overpaid': 5795, 'collectibles': 5796, 'pillow': 5797, 'freezer': 5798, 'survival': 5799, 'drying': 5800, 'typo': 5801, 'refilled': 5802, 'predicted': 5803, 'beeping': 5804, 'milage': 5805, 'mare': 5806, 'falmeless': 5807, 'quilty': 5808, 'bagel': 5809, 'melted': 5810, 'vertically': 5811, 'vertical': 5812, 'specialty': 5813, 'amope': 5814, 'headlight': 5815, 'lightly': 5816, 'gurus': 5817, 'outmuch': 5818, 'sea': 5819, 'colorado': 5820, 'rangers': 5821, 'visible': 5822, 'las': 5823, 'promise': 5824, 'asian': 5825, 'infamous': 5826, 'reality': 5827, 'asia': 5828, 'idle': 5829, 'notices': 5830, 'bah': 5831, 'humbug': 5832, 'baldwin': 5833, 'keyless': 5834, 'san': 5835, 'francisco': 5836, 'weakened': 5837, 'gameboy': 5838, 'startled': 5839, 'closing': 5840, 'conservative': 5841, 'tornado': 5842, 'disasters': 5843, 'screaming': 5844, 'cry': 5845, 'pets': 5846, 'sweat': 5847, 'commented': 5848, 'substantially': 5849, 'hve': 5850, 'gameplay': 5851, 'downhill': 5852, 'war': 5853, 'elseware': 5854, 'russian': 5855, 'joint': 5856, 'ansered': 5857, 'largest': 5858, 'leaiagel': 5859, 'chips': 5860, 'watt': 5861, 'dewdrop': 5862, 'bargin': 5863, 'dependability': 5864, 'ocd': 5865, 'coated': 5866, 'milk': 5867, 'dimmed': 5868, 'incrementally': 5869, 'goodnight': 5870, 'pita': 5871, 'ahve': 5872, 'outa': 5873, 'pir': 5874, 'scatter': 5875, 'beast': 5876, 'infrequent': 5877, 'polished': 5878, 'marketed': 5879, 'destruction': 5880, 'choo': 5881, 'intending': 5882, 'junkie': 5883, 'hallmark': 5884, 'figurines': 5885, 'letchall': 5886, '5vdc': 5887, 'judge': 5888, 'folk': 5889, 'bands': 5890, 'critique': 5891, 'evaluated': 5892, 'itd': 5893, 'recargable': 5894, 'hoard': 5895, 'hike': 5896, 'neighbor': 5897, 'offen': 5898, 'unreliable': 5899, 'pattern': 5900, 'visually': 5901, 'inspecting': 5902, 'sampling': 5903, 'weighed': 5904, 'implied': 5905, 'recap': 5906, 'surefire': 5907, 'youre': 5908, 'raised': 5909, 'imac': 5910, 'normalto': 5911, 'irrigation': 5912, 'drip': 5913, 'shrinkwrapped': 5914, 'acuity': 5915, 'wowing': 5916, 'swore': 5917, 'sennheisers': 5918, 'pronounced': 5919, 'barring': 5920, '120is': 5921, 'afresh': 5922, 'wast': 5923, 'refunds': 5924, 'waist': 5925, 'weve': 5926, 'presume': 5927, 'engergizer': 5928, 'furby': 5929, 'artificial': 5930, 'mantelpiece': 5931, 'dramatic': 5932, 'edited': 5933, 'obtain': 5934, 'grabbing': 5935, '48aa': 5936, 'amizon': 5937, 'shelve': 5938, 'considerable': 5939, 'meat': 5940, 'fuel': 5941, 'butt': 5942, 'paint': 5943, 'enigizeer': 5944, 'popup': 5945, 'disbelief': 5946, 'believed': 5947, 'deter': 5948, 'duresall': 5949, 'eneagiser': 5950, 'underneath': 5951, 'decorator': 5952, 'stager': 5953, 'roommate': 5954, 'foil': 5955, 'itll': 5956, 'mexican': 5957, 'perfection': 5958, 'engines': 5959, 'vice': 5960, 'substance': 5961, 'disc': 5962, 'shares': 5963, 'bend': 5964, 'displaying': 5965, 'steaming': 5966, 'tubitv': 5967, 'subscriber': 5968, 'streamed': 5969, 'components': 5970, 'fiber': 5971, 'vendor': 5972, 'sheer': 5973, 'dominate': 5974, 'mistakenly': 5975, 'jesus': 5976, 'park': 5977, 'fours': 5978, 'percent': 5979, 'unfriendly': 5980, 'discovering': 5981, 'outrageous': 5982, 'maintains': 5983, 'outshines': 5984, 'reuse': 5985, 'lego': 5986, 'faults': 5987, 'coupon': 5988, '22mm': 5989, 'insures': 5990, 'stuffed': 5991, 'centerpieces': 5992, 'fade': 5993, 'conspiracy': 5994, 'guzzler': 5995, 'donated': 5996, 'believer': 5997, 'signature': 5998, '25v': 5999, 'guessing': 6000, 'wattage': 6001, 'dresser': 6002, 'altra': 6003, 'dances': 6004, 'coloring': 6005, 'tossed': 6006, 'lithiums': 6007, 'mouth': 6008, 'community': 6009, 'slant': 6010, 'distinctive': 6011, 'papers': 6012, 'cellphone': 6013, 'suitcase': 6014, 'stiff': 6015, 'hall': 6016, 'surplus': 6017, 'accompanied': 6018, 'belongs': 6019, 'buckles': 6020, 'accents': 6021, 'matching': 6022, 'pod': 6023, 'flap': 6024, 'shock': 6025, 'kitty': 6026, 'elder': 6027, 'explanatory': 6028, 'relatives': 6029, 'forms': 6030, 'nough': 6031, 'european': 6032, 'outlets': 6033, 'funtional': 6034, 'international': 6035, 'cloth': 6036, 'preferable': 6037, 'lemon': 6038, 'watts': 6039, 'hotel': 6040, 'bedside': 6041, 'fidelity': 6042, 'gratifying': 6043, 'programmers': 6044, 'shuffle': 6045, 'thunder': 6046, 'involved': 6047, 'laws': 6048, 'stutters': 6049, 'inputs': 6050, 'helper': 6051, 'cylinder': 6052, 'aux': 6053, 'charts': 6054, 'dolby': 6055, 'houses': 6056, 'alexas': 6057, 'complement': 6058, 'podcast': 6059, 'reminders': 6060, 'firmware': 6061, 'kinks': 6062, 'couldnt': 6063, 'conversations': 6064, 'avail': 6065, '70s': 6066, 'releasing': 6067, 'tunein': 6068, 'phillips': 6069, 'accent': 6070, 'tunes': 6071, 'soundlink': 6072, 'highs': 6073, 'virtual': 6074, 'ecobee': 6075, 'extension': 6076, 'reminder': 6077, 'steam': 6078, 'surrounded': 6079, 'thetap': 6080, 'shower': 6081, '80s': 6082, 'iheart': 6083, 'sling': 6084, 'graduation': 6085, 'sewing': 6086, 'implementation': 6087, 'harmony': 6088, 'enhancements': 6089, 'steals': 6090, 'procrastinated': 6091, 'uploading': 6092, 'involve': 6093, 'printers': 6094, 'caution': 6095, 'documentation': 6096, 'bandwidth': 6097, 'papperwhite': 6098, 'perfected': 6099, 'bluish': 6100, 'surpasses': 6101, 'effects': 6102, 'nightlight': 6103, 'texts': 6104, 'ppi': 6105, 'agents': 6106, 'chapter': 6107, 'lending': 6108, 'definitions': 6109, 'lightens': 6110, 'glow': 6111, 'leisure': 6112, 'scratched': 6113, 'textured': 6114, 'lacked': 6115, 'readeri': 6116, 'generations': 6117, 'increasing': 6118, 'truthfully': 6119, 'elated': 6120, 'noticible': 6121, 'recessed': 6122, 'intrigued': 6123, 'weightless': 6124, 'pagepress': 6125, 'promotes': 6126, 'dimly': 6127, 'experts': 6128, 'seemless': 6129, 'lovethis': 6130, 'covering': 6131, 'shortcomings': 6132, 'finicky': 6133, 'notepad': 6134, 'tilt': 6135, 'abused': 6136, 'reconnect': 6137, 'granddaugter': 6138, 'starfall': 6139, 'announcedherself': 6140, 'conversing': 6141, 'wordless': 6142, 'pictorialstart': 6143, 'vague': 6144, 'thisdevice': 6145, 'thatfills': 6146, 'protocol': 6147, 'encryption': 6148, 'toattach': 6149, 'asstounding': 6150, 'walled': 6151, 'garden': 6152, 'tethers': 6153, 'easyperfect': 6154, 'carrasoul': 6155, 'loadout': 6156, 'unresponsive': 6157, 'inaccurate': 6158, 'overcome': 6159, 'outcome': 6160, 'marvel': 6161, 'champions': 6162, 'readout': 6163, 'then10': 6164, 'transferring': 6165, 'upright': 6166, 'rebooting': 6167, 'hasslevery': 6168, 'diapointed': 6169, 'vocal': 6170, 'identifying': 6171, 'motivation': 6172, 'unwilling': 6173, 'progressing': 6174, 'avi': 6175, 'anniversary': 6176, 'nextflix': 6177, 'facetime': 6178, 'fierce': 6179, 'convinient': 6180, 'to12': 6181, 'disneyland': 6182, 'tranquil': 6183, 'ecosphere': 6184, 'buggy': 6185, 'dime': 6186, 'smokes': 6187, 'iut': 6188, 'organ': 6189, 'resolutions': 6190, 'mp4': 6191, 'pirce': 6192, 'beginers': 6193, 'cal': 6194, 'saggy': 6195, 'sixth': 6196, 'cubby': 6197, 'drivers': 6198, 'grrat': 6199, 'foe': 6200, 'xmas2015': 6201, 'preteen': 6202, 'ata': 6203, 'greatcons': 6204, 'telegram': 6205, 'hindrance': 6206, 'ƒ∞t': 6207, 'wonderfull': 6208, 'godchild': 6209, 'builtin': 6210, 'youreyes': 6211, 'breathe': 6212, 'frustrates': 6213, 'optimum': 6214, 'speakes': 6215, 'battert': 6216, 'boasting': 6217, 'decrease': 6218, 'decode': 6219, 'hevc': 6220, 'televisions': 6221, 'stopper': 6222, 'billboard': 6223, 'upfront': 6224, 'subsidized': 6225, 'bur': 6226, 'repaired': 6227, 'floors': 6228, 'criticism': 6229, 'labtop': 6230, 'mexico': 6231, 'sorted': 6232, 'busted': 6233, 'increideble': 6234, 'onclude': 6235, 'pinsharp': 6236, 'souped': 6237, 'aplication': 6238, 'youand': 6239, 'broad': 6240, 'offices': 6241, 'mechanics': 6242, 'awwsome': 6243, 'flattered': 6244, 'predominately': 6245, 'netflixs': 6246, 'undesirable': 6247, 'disables': 6248, 'designated': 6249, 'cited': 6250, 'silent': 6251, 'priceless': 6252, 'greatthank': 6253, 'motivated': 6254, 'germany': 6255, 'mandated': 6256, 'acer': 6257, 'eve': 6258, 'valuegreat': 6259, 'homeschool': 6260, 'blackfriday': 6261, 'fire1': 6262, 'accesses': 6263, 'impresses': 6264, 'preferring': 6265, 'vanilla': 6266, 'flagship': 6267, 'replacemwnt': 6268, 'rhe': 6269, 'helpedalways': 6270, 'agent': 6271, 'worksheets': 6272, 'colleagues': 6273, 'downer': 6274, 'manegement': 6275, 'calenders': 6276, 'buggers': 6277, 'lindle': 6278, 'flyer': 6279, 'uninterrupted': 6280, 'voiding': 6281, 'tweaks': 6282, 'recommeneded': 6283, 'homer': 6284, 'vietnam': 6285, 'veteran': 6286, 'firefox': 6287, 'abount': 6288, 'sofisticated': 6289, 'disspoinment': 6290, 'andi': 6291, 'teblets': 6292, 'proff': 6293, 'migration': 6294, 'executive': 6295, 'multifunction': 6296, 'summons': 6297, 'mirroring': 6298, 'considerarions': 6299, 'mint': 6300, 'hooking': 6301, 'tab3': 6302, 'spreadsheet': 6303, 'retrieval': 6304, 'collect': 6305, 'gallery': 6306, 'hybrid': 6307, 'unread': 6308, 'investments': 6309, '8year': 6310, 'prety': 6311, 'recovered': 6312, 'deeply': 6313, 'los': 6314, 'possibility': 6315, 'permissions': 6316, 'strides': 6317, 'facebooking': 6318, 'shifted': 6319, 'laterthis': 6320, 'infact': 6321, '7mm': 6322, 'futuristic': 6323, 'modt': 6324, 'yer': 6325, 'itshe': 6326, 'abcmouse': 6327, 'youngsters': 6328, 'laughing': 6329, 'gre': 6330, 'disappeared': 6331, 'formatted': 6332, 'demensions': 6333, 'godsend': 6334, 'undergraduate': 6335, 'biology': 6336, 'stepmom': 6337, 'proficient': 6338, 'somebody': 6339, 'ened': 6340, 'encourages': 6341, 'weakest': 6342, 'hookup': 6343, 'reloaded': 6344, 'intense': 6345, 'litchi': 6346, 'mavic': 6347, 'doorbuster': 6348, 'assign': 6349, 'barrows': 6350, 'wildlife': 6351, 'appt': 6352, 'litthe': 6353, 'gigabyte': 6354, 'docx': 6355, 'xlsx': 6356, 'pptx': 6357, 'diversity': 6358, 'approached': 6359, 'explaining': 6360, 'assocate': 6361, 'shakey': 6362, 'fitness': 6363, 'motivates': 6364, 'smartwatch': 6365, 'fews': 6366, 'wasd': 6367, 'collecting': 6368, 'positioned': 6369, '189ppi': 6370, 'laminated': 6371, 'nitpicks': 6372, 'punches': 6373, 'bullet': 6374, 'briefings': 6375, 'demon': 6376, 'sandisk': 6377, 'inlaws': 6378, 'uncle': 6379, 'useage': 6380, 'sneakily': 6381, 'assure': 6382, '10yr': 6383, '2yrs': 6384, 'alterior': 6385, 'motive': 6386, 'chord': 6387, 'positional': 6388, 'ereading': 6389, 'pixelation': 6390, 'heaviness': 6391, 'bejeweled': 6392, 'blitz': 6393, 'slugginess': 6394, 'satified': 6395, 'incompatibilities': 6396, 'eagerness': 6397, 'strict': 6398, 'gutter': 6399, 'bcuz': 6400, 'proximity': 6401, 'imporoved': 6402, 'marriage': 6403, 'wotks': 6404, 'hearts': 6405, 'interns': 6406, 'azi': 6407, 'fre': 6408, 'tine': 6409, 'fronts': 6410, 'espn3': 6411, 'unschooled': 6412, 'theyll': 6413, '30sec': 6414, 'jumps': 6415, 'spongbob': 6416, 'defender': 6417, 'booted': 6418, 'disallow': 6419, 'interpreted': 6420, 'dangers': 6421, 'calmly': 6422, 'chatter': 6423, 'kidsit': 6424, 'educationali': 6425, 'smell': 6426, 'offshoot': 6427, 'unobtrusive': 6428, 'earphone': 6429, 'capture': 6430, 'retirement': 6431, 'everythig': 6432, 'figertips': 6433, 'intend': 6434, 'teething': 6435, '6hours': 6436, 'fbs': 6437, 'championship': 6438, 'bama': 6439, 'salesgirl': 6440, 'themes': 6441, 'signing': 6442, 'jostled': 6443, 'tiniest': 6444, 'charity': 6445, 'charitable': 6446, 'kaspersky': 6447, 'complimentary': 6448, 'apponto': 6449, 'nookereader': 6450, 'voicecast': 6451, 'routes': 6452, 'reaponse': 6453, 'laggs': 6454, 'adust': 6455, 'collections': 6456, 'struggles': 6457, 'powerpoints': 6458, 'platforms': 6459, 'html': 6460, 'bookclub': 6461, 'spead': 6462, 'wishlist': 6463, 'rablet': 6464, 'husbandand': 6465, 'discreet': 6466, 'orginal': 6467, 'awsomo': 6468, 'headlines': 6469, 'iwas': 6470, '7year': 6471, 'issued': 6472, 'aiming': 6473, 'samsug': 6474, 'accept': 6475, 'asphalt': 6476, 'playable': 6477, 'xbox1': 6478, 'ps4': 6479, 'dubbles': 6480, 'bbuy': 6481, 'outsell': 6482, 'unavailable': 6483, 'recovery': 6484, 'tremendously': 6485, 'kindlely': 6486, 'fiery': 6487, 'acces': 6488, 'venue': 6489, 'picks': 6490, 'reconnecting': 6491, 'jammed': 6492, 'savior': 6493, 'freespace': 6494, 'independence': 6495, 'calmness': 6496, 'hire': 6497, 'schooled': 6498, 'assoc': 6499, 'parenting': 6500, 'abit': 6501, 'relocate': 6502, 'tmtis': 6503, 'cruzing': 6504, 'phantom': 6505, 'underpowered': 6506, 'mbr': 6507, 'duel': 6508, 'workable': 6509, 'alternatve': 6510, 'purcase': 6511, 'purchasei': 6512, 'contol': 6513, 'solicited': 6514, 'integrations': 6515, 'surfacing': 6516, 'detracts': 6517, 'expirence': 6518, 'remind': 6519, 'cheaped': 6520, 'appeares': 6521, 'tread': 6522, 'multifaceted': 6523, 'firehd8': 6524, 'rubs': 6525, 'arounds': 6526, 'smudges': 6527, 'paws': 6528, 'ness': 6529, 'supportled': 6530, 'conflicting': 6531, 'isnot': 6532, 'contender': 6533, 'sorely': 6534, 'accedently': 6535, 'minuscule': 6536, 'an3': 6537, 'stripped': 6538, 'inexpeisve': 6539, 'pretyy': 6540, 'premitive': 6541, 'educationally': 6542, 'familiarizing': 6543, 'eaxh': 6544, 'bith': 6545, 'geeks': 6546, 'downright': 6547, 'imaginable': 6548, 'grandbabie': 6549, 'lunchtime': 6550, 'nerve': 6551, 'wracking': 6552, 'sims': 6553, 'bing': 6554, 'trending': 6555, 'blocked': 6556, 'gotchas': 6557, 'locking': 6558, 'nano': 6559, 'pictureshe': 6560, 'acquainted': 6561, 'hug': 6562, 'survey': 6563, 'greenish': 6564, 'appeared': 6565, 'integrates': 6566, 'entertainig': 6567, 'farms': 6568, 'viedos': 6569, 'applies': 6570, 'reflection': 6571, 'authenticated': 6572, 'sis': 6573, '9yo': 6574, 'fianc√©': 6575, 'pointed': 6576, 'triplet': 6577, 'ahs8n': 6578, 'cruising': 6579, 'biographys': 6580, 'plying': 6581, 'apts': 6582, 'sceen': 6583, 'kkep': 6584, 'downgrading': 6585, 'brenda': 6586, 'disrespectful': 6587, 'rude': 6588, 'representing': 6589, 'salary': 6590, 'scenes': 6591, 'benefiting': 6592, 'stalk': 6593, 'clones': 6594, 'savoy': 6595, 'greats': 6596, 'unboxing': 6597, '64kb': 6598, 'atari': 6599, 'presets': 6600, 'explains': 6601, 'elmo': 6602, 'temporarily': 6603, 'aiden': 6604, 'anime': 6605, 'edgewise': 6606, 'exterior': 6607, 'craze': 6608, 'deficits': 6609, 'passcode': 6610, 'lokes': 6611, 'supportable': 6612, 'canaccess': 6613, 'wolf': 6614, 'barley': 6615, 'fox': 6616, 'easyto': 6617, 'crafted': 6618, 'glue': 6619, 'topics': 6620, 'bugging': 6621, 'passwords': 6622, 'chubby': 6623, 'stills': 6624, 'freetimeunlimited': 6625, 'apply': 6626, 'biking': 6627, 'lastlonger': 6628, 'hangs': 6629, 'himsince': 6630, 'bok': 6631, 'assisting': 6632, 'warranties': 6633, 'overheating': 6634, 'nonresponsive': 6635, 'midday': 6636, 'swype': 6637, 'shimmering': 6638, 'stomach': 6639, 'exclusive': 6640, 'kindlle': 6641, 'authorized': 6642, 'polite': 6643, 'wtf': 6644, 'aggravation': 6645, 'precious': 6646, 'thursday': 6647, 'checks': 6648, 'allthough': 6649, 'cutoff': 6650, 'toggling': 6651, 'underway': 6652, 'easel': 6653, 'articulating': 6654, 'leapfrog': 6655, 'fay': 6656, 'hds': 6657, 'gety': 6658, 'minds': 6659, 'cramped': 6660, 'regretted': 6661, 'fridaypros': 6662, 'processors': 6663, 'soundwell': 6664, 'builtcons': 6665, 'accomplish': 6666, 'storenet': 6667, 'wnough': 6668, 'warrant': 6669, 'poloroid': 6670, 'unrivaled': 6671, 'pixelating': 6672, 'nexus7': 6673, 'alert': 6674, 'ond': 6675, 'expectationin': 6676, 'solving': 6677, 'advertisment': 6678, 'stoped': 6679, 'movement': 6680, 'foor': 6681, 'websurfing': 6682, 'traveler': 6683, 'rood': 6684, 'fashioned': 6685, 'peppa': 6686, 'pig': 6687, 'samaumg': 6688, 'haircut': 6689, 'dentist': 6690, 'productively': 6691, 'netflick': 6692, 'pkus': 6693, 'tangerine': 6694, 'redbox': 6695, 'dull': 6696, 'inexplicably': 6697, 'chatging': 6698, 'formated': 6699, 'fat32': 6700, 'ntfs': 6701, 'xfat': 6702, 'aftermarket': 6703, 'coc': 6704, 'launched': 6705, 'hint': 6706, 'stinks': 6707, 'octane': 6708, 'fruit': 6709, 'casting': 6710, 'frog': 6711, 'recomended': 6712, 'kidz': 6713, 'lenovo': 6714, 'rail': 6715, 'acc': 6716, 'grankids': 6717, 'lotmore': 6718, 'streamline': 6719, 'loathe': 6720, 'discontinue': 6721, 'unbecoming': 6722, 'pronto': 6723, 'bogs': 6724, 'craig': 6725, 'producs': 6726, 'functinality': 6727, 'exchanges': 6728, 'kendal': 6729, 'cardscons': 6730, 'workaround': 6731, 'intrusiveoverall': 6732, 'mishandled': 6733, 'casei': 6734, 'replaceable': 6735, 'ager': 6736, 'slouch': 6737, 'ôºå': 6738, 'upgradesôºålove': 6739, 'utilizing': 6740, 'gardening': 6741, 'hints': 6742, 'breed': 6743, 'alwyas': 6744, 'sec': 6745, 'dreamed': 6746, 'preordered': 6747, 'juggling': 6748, 'ubiquitous': 6749, 'rcase': 6750, 'zinio': 6751, 'loosens': 6752, 'lib': 6753, 'ninety': 6754, 'expectionations': 6755, 'cabin': 6756, 'announced': 6757, '‚äúdual': 6758, 'wouldn‚äôt': 6759, 'reverses': 6760, 'eighth': 6761, 'imaging': 6762, 'inadequate': 6763, 'appts': 6764, 'alaska': 6765, 'kathleen': 6766, 'stroyek': 6767, 'dishwashers': 6768, 'peaceful': 6769, 'techonology': 6770, 'finishing': 6771, 'dat': 6772, 'fitst': 6773, 'rehab': 6774, 'multiplied': 6775, 'tasker': 6776, 'protections': 6777, 'fifteen': 6778, 'hawaii': 6779, 'cloths': 6780, 'pesky': 6781, 'poundage': 6782, 'airlines': 6783, 'itl': 6784, 'pleanty': 6785, 'freely': 6786, 'fanciest': 6787, 'tabelt': 6788, 'tabet': 6789, 'everday': 6790, 'technologically': 6791, 'multiuse': 6792, 'screamreal': 6793, 'profrssional': 6794, 'sharpness': 6795, '13th': 6796, 'voracious': 6797, 'pff': 6798, 'resort': 6799, 'enlarged': 6800, 'peasy': 6801, 'cookbooks': 6802, 'handsets': 6803, 'netflexs': 6804, 'undergrond': 6805, 'seams': 6806, 'efficiency': 6807, 'thr': 6808, 'programmable': 6809, 'chugs': 6810, 'rules': 6811, 'wantedbest': 6812, 'alsome': 6813, 'disconnected': 6814, 'difiitioin': 6815, 'pounds': 6816, 'transactions': 6817, 'theatre': 6818, 'tix': 6819, 'yokod': 6820, 'inverted': 6821, 'patchy': 6822, 'touted': 6823, 'thinnest': 6824, 'kindly': 6825, 'kindle10': 6826, 'printer': 6827, 'remotely': 6828, 'moments': 6829, 'obtrusive': 6830, 'yoru': 6831, 'cnn': 6832, 'struggleit': 6833, 'heed': 6834, 'void': 6835, 'bumping': 6836, 'gosh': 6837, 'excel': 6838, 'amoled': 6839, 'stolen': 6840, 'astounding': 6841, 'slicone': 6842, 'everthing': 6843, 'loooks': 6844, '16gig': 6845, 'becuase': 6846, 'default': 6847, 'solitair': 6848, 'sodium': 6849, 'conv': 6850, 'bookstores': 6851, 'almighty': 6852, 'politics': 6853, 'marine': 6854, 'flips': 6855, 'crate': 6856, 'learnered': 6857, 'sorting': 6858, 'sequencing': 6859, 'adh': 6860, 'irrelevant': 6861, 'children‚äôs': 6862, 'fingerprint': 6863, 'generationworking': 6864, 'immersive': 6865, 'fintie': 6866, 'headrest': 6867, 'cracking': 6868, 'hiccup': 6869, 'navigated': 6870, 'functionalities': 6871, 'thw': 6872, 'haven‚äôt': 6873, 'landscape': 6874, '1year': 6875, 'comic': 6876, 'i‚äôd': 6877, 'mins': 6878, 'she‚äôs': 6879, 'earphones': 6880, 'supplemental': 6881, 'hd2': 6882, 'networking': 6883, 'delays': 6884, 'considers': 6885, 'nighty': 6886, 'charlie': 6887, 'berenstain': 6888, 'bears': 6889, 'dino': 6890, 'selects': 6891, 'grandparent': 6892, 'xmass': 6893, 'convincing': 6894, 'foster': 6895, 'blocking': 6896, 'protecting': 6897, 'spill': 6898, 'lookin': 6899, 'backspace': 6900, 'fory': 6901, 'artistic': 6902, 'apk': 6903, 'browsers': 6904, 'warrantee': 6905, 'pushes': 6906, 'enhance': 6907, 'inconvient': 6908, 'kore': 6909, 'films': 6910, 'appropariate': 6911, 'treat': 6912, 'motivate': 6913, 'wasn‚äôt': 6914, 'sprint': 6915, 'inevitably': 6916, '8yr': 6917, 'simplest': 6918, 'ipods': 6919, 'tabwet': 6920, 'masks': 6921, '100ish': 6922, 'doubled': 6923, 'thks': 6924, 'regulation': 6925, 'attempt': 6926, 'futile': 6927, 'tethering': 6928, 'oit': 6929, 'tumblr': 6930, 'magnet': 6931, 'kangaroo': 6932, 'pogo': 6933, 'launch': 6934, 'discerning': 6935, 'abcs': 6936, 'advancement': 6937, 'stringer': 6938, 'consulting': 6939, 'buyshock': 6940, 'firesticks': 6941, 'pauses': 6942, 'feaures': 6943, 'crucial': 6944, 'allowance': 6945, 'tabletscons': 6946, 'football': 6947, 'ruins': 6948, '7yo': 6949, 'fianc√©e': 6950, 'enjoyes': 6951, 'folded': 6952, 'arrow': 6953, 'bits': 6954, 'kindle2': 6955, 'personalized': 6956, 'champ': 6957, 'sheets': 6958, 'beeding': 6959, 'towels': 6960, '2months': 6961, 'doorbell': 6962, 'kno': 6963, 'eeeks': 6964, 'experimented': 6965, 'inedible': 6966, 'usedd': 6967, 'tthrough': 6968, 'oprah': 6969, 'chuckle': 6970, 'integral': 6971, 'thes': 6972, 'xpected': 6973, 'swears': 6974, 'leappads': 6975, 'ps3': 6976, 'excessive': 6977, 'lieutenant': 6978, 'forrest': 6979, 'fluctuate': 6980, 'scavenging': 6981, 'stealing': 6982, 'renewed': 6983, 'vigor': 6984, 'fueling': 6985, 'gallon': 6986, 'foursomes': 6987, 'objects': 6988, 'adequately': 6989, 'bht': 6990, 'lrice': 6991, 'theyblast': 6992, 'thunking': 6993, 'definitly': 6994, 'wirth': 6995, 'tires': 6996, 'brakes': 6997, 'subscdiption': 6998, 'energize': 6999, 'steers': 7000, 'zillion': 7001, 'anker': 7002, 'poop': 7003, 'uxcelplastic': 7004, 'tacky': 7005, 'whivh': 7006, 'annually': 7007, 'arrangement': 7008, 'resealable': 7009, 'puedo': 7010, 'recomendarlo': 7011, 'ampliamente': 7012, 'recommendedgo': 7013, 'offbrand': 7014, 'garabge': 7015, 'productions': 7016, 'lab': 7017, 'proves': 7018, 'ass': 7019, 'talkie': 7020, 'scotts': 7021, 'evidence': 7022, 'batt': 7023, 'iced': 7024, 'ice': 7025, 'cubes': 7026, 'melting': 7027, 'darkness': 7028, 'plentiful': 7029, 'ooze': 7030, 'ambition': 7031, 'involving': 7032, 'sieve': 7033, 'rank': 7034, 'toasts': 7035, 'announcements': 7036, 'sacked': 7037, 'raters': 7038, 'conclude': 7039, 'taylor': 7040, 'swift': 7041, 'properties': 7042, 'speedflash': 7043, 'victim': 7044, 'captured': 7045, 'exposures': 7046, 'macs': 7047, '8pack': 7048, 'retire': 7049, 'internals': 7050, 'ineligible': 7051, 'raw': 7052, 'wholesale': 7053, 'multiples': 7054, 'teeth': 7055, 'buzz': 7056, 'amazong': 7057, 'alter': 7058, 'earliest': 7059, 'reoccurring': 7060, 'branch': 7061, 'woeful': 7062, 'sizzling': 7063, 'fizzling': 7064, 'female': 7065, 'violent': 7066, 'nasty': 7067, 'coating': 7068, 'everseriously': 7069, 'blinded': 7070, 'diabetes': 7071, 'inventory': 7072, 'chinse': 7073, 'dutch': 7074, 'oddest': 7075, 'pumpkin': 7076, 'advise': 7077, 'conscious': 7078, 'trackballs': 7079, 'terrifc': 7080, 'dash': 7081, 'onthese': 7082, 'buddy': 7083, 'co2': 7084, 'convience': 7085, 'kwikset': 7086, 'kevo': 7087, 'blinkforhome': 7088, 'expenditures': 7089, 'pulse': 7090, 'oximeter': 7091, 'cheaperand': 7092, 'unbrandedbatteries': 7093, 'mover': 7094, 'gar': 7095, 'bage': 7096, 'defribrilator': 7097, 'greek': 7098, 'isles': 7099, 'siberia': 7100, 'nyet': 7101, 'drift': 7102, 'tripping': 7103, 'respective': 7104, 'cardiac': 7105, 'surgeon': 7106, 'suffer': 7107, 'wretched': 7108, 'sprayed': 7109, 'furious': 7110, 'unexplainably': 7111, 'restocking': 7112, 'bursts': 7113, 'shortens': 7114, 'sharpener': 7115, 'manards': 7116, 'wilol': 7117, 'samples': 7118, 'shameful': 7119, 'diminishes': 7120, 'spoil': 7121, 'rotten': 7122, 'trump': 7123, 'shoulders': 7124, 'creative': 7125, 'profit': 7126, 'chess': 7127, 'complicates': 7128, 'abnormal': 7129, 'disposing': 7130, 'eta': 7131, 'youpros': 7132, 'batteriesthey': 7133, 'aroundcons': 7134, 'impressions': 7135, '1one': 7136, 'shooted': 7137, 'goofy': 7138, 'excellently': 7139, 'defectlve': 7140, 'straighten': 7141, 'alongside': 7142, 'occasion': 7143, 'wiggle': 7144, 'pit': 7145, 'buckle': 7146, '4hours': 7147, 'schlage': 7148, 'puck': 7149, 'deodorizer': 7150, 'ant': 7151, 'wheel': 7152, 'blink': 7153, 'worthiness': 7154, 'chineese': 7155, 'rockclimbing': 7156, 'variables': 7157, 'wins': 7158, 'experiments': 7159, 'pooped': 7160, 'shaky': 7161, 'clam': 7162, 'environmentaly': 7163, '6volt': 7164, 'bans': 7165, 'subscribesave': 7166, 'stache': 7167, 'everybit': 7168, 'discusses': 7169, 'unselfish': 7170, 'relish': 7171, 'reducing': 7172, 'unlikely': 7173, 'dimensions': 7174, 'pricecons': 7175, 'noneadditional': 7176, 'considerations': 7177, 'starsif': 7178, 'nimhs': 7179, 'adventure': 7180, 'averaged': 7181, 'circular': 7182, 'tick': 7183, 'nomenclature': 7184, 'realizing': 7185, 'leasti': 7186, 'productis': 7187, 'expectedfits': 7188, 'president': 7189, 'thesed': 7190, 'magnifying': 7191, 'necessitates': 7192, 'origin': 7193, 'reviewd': 7194, 'facemask': 7195, 'blame': 7196, 'drinking': 7197, 'tea': 7198, 'teas': 7199, 'flavors': 7200, 'tangy': 7201, 'aftertaste': 7202, '6mos': 7203, 'evenings': 7204, 'swissphone': 7205, 'pager': 7206, 'evaluations': 7207, 'rout': 7208, 'havnt': 7209, 'pas': 7210, 'abi': 7211, 'wuality': 7212, 'offerings': 7213, 'homeless': 7214, 'competitioo': 7215, 'sanyo': 7216, 'asdfghj': 7217, 'hols': 7218, 'betters': 7219, 'buen': 7220, 'producto': 7221, 'buenos': 7222, 'productos': 7223, 'wrone': 7224, 'battreries': 7225, 'alternatibve': 7226, 'refrig': 7227, 'delicious': 7228, 'iob': 7229, 'deed': 7230, 'duran': 7231, 'muchisimo': 7232, 'recomiendo': 7233, 'apocalypse': 7234, 'willbuy': 7235, 'exelent': 7236, 'fanastic': 7237, 'doorstep': 7238, 'procuct': 7239, 'produc': 7240, 'batteiries': 7241, 'graat': 7242, 'grea': 7243, 'dael': 7244, 'valueright': 7245, 'greatf': 7246, 'greatvprice': 7247, 'gteat': 7248, 'transmtter': 7249, 'puchase': 7250, 'sinister': 7251, 'duraccels': 7252, 'replacments': 7253, 'prewrapped': 7254, 'barreries': 7255, 'adverised': 7256, 'legit': 7257, 'amanzon': 7258, 'koslosky': 7259, 'endorsement': 7260, 'ncie': 7261, 'okey': 7262, 'daniel': 7263, 'mauro': 7264, 'savd': 7265, 'squillions': 7266, 'expedited': 7267, 'goood': 7268, 'complies': 7269, 'recomment': 7270, 'wor': 7271, 'reccoment': 7272, 'chianese': 7273, 'jose': 7274, 'realy': 7275, 'quaility': 7276, 'ther': 7277, 'ecpected': 7278, 'immortal': 7279, 'soul': 7280, 'zap': 7281, 'discribed': 7282, 'appease': 7283, 'dollartree': 7284, 'lightbulbs': 7285, 'gurfr': 7286, 'ner': 7287, 'onggrevrf': 7288, 'gur': 7289, 'evtug': 7290, 'cevprf': 7291, 'gung': 7292, 'abg': 7293, 'ernyyl': 7294, 'ohg': 7295, 'tbbq': 7296, 'rabhtu': 7297, 'abj': 7298, 'notation': 7299, 'convent': 7300, 'exxpected': 7301, 'morethese': 7302, 'sdfgsdfgsdfgsdfgsdfg': 7303, 'jim': 7304, 'sems': 7305, 'batterues': 7306, 'defaults': 7307, 'rally': 7308, 'thery': 7309, 'warehouses': 7310, 'expire': 7311, 'hardship': 7312, 'loathing': 7313, 'sprained': 7314, 'slice': 7315, 'strait': 7316, 'unwrapping': 7317, 'funcitonality': 7318, 'flicker': 7319, 'gina': 7320, 'explosions': 7321, 'ranks': 7322, 'excessively': 7323, 'humidity': 7324, 'marketplace': 7325, 'maker': 7326, 'boats': 7327, 'aircraft': 7328, 'offshore': 7329, 'america': 7330, 'kills': 7331, 'assortment': 7332, 'bascis': 7333, 'fustration': 7334, 'bacic': 7335, 'topped': 7336, 'evaluate': 7337, 'thrifty': 7338, 'sealable': 7339, 'shortwave': 7340, 'fins': 7341, 'slices': 7342, 'genius': 7343, 'dedicate': 7344, 'scads': 7345, 'dumping': 7346, 'heater': 7347, 'blackweb': 7348, 'wiimote': 7349, 'discuss': 7350, 'ripp': 7351, 'prick': 7352, '1day': 7353, 'feeders': 7354, 'sso': 7355, 'normall': 7356, 'conair': 7357, 'defuzzer': 7358, 'clothing': 7359, 'bogus': 7360, 'appropriately': 7361, 'dynex': 7362, 'battey': 7363, 'aficionado': 7364, 'ought': 7365, 'ery': 7366, 'functiomal': 7367, 'spaces': 7368, 'backless': 7369, 'multipacks': 7370, 'loopy': 7371, 'goof': 7372, 'rounding': 7373, 'minimums': 7374, 'gots': 7375, 'tha': 7376, 'after2': 7377, 'exhibiting': 7378, 'sensibilities': 7379, 'generates': 7380, 'powder': 7381, 'emergeny': 7382, 'storms': 7383, 'zombie': 7384, 'attacks': 7385, 'amir': 7386, 'ziploc': 7387, 'xbone': 7388, 'scuf': 7389, 'ecological': 7390, 'exhausted': 7391, 'undemanding': 7392, 'minimalist': 7393, 'outperform': 7394, 'expencted': 7395, 'rush': 7396, 'samsclub': 7397, 'courtesy': 7398, 'trusting': 7399, 'functionlime': 7400, 'suprisingly': 7401, 'woohoo': 7402, 'master': 7403, 'akaline': 7404, 'stb': 7405, 'superbly': 7406, 'ams': 7407, 'miscellaneous': 7408, 'freat': 7409, 'themyou': 7410, 'purchaed': 7411, 'necessity': 7412, 'producing': 7413, 'desert': 7414, 'degradation': 7415, 'abandon': 7416, 'dread': 7417, 'hintgreat': 7418, 'affiliate': 7419, 'compensation': 7420, 'integrity': 7421, 'elses': 7422, 'hasstle': 7423, 'conjunction': 7424, 'conflicted': 7425, 'estimated': 7426, 'dumb': 7427, 'chalk': 7428, 'owl': 7429, 'walkway': 7430, 'grocers': 7431, 'rollers': 7432, 'supper': 7433, 'brands2': 7434, 'box3': 7435, 'infinitely': 7436, 'clamshell': 7437, 'deliveries': 7438, 'mishaps': 7439, 'unfortunetly': 7440, 'a4a': 7441, 'possession': 7442, 'makers': 7443, 'aroind': 7444, 'monthwill': 7445, 'durecel': 7446, 'eneegizer': 7447, 'thier': 7448, 'mobey': 7449, 'compliments': 7450, 'spoken': 7451, 'lynordering': 7452, 'mailer': 7453, 'sizeable': 7454, 'rattling': 7455, 'tipping': 7456, 'jumbled': 7457, 'established': 7458, 'lask': 7459, 'maglight': 7460, 'overlooked': 7461, 'organizing': 7462, 'strictly': 7463, 'nintendo': 7464, 'inexpressive': 7465, 'ham': 7466, 'egger': 7467, 'fooled': 7468, 'favs': 7469, 'roommates': 7470, 'cluster': 7471, 'unrechargables': 7472, 'cree': 7473, 'unsurprisingly': 7474, 'mord': 7475, 'george': 7476, 'raving': 7477, 'swooped': 7478, 'recharable': 7479, 'alkline': 7480, 'discussion': 7481, 'marc': 7482, 'correra': 7483, 'oral': 7484, 'irrigator': 7485, 'praiseworthy': 7486, 'alsoconveniently': 7487, 'bursting': 7488, 'ultrasonic': 7489, 'bark': 7490, 'perfer': 7491, 'quanty': 7492, 'fakes': 7493, 'trailer': 7494, 'fridge': 7495, 'wel': 7496, 'mane': 7497, 'deny': 7498, 'energerzier': 7499, 'determining': 7500, 'aprs': 7501, 'motorcycle': 7502, 'gloveboxes': 7503, 'rubberbands': 7504, 'mortgage': 7505, 'exaggeration': 7506, 'ships': 7507, 'longrun': 7508, 'routinely': 7509, 'counters': 7510, 'ifnnot': 7511, 'stamp': 7512, 'geotrax': 7513, 'jay': 7514, 'horror': 7515, 'liner': 7516, 'enrolled': 7517, 'blowing': 7518, 'nuclear': 7519, 'conditioner': 7520, 'hosed': 7521, 'reiterate': 7522, 'disservice': 7523, 'vouche': 7524, 'floored': 7525, 'prattle': 7526, 'fitbit': 7527, 'battereis': 7528, 'scientifically': 7529, 'regulations': 7530, 'parcels': 7531, 'tears': 7532, 'forgive': 7533, 'confirms': 7534, 'repurchasing': 7535, 'craziest': 7536, 'desided': 7537, 'grass': 7538, '25hp': 7539, 'role': 7540, 'lengthy': 7541, 'ziplock': 7542, 'attach': 7543, 'jynger': 7544, 'doggy': 7545, 'suckers': 7546, 'palate': 7547, 'radioshack': 7548, 'shift': 7549, 'stingy': 7550, 'kittens': 7551, 'logged': 7552, 'maxwells': 7553, 'aug': 7554, 'jan': 7555, 'render': 7556, 'sucker': 7557, 'immense': 7558, 'turnover': 7559, 'formulation': 7560, '48th': 7561, 'engineer': 7562, 'dutifully': 7563, 'frankenstein': 7564, 'shaking': 7565, 'hips': 7566, 'bowl': 7567, 'appreciative': 7568, 'impacted': 7569, 'encountering': 7570, 'pry': 7571, 'ordeal': 7572, 'apples': 7573, 'cartridges': 7574, 'dymo': 7575, 'peripheral': 7576, 'ingredients': 7577, 'rejected': 7578, 'diminished': 7579, 'clued': 7580, 'mailman': 7581, 'multiplack': 7582, 'fulcrum': 7583, 'forwarded': 7584, 'spoofingamazon': 7585, 'bullets': 7586, 'tossing': 7587, 'valve': 7588, 'ahesive': 7589, 'ripped': 7590, 'paddle': 7591, 'layman': 7592, 'usages': 7593, 'anythinh': 7594, 'clippers': 7595, 'turtle': 7596, 'happiness': 7597, 'muahahahahaha': 7598, 'shouldnt': 7599, '96hrs': 7600, '6wks': 7601, 'reimbursement': 7602, 'reaccuring': 7603, 'packets': 7604, 'specialists': 7605, 'pawbo': 7606, 'corrosive': 7607, 'malfunction': 7608, 'residue': 7609, '24hrs': 7610, 'threes': 7611, 'seasons': 7612, 'stretched': 7613, 'gunmen': 7614, 'battteries': 7615, 'zer0': 7616, 'receivers': 7617, 'meters': 7618, 'delightful': 7619, 'consoles': 7620, 'harsh': 7621, 'nightlights': 7622, 'fiddler': 7623, 'maxx': 7624, 'jamuary': 7625, 'obsolescence': 7626, 'xb1': 7627, 'xb360': 7628, 'wiimotes': 7629, 'receipting': 7630, 'dcompared': 7631, 'durcaell': 7632, 'meeting': 7633, 'hello': 7634, 'policies': 7635, 'blinking': 7636, 'egg': 7637, 'structural': 7638, 'coincidence': 7639, 'crapped': 7640, 'spazzed': 7641, 'barking': 7642, 'crawled': 7643, 'brawl': 7644, 'bruised': 7645, 'defeated': 7646, 'biz': 7647, 'thy': 7648, 'rinse': 7649, 'lint': 7650, 'smiling': 7651, 'bottled': 7652, 'epic': 7653, 'stocks': 7654, 'pest': 7655, 'deterrent': 7656, 'trees': 7657, 'amazonbascis': 7658, 'marking': 7659, 'monster': 7660, 'byut': 7661, 'pathetic': 7662, 'ashamed': 7663, 'shrinkwrap': 7664, 'mikes': 7665, 'confusion': 7666, 'expires': 7667, 'defectsgreat': 7668, 'contraption': 7669, 'demons': 7670, 'jimmie': 7671, 'twisting': 7672, 'causes': 7673, 'undue': 7674, 'apologized': 7675, 'addage': 7676, 'hereafter': 7677, 'unoped': 7678, 'sock': 7679, 'snow': 7680, 'pumping': 7681, '2am': 7682, 'exploxed': 7683, 'blankets': 7684, 'newborn': 7685, '48pack': 7686, 'underwhelming': 7687, 'appeal': 7688, 'warned': 7689, 'turbo': 7690, 'brew': 7691, 'grinds': 7692, 'pot': 7693, 'extraordinary': 7694, 'costlywas': 7695, 'of225': 7696, 'peers': 7697, 'electricians': 7698, 'pole': 7699, 'pins': 7700, 'poles': 7701, 'speedlites': 7702, 'fujitsu': 7703, 'fouled': 7704, 'deceptively': 7705, 'energized': 7706, 'substandard': 7707, 'jk150601': 7708, 'ina': 7709, 'dissappintes': 7710, 'ceases': 7711, 'amaze': 7712, 'thee': 7713, 'lytes': 7714, 'packagedwell': 7715, 'moreamazonbasics': 7716, 'hyp': 7717, 'telephone': 7718, 'pitched': 7719, 'ergomatic': 7720, 'vibrate': 7721, 'veru': 7722, 'buttuns': 7723, 'probe': 7724, 'tighten': 7725, 'prope': 7726, 'scew': 7727, 'manufators': 7728, 'controler': 7729, 'hsve': 7730, 'shook': 7731, 'learner': 7732, 'duracels': 7733, 'hallway': 7734, 'perf': 7735, 'adaquate': 7736, 'cheper': 7737, 'nimh': 7738, 'rounded': 7739, 'v20': 7740, 'chewing': 7741, 'newly': 7742, 'possitive': 7743, 'damaging': 7744, 'frys': 7745, 'grandkid': 7746, 'sometine': 7747, 'unremarkable': 7748, 'assess': 7749, 'linus': 7750, 'sebastian': 7751, 'frugal': 7752, 'reassures': 7753, 'sth': 7754, 'tarnished': 7755, 'rusty': 7756, 'valuecons': 7757, 'ouststanding': 7758, 'cart': 7759, 'displeased': 7760, 'xl200': 7761, 'bashing': 7762, 'groans': 7763, 'bfrnd': 7764, 'fulfillment': 7765, 'bettery': 7766, 'electrician': 7767, 'andvreallyninportant': 7768, 'countertop': 7769, 'flatter': 7770, 'ourth': 7771, 'roller': 7772, 'thingy': 7773, 'yelled': 7774, 'fades': 7775, 'static': 7776, 'shoe': 7777, 'quicly': 7778, 'affordably': 7779, '1970s': 7780, 'west': 7781, 'rocky': 7782, 'mountains': 7783, 'collectors': 7784, 'attacked': 7785, 'swoosh': 7786, 'swing': 7787, 'hurriedly': 7788, 'swooshing': 7789, 'escaped': 7790, 'josecards': 7791, 'strategically': 7792, 'addicting': 7793, 'cordstained': 7794, 'remotesnot': 7795, 'thentakes': 7796, 'lst': 7797, 'wallymart': 7798, 'maxcell': 7799, 'leapster': 7800, 'explorers': 7801, 'touchpad': 7802, 'deeper': 7803, 'peak': 7804, 'retention': 7805, 'zippo': 7806, 'compensated': 7807, 'separating': 7808, 'lifted': 7809, 'tumbled': 7810, 'removal': 7811, 'vowed': 7812, 'revenge': 7813, 'furniture': 7814, 'petty': 7815, 'pains': 7816, 'shipments': 7817, 'containers': 7818, 'utter': 7819, 'ruleshaha': 7820, 'bilingual': 7821, 'leakers': 7822, 'calculated': 7823, 'memorex': 7824, 'theseboth': 7825, 'pedi': 7826, 'callused': 7827, 'grinder': 7828, 'workoutamazon': 7829, 'differencei': 7830, 'finepix': 7831, 'counted': 7832, 'einstein': 7833, 'lousy': 7834, 'royally': 7835, 'indication': 7836, 'resolves': 7837, 'warrants': 7838, 'fence': 7839, 'contains': 7840, 'attending': 7841, 'conforms': 7842, 'widely': 7843, 'incurred': 7844, 'hip': 7845, 'glance': 7846, 'powerexcellent': 7847, 'freshly': 7848, 'bettter': 7849, 'disconnects': 7850, 'mist': 7851, 'diffuser': 7852, 'discharges': 7853, 'vdc': 7854, 'locals': 7855, 'prolonged': 7856, 'bacterias': 7857, 'prepackaged': 7858, 'mars': 7859, 'traxxas': 7860, 'rustler': 7861, '115f': 7862, '127i': 7863, 'thess': 7864, 'int': 7865, 'ammount': 7866, 'fallout': 7867, 'excursions': 7868, 'raider': 7869, 'smashing': 7870, 'unsubscribed': 7871, 'otber': 7872, 'ski': 7873, 'wilderness': 7874, 'dummy': 7875, 'mulit': 7876, 'recorders': 7877, 'alcaline': 7878, 'tray': 7879, 'officer': 7880, 'afforadable': 7881, 'malice': 7882, 'unconditionally': 7883, 'property': 7884, 'temperamental': 7885, 'trustworthy': 7886, 'neighbors': 7887, 'chatty0371': 7888, 'liberal': 7889, 'arts': 7890, 'stander': 7891, 'suckered': 7892, 'chicken': 7893, 'coop': 7894, 'habitually': 7895, 'unequalled': 7896, 'pc1500': 7897, 'remained': 7898, 'tripped': 7899, 'bargains': 7900, 'chalking': 7901, 'rundown': 7902, 'ensures': 7903, 'shove': 7904, 'storebrand': 7905, 'unstable': 7906, 'skimping': 7907, 'insufficent': 7908, 'monkey': 7909, 'verses': 7910, 'heavyweight': 7911, 'fairy': 7912, 'pointers': 7913, 'timeframe': 7914, '2017not': 7915, 'sand': 7916, 'leaker': 7917, 'walgreen': 7918, 'lije': 7919, 'whooping': 7920, 'batteriers': 7921, 'runout': 7922, 'gadgetsremotes': 7923, 'qualifty': 7924, 'shine': 7925, 'puppy': 7926, 'antifreeze': 7927, 'jackpot': 7928, 'analysis': 7929, 'lll': 7930, 'voltages': 7931, 'professor': 7932, 'cheapdon': 7933, 'heckuva': 7934, 'grandtoddler': 7935, 'rotation': 7936, 'comperitive': 7937, 'piling': 7938, 'slipped': 7939, 'cery': 7940, 'wud': 7941, 'rendering': 7942, 'garmin': 7943, 'etrex': 7944, 'snack': 7945, 'classroom': 7946, 'ammo': 7947, 'asap': 7948, 'morepretty': 7949, 'valuation': 7950, 'police': 7951, 'slimy': 7952, 'suite': 7953, 'excelentproduct': 7954, 'exhaust': 7955, 'regularl': 7956, 'reciept': 7957, 'lastedn': 7958, 'ahh': 7959, 'untrustworthy': 7960, 'unopened': 7961, 'formally': 7962, 'unsurpassed': 7963, 'consensus': 7964, 'eyelash': 7965, 'curler': 7966, 'opting': 7967, 'tampered': 7968, 'ladder': 7969, 'liver': 7970, 'onions': 7971, 'themeslves': 7972, '10pk': 7973, '20pk': 7974, 'descovering': 7975, 'cumulative': 7976, 'tricked': 7977, 'grasp': 7978, 'cello': 7979, 'batteriesdon': 7980, 'longdon': 7981, 'theseyou': 7982, 'eliminated': 7983, 'snuck': 7984, 'theseas': 7985, 'unlucky': 7986, 'umm': 7987, 'likeany': 7988, 'differents': 7989, 'supposedly': 7990, 'predecessors': 7991, 'contacting': 7992, 'idigital': 7993, 'born': 7994, 'encompasses': 7995, 'giver': 7996, 'entity': 7997, 'onslaught': 7998, 'prisrob': 7999, 'outweigh': 8000, 'wth': 8001, 'nickle': 8002, 'diming': 8003, 'flyers': 8004, 'noti': 8005, 'bob': 8006, 'spells': 8007, 'triedi': 8008, 'decline': 8009, 'coupons': 8010, 'human': 8011, 'nocturnal': 8012, 'digiscale': 8013, 'infrared': 8014, 'd600': 8015, 'batteres': 8016, 'anecdotal': 8017, 'rightand': 8018, 'farhighly': 8019, 'sceptical': 8020, 'tease': 8021, 'alleged': 8022, 'addiction': 8023, 'subsequently': 8024, 'consistentl': 8025, 'neighborhood': 8026, 'listof': 8027, 'circumference': 8028, 'fri': 8029, 'vendors': 8030, 'propose': 8031, 'placements': 8032, 'forgetful': 8033, 'storesquality': 8034, 'comparatively': 8035, 'grooming': 8036, 'avaiable': 8037, '6months': 8038, 'branching': 8039, 'mouseses': 8040, 'aluminumun': 8041, 'pecker': 8042, 'financial': 8043, 'advisor': 8044, 'wagging': 8045, 'jurys': 8046, 'containment': 8047, 'sealer': 8048, 'grr': 8049, 'speechless': 8050, 'discarding': 8051, 'favourite': 8052, 'dvds': 8053, 'donate': 8054, 'towers': 8055, 'boycotting': 8056, 'netting': 8057, 'trim': 8058, 'attachment': 8059, 'lies': 8060, 'anchor': 8061, 'arch': 8062, 'tatty': 8063, 'spreads': 8064, 'eared': 8065, 'overally': 8066, 'sloppy': 8067, 'cope': 8068, 'trendy': 8069, 'island': 8070, 'hasle': 8071, 'coworker': 8072, 'compaints': 8073, 'metered': 8074, 'optic': 8075, 'addon': 8076, 'poorer': 8077, 'exploted': 8078, 'jazzed': 8079, 'goods': 8080, 'comprehensively': 8081, 'zerg': 8082, 'supermarket': 8083, 'cuter': 8084, 'skinny': 8085, 'flow': 8086, '61v': 8087, 'snail': 8088, '2aa': 8089, 'multiply': 8090, 'scattered': 8091, 'appreciable': 8092, 'holy': 8093, 'moly': 8094, 'bam': 8095, 'tucked': 8096, 'wand': 8097, 'theamazon': 8098, 'mystical': 8099, 'guitars': 8100, 'boombox': 8101, 'lifestyle': 8102, 'deterioration': 8103, 'batteriesi': 8104, 'newi': 8105, 'calculate': 8106, 'steroids': 8107, 'males': 8108, 'cobtroller': 8109, 'chains': 8110, 'shorting': 8111, 'differ': 8112, 'bulbs': 8113, 'thea': 8114, 'nymph': 8115, 'thwy': 8116, 'remite': 8117, 'arelucky': 8118, 'wasteyour': 8119, 'contracted': 8120, 'harbour': 8121, 'dissappointed': 8122, 'weels': 8123, 'taillight': 8124, 'intensity': 8125, 'attracted': 8126, 'energiser': 8127, 'returnable': 8128, 'configure': 8129, 'latley': 8130, 'batteires': 8131, 'expiring': 8132, 'scuba': 8133, 'areal': 8134, 'depicted': 8135, 'tightest': 8136, 'clearances': 8137, 'powr': 8138, 'amazes': 8139, 'haveing': 8140, 'accurately': 8141, 'muchlovegratitude': 8142, 'decorating': 8143, 'dealgreat': 8144, 'wat': 8145, 'maglite': 8146, 'captain': 8147, 'okk': 8148, 'organical': 8149, 'paperboard': 8150, 'shockingly': 8151, 'anxious': 8152, 'powerfull': 8153, 'agaib': 8154, 'ware': 8155, 'ful': 8156, 'rechargebles': 8157, 'artwork': 8158, 'valued': 8159, 'wll': 8160, 'defintiely': 8161, 'nuf': 8162, 'meanwhile': 8163, 'outdid': 8164, 'distinguished': 8165, 'countduracell': 8166, 'dammit': 8167, 'fml': 8168, 'dela': 8169, 'lifecycle': 8170, 'walkies': 8171, 'bonknbatteries': 8172, 'cnadles': 8173, 'celo': 8174, 'fart': 8175, 'robotics': 8176, 'nxt': 8177, 'clipping': 8178, 'luna': 8179, '99c': 8180, '12pack': 8181, 'formance': 8182, 'jumper': 8183, 'distorted': 8184, 'packagethese': 8185, 'wraps': 8186, 'imprinted': 8187, 'accented': 8188, 'protruding': 8189, 'descriptions': 8190, 'lr03': 8191, 'am4': 8192, 'symbols': 8193, 'circuited': 8194, 'improperly': 8195, 'arrows': 8196, 'speedlite': 8197, 'barbie': 8198, 'autoship': 8199, 'junkies': 8200, 'shredder': 8201, 'wager': 8202, 'buyng': 8203, 'mybaby': 8204, 'homedics': 8205, 'soundspa': 8206, '2016i': 8207, 'achieving': 8208, 'strands': 8209, 'ceremony': 8210, 'memorable': 8211, 'formed': 8212, 'partitions': 8213, 'theorize': 8214, 'applicable': 8215, 'conjecture': 8216, 'quibble': 8217, 'batteriessize': 8218, 'noneoverall': 8219, 'bargainwould': 8220, 'seam': 8221, 'ext': 8222, 'odds': 8223, 'helicopter': 8224, 'chewed': 8225, 'batreries': 8226, 'battries': 8227, 'thailand': 8228, 'recloseable': 8229, 'canisters': 8230, 'evil': 8231, 'abroad': 8232, 'forego': 8233, 'consumable': 8234, 'rayb': 8235, 'batches': 8236, 'separates': 8237, 'tamiya': 8238, 'harry': 8239, 'potter': 8240, 'wondered': 8241, '2016batteries': 8242, 'retract': 8243, 'calvin': 8244, 'lightsaber': 8245, 'expensivewith': 8246, 'thisthe': 8247, 'respectively': 8248, 'hundredth': 8249, 'electrochemistry': 8250, 'corrode': 8251, 'flickering': 8252, 'stems': 8253, 'grins': 8254, 'repeated': 8255, 'lined': 8256, 'terminals': 8257, 'squat': 8258, 'solidly': 8259, 'firmly': 8260, 'concluding': 8261, 'firm': 8262, 'piddle': 8263, 'absorbent': 8264, 'arena': 8265, 'column': 8266, 'emphasizing': 8267, 'approximate': 8268, 'carbon': 8269, 'monoxide': 8270, 'listnever': 8271, 'dateevery': 8272, 'brandsi': 8273, 'indiana': 8274, 'everteady': 8275, 'cans': 8276, 'killed': 8277, 'semi': 8278, 'ehh': 8279, 'estimation': 8280, 'pumpkins': 8281, 'brightly': 8282, 'fry': 8283, 'streamlight': 8284, 'microstream': 8285, 'greatcame': 8286, 'woke': 8287, 'forbid': 8288, 'pricr': 8289, 'promote': 8290, 'shoppers': 8291, 'freakin': 8292, 'stripping': 8293, 'costoco': 8294, 'attest': 8295, 'sizing': 8296, 'visibly': 8297, 'snice': 8298, 'forthcoming': 8299, 'camcorder': 8300, 'magically': 8301, 'boo': 8302, 'betterthan': 8303, 'topay': 8304, 'cannon': 8305, 'wipes': 8306, 'sings': 8307, 'holter': 8308, 'monitors': 8309, 'patients': 8310, 'reschedule': 8311, 'dung': 8312, 'migrated': 8313, 'savers': 8314, 'doodads': 8315, 'trst': 8316, 'reluctantly': 8317, 'speedlight': 8318, 'techy': 8319, 'chase': 8320, 'shuttle': 8321, 'moon': 8322, 'junkiest': 8323, 'propellent': 8324, 'rummaging': 8325, 'desperation': 8326, 'eternity': 8327, 'earbleeding': 8328, 'menopausal': 8329, 'torpedo': 8330, 'john': 8331, 'induced': 8332, 'ytd': 8333, 'touchee': 8334, 'effiency': 8335, 'amore': 8336, 'possessions': 8337, 'mama': 8338, 'isolated': 8339, 'kudos': 8340, 'needlessly': 8341, 'ned': 8342, '75v': 8343, 'dor': 8344, 'lat': 8345, 'probley': 8346, 'about8': 8347, 'reconsider': 8348, 'turkeys': 8349, 'idisappointed': 8350, 'batterieswith': 8351, 'pak': 8352, 'paks': 8353, 'whywouldamazonbother': 8354, 'century': 8355, 'duper': 8356, 'records': 8357, 'drama': 8358, 'amazonbasicis': 8359, 'bases': 8360, 'cursing': 8361, 'gods': 8362, 'forsaking': 8363, 'rage': 8364, 'grossed': 8365, 'hiding': 8366, 'dosappointed': 8367, 'smoothest': 8368, 'ownded': 8369, 'yards': 8370, 'stressful': 8371, 'elevated': 8372, 'tilting': 8373, 'ventilated': 8374, 'typewriter': 8375, 'ibm': 8376, 'selectrics': 8377, 'royals': 8378, 'sight': 8379, 'rise': 8380, 'slanting': 8381, 'inward': 8382, 'worker': 8383, 'spillage': 8384, 'wrists': 8385, 'perforated': 8386, 'peripherals': 8387, 'subject': 8388, 'rivets': 8389, 'welded': 8390, 'touched': 8391, 'envy': 8392, 'snuggly': 8393, 'accessory': 8394, 'nalgene': 8395, 'destinations': 8396, 'constructioncompares': 8397, 'favorably': 8398, 'packsno': 8399, 'brandinggreat': 8400, 'detaillarge': 8401, 'compartmentlots': 8402, 'subcompartmentsorganizer': 8403, 'sundries': 8404, 'compartmentcons': 8405, 'lookstop': 8406, 'perfunctorystiff': 8407, 'movedthe': 8408, 'piping': 8409, 'embossed': 8410, 'slippage': 8411, 'sufficiently': 8412, 'generously': 8413, 'jansport': 8414, 'bean': 8415, 'manilla': 8416, 'paraphernalia': 8417, 'obligatory': 8418, 'zippered': 8419, 'ballistic': 8420, 'earing': 8421, 'dividers': 8422, 'manipulated': 8423, 'walking': 8424, 'sewn': 8425, 'caliber': 8426, 'anticipation': 8427, 'studios': 8428, 'royal': 8429, 'caribbean': 8430, '6yo': 8431, 'extraneous': 8432, 'pouch': 8433, 'punctured': 8434, 'pencils': 8435, 'cinch': 8436, 'width': 8437, 'loosened': 8438, 'lining': 8439, 'idems': 8440, 'rains': 8441, 'timberline': 8442, 'classified': 8443, 'sturdiness': 8444, 'tumbles': 8445, 'lunchbox': 8446, 'bulges': 8447, 'rigidly': 8448, 'posture': 8449, 'organizational': 8450, 'remembering': 8451, 'diminish': 8452, 'ouch': 8453, 'lifelong': 8454, 'ww2': 8455, 'outfitted': 8456, 'snowshoe': 8457, 'mildew': 8458, 'fittings': 8459, 'ergonomicshere': 8460, 'contemporary': 8461, 'tradeoff': 8462, 'tekkie': 8463, 'fabrics': 8464, 'tugs': 8465, 'wrestle': 8466, 'shekels': 8467, 'inspiron': 8468, 'diary': 8469, 'technician': 8470, 'paperwork': 8471, 'sandwiches': 8472, 'western': 8473, '2tb': 8474, 'aesthetics': 8475, 'passports': 8476, 'reassuring': 8477, '40cm': 8478, 'ruggedised': 8479, 'usefully': 8480, 'netted': 8481, 'commuting': 8482, 'women': 8483, 'sked': 8484, 'hollow': 8485, 'internationally': 8486, 'changeable': 8487, 'norway': 8488, 'worded': 8489, 'converter': 8490, 'norwegian': 8491, 'criticisms': 8492, '110w': 8493, 'abv': 8494, 'miracles': 8495, 'outliers': 8496, 'israel': 8497, 'interchangeable': 8498, 'powerfast': 8499, 'slippes': 8500, 'pan': 8501, 'bedridden': 8502, 'configured': 8503, 'intervals': 8504, 'fitting': 8505, 'usbs': 8506, 'scrabble': 8507, 'intercom': 8508, 'questionso': 8509, 'instrumentals': 8510, 'mantovani': 8511, 'paul': 8512, 'mauriat': 8513, 'herb': 8514, 'alpert': 8515, 'diamond': 8516, 'petula': 8517, 'clark': 8518, 'cubs': 8519, 'motels': 8520, 'dubuque': 8521, 'singing': 8522, 'rainforest': 8523, 'mississippi': 8524, 'mood': 8525, 'anyones': 8526, 'queries': 8527, 'phrased': 8528, 'agreeing': 8529, 'copyright': 8530, 'promt': 8531, 'apposed': 8532, 'robotic': 8533, 'departure': 8534, 'owen': 8535, 'disconnect': 8536, 'skill': 8537, 'mariachi': 8538, '5star': 8539, 'avarage': 8540, 'draugther': 8541, 'ganes': 8542, 'aws': 8543, 'interaction': 8544, 'innovation': 8545, 'uncanny': 8546, 'horoscope': 8547, 'portablebility': 8548, 'sweden': 8549, 'portugal': 8550, 'lake': 8551, 'jokes': 8552, 'lifx': 8553, 'satchel': 8554, 'ittt': 8555, 'wirelessly': 8556, 'iheartradio': 8557, 'woken': 8558, 'mike': 8559, 'hectic': 8560, 'coll': 8561, 'interactions': 8562, 'retrieves': 8563, 'valid': 8564, 'gor': 8565, 'bluetoothdecent': 8566, 'excess': 8567, 'informs': 8568, 'forcast': 8569, 'prouducts': 8570, 'conpack': 8571, 'adoptor': 8572, 'usefule': 8573, 'highway': 8574, 'batterey': 8575, 'worldwide': 8576, 'iceberg': 8577, 'compensate': 8578, 'andespn': 8579, 'tethered': 8580, 'upholstery': 8581, 'fave': 8582, 'fot': 8583, 'comprehensive': 8584, 'unclear': 8585, 'disconnecting': 8586, 'toggle': 8587, 'thruout': 8588, 'understood': 8589, 'existent': 8590, 'mids': 8591, 'duly': 8592, 'luke': 8593, 'distortion': 8594, 'amazement': 8595, 'amzon': 8596, 'inbuilt': 8597, 'inna': 8598, 'playlist': 8599, 'yearbook': 8600, 'cnet': 8601, 'frustrations': 8602, 'requesting': 8603, 'commandscons': 8604, '4ghz': 8605, 'speakersoverall': 8606, 'greatdifficult': 8607, 'sseems': 8608, 'weary': 8609, 'exercising': 8610, 'verbally': 8611, 'genre': 8612, 'forecast': 8613, 'namesake': 8614, 'chagrin': 8615, 'intro': 8616, 'outdside': 8617, 'yell': 8618, 'acoustics': 8619, 'booming': 8620, 'domino': 8621, 'summon': 8622, 'spy': 8623, 'independant': 8624, 'playlists': 8625, 'forecasts': 8626, 'indefinite': 8627, 'merely': 8628, 'belkin': 8629, '‚äì': 8630, 'boughy': 8631, 'alezxa': 8632, 'algorithms': 8633, 'coolest': 8634, 'inventions': 8635, 'innovative': 8636, 'committed': 8637, 'paradigm': 8638, 'gain': 8639, 'expenses': 8640, 'treble': 8641, 'recognizes': 8642, 'novelty': 8643, 'scratchy': 8644, 'execution': 8645, 'interconnected': 8646, 'circlers': 8647, 'dystopia': 8648, 'eggers': 8649, 'escape': 8650, 'prompts': 8651, 'pizza': 8652, 'hail': 8653, 'uber': 8654, 'npr': 8655, 'likenit': 8656, 'intimidated': 8657, 'safer': 8658, 'balcony': 8659, 'productive': 8660, 'dorms': 8661, 'tappy': 8662, 'configuration': 8663, 'avaliable': 8664, 'alley': 8665, 'audiophiles': 8666, 'instructive': 8667, 'mimi': 8668, 'kdis': 8669, 'interruptions': 8670, 'hut': 8671, 'gizmo': 8672, 'interpreting': 8673, 'guam': 8674, 'plagued': 8675, 'memorize': 8676, 'pill': 8677, 'flexible': 8678, 'graduated': 8679, 'vis': 8680, 'renders': 8681, 'forgets': 8682, 'conveniences': 8683, 'heaper': 8684, 'announcement': 8685, 'marino': 8686, 'briefs': 8687, 'fishing': 8688, 'linking': 8689, 'deaf': 8690, 'surroundings': 8691, 'surreptitiously': 8692, 'communicate': 8693, 'defeat': 8694, 'stages': 8695, 'smartness': 8696, 'usd150': 8697, 'tin': 8698, 'covenient': 8699, 'relation': 8700, 'hands‚ä¶you': 8701, 'handsyou': 8702, 'bemoaning': 8703, 'scoop': 8704, 'smartthings': 8705, 'ifttt': 8706, 'multipurpose': 8707, 'balanced': 8708, 'tuning': 8709, 'detect': 8710, 'smarthome': 8711, 'artist': 8712, 'someways': 8713, 'michael': 8714, 'bolton': 8715, 'bruce': 8716, 'springsteen': 8717, 'cult': 8718, 'trashing': 8719, 'triby': 8720, 'partnerships': 8721, 'sonos': 8722, 'hvac': 8723, 'trivia': 8724, 'ijnfo': 8725, 'repository': 8726, 'instructio': 8727, 'caveats': 8728, 'forte': 8729, 'honeywell': 8730, 'pits': 8731, 'wold': 8732, 'hmmm': 8733, 'printable': 8734, 'evolve': 8735, 'schedules': 8736, 'unknowingly': 8737, 'responded': 8738, 'siriusxm': 8739, 'howard': 8740, 'stern': 8741, 'nfl': 8742, 'mlb': 8743, 'satellite': 8744, 'solo': 8745, 'rice': 8746, 'solves': 8747, 'bones': 8748, 'county': 8749, 'ignorance': 8750, 'paperwite': 8751, 'kindler': 8752, 'pixles': 8753, 'lengths': 8754, 'seagate': 8755, 'bottleneck': 8756, 'shielded': 8757, 'rectangle': 8758, 'motherboard': 8759, 'shielding': 8760, 'upholds': 8761, 'throughput': 8762, 'lifts': 8763, 'lean': 8764, 'whites': 8765, 'chairs': 8766, 'concentrate': 8767, 'invent': 8768, 'mountain': 8769, 'stroke': 8770, 'mystery': 8771, '110v': 8772, '100v': 8773, '240v': 8774, 'copywriter': 8775, 'understandfor': 8776, 'nap': 8777, 'grandson‚äôs': 8778, 'replies': 8779, 'satistfy': 8780, 'eink': 8781, 'christ': 8782, 'nazareth': 8783, 'voyages': 8784, 'bless': 8785, 'crank': 8786, 'gloves': 8787, 'disliking': 8788, 'rocking': 8789, 'minimize': 8790, 'shud': 8791, 'ttry': 8792, 'sensation': 8793, 'costliest': 8794, 'helium': 8795, 'balloon': 8796, 'paris': 8797, 'dominance': 8798, 'hepatic': 8799, 'earning': 8800, 'tone': 8801, 'distracts': 8802, 'matte': 8803, 'specialized': 8804, 'consult': 8805, 'situ': 8806, 'trading': 8807, 'urge': 8808, 'evolution': 8809, 'adverse': 8810, 'disrupts': 8811, 'melatonin': 8812, 'king': 8813, 'avaiailable': 8814, 'res': 8815, '300dpi': 8816, 'taxes': 8817, 'georgia': 8818, 'qualifying': 8819, 'whiter': 8820, 'pw3': 8821, 'crumb': 8822, 'catcher': 8823, 'batterry': 8824, 'exactlo': 8825, 'nooks': 8826, 'cadillac': 8827, 'whip': 8828, 'receives': 8829, 'handbag': 8830, 'conistent': 8831, 'adopter': 8832, 'resisted': 8833, 'brightens': 8834, 'pol': 8835, 'madman': 8836, 'vacations': 8837, 'sulight': 8838, 'frankfort': 8839, 'welcomed': 8840, 'builder': 8841, 'confused': 8842, 'specialties': 8843, 'bitten': 8844, 'supporter': 8845, 'baggie': 8846, 'duck': 8847, 'gathers': 8848, 'manages': 8849, 'basket': 8850, 'pending': 8851, 'addresses': 8852, 'toldpeople': 8853, 'wishes': 8854, 'blackscreen': 8855, 'concentration': 8856, 'warentee': 8857, 'scratch': 8858, 'blueish': 8859, 'defense': 8860, 'mighty': 8861, 'copperish': 8862, 'toned': 8863, 'prettymuch': 8864, 'kindle4nt': 8865, 'thelarge': 8866, 'ofmaking': 8867, 'havefound': 8868, 'buyhas': 8869, 'thestore': 8870, 'enlarges': 8871, 'resize': 8872, 'transportability': 8873, 'adoption': 8874, 'aura': 8875, 'ditch': 8876, 'aquired': 8877, 'browny': 8878, 'dimming': 8879, 'pagesif': 8880, 'ligths': 8881, 'encyclopedia': 8882, 'indigenous': 8883, 'utilizes': 8884, 'restaurants': 8885, 'planes': 8886, 'dallas': 8887, 'overheat': 8888, 'andy': 8889, 'remarked': 8890, 'habits': 8891, 'mandates': 8892, 'variations': 8893, 'sticked': 8894, 'appreciates': 8895, '6weeks': 8896, '3weeks': 8897, 'voraciously': 8898, 'tjis': 8899, 'readin': 8900, 'bookmarks': 8901, 'lightness': 8902, 'recommendable': 8903, 'remarkable': 8904, 'compensates': 8905, 'ghost': 8906, 'backlot': 8907, 'spills': 8908, 'adjuster': 8909, 'homepage': 8910, 'ipadmini': 8911, 'air2': 8912, 'hardcover': 8913, 'pannier': 8914, 'facedown': 8915, 'apprehensive': 8916, 'nicest': 8917, '4gb': 8918, 'reimagined': 8919, 'nailed': 8920, 'detachment': 8921, 'theft': 8922, 'seattle': 8923, 'fear': 8924, 'achieved': 8925, 'bias': 8926, 'breakcons': 8927, 'animation': 8928, 'powerpoint': 8929, 'tinged': 8930, 'forums': 8931, 'sued': 8932, 'antenna': 8933, 'gradient': 8934, 'visualize': 8935, 'downgrade': 8936, 'pw1': 8937, 'addressed': 8938, 'distressed': 8939, 'adapts': 8940, 'lightlove': 8941, 'resume': 8942, 'luddite': 8943, 'biggie': 8944, 'fluidity': 8945, 'impact': 8946, 'dirtying': 8947, 'suffers': 8948, 'operator': 8949, 'borders': 8950, 'diagram': 8951, 'bookmark': 8952, 'clippings': 8953, 'otter': 8954, 'ver': 8955, 'defunct': 8956, 'disassembling': 8957, 'crimp': 8958, 'rhyme': 8959, 'pinging': 8960, 'turners': 8961, 'splurged': 8962, 'owners': 8963, 'effortless': 8964, 'formats': 8965, 'stage': 8966, 'archive': 8967, 'symbol': 8968, 'easliy': 8969, 'resets': 8970, 'thhought': 8971, 'noe': 8972, 'littlebit': 8973, 'hards': 8974, 'respect': 8975, 'screencons': 8976, 'frustratingwith': 8977, 'binged': 8978, 'boundbook': 8979, 'upcharge': 8980, 'interfaceneeds': 8981, 'passion': 8982, 'flatness': 8983, 'hep': 8984, 'there‚äôs': 8985, 'gradually': 8986, 'lowering': 8987, 'unparalleled': 8988, 'tract': 8989, 'longing': 8990, 'proposition': 8991, 'prefered': 8992, 'loyalty': 8993, 'nonexistent': 8994, 'movers': 8995, 'produ': 8996, 'freind': 8997, 'shadows': 8998, 'bound': 8999, 'mentioning': 9000, 'horizontally': 9001, 'efficacy': 9002, 'humbly': 9003, 'submit': 9004, 'notches': 9005, 'indispensable': 9006, 'paperbacks': 9007, 'tackle': 9008, 'character': 9009, 'nespresso': 9010, 'capsules': 9011, 'capsule': 9012, 'piled': 9013, 'amusing': 9014, 'messaging': 9015, 'nightstand': 9016, 'rape': 9017, 'mount': 9018, 'copes': 9019, 'calming': 9020, 'modes': 9021, 'homemade': 9022, 'nordic': 9023, 'outs': 9024, 'thangs': 9025, 'impede': 9026, 'kf8': 9027, 'panicked': 9028, 'hogs': 9029, 'cookbook': 9030, 'slowest': 9031, 'recipe': 9032, 'slarts': 9033, 'althought': 9034, 'unpredictable': 9035, 'futon': 9036, 'wood': 9037, 'beastly': 9038, 'deceased': 9039, 'gecksqd': 9040, 'painstakingly': 9041, 'honeycomb': 9042, 'contenders': 9043, 'crowd': 9044, 'educate': 9045, 'educating': 9046, 'marketamazon': 9047, 'deems': 9048, 'tryout': 9049, 'friendas': 9050, 'doc': 9051, 'grandaughters': 9052, 'scan': 9053, 'codes': 9054, 'multitude': 9055, 'tapes': 9056, 'technilogical': 9057, 'pime': 9058, 'clothes': 9059, 'shaping': 9060, 'overages': 9061, 'manipulate': 9062, '¬†i': 9063, 'doin': 9064, 'extensively': 9065, 'yoga': 9066, 'assessible': 9067, 'ownership': 9068, 'clinicals': 9069, 'techny': 9070, 'captable': 9071, 'timing': 9072, 'grandboy': 9073, 'moto': 9074, 'discussing': 9075, 'promos': 9076, 'ehhh': 9077, '1week': 9078, 'explandable': 9079, 'unaceptable': 9080, 'tones': 9081, 'vulcans': 9082, 'manuals': 9083, 'acrobat': 9084, 'otoh': 9085, 'offended': 9086, 'philips': 9087, 'suster': 9088, 'docs': 9089, 'performant': 9090, 'ilovemy': 9091, 'clamps': 9092, 'pie': 9093, 'ook': 9094, 'preserve': 9095, 'replay': 9096, 'transportable': 9097, 'fugured': 9098, 'k8d': 9099, 'ringer': 9100, 'hipsters': 9101, 'buds': 9102, 'improvments': 9103, 'unorganized': 9104, 'cease': 9105, 'surpassed': 9106, 'preoccupied': 9107, 'programmed': 9108, 'shoves': 9109, 'hroat': 9110, 'haveit': 9111, 'girly': 9112, 'fears': 9113, 'pict': 9114, 'recuperating': 9115, 'saleman': 9116, 'hilariously': 9117, 'warrenty': 9118, 'wry': 9119, 'byee': 9120, 'server': 9121, 'misled': 9122, 'captivated': 9123, 'gui': 9124, 'nad': 9125, 'lightings': 9126, 'completly': 9127, 'polarized': 9128, 'sunglasses': 9129, 'satisfiedeasier': 9130, 'caring': 9131, 'scrutiny': 9132, 'purses': 9133, 'seatmate': 9134, 'overhead': 9135, '37th': 9136, 'writes': 9137, 'margins': 9138, 'clearness': 9139, 'seated': 9140, 'sky': 9141, 'detached': 9142, 'preffered': 9143, 'stuffers': 9144, 'veeery': 9145, 'mostle': 9146, 'somthing': 9147, 'fas': 9148, 'wfi': 9149, 'soundbar': 9150, 'affodable': 9151, 'seventh': 9152, 'disrupt': 9153, 'wasthe': 9154, 'criticize': 9155, 'breath': 9156, 'hasnt': 9157, 'kindergarteners': 9158, 'ignorant': 9159, 'putin': 9160, 'secured': 9161, 'pound': 9162, 'yetfastestand': 9163, 'relaxation': 9164, 'usefulto': 9165, 'transfered': 9166, 'griendly': 9167, 'kerplot': 9168, 'gona': 9169, 'squenting': 9170, 'ph√≤ne': 9171, 'overwhelming': 9172, 'piggyback': 9173, 'megapixels': 9174, 'accounting': 9175, 'lagging': 9176, 'novel': 9177, 'feather': 9178, 'prints': 9179, 'qwerks': 9180, 'onternet': 9181, 'workmanship': 9182, 'abysmal': 9183, 'shorted': 9184, 'kicking': 9185, 'dwarfs': 9186, 'cream': 9187, 'stark': 9188, '16mb': 9189, 'intent': 9190, 'flavor': 9191, 'coexist': 9192, 'ztotop': 9193, 'backstrap': 9194, 'playbooks': 9195, 'tempted': 9196, 'mil': 9197, 'confess': 9198, 'universe': 9199, 'andriod': 9200, '8inch': 9201, 'hardwark': 9202, '50its': 9203, 'needy': 9204, 'lawrence': 9205, 'buffalo': 9206, 'recommenf': 9207, 'creation': 9208, 'history': 9209, 'dptrp1': 9210, '20ish': 9211, 'longshot': 9212, 'actuality': 9213, 'reportedly': 9214, 'bookworms': 9215, 'cages': 9216, 'gates': 9217, 'drastic': 9218, 'appple': 9219, 'fora': 9220, 'who‚äôs': 9221, 'solitary': 9222, 'axis': 9223, 'tosed': 9224, 'screan': 9225, 'soundresponsivealexa': 9226, 'awesomebest': 9227, 'pricebattery': 9228, '256gb': 9229, '2mp': 9230, 'hd‚äôs': 9231, 'mygirlfriend': 9232, 'smeary': 9233, 'featuring': 9234, 'extract': 9235, 'copied': 9236, 'blade': 9237, 'netbooks': 9238, 'zillionth': 9239, 'egad': 9240, 'it‚äôsadvertisement': 9241, 'scree': 9242, 'it‚äô': 9243, 'heavyweights': 9244, 'carseat': 9245, 'everyway': 9246, 'mamy': 9247, 'outgrown': 9248, 'permits': 9249, 'permit': 9250, 'evidenced': 9251, 'hating': 9252, 'terrified': 9253, 'deductible': 9254, 'kindie': 9255, 'chency': 9256, '1080p': 9257, 'cellphones': 9258, '2years': 9259, 'strangers': 9260, 'preview': 9261, 'baseline': 9262, 'hotmail': 9263, 'banks': 9264, 'surfuring': 9265, 'wil': 9266, 'surel': 9267, 'surfs': 9268, 'hound': 9269, 'hobby': 9270, '13k': 9271, 'interms': 9272, 'tokens': 9273, 'debit': 9274, 'nightmare': 9275, 'delivering': 9276, 'dents': 9277, 'provider': 9278, 'hokey': 9279, 'beefy': 9280, 'coloer': 9281, 'specify': 9282, 'coarse': 9283, 'transcribe': 9284, 'handwriting': 9285, 'suggests': 9286, 'conferencing': 9287, 'gran': 9288, 'unbreakable': 9289, 'adicting': 9290, 'youse': 9291, 'uncomplicated': 9292, '8gig': 9293, 'wieght': 9294, 'compelling': 9295, 'slowed': 9296, 'startup': 9297, 'clogged': 9298, 'promoting': 9299, 'weakness': 9300, 'ignored': 9301, 'dismissed': 9302, 'promo': 9303, 'folio': 9304, 'complications': 9305, 'emailing': 9306, 'sametime': 9307, 'buyand': 9308, 'renowned': 9309, 'predecessor': 9310, 'fav': 9311, 'victory': 9312, 'varying': 9313, 'forsee': 9314, 'hoopla': 9315, 'wit': 9316, '2gbs': 9317, 'customizing': 9318, 'hardest': 9319, 'arguably': 9320, 'humming': 9321, 'wash': 9322, 'conneseiur': 9323, 'matches': 9324, 'lifting': 9325, 'weights': 9326, 'tongift': 9327, 'enought': 9328, 'setback': 9329, '12gb': 9330, 'ypu': 9331, 'tou': 9332, 'netlfix': 9333, 'woeks': 9334, 'lounging': 9335, 'fragile': 9336, 'couples': 9337, 'streamming': 9338, 'workscons': 9339, 'agps': 9340, 'choppy': 9341, 'starte': 9342, 'gramps': 9343, 'tike': 9344, 'carpet': 9345, 'intentions': 9346, 'forum': 9347, 'planing': 9348, 'asd': 9349, 'meltdowns': 9350, 'meltdown': 9351, 'vga': 9352, 'turnoff': 9353, 'outlook': 9354, 'client': 9355, '‚äùtablet': 9356, 'sitters': 9357, 'multiwindow': 9358, 'authorize': 9359, 'theon': 9360, 'droppable': 9361, '99my': 9362, 'moblie': 9363, 'hotspots': 9364, 'dearly': 9365, 'availablility': 9366, 'ranging': 9367, 'maximized': 9368, '‚äúparent': 9369, 'control‚äù': 9370, 'westland': 9371, 'missouri': 9372, 'mossouri': 9373, 'jefferson': 9374, 'hassles': 9375, 'successfully': 9376, 'blessing': 9377, 'downs': 9378, 'spec': 9379, 'atmos': 9380, 'soundstage': 9381, 'straw': 9382, 'lamented': 9383, 'slamming': 9384, 'crafting': 9385, 'cricut': 9386, 'producteasy': 9387, 'compainion': 9388, 'gagets': 9389, 'pursued': 9390, 'swiped': 9391, 'changer': 9392, 'furthermore': 9393, 'mentally': 9394, 'fledged': 9395, 'primaril': 9396, 'resilience': 9397, 'heights': 9398, 'strengths': 9399, 'discretely': 9400, 'minors': 9401, 'sporting': 9402, 'dea': 9403, 'sideloaded': 9404, 'fastand': 9405, 'iô∏è': 9406, 'kuds': 9407, 'used6': 9408, 'impressing': 9409, 'knowledged': 9410, 'bumps': 9411, 'expressions': 9412, 'willbe': 9413, 'transports': 9414, 'prine': 9415, 'tabletwould': 9416, 'fro': 9417, 'everwhere': 9418, 'serving': 9419, 'aim': 9420, 'preset': 9421, '5ghz': 9422, 'showtime': 9423, 'cheesy': 9424, 'multitasks': 9425, 'let‚äôs': 9426, '5years': 9427, 'iseasy': 9428, 'mother‚äôs': 9429, 'mami‚äôs': 9430, 'she‚äôll': 9431, 'kurios': 9432, 'resists': 9433, 'purchashed': 9434, 'video‚äôs': 9435, 'asset': 9436, 'precision': 9437, 'fuller': 9438, 'ki8ds': 9439, 'brained': 9440, 'diagnosed': 9441, 'encephalitis': 9442, 'regain': 9443, 'replacinglove': 9444, 'freeplay': 9445, 'goddaughter': 9446, '1hr': 9447, 'grin': 9448, 'baked': 9449, 'bbc': 9450, 'huh': 9451, 'ghj': 9452, 'purely': 9453, 'eagerly': 9454, 'arguing': 9455, 'aforementioned': 9456, 'experimenting': 9457, 'crummy': 9458, 'retains': 9459, 'awkwardly': 9460, 'shoddy': 9461, 'viewwhere': 9462, 'documentaries': 9463, 'nowe': 9464, 'rmv': 9465, '3vstates': 9466, 'abusive': 9467, 'teachers': 9468, 'incase': 9469, 'potty': 9470, 'schoolwork': 9471, 'appointment': 9472, 'panted': 9473, 'mario': 9474, 'chocked': 9475, 'mission': 9476, 'slippy': 9477, 'attribute': 9478, 'ands': 9479, 'fritz': 9480, 'nauseum': 9481, 'crashing': 9482, 'dive': 9483, 'quickness': 9484, 'avery': 9485, 'sincemy': 9486, 'serviceman': 9487, 'wife‚äôs': 9488, 'sudoku': 9489, 'mymom': 9490, 'stall': 9491, 'tabley': 9492, 'brorher': 9493, 'instrument': 9494, 'easey': 9495, 'improvents': 9496, 'absolutelt': 9497, 'ise': 9498, 'enhances': 9499, 'withstood': 9500, 'stool': 9501, 'kindleeasy': 9502, 'staggering': 9503, 'boggles': 9504, 'bug': 9505, 'verygood': 9506, 'muted': 9507, 'bulkiness': 9508, 'resonable': 9509, 'transitioning': 9510, 'runnig': 9511, 'averything': 9512, 'forcibly': 9513, 'demonstrated': 9514, '1month': 9515, 'old‚äôs': 9516, 'macular': 9517, 'degeneration': 9518, 'flashiest': 9519, '1and': 9520, 'youself': 9521, 'tempeture': 9522, 'detailing': 9523, 'crafty': 9524, 'serviceskindle': 9525, 'amazonbut': 9526, 'firehd': 9527, 'skinned': 9528, 'lolipop': 9529, 'nougat': 9530, 'semitransparent': 9531, 'blackish': 9532, 'pefect': 9533, 'iimited': 9534, 'comixology': 9535, 'pixilated': 9536, 'we‚äôve': 9537, 'deivce': 9538, 'vet': 9539, 'buffered': 9540, 'reaching': 9541, 'youd': 9542, 'modded': 9543, 'filters': 9544, 'doh': 9545, 'juvenile': 9546, 'mini4': 9547, 'meantime': 9548, 'alerting': 9549, '20s': 9550, 'outta': 9551, 'compaired': 9552, 'qualitygreat': 9553, 'screenshot': 9554, 'possibilty': 9555, 'callinh': 9556, 'firstly': 9557, 'persons': 9558, 'adept': 9559, 'cushion': 9560, 'wheels': 9561, 'spinning': 9562, 'incapabilities': 9563, 'populated': 9564, 'unexplained': 9565, 'elders': 9566, 'gbyte': 9567, 'header': 9568, 'cyber': 9569, 'insistence': 9570, 'subsequent': 9571, 'complex': 9572, 'troublesome': 9573, 'ponying': 9574, 'contaced': 9575, 'concluded': 9576, 'framework': 9577, 'painless': 9578, 'daycare': 9579, 'divice': 9580, 'clud': 9581, 'thur': 9582, 'calm': 9583, 'imposed': 9584, 'voices': 9585, 'kissing': 9586, 'forkids': 9587, 'prep': 9588, 'deregistered': 9589, 'jeep': 9590, 'buggin': 9591, '‚äúyou': 9592, 'tube‚äù': 9593, 'manny': 9594, 'comeon': 9595, 'fulfills': 9596, 'britbox': 9597, 'dementia': 9598, 'overwhelmed': 9599, 'connivence': 9600, 'sake': 9601, 'wacky': 9602, 'crashes': 9603, 'bouncing': 9604, 'os‚äô': 9605, 'vast': 9606, 'coverts': 9607, 'happend': 9608, 'adapting': 9609, 'aluminium': 9610, 'oven': 9611, 'convection': 9612, 'blemish': 9613, 'detract': 9614, 'slash': 9615, 'sweaty': 9616, 'capturing': 9617, 'stanby': 9618, 'backside': 9619, 'grippy': 9620, 'epaper': 9621, 'unreasonable': 9622, 'whispersync': 9623, 'airpod': 9624, 'emailed': 9625, 'inquiring': 9626, 'registration': 9627, 'submitted': 9628, 'slowness': 9629, 'grandniece': 9630, 'gravitated': 9631, 'certainty': 9632, 'ttje': 9633, 'backpacking': 9634, 'haul': 9635, 'pigeon': 9636, 'holed': 9637, 'declines': 9638, 'monopoly': 9639, 'cutting': 9640, 'zooms': 9641, 'notification': 9642, 'reminded': 9643, 'doesnot': 9644, 'compacted': 9645, 'brighten': 9646, 'flickers': 9647, 'battary': 9648, 'curriculum': 9649, 'glear': 9650, 'oss': 9651, 'demerit': 9652, 'thereafter': 9653, 'kns': 9654, 'daytime': 9655, '2yo': 9656, 'beech': 9657, 'bookworm': 9658, 'simplistic': 9659, 'suprises': 9660, 'thouroughly': 9661, 'adventures': 9662, 'unbelievably': 9663, 'delay': 9664, 'completion': 9665, 'highlighted': 9666, 'compiled': 9667, 'optimist': 9668, 'rad': 9669, 'lovit': 9670, 'caveman': 9671, 'silicone': 9672, 'touchable': 9673, 'worms': 9674, 'touchy': 9675, 'sicnce': 9676, 'dmv': 9677, 'bifocals': 9678, 'migraines': 9679, 'crossed': 9680, 'headaches': 9681, 'understandably': 9682, 'defected': 9683, '4gig': 9684, '1gig': 9685, 'reverse': 9686, 'realise': 9687, 'wwan': 9688, 'matted': 9689, 'illiterate': 9690, 'bled': 9691, 'phrases': 9692, 'collected': 9693, 'inadvertant': 9694, 'twitchy': 9695, 'erasing': 9696, 'dreregistering': 9697, 'prompted': 9698, 'deduct': 9699, 'calibre': 9700, 'plugging': 9701, 'unknown': 9702, 'cycled': 9703, 'corrupted': 9704, 'infinite': 9705, 'loop': 9706, 'refurbishment': 9707, 'gigabit': 9708, 'severely': 9709, 'handicapped': 9710, 'armchair': 9711, '11year': 9712, 'bathtub': 9713, 'baths': 9714, 'tulsa': 9715, 'struggled': 9716, 'theory': 9717, 'desperate': 9718, 'oddly': 9719, 'gingerbread': 9720, 'inputting': 9721, 'domke': 9722, 'lenses': 9723, 'tailor': 9724, 'sewed': 9725, 'paring': 9726, 'hid': 9727, 'blackberry': 9728, 'playbook': 9729, 'transformer': 9730, 'digit': 9731, 'viewable': 9732, 'alphanumeric': 9733, 'omissions': 9734, 'down2': 9735, 'spaced': 9736, 'spacious': 9737, 'smallish': 9738, 'sparse': 9739, 'hzdc': 9740, 'ampsthis': 9741, 'flextronics': 9742, 'a00810': 9743, 'condo': 9744, 'nothin': 9745, 'intermittently': 9746, 'preferably': 9747, 'disintegrating': 9748, 'isulation': 9749, 'slave': 9750, 'imported': 9751, 'cablesanyonei': 9752, 'donuts': 9753, 'bloom': 9754, '10s': 9755, 'mature': 9756, 'undergo': 9757, 'radioactive': 9758, 'decay': 9759, 'sequin': 9760, 'nashville': 9761, 'congrats': 9762, 'recommendations': 9763, 'indicators': 9764, 'asesome': 9765, 'begrudge': 9766, 'genuinely': 9767, 'miro': 9768, 'dizzying': 9769, 'delegating': 9770, 'foremost': 9771, 'alleviating': 9772, 'considerate': 9773, 'trifold': 9774, 'dishes': 9775, 'cook': 9776, 'willynilly': 9777, 'inexspensive': 9778, 'recreation': 9779, 'negotiate': 9780, 'reclining': 9781, 'inthe': 9782, 'simplty': 9783, 'graduate': 9784, 'twitch': 9785, 'crews': 9786, 'boggling': 9787, '240gb': 9788, 'restarts': 9789, 'jazz': 9790, 'muss': 9791, 'prettier': 9792, 'deployment': 9793, 'blueray': 9794, 'twhat': 9795, 'relable': 9796, 'darkens': 9797, 'bothersome': 9798, 'awesomely': 9799, 'an¬†inexpensive': 9800, 'amout': 9801, 'highlygreat': 9802, '‚äãis': 9803, 'tbe': 9804, 'tbey': 9805, 'casino': 9806, 'moneyenough': 9807, 'gamesdecent': 9808, 'lifecons': 9809, 'weekslow': 9810, 'grest': 9811, '1mobile': 9812, 'roots': 9813, 'woudl': 9814, 'coclors': 9815, '6gb': 9816, 'mixture': 9817, 'goggles': 9818, 'frienday': 9819, 'morei': 9820, 'fsntastic': 9821, 'settling': 9822, 'qualitygood': 9823, 'moneycan': 9824, 'awesomeness': 9825, 'xan': 9826, 'microtransactions': 9827, 'childthis': 9828, 'fide': 9829, 'overjoyed': 9830, 'weighted': 9831, 'imy': 9832, 'becazuse': 9833, 'haf': 9834, 'stoeage': 9835, 'babysit': 9836, 'disappointments': 9837, 'unimpressive': 9838, 'drawbacks': 9839, 'humans': 9840, 'perpetually': 9841, 'stickum': 9842, 'anxiety': 9843, 'inducing': 9844, 'demonstrate': 9845, 'murphy': 9846, 'economic': 9847, 'truely': 9848, 'narration': 9849, 'graded': 9850, 'customet': 9851, 'tabket': 9852, 'featuers': 9853, 'malfunctioning': 9854, 'wen': 9855, 'lounger': 9856, 'paretal': 9857, 'probobly': 9858, 'lagginess': 9859, 'ipad2': 9860, 'cortonna': 9861, 'hates': 9862, 'camer': 9863, 'costed': 9864, 'mayday': 9865, 'gateway': 9866, 'reaction': 9867, 'shades': 9868, 'scheduling': 9869, 'alertanative': 9870, 'pearl': 9871, 'rearvision': 9872, 'mounts': 9873, 'magnetically': 9874, 'vent': 9875, 'kindlelishous': 9876, 'competent': 9877, 'relies': 9878, 'readi': 9879, 'blanking': 9880, 'moztly': 9881, 'bookreader': 9882}\n"
     ]
    }
   ],
   "source": [
    "print(sequence_dict)"
   ]
  },
  {
   "cell_type": "code",
   "execution_count": 51,
   "metadata": {
    "_uuid": "76d4867e7874b9f5e00ffdd38fc5595c3084f49d"
   },
   "outputs": [
    {
     "name": "stdout",
     "output_type": "stream",
     "text": [
      "{1: 'great', 2: 'batteries', 3: 'tablet', 4: 'good', 5: 'price', 6: 'use', 7: 'amazon', 8: 'love', 9: 'bought', 10: 'easy', 11: 'kindle', 12: 'one', 13: 'long', 14: 'kids', 15: 'like', 16: 'well', 17: 'work', 18: 'last', 19: 'buy', 20: 'loves', 21: 'fire', 22: 'old', 23: 'battery', 24: 'time', 25: 'would', 26: 'product', 27: 'get', 28: 'year', 29: 'apps', 30: 'games', 31: 'much', 32: 'screen', 33: 'works', 34: 'better', 35: 'books', 36: 'really', 37: 'quality', 38: 'best', 39: 'purchased', 40: 'brand', 41: 'also', 42: 'got', 43: 'far', 44: 'nice', 45: 'name', 46: 'reading', 47: 'read', 48: 'play', 49: 'used', 50: 'perfect', 51: 'value', 52: 'recommend', 53: 'gift', 54: 'device', 55: 'store', 56: 'life', 57: 'son', 58: 'little', 59: 'size', 60: 'new', 61: 'daughter', 62: 'purchase', 63: 'lot', 64: 'need', 65: 'brands', 66: 'using', 67: 'christmas', 68: 'seem', 69: 'deal', 70: 'happy', 71: 'set', 72: 'case', 73: 'many', 74: 'still', 75: 'even', 76: 'ipad', 77: 'first', 78: 'money', 79: 'excellent', 80: 'tablets', 81: 'light', 82: 'fast', 83: 'two', 84: 'everything', 85: 'duracell', 86: 'could', 87: 'movies', 88: 'free', 89: 'way', 90: 'cheap', 91: 'want', 92: 'able', 93: 'awesome', 94: 'put', 95: 'charge', 96: 'fine', 97: 'always', 98: 'since', 99: 'pretty', 100: 'years', 101: 'every', 102: 'things', 103: 'features', 104: 'wanted', 105: 'buying', 106: 'enough', 107: 'never', 108: 'say', 109: 'without', 110: 'app', 111: 'big', 112: 'watch', 113: 'right', 114: 'kid', 115: 'music', 116: 'reader', 117: 'grandson', 118: 'back', 119: 'box', 120: 'small', 121: 'expensive', 122: 'definitely', 123: 'needed', 124: 'around', 125: 'internet', 126: 'child', 127: 'less', 128: 'worth', 129: 'prime', 130: 'download', 131: 'beat', 132: 'seems', 133: 'google', 134: 'day', 135: 'longer', 136: 'keep', 137: 'cheaper', 138: 'take', 139: 'think', 140: 'see', 141: 'thing', 142: 'wife', 143: 'children', 144: 'learning', 145: 'cost', 146: 'find', 147: 'looking', 148: 'know', 149: 'videos', 150: 'make', 151: 'another', 152: 'sure', 153: 'going', 154: 'something', 155: 'access', 156: 'getting', 157: 'friendly', 158: 'granddaughter', 159: 'item', 160: 'sound', 161: 'parental', 162: 'toys', 163: 'performance', 164: 'loved', 165: 'ones', 166: 'needs', 167: 'camera', 168: 'makes', 169: 'expected', 170: 'aaa', 171: 'uses', 172: 'working', 173: 'made', 174: 'low', 175: 'power', 176: 'storage', 177: 'times', 178: 'found', 179: 'come', 180: 'pack', 181: 'issues', 182: 'etc', 183: 'lasting', 184: 'amazing', 185: 'playing', 186: 'worked', 187: 'overall', 188: 'several', 189: 'ever', 190: 'lots', 191: 'controls', 192: 'highly', 193: 'enjoy', 194: 'months', 195: 'alexa', 196: 'hours', 197: 'durable', 198: 'book', 199: 'hold', 200: 'replace', 201: 'products', 202: 'user', 203: 'came', 204: 'available', 205: 'comes', 206: 'energizer', 207: 'quickly', 208: 'basic', 209: 'different', 210: 'devices', 211: 'yet', 212: 'problem', 213: 'days', 214: 'order', 215: 'remote', 216: 'already', 217: 'memory', 218: 'amazonbasics', 219: 'however', 220: 'home', 221: 'phone', 222: 'though', 223: 'easier', 224: 'bit', 225: 'lasted', 226: 'pay', 227: 'basics', 228: 'thought', 229: 'version', 230: 'anything', 231: 'run', 232: 'high', 233: 'tap', 234: 'problems', 235: 'pleased', 236: 'warranty', 237: 'older', 238: 'card', 239: 'android', 240: 'echo', 241: 'decent', 242: 'web', 243: 'give', 244: 'black', 245: 'plus', 246: 'bad', 247: 'especially', 248: 'fun', 249: 'wish', 250: 'absolutely', 251: 'wifi', 252: 'top', 253: 'watching', 254: 'difference', 255: 'simple', 256: 'netflix', 257: 'house', 258: 'control', 259: 'second', 260: 'compared', 261: 'clear', 262: 'hard', 263: 'mom', 264: 'easily', 265: 'tried', 266: 'packaging', 267: 'navigate', 268: 'look', 269: 'super', 270: 'hand', 271: 'decided', 272: 'sale', 273: 'keeps', 274: 'color', 275: 'slow', 276: 'family', 277: 'speaker', 278: 'amount', 279: 'reviews', 280: 'quite', 281: 'job', 282: 'almost', 283: 'faster', 284: 'charging', 285: 'cover', 286: 'items', 287: 'thanks', 288: 'educational', 289: 'others', 290: 'affordable', 291: 'remotes', 292: 'age', 293: 'account', 294: 'content', 295: 'voyage', 296: 'month', 297: 'inexpensive', 298: 'picture', 299: 'may', 300: 'alkaline', 301: 'went', 302: 'anyone', 303: 'laptop', 304: 'week', 305: 'tell', 306: 'video', 307: 'game', 308: 'online', 309: 'else', 310: 'turn', 311: 'extra', 312: 'portable', 313: 'shows', 314: 'display', 315: 'model', 316: 'feel', 317: 'weeks', 318: 'try', 319: 'glad', 320: 'said', 321: 'stuff', 322: 'upgrade', 323: 'page', 324: 'disappointed', 325: 'point', 326: 'wrong', 327: 'fact', 328: 'birthday', 329: 'favorite', 330: 'friday', 331: 'actually', 332: 'replacement', 333: 'change', 334: 'gave', 335: 'computer', 336: 'took', 337: 'lasts', 338: 'nothing', 339: 'couple', 340: 'previous', 341: 'takes', 342: 'carry', 343: 'done', 344: 'half', 345: 'ordered', 346: 'three', 347: 'weight', 348: 'add', 349: 'cannot', 350: 'kindles', 351: 'satisfied', 352: 'full', 353: 'instead', 354: 'resolution', 355: 'feature', 356: 'probably', 357: 'help', 358: 'experience', 359: 'complaints', 360: 'dead', 361: 'package', 362: 'mouse', 363: 'charger', 364: 'bigger', 365: 'space', 366: 'larger', 367: 'likes', 368: 'paperwhite', 369: 'replaced', 370: 'grandkids', 371: 'mother', 372: 'exactly', 373: 'thank', 374: 'issue', 375: 'arrived', 376: 'ease', 377: 'apple', 378: 'quick', 379: 'wireless', 380: 'perfectly', 381: 'lights', 382: 'reason', 383: 'wonderful', 384: 'xbox', 385: 'convenient', 386: 'side', 387: 'school', 388: 'downloaded', 389: 'stars', 390: 'learn', 391: 'plenty', 392: 'regular', 393: 'service', 394: 'email', 395: 'niece', 396: 'next', 397: 'purchasing', 398: 'young', 399: 'keyboard', 400: 'gets', 401: 'travel', 402: 'touch', 403: 'save', 404: 'youtube', 405: 'option', 406: 'husband', 407: 'ago', 408: 'plays', 409: 'large', 410: 'maybe', 411: 'night', 412: 'smaller', 413: 'packaged', 414: 'expect', 415: 'grand', 416: 'bulk', 417: 'original', 418: 'present', 419: 'library', 420: 'enjoys', 421: 'described', 422: 'sometimes', 423: 'anywhere', 424: 'button', 425: 'spend', 426: 'open', 427: 'speed', 428: 'options', 429: 'liked', 430: 'end', 431: 'received', 432: 'load', 433: 'review', 434: 'check', 435: 'unit', 436: 'priced', 437: 'ability', 438: 'extremely', 439: 'started', 440: 'often', 441: 'fantastic', 442: 'advertised', 443: 'allows', 444: 'dropped', 445: 'short', 446: 'must', 447: 'four', 448: 'lightweight', 449: 'system', 450: 'hands', 451: 'nephew', 452: 'ads', 453: 'samsung', 454: 'fit', 455: 'shipping', 456: 'away', 457: 'choice', 458: 'fits', 459: 'controllers', 460: 'pictures', 461: 'trying', 462: 'impressed', 463: 'mostly', 464: 'enjoying', 465: 'electronics', 466: 'either', 467: 'hd8', 468: 'worry', 469: 'people', 470: 'oasis', 471: 'update', 472: 'might', 473: 'recommended', 474: 'bluetooth', 475: 'real', 476: 'installed', 477: 'limited', 478: 'inch', 479: 'reasonable', 480: 'least', 481: 'charged', 482: 'surprised', 483: 'toddler', 484: 'setup', 485: 'daily', 486: 'break', 487: 'let', 488: 'browsing', 489: 'believe', 490: 'strong', 491: 'member', 492: 'eyes', 493: 'mine', 494: 'edition', 495: 'surfing', 496: 'wants', 497: 'taking', 498: 'rechargeable', 499: 'start', 500: 'buttons', 501: 'running', 502: 'flashlights', 503: 'someone', 504: 'facebook', 505: 'car', 506: 'major', 507: 'plastic', 508: 'handy', 509: 'returned', 510: 'return', 511: 'appropriate', 512: 'protective', 513: 'mini', 514: 'everyday', 515: 'listen', 516: 'usually', 517: 'enjoyed', 518: 'past', 519: 'minutes', 520: 'within', 521: 'line', 522: 'future', 523: 'friend', 524: 'yes', 525: 'paid', 526: 'making', 527: 'huge', 528: 'bright', 529: 'broke', 530: 'third', 531: 'ask', 532: 'parents', 533: 'tech', 534: 'reliable', 535: 'safe', 536: 'die', 537: 'looks', 538: 'noticed', 539: 'built', 540: 'generation', 541: 'tool', 542: 'entertained', 543: 'although', 544: 'mainly', 545: 'place', 546: 'continue', 547: 'market', 548: 'higher', 549: 'finally', 550: 'per', 551: 'show', 552: 'goes', 553: 'sturdy', 554: 'led', 555: 'candles', 556: 'room', 557: 'purpose', 558: 'install', 559: 'settings', 560: 'speakers', 561: 'adults', 562: 'usage', 563: 'tested', 564: 'comparable', 565: 'fraction', 566: 'solid', 567: 'due', 568: 'added', 569: 'test', 570: 'part', 571: 'useful', 572: 'wait', 573: 'figure', 574: 'colors', 575: 'mode', 576: 'stock', 577: 'rather', 578: 'along', 579: 'perform', 580: 'photos', 581: 'tab', 582: 'dollar', 583: 'included', 584: 'shopping', 585: 'limit', 586: 'downloading', 587: 'holds', 588: 'operate', 589: 'nook', 590: 'packs', 591: 'table', 592: 'everyone', 593: 'white', 594: 'friends', 595: 'cant', 596: 'entertainment', 597: 'kind', 598: 'normal', 599: 'bargain', 600: 'dont', 601: 'soon', 602: 'close', 603: 'limits', 604: 'fully', 605: 'multiple', 606: 'left', 607: 'compact', 608: 'person', 609: 'adult', 610: 'choose', 611: 'media', 612: 'compare', 613: 'customer', 614: 'sister', 615: 'gifts', 616: 'helpful', 617: 'connect', 618: 'trips', 619: 'delivery', 620: 'runs', 621: 'lower', 622: 'design', 623: 'port', 624: 'annoying', 625: 'connection', 626: 'setting', 627: 'streaming', 628: 'ebooks', 629: 'ordering', 630: 'gaming', 631: 'heavy', 632: 'complaint', 633: 'plug', 634: 'drops', 635: 'blue', 636: 'toy', 637: 'profile', 638: 'controller', 639: 'tons', 640: 'fan', 641: 'died', 642: 'understand', 643: 'everywhere', 644: 'ages', 645: 'traveling', 646: 'upgraded', 647: 'shelf', 648: 'offers', 649: 'voice', 650: 'alternative', 651: 'wrapped', 652: 'cool', 653: 'special', 654: 'drain', 655: 'difficult', 656: 'kept', 657: 'outside', 658: 'loaded', 659: 'plan', 660: 'graphics', 661: 'local', 662: 'simply', 663: 'comfortable', 664: 'handle', 665: 'owned', 666: 'subscription', 667: 'costco', 668: 'prices', 669: 'trip', 670: 'questions', 671: 'protection', 672: 'hour', 673: 'holding', 674: 'allow', 675: 'front', 676: 'waste', 677: 'opened', 678: 'listening', 679: 'law', 680: 'cardboard', 681: 'alot', 682: 'star', 683: 'gives', 684: 'lighter', 685: 'ereader', 686: 'parent', 687: 'purse', 688: 'pad', 689: 'stores', 690: 'based', 691: 'turned', 692: 'recently', 693: 'otherwise', 694: 'purchases', 695: 'hit', 696: 'level', 697: 'pre', 698: 'drop', 699: 'appear', 700: 'quantity', 701: 'standard', 702: 'pages', 703: 'whole', 704: 'delivered', 705: 'emails', 706: 'looked', 707: 'cable', 708: 'constantly', 709: 'paper', 710: 'functions', 711: 'viewing', 712: 'non', 713: 'previously', 714: 'duracells', 715: 'ton', 716: 'expectations', 717: 'dollars', 718: 'similar', 719: 'lock', 720: 'feels', 721: 'movie', 722: 'opinion', 723: 'capacity', 724: 'nicely', 725: 'guess', 726: 'later', 727: 'brought', 728: 'micro', 729: 'stream', 730: 'stand', 731: 'freetime', 732: 'sizes', 733: 'dad', 734: 'addition', 735: 'seen', 736: 'idea', 737: 'technology', 738: 'surf', 739: 'nearly', 740: 'five', 741: 'hope', 742: 'normally', 743: 'twice', 744: 'giving', 745: 'helps', 746: 'busy', 747: 'thinking', 748: 'switch', 749: 'cameras', 750: 'okay', 751: 'leak', 752: 'budget', 753: 'text', 754: 'ipads', 755: 'programs', 756: 'held', 757: 'number', 758: 'poor', 759: 'unlimited', 760: 'readers', 761: 'none', 762: 'lol', 763: 'told', 764: 'bumper', 765: 'crazy', 766: 'date', 767: 'inside', 768: 'applications', 769: 'stick', 770: 'primarily', 771: 'require', 772: 'powerful', 773: 'mind', 774: 'excited', 775: 'ready', 776: 'worst', 777: 'picked', 778: 'responsive', 779: 'additional', 780: 'operated', 781: 'office', 782: 'sharp', 783: 'electronic', 784: 'powered', 785: 'prefer', 786: 'complain', 787: 'given', 788: 'unless', 789: 'main', 790: 'pro', 791: '2nd', 792: 'turning', 793: 'audio', 794: 'users', 795: 'ended', 796: 'news', 797: 'expandable', 798: 'search', 799: 'batch', 800: 'leaked', 801: 'terrible', 802: 'subscribe', 803: 'stop', 804: 'brother', 805: 'models', 806: 'grandchildren', 807: 'clarity', 808: 'seemed', 809: 'digital', 810: 'knew', 811: 'certain', 812: 'totally', 813: 'stopped', 814: 'says', 815: 'saw', 816: 'loving', 817: 'functionality', 818: 'supposed', 819: 'figured', 820: 'course', 821: 'various', 822: 'usb', 823: 'keeping', 824: 'weather', 825: 'road', 826: 'sales', 827: 'software', 828: 'interface', 829: 'cell', 830: 'except', 831: 'pick', 832: 'world', 833: 'bottom', 834: 'designed', 835: 'average', 836: 'spent', 837: 'function', 838: 'downloads', 839: 'considering', 840: '3rd', 841: 'gotten', 842: 'move', 843: 'smart', 844: 'functional', 845: 'completely', 846: 'learned', 847: 'reads', 848: 'cord', 849: 'browser', 850: 'beginner', 851: 'view', 852: 'charges', 853: 'immediately', 854: 'piece', 855: 'brightness', 856: 'father', 857: 'damage', 858: 'pink', 859: 'galaxy', 860: 'processor', 861: 'bag', 862: 'today', 863: 'fairly', 864: 'pros', 865: 'replacing', 866: 'instructions', 867: 'support', 868: 'connected', 869: 'crisp', 870: 'magazines', 871: 'offer', 872: 'type', 873: 'including', 874: 'loose', 875: 'negative', 876: 'stay', 877: 'remove', 878: 'step', 879: 'dot', 880: 'selection', 881: 'clock', 882: 'buck', 883: 'bunch', 884: 'longevity', 885: 'boys', 886: 'beautiful', 887: 'basically', 888: 'versions', 889: 'variety', 890: 'improvement', 891: 'portability', 892: 'starter', 893: '16gb', 894: 'pair', 895: 'remember', 896: 'flashlight', 897: 'volume', 898: 'drive', 899: 'avid', 900: 'it‚äôs', 901: 'rayovac', 902: 'household', 903: 'general', 904: 'convenience', 905: 'asked', 906: 'waiting', 907: 'outstanding', 908: 'services', 909: 'operating', 910: 'junk', 911: 'results', 912: 'trouble', 913: 'leaking', 914: 'bed', 915: 'radio', 916: 'broken', 917: 'sons', 918: 'bang', 919: 'shipped', 920: 'expecting', 921: 'anymore', 922: 'baby', 923: 'lighting', 924: 'personal', 925: 'ran', 926: 'checking', 927: 'shop', 928: 'changed', 929: 'information', 930: 'daughters', 931: 'flash', 932: 'program', 933: 'members', 934: 'latest', 935: 'newer', 936: 'thus', 937: 'names', 938: 'putting', 939: 'provide', 940: 'hoping', 941: 'live', 942: 'please', 943: 'returning', 944: 'proof', 945: 'lost', 946: 'provides', 947: 'data', 948: 'six', 949: 'phones', 950: 'social', 951: 'onto', 952: 'generic', 953: 'durability', 954: 'single', 955: 'awhile', 956: 'press', 957: 'iphone', 958: 'earlier', 959: 'rate', 960: 'trust', 961: 'important', 962: 'whatever', 963: 'care', 964: 'energizers', 965: 'investment', 966: 'leave', 967: 'forward', 968: 'sold', 969: 'slot', 970: 'capabilities', 971: 'dark', 972: 'protected', 973: 'geek', 974: 'rest', 975: 'gone', 976: 'biggest', 977: 'cons', 978: 'younger', 979: 'girl', 980: 'automatically', 981: 'profiles', 982: 'means', 983: 'saying', 984: 'copper', 985: 'double', 986: 'alone', 987: 'downside', 988: 'tough', 989: 'happier', 990: 'bucks', 991: 'accidentally', 992: 'activities', 993: 'branded', 994: 'coming', 995: 'con', 996: 'heard', 997: 'rough', 998: 'fix', 999: 'toddlers', 1000: 'win', 1001: 'loading', 1002: 'build', 1003: 'savvy', 1004: 'door', 1005: 'reasonably', 1006: 'sell', 1007: 'clocks', 1008: 'prior', 1009: 'upon', 1010: 'numerous', 1011: 'recharge', 1012: 'unfortunately', 1013: 'rating', 1014: 'area', 1015: 'matter', 1016: 'range', 1017: 'xmas', 1018: 'serves', 1019: 'packages', 1020: 'knowing', 1021: 'wont', 1022: 'comparison', 1023: 'currently', 1024: 'hate', 1025: 'talk', 1026: 'unlike', 1027: 'pass', 1028: 'asking', 1029: 'equipment', 1030: 'holidays', 1031: 'receive', 1032: 'helped', 1033: 'fresh', 1034: 'slightly', 1035: 'backpack', 1036: 'backlight', 1037: 'popular', 1038: 'mail', 1039: 'pocket', 1040: 'forever', 1041: 'business', 1042: 'honestly', 1043: 'groups', 1044: 'research', 1045: 'timer', 1046: 'loud', 1047: 'finding', 1048: 'improved', 1049: 'adjust', 1050: 'audible', 1051: 'near', 1052: 'packed', 1053: 'fair', 1054: 'sense', 1055: 'sent', 1056: 'disappointing', 1057: 'spending', 1058: 'miss', 1059: 'acid', 1060: 'notice', 1061: 'wall', 1062: 'together', 1063: 'college', 1064: 'lets', 1065: 'performs', 1066: 'thrilled', 1067: 'updated', 1068: 'nabi', 1069: 'beginners', 1070: 'selling', 1071: 'energy', 1072: 'typical', 1073: 'browse', 1074: 'sets', 1075: 'early', 1076: 'thru', 1077: 'played', 1078: 'interested', 1079: 'boy', 1080: 'met', 1081: 'bonus', 1082: 'photo', 1083: 'rubber', 1084: 'squad', 1085: 'chance', 1086: 'sitting', 1087: 'certainly', 1088: 'class', 1089: 'opening', 1090: 'shrink', 1091: 'become', 1092: 'brainer', 1093: 'turns', 1094: 'known', 1095: 'offered', 1096: 'sounds', 1097: 'note', 1098: 'constant', 1099: '4th', 1100: 'grandchild', 1101: 'monitor', 1102: 'chose', 1103: 'lag', 1104: '1st', 1105: 'preloaded', 1106: 'horrible', 1107: 'kirkland', 1108: 'tired', 1109: 'didnt', 1110: 'paying', 1111: 'true', 1112: 'fancy', 1113: 'frequently', 1114: 'supply', 1115: 'span', 1116: 'material', 1117: 'smooth', 1118: 'specs', 1119: 'frustrating', 1120: 'lack', 1121: 'via', 1122: 'hdx', 1123: 'cracked', 1124: 'ram', 1125: 'company', 1126: 'list', 1127: 'felt', 1128: 'middle', 1129: 'adds', 1130: 'economical', 1131: 'meets', 1132: 'entire', 1133: 'send', 1134: 'efficient', 1135: 'separate', 1136: 'protect', 1137: 'accounts', 1138: 'ive', 1139: 'purposes', 1140: 'specifically', 1141: 'lives', 1142: 'throw', 1143: 'headphones', 1144: 'properly', 1145: 'promised', 1146: 'hear', 1147: 'required', 1148: 'plugged', 1149: 'credit', 1150: 'worse', 1151: 'relatively', 1152: 'appears', 1153: 'intended', 1154: 'rides', 1155: 'occupied', 1156: 'share', 1157: 'performed', 1158: 'premium', 1159: 'consider', 1160: 'leading', 1161: 'needing', 1162: 'truly', 1163: 'originally', 1164: 'click', 1165: 'total', 1166: 'beats', 1167: 'decision', 1168: 'guarantee', 1169: 'external', 1170: 'happened', 1171: 'noticeable', 1172: 'lit', 1173: 'network', 1174: 'base', 1175: 'stays', 1176: 'hulu', 1177: 'words', 1178: 'wanting', 1179: 'menu', 1180: 'sunlight', 1181: 'font', 1182: 'homework', 1183: 'current', 1184: 'possible', 1185: 'despite', 1186: 'face', 1187: 'gadgets', 1188: 'appreciate', 1189: 'effective', 1190: 'hundreds', 1191: 'sleeve', 1192: 'wrap', 1193: 'saver', 1194: 'saved', 1195: 'failed', 1196: 'wow', 1197: 'actual', 1198: 'anyway', 1199: 'changing', 1200: 'across', 1201: 'info', 1202: 'factor', 1203: 'till', 1204: 'grandsons', 1205: 'lose', 1206: 'youngest', 1207: 'glare', 1208: 'missing', 1209: 'weak', 1210: 'switched', 1211: 'likely', 1212: 'barely', 1213: 'par', 1214: 'steal', 1215: 'length', 1216: 'discount', 1217: 'skeptical', 1218: 'seeing', 1219: 'carrying', 1220: 'thin', 1221: 'auto', 1222: 'screens', 1223: 'versatile', 1224: 'entertaining', 1225: 'format', 1226: 'magazine', 1227: 'conditions', 1228: 'testing', 1229: 'cases', 1230: 'experienced', 1231: 'personally', 1232: 'literally', 1233: 'obviously', 1234: 'ahead', 1235: 'bother', 1236: 'penny', 1237: 'rear', 1238: 'intuitive', 1239: 'commands', 1240: 'locked', 1241: 'plane', 1242: 'watches', 1243: 'tube', 1244: 'juice', 1245: 'application', 1246: 'internal', 1247: 'wise', 1248: 'source', 1249: 'happen', 1250: 'guy', 1251: 'tag', 1252: 'regret', 1253: 'flawlessly', 1254: 'checked', 1255: 'shorter', 1256: 'greatest', 1257: 'installing', 1258: 'perhaps', 1259: 'moving', 1260: 'wear', 1261: 'impossible', 1262: 'word', 1263: 'loads', 1264: 'bestbuy', 1265: 'connectivity', 1266: 'silk', 1267: 'backup', 1268: 'advantage', 1269: 'party', 1270: 'clean', 1271: 'bring', 1272: 'adequate', 1273: 'typically', 1274: 'cells', 1275: 'avoid', 1276: 'doubt', 1277: 'surprisingly', 1278: 'breaks', 1279: 'dim', 1280: 'changes', 1281: 'luck', 1282: 'called', 1283: 'response', 1284: 'defective', 1285: 'necessary', 1286: 'membership', 1287: 'site', 1288: 'tabs', 1289: 'lacks', 1290: 'enjoyable', 1291: 'capability', 1292: 'cause', 1293: 'pricing', 1294: 'drawer', 1295: 'sorry', 1296: 'deals', 1297: 'smoke', 1298: 'manufacturer', 1299: 'surprise', 1300: 'voltage', 1301: 'discovered', 1302: 'regularly', 1303: 'searching', 1304: 'pleasure', 1305: 'behind', 1306: 'print', 1307: 'allowed', 1308: 'exceeded', 1309: 'generally', 1310: 'reset', 1311: 'shut', 1312: 'choices', 1313: 'ebook', 1314: 'swipe', 1315: 'freezes', 1316: 'ecosystem', 1317: 'ship', 1318: 'hopefully', 1319: 'candle', 1320: 'air', 1321: 'bunny', 1322: 'extended', 1323: 'advertising', 1324: 'machine', 1325: 'post', 1326: 'savings', 1327: 'knows', 1328: 'honest', 1329: 'rechargeables', 1330: 'overpriced', 1331: 'water', 1332: 'speak', 1333: 'pop', 1334: 'brighter', 1335: 'ways', 1336: 'self', 1337: 'breaking', 1338: 'com', 1339: 'damaged', 1340: 'aware', 1341: 'pics', 1342: 'protector', 1343: 'tasks', 1344: 'fires', 1345: 'drawback', 1346: 'sites', 1347: 'password', 1348: 'sooner', 1349: 'terms', 1350: 'example', 1351: 'living', 1352: 'whether', 1353: 'mess', 1354: 'taken', 1355: 'cents', 1356: 'process', 1357: 'aas', 1358: 'question', 1359: 'cut', 1360: 'pleasantly', 1361: 'rely', 1362: 'amazed', 1363: 'quicker', 1364: 'showed', 1365: 'player', 1366: 'boxes', 1367: 'key', 1368: 'expand', 1369: 'cartoons', 1370: 'answer', 1371: 'starting', 1372: 'increase', 1373: 'exchange', 1374: 'olds', 1375: 'cloud', 1376: 'protects', 1377: 'downfall', 1378: 'trail', 1379: 'window', 1380: 'cheapest', 1381: 'discharge', 1382: 'mah', 1383: 'form', 1384: 'realized', 1385: 'thoroughly', 1386: 'saving', 1387: 'entry', 1388: 'tend', 1389: 'longest', 1390: 'requires', 1391: 'typing', 1392: 'terrific', 1393: 'head', 1394: 'initially', 1395: 'mobile', 1396: 'usual', 1397: 'unable', 1398: 'minimal', 1399: 'unbelievable', 1400: 'updates', 1401: 'restrictions', 1402: 'bulky', 1403: 'pockets', 1404: 'background', 1405: 'vacation', 1406: 'create', 1407: 'beach', 1408: 'granddaughters', 1409: 'grow', 1410: 'maneuver', 1411: 'processing', 1412: 'nexus', 1413: 'underground', 1414: 'expiration', 1415: 'seller', 1416: 'linked', 1417: 'realize', 1418: 'worried', 1419: 'therefore', 1420: 'disappoint', 1421: 'amazons', 1422: 'unbeatable', 1423: 'quit', 1424: 'tester', 1425: 'moment', 1426: 'national', 1427: 'write', 1428: 'forget', 1429: 'wii', 1430: 'whenever', 1431: 'zero', 1432: 'removed', 1433: 'basis', 1434: 'stated', 1435: 'shape', 1436: 'apart', 1437: 'incredible', 1438: 'hooked', 1439: 'letters', 1440: 'places', 1441: 'net', 1442: 'smartphone', 1443: 'surface', 1444: 'falls', 1445: 'restart', 1446: 'slower', 1447: 'notes', 1448: 'associate', 1449: 'chrome', 1450: 'equal', 1451: 'spot', 1452: 'significantly', 1453: 'lifespan', 1454: 'individual', 1455: 'ten', 1456: 'fall', 1457: 'holiday', 1458: 'rated', 1459: 'count', 1460: 'fail', 1461: 'complete', 1462: 'link', 1463: 'hassle', 1464: 'hey', 1465: 'sit', 1466: 'leakage', 1467: 'motion', 1468: 'hot', 1469: 'starts', 1470: 'elsewhere', 1471: 'ideal', 1472: 'stuck', 1473: 'sufficient', 1474: 'talking', 1475: 'directly', 1476: 'ray', 1477: 'pricey', 1478: 'security', 1479: 'mention', 1480: 'helping', 1481: 'links', 1482: 'red', 1483: 'nicer', 1484: 'concern', 1485: 'rugged', 1486: 'adapter', 1487: 'recipient', 1488: 'recent', 1489: 'push', 1490: 'duds', 1491: 'delivers', 1492: 'sleep', 1493: 'performing', 1494: 'fell', 1495: 'include', 1496: 'imagine', 1497: 'flat', 1498: 'beyond', 1499: 'wore', 1500: 'storing', 1501: 'green', 1502: 'alarm', 1503: 'mean', 1504: 'station', 1505: 'sized', 1506: 'volts', 1507: 'speedy', 1508: 'useless', 1509: 'bill', 1510: 'nieces', 1511: 'gen', 1512: 'padded', 1513: 'stereo', 1514: 'connects', 1515: 'transfer', 1516: 'puzzles', 1517: 'advertisements', 1518: '32gb', 1519: 'microsd', 1520: '8gb', 1521: 'i‚äôm', 1522: 'duracel', 1523: 'hrs', 1524: 'stored', 1525: 'call', 1526: 'eat', 1527: 'lithium', 1528: 'term', 1529: 'named', 1530: 'seriously', 1531: 'image', 1532: 'trick', 1533: 'careful', 1534: 'yrs', 1535: 'begin', 1536: 'sort', 1537: 'hardware', 1538: 'positive', 1539: 'anytime', 1540: 'doesnt', 1541: 'pressure', 1542: 'meet', 1543: 'suggest', 1544: 'straight', 1545: 'shown', 1546: 'finger', 1547: 'floor', 1548: 'eventually', 1549: 'reasons', 1550: 'dog', 1551: 'seconds', 1552: 'shuts', 1553: 'opens', 1554: 'follow', 1555: 'rid', 1556: 'platform', 1557: 'confusing', 1558: 'thick', 1559: 'couch', 1560: 'log', 1561: 'soft', 1562: 'activate', 1563: 'compatible', 1564: 'strain', 1565: 'expansion', 1566: 'sensitive', 1567: '128gb', 1568: 'appstore', 1569: 'keyboards', 1570: 'fault', 1571: 'acdelco', 1572: 'thats', 1573: 'sealed', 1574: 'superb', 1575: 'stocked', 1576: 'triple', 1577: 'costs', 1578: 'kinds', 1579: 'lanterns', 1580: 'frustration', 1581: 'freeze', 1582: 'pull', 1583: 'sleek', 1584: 'style', 1585: 'teens', 1586: 'feeling', 1587: 'related', 1588: 'fixed', 1589: 'teenage', 1590: 'throughout', 1591: 'grip', 1592: 'complicated', 1593: 'benefits', 1594: 'calls', 1595: 'breeze', 1596: 'files', 1597: 'grandma', 1598: 'superior', 1599: 'comment', 1600: 'cold', 1601: 'types', 1602: 'procell', 1603: 'reviewed', 1604: 'rayovacs', 1605: 'cars', 1606: 'ruined', 1607: 'afford', 1608: 'specific', 1609: 'refund', 1610: 'consumer', 1611: 'numbers', 1612: 'worries', 1613: 'grocery', 1614: 'season', 1615: 'suppose', 1616: 'attention', 1617: 'mice', 1618: 'eye', 1619: 'late', 1620: 'train', 1621: 'physical', 1622: 'automatic', 1623: 'exception', 1624: 'match', 1625: 'girlfriend', 1626: 'extensive', 1627: 'snap', 1628: 'gig', 1629: 'tho', 1630: 'directions', 1631: 'meant', 1632: 'foam', 1633: 'wherever', 1634: 'lap', 1635: 'improvements', 1636: 'respond', 1637: 'playstore', 1638: 'grandaughter', 1639: 'offline', 1640: 'tests', 1641: 'preferred', 1642: 'walmart', 1643: 'website', 1644: 'placed', 1645: 'particularly', 1646: 'television', 1647: 'tiny', 1648: 'batts', 1649: 'kinda', 1650: 'kitchen', 1651: 'mid', 1652: 'happens', 1653: 'yay', 1654: 'awful', 1655: 'mac', 1656: 'aside', 1657: 'detectors', 1658: 'period', 1659: 'computers', 1660: 'effort', 1661: 'morning', 1662: 'group', 1663: 'delighted', 1664: 'activated', 1665: 'god', 1666: 'edit', 1667: 'warning', 1668: 'benefit', 1669: 'fingers', 1670: 'sign', 1671: 'paired', 1672: 'nephews', 1673: 'windows', 1674: 'adjustment', 1675: 'upgrading', 1676: 'thousands', 1677: 'louder', 1678: 'crystal', 1679: 'sun', 1680: 'knowledgeable', 1681: 'transferred', 1682: 'skype', 1683: 'wrapping', 1684: 'pump', 1685: 'receiving', 1686: 'printed', 1687: 'environment', 1688: 'timers', 1689: 'hardly', 1690: 'impressive', 1691: 'hesitant', 1692: 'reorder', 1693: 'reviewers', 1694: 'yesterday', 1695: 'moved', 1696: 'decide', 1697: 'concerned', 1698: 'common', 1699: 'scale', 1700: 'grab', 1701: 'flight', 1702: 'draw', 1703: 'tools', 1704: 'possibly', 1705: 'policy', 1706: 'dependable', 1707: 'guys', 1708: 'became', 1709: 'compartment', 1710: 'besides', 1711: 'periods', 1712: 'separately', 1713: 'secure', 1714: 'gadget', 1715: 'afraid', 1716: 'safety', 1717: 'sides', 1718: 'instantly', 1719: 'unlock', 1720: 'areas', 1721: 'travels', 1722: 'logic', 1723: 'difficulty', 1724: 'occasional', 1725: 'integration', 1726: 'casual', 1727: '4yr', 1728: 'don‚äôt', 1729: 'lacking', 1730: 'edge', 1731: 'attached', 1732: 'somewhat', 1733: 'winner', 1734: 'garbage', 1735: 'cute', 1736: 'electric', 1737: 'opportunity', 1738: 'particular', 1739: 'equivalent', 1740: 'greatly', 1741: 'plain', 1742: 'disappointment', 1743: 'spare', 1744: 'tight', 1745: 'multi', 1746: 'aspect', 1747: 'thrown', 1748: '5th', 1749: 'shot', 1750: 'absolute', 1751: 'darn', 1752: 'technical', 1753: 'girls', 1754: 'feedback', 1755: 'catch', 1756: 'isnt', 1757: 'slim', 1758: 'provided', 1759: 'seven', 1760: 'wide', 1761: 'locks', 1762: 'covers', 1763: 'songs', 1764: 'block', 1765: 'skills', 1766: 'pandora', 1767: 'navigation', 1768: 'voyager', 1769: 'owning', 1770: 'flights', 1771: 'inappropriate', 1772: 'education', 1773: 'lowest', 1774: 'recharging', 1775: 'saves', 1776: 'bank', 1777: 'outdoor', 1778: 'serious', 1779: 'contacted', 1780: 'familiar', 1781: 'crap', 1782: 'board', 1783: 'mistake', 1784: 'heat', 1785: 'leaks', 1786: 'dies', 1787: 'strength', 1788: 'lighted', 1789: 'mirror', 1790: 'pain', 1791: 'contact', 1792: 'correctly', 1793: 'includes', 1794: 'exclusively', 1795: 'exceptional', 1796: 'worthwhile', 1797: 'glass', 1798: 'solution', 1799: 'presents', 1800: 'target', 1801: 'corrosion', 1802: 'randomly', 1803: 'falling', 1804: 'pin', 1805: 'beating', 1806: 'employees', 1807: 'mic', 1808: 'shade', 1809: 'position', 1810: 'command', 1811: 'documents', 1812: 'bezel', 1813: 'touchscreen', 1814: 'oldest', 1815: 'clearer', 1816: 'geared', 1817: 'leather', 1818: 'disney', 1819: 'aunt', 1820: 'engaged', 1821: 'audiobooks', 1822: 'teach', 1823: 'teaching', 1824: 'indestructible', 1825: 'handed', 1826: 'arrive', 1827: 'microphone', 1828: 'images', 1829: 'maxell', 1830: 'medium', 1831: 'approximately', 1832: 'matters', 1833: 'charm', 1834: 'man', 1835: 'tooth', 1836: 'vac', 1837: 'camping', 1838: 'thermostat', 1839: 'writing', 1840: 'lately', 1841: 'deliver', 1842: 'apparently', 1843: 'april', 1844: 'threw', 1845: 'drained', 1846: 'club', 1847: 'silver', 1848: 'killer', 1849: 'interest', 1850: 'cables', 1851: 'showing', 1852: 'wonderfully', 1853: 'student', 1854: 'cards', 1855: 'planning', 1856: 'switching', 1857: 'systems', 1858: 'hang', 1859: 'guns', 1860: 'hoped', 1861: 'newest', 1862: 'interesting', 1863: 'pool', 1864: 'exchanged', 1865: 'utilize', 1866: 'quiet', 1867: 'finds', 1868: 'leaves', 1869: 'series', 1870: 'kiddos', 1871: 'messages', 1872: 'spotify', 1873: 'public', 1874: 'interactive', 1875: 'advanced', 1876: 'assistance', 1877: 'grandmother', 1878: 'fighting', 1879: 'throws', 1880: 'filter', 1881: 'snappy', 1882: 'upload', 1883: 'rooting', 1884: 'chromecast', 1885: 'freezing', 1886: 'square', 1887: 'wallpaper', 1888: 'can‚äôt', 1889: 'consistent', 1890: 'alkalines', 1891: 'clearly', 1892: 'brown', 1893: 'emergency', 1894: 'disposable', 1895: 'container', 1896: 'competition', 1897: 'notch', 1898: 'competitors', 1899: 'sad', 1900: 'minute', 1901: 'arrival', 1902: 'trash', 1903: 'traditional', 1904: 'owner', 1905: 'capable', 1906: 'neither', 1907: 'missed', 1908: 'gonna', 1909: 'drains', 1910: 'fluid', 1911: 'tip', 1912: 'coppertops', 1913: 'register', 1914: 'tree', 1915: 'customers', 1916: 'ups', 1917: 'regarding', 1918: 'curious', 1919: 'bundle', 1920: 'consistently', 1921: 'tops', 1922: 'readable', 1923: 'occasionally', 1924: 'bass', 1925: 'neatly', 1926: 'standards', 1927: 'manage', 1928: 'grown', 1929: 'twin', 1930: 'complained', 1931: 'track', 1932: 'claim', 1933: 'staff', 1934: 'bugs', 1935: 'spends', 1936: 'attractive', 1937: 'satisfactory', 1938: 'filled', 1939: 'waterproof', 1940: 'prevent', 1941: 'ipod', 1942: 'travelling', 1943: 'adding', 1944: 'programming', 1945: 'invested', 1946: 'deck', 1947: 'connecting', 1948: 'supports', 1949: 'responds', 1950: 'abc', 1951: 'abuse', 1952: 'unwanted', 1953: 'goals', 1954: 'visuals', 1955: 'exposed', 1956: 'yeah', 1957: 'exact', 1958: 'among', 1959: 'popped', 1960: 'thumbs', 1961: 'frequent', 1962: 'alright', 1963: 'lucky', 1964: 'units', 1965: 'flashes', 1966: 'desk', 1967: 'october', 1968: 'allowing', 1969: 'reached', 1970: 'bose', 1971: 'suggested', 1972: 'garage', 1973: 'washington', 1974: 'desired', 1975: 'waited', 1976: 'powering', 1977: 'enabled', 1978: 'indonesia', 1979: 'minor', 1980: 'candy', 1981: 'convinced', 1982: 'def', 1983: 'sweet', 1984: 'operation', 1985: 'neat', 1986: 'thinks', 1987: 'thoughts', 1988: 'ensure', 1989: 'chair', 1990: 'throwing', 1991: 'measured', 1992: 'sensor', 1993: 'direct', 1994: 'pen', 1995: 'borrow', 1996: 'state', 1997: 'challenge', 1998: 'odd', 1999: 'materials', 2000: 'upgrades', 2001: 'robust', 2002: 'ultra', 2003: 'registered', 2004: 'manually', 2005: 'release', 2006: 'teenager', 2007: 'folder', 2008: 'points', 2009: 'versatility', 2010: 'backlit', 2011: 'dropping', 2012: 'fastest', 2013: 'fingertips', 2014: 'icons', 2015: 'touching', 2016: 'vibrant', 2017: 'clicking', 2018: 'classes', 2019: 'fee', 2020: 'siblings', 2021: 'clumsy', 2022: 'buffering', 2023: 'spring', 2024: 'rock', 2025: 'usable', 2026: 'magic', 2027: 'forth', 2028: 'flameless', 2029: 'story', 2030: 'consumption', 2031: 'competitive', 2032: 'initial', 2033: 'santa', 2034: 'obvious', 2035: 'string', 2036: 'determine', 2037: 'significant', 2038: 'decorations', 2039: 'expanded', 2040: 'functioning', 2041: 'grade', 2042: 'signal', 2043: 'noise', 2044: 'eats', 2045: 'prompt', 2046: 'burning', 2047: 'luckily', 2048: 'modern', 2049: 'wouldnt', 2050: 'caught', 2051: 'factory', 2052: 'output', 2053: 'buyer', 2054: 'duty', 2055: 'versus', 2056: 'serve', 2057: 'costly', 2058: 'lite', 2059: 'sat', 2060: 'relative', 2061: 'individually', 2062: 'companies', 2063: '7yr', 2064: 'instruction', 2065: 'portion', 2066: 'beginning', 2067: 'brings', 2068: 'puts', 2069: 'weird', 2070: 'accessible', 2071: 'substitute', 2072: 'fourth', 2073: 'potential', 2074: 'adjustable', 2075: 'textbooks', 2076: 'flimsy', 2077: 'direction', 2078: 'knowledge', 2079: 'sync', 2080: 'airplane', 2081: 'disable', 2082: 'senior', 2083: 'glitch', 2084: '16g', 2085: 'savy', 2086: '3yr', 2087: 'searches', 2088: 'restricted', 2089: 'autism', 2090: 'graphic', 2091: 'meaning', 2092: 'hundred', 2093: 'trusted', 2094: 'shoot', 2095: 'amazonbasic', 2096: 'installation', 2097: 'began', 2098: 'brick', 2099: 'curve', 2100: 'brain', 2101: 'roku', 2102: 'dying', 2103: 'wrapper', 2104: 'eveready', 2105: 'boyfriend', 2106: 'sharing', 2107: 'shortly', 2108: 'sorts', 2109: 'accessories', 2110: 'controlled', 2111: 'duration', 2112: 'kit', 2113: 'causing', 2114: 'researched', 2115: 'meter', 2116: 'marked', 2117: 'shame', 2118: 'alarms', 2119: 'fill', 2120: 'leaving', 2121: 'professional', 2122: 'band', 2123: 'country', 2124: 'annoyed', 2125: 'event', 2126: 'town', 2127: 'prevents', 2128: 'heck', 2129: 'metal', 2130: 'messing', 2131: 'demand', 2132: 'upset', 2133: 'logo', 2134: '6th', 2135: 'select', 2136: 'proved', 2137: 'field', 2138: 'greater', 2139: 'leds', 2140: 'practical', 2141: 'minecraft', 2142: 'enable', 2143: 'wake', 2144: 'worthless', 2145: 'scientific', 2146: 'advance', 2147: 'compete', 2148: 'lines', 2149: 'growing', 2150: 'flip', 2151: 'sucks', 2152: 'thinner', 2153: 'binder', 2154: 'workers', 2155: 'sounding', 2156: 'slip', 2157: 'uncomfortable', 2158: 'outlet', 2159: 'lil', 2160: 'primary', 2161: 'flaw', 2162: 'adjusting', 2163: 'paperback', 2164: 'origami', 2165: 'flush', 2166: 'manual', 2167: 'accidental', 2168: '2yr', 2169: 'watched', 2170: 'explain', 2171: 'comfortably', 2172: 'contents', 2173: 'menus', 2174: 'hd7', 2175: 'enjoyment', 2176: '7th', 2177: 'tank', 2178: 'condition', 2179: 'december', 2180: 'report', 2181: 'tied', 2182: 'coppertop', 2183: 'locally', 2184: 'boot', 2185: 'manufacturers', 2186: 'depending', 2187: 'label', 2188: 'rocks', 2189: 'eight', 2190: 'timely', 2191: 'theses', 2192: 'explode', 2193: 'encourage', 2194: 'hurricane', 2195: 'reports', 2196: 'extras', 2197: 'fabulous', 2198: 'reduced', 2199: 'november', 2200: 'organized', 2201: 'halloween', 2202: 'orders', 2203: 'providing', 2204: 'handheld', 2205: 'worn', 2206: 'justify', 2207: 'shipment', 2208: 'monthly', 2209: 'separated', 2210: 'picking', 2211: 'burned', 2212: 'arms', 2213: 'rolling', 2214: 'detector', 2215: 'ridiculous', 2216: 'everybody', 2217: 'retail', 2218: 'assuming', 2219: 'coffee', 2220: 'radios', 2221: 'active', 2222: 'suspect', 2223: 'error', 2224: 'tad', 2225: 'bedroom', 2226: 'draining', 2227: 'accidently', 2228: 'sub', 2229: 'gps', 2230: 'unsure', 2231: 'covered', 2232: 'handles', 2233: 'students', 2234: 'aging', 2235: 'lunch', 2236: 'overseas', 2237: 'closes', 2238: 'miles', 2239: 'anybody', 2240: 'shoulder', 2241: 'angle', 2242: 'keys', 2243: 'resistant', 2244: 'slide', 2245: 'plugs', 2246: 'assistant', 2247: 'fills', 2248: 'playback', 2249: 'adjusts', 2250: 'limitations', 2251: 'released', 2252: 'replaces', 2253: 'adaptive', 2254: 'aspects', 2255: 'refurbished', 2256: 'delete', 2257: 'bells', 2258: 'whistles', 2259: 'definite', 2260: 'cpu', 2261: 'productivity', 2262: 'proprietary', 2263: 'customizable', 2264: 'locate', 2265: 'explored', 2266: 'bedtime', 2267: 'crush', 2268: 'navigating', 2269: 'salesman', 2270: 'kiddo', 2271: 'websites', 2272: 'reboot', 2273: 'tables', 2274: 'doctor', 2275: 'newstand', 2276: 'twins', 2277: 'blown', 2278: 'method', 2279: 'volt', 2280: 'indoor', 2281: 'describe', 2282: 'competitor', 2283: 'expectancy', 2284: 'nervous', 2285: 'solar', 2286: 'admit', 2287: 'owns', 2288: 'constructed', 2289: 'yup', 2290: 'shiny', 2291: 'closet', 2292: 'tear', 2293: 'basement', 2294: 'sisters', 2295: 'noticeably', 2296: 'toss', 2297: 'depends', 2298: 'sony', 2299: 'anyways', 2300: 'aged', 2301: 'created', 2302: 'lists', 2303: 'february', 2304: 'private', 2305: 'monitoring', 2306: 'jumped', 2307: 'lived', 2308: 'somewhere', 2309: 'excelent', 2310: 'acceptable', 2311: 'requirements', 2312: 'marketing', 2313: 'advertisement', 2314: 'department', 2315: 'balance', 2316: 'spectacular', 2317: 'quantities', 2318: 'husbands', 2319: 'detailed', 2320: 'extreme', 2321: 'parts', 2322: 'comparing', 2323: 'lamp', 2324: 'reccomend', 2325: 'willing', 2326: 'assume', 2327: 'location', 2328: 'inconvenient', 2329: 'final', 2330: 'receiver', 2331: 'unnecessary', 2332: 'failure', 2333: 'instance', 2334: 'reputable', 2335: 'suitable', 2336: 'highest', 2337: 'remaining', 2338: 'universal', 2339: 'destroyed', 2340: 'mentioned', 2341: 'inches', 2342: 'nowhere', 2343: 'losing', 2344: 'cartoon', 2345: 'fly', 2346: 'incredibly', 2347: 'updating', 2348: 'resource', 2349: 'regrets', 2350: 'compartments', 2351: 'instant', 2352: 'fight', 2353: 'gripe', 2354: 'verizon', 2355: 'ports', 2356: 'bubble', 2357: 'continues', 2358: 'steps', 2359: 'joy', 2360: 'letting', 2361: 'worrying', 2362: 'adjusted', 2363: 'dots', 2364: 'development', 2365: 'calling', 2366: 'existing', 2367: 'pushing', 2368: 'companion', 2369: 'explore', 2370: 'impulse', 2371: 'language', 2372: 'reach', 2373: 'debated', 2374: 'bored', 2375: 'trial', 2376: 'flexibility', 2377: 'connector', 2378: 'ink', 2379: 'pdf', 2380: 'weighs', 2381: 'ergonomic', 2382: 'asleep', 2383: 'grader', 2384: 'mails', 2385: 'entertain', 2386: 'deleted', 2387: 'challenged', 2388: 'instagram', 2389: 'surgery', 2390: 'activity', 2391: 'articles', 2392: 'section', 2393: 'sensitivity', 2394: 'customization', 2395: 'located', 2396: 'enlarge', 2397: 'facing', 2398: 'hes', 2399: 'exploded', 2400: 'dud', 2401: 'counting', 2402: 'birthdays', 2403: 'amounts', 2404: 'claims', 2405: 'details', 2406: 'proven', 2407: 'knock', 2408: 'gold', 2409: 'somehow', 2410: 'inserted', 2411: 'corner', 2412: 'ill', 2413: 'assured', 2414: 'brush', 2415: 'cash', 2416: 'repurchase', 2417: 'searched', 2418: 'indeed', 2419: 'wedding', 2420: 'everready', 2421: 'happening', 2422: 'round', 2423: 'coat', 2424: 'china', 2425: 'split', 2426: 'buys', 2427: 'sick', 2428: 'recommendation', 2429: 'goodness', 2430: 'twenty', 2431: 'competing', 2432: 'burn', 2433: 'nope', 2434: 'laser', 2435: 'tells', 2436: 'grabbed', 2437: 'mad', 2438: 'recycling', 2439: 'suck', 2440: 'steady', 2441: 'minimum', 2442: 'firestick', 2443: 'min', 2444: 'overnight', 2445: 'march', 2446: 'gear', 2447: 'pads', 2448: 'importantly', 2449: 'dates', 2450: 'hdmi', 2451: 'phenomenal', 2452: 'levels', 2453: 'gotta', 2454: 'fuss', 2455: 'seemingly', 2456: 'earned', 2457: 'batterys', 2458: 'harder', 2459: 'situation', 2460: 'promptly', 2461: 'closed', 2462: 'truck', 2463: 'force', 2464: 'headlamps', 2465: 'offering', 2466: 'arm', 2467: 'haha', 2468: 'welcome', 2469: 'laying', 2470: 'dish', 2471: 'gladly', 2472: 'sticky', 2473: 'managed', 2474: 'electrical', 2475: 'damages', 2476: 'increased', 2477: 'skin', 2478: 'brilliant', 2479: 'slight', 2480: 'lightning', 2481: 'request', 2482: 'toothbrushes', 2483: 'displays', 2484: 'accessing', 2485: 'thirty', 2486: 'resolved', 2487: 'dislike', 2488: 'commercials', 2489: 'sluggish', 2490: 'guard', 2491: 'techie', 2492: 'introduced', 2493: 'blank', 2494: 'ample', 2495: 'streams', 2496: 'endless', 2497: 'listens', 2498: 'hook', 2499: 'hotspot', 2500: 'requests', 2501: 'rooms', 2502: 'lags', 2503: 'punch', 2504: 'wished', 2505: 'operates', 2506: 'frustrated', 2507: 'iphones', 2508: 'backlighting', 2509: 'distracting', 2510: 'prefers', 2511: 'teen', 2512: 'swiping', 2513: 'progress', 2514: 'customize', 2515: 'challenging', 2516: 'transition', 2517: 'goodreads', 2518: '8in', 2519: 'tailored', 2520: 'smoothly', 2521: 'restrict', 2522: 'resist', 2523: 'alphabet', 2524: '1yr', 2525: 'jealous', 2526: 'magenta', 2527: 'purple', 2528: 'slows', 2529: 'elderly', 2530: 'responsibility', 2531: 'approved', 2532: 'login', 2533: 'employee', 2534: 'solitaire', 2535: 'shapes', 2536: 'study', 2537: '6yr', 2538: 'limiting', 2539: 'newspaper', 2540: 'core', 2541: 'webroot', 2542: 'merlot', 2543: 'depend', 2544: 'max', 2545: 'achieve', 2546: 'repeat', 2547: 'practically', 2548: 'refused', 2549: 'gas', 2550: 'hesitate', 2551: 'commercial', 2552: 'toothbrush', 2553: 'damn', 2554: 'produce', 2555: 'safely', 2556: 'families', 2557: 'ratio', 2558: 'transmitter', 2559: 'manner', 2560: 'dozen', 2561: 'compares', 2562: 'differently', 2563: 'cheapo', 2564: 'outlasted', 2565: 'stocking', 2566: 'identical', 2567: 'drug', 2568: 'staple', 2569: 'beware', 2570: 'folks', 2571: 'bike', 2572: 'gamer', 2573: 'wasnt', 2574: 'regardless', 2575: 'vary', 2576: 'boxed', 2577: 'favorites', 2578: 'frills', 2579: 'yep', 2580: 'hair', 2581: 'heart', 2582: 'fans', 2583: 'yellow', 2584: 'stupid', 2585: 'cheaply', 2586: 'usa', 2587: 'collection', 2588: 'zone', 2589: 'roll', 2590: 'june', 2591: 'august', 2592: 'microphones', 2593: 'church', 2594: 'sadly', 2595: 'visiting', 2596: 'indicator', 2597: 'pairs', 2598: 'invest', 2599: 'freight', 2600: 'shell', 2601: 'description', 2602: 'accurate', 2603: 'chargers', 2604: 'channels', 2605: 'matthew', 2606: 'sam', 2607: 'entirely', 2608: 'jack', 2609: 'recommending', 2610: 'smile', 2611: 'packing', 2612: 'suits', 2613: 'quarter', 2614: 'havent', 2615: 'outer', 2616: 'gifted', 2617: 'upper', 2618: 'tends', 2619: 'nights', 2620: 'caveat', 2621: 'alternatives', 2622: 'becoming', 2623: 'sells', 2624: 'strongly', 2625: 'appreciated', 2626: 'colored', 2627: 'rarely', 2628: 'decently', 2629: 'stations', 2630: 'vehicle', 2631: 'babies', 2632: 'pic', 2633: 'choosing', 2634: 'glove', 2635: 'wallet', 2636: 'imo', 2637: 'effect', 2638: 'heavier', 2639: 'snug', 2640: 'theyre', 2641: 'warm', 2642: 'contrast', 2643: 'hence', 2644: 'microsoft', 2645: 'carried', 2646: 'handled', 2647: 'nine', 2648: 'substantial', 2649: 'traded', 2650: 'evening', 2651: 'vision', 2652: 'guide', 2653: 'addicted', 2654: 'acts', 2655: 'accident', 2656: 'thousand', 2657: 'angry', 2658: 'ignore', 2659: 'visit', 2660: 'zippers', 2661: 'rain', 2662: 'rep', 2663: 'dual', 2664: 'solve', 2665: 'birds', 2666: 'activation', 2667: 'lug', 2668: 'seamless', 2669: 'chat', 2670: 'exploring', 2671: 'didn‚äôt', 2672: 'improve', 2673: 'native', 2674: 'readability', 2675: 'slimmer', 2676: 'devise', 2677: 'lastly', 2678: 'magnetic', 2679: 'responsiveness', 2680: 'researching', 2681: 'catching', 2682: 'borrowed', 2683: '64gb', 2684: 'preinstalled', 2685: 'grandparents', 2686: 'modified', 2687: '720p', 2688: 'androids', 2689: 'fir', 2690: 'desire', 2691: 'raffle', 2692: 'curfew', 2693: 'supported', 2694: 'stopping', 2695: 'quirks', 2696: 'glued', 2697: 'occupy', 2698: 'downloadable', 2699: 'task', 2700: 'gmail', 2701: 'operations', 2702: 'hoops', 2703: 'vudu', 2704: 'grows', 2705: 'manga', 2706: 'dauther', 2707: 'following', 2708: 'nvidia', 2709: 'quad', 2710: 'isn‚äôt', 2711: 'insurance', 2712: 'mines', 2713: 'couldn‚äôt', 2714: 'mixed', 2715: 'north', 2716: 'powers', 2717: 'simplicity', 2718: 'slots', 2719: 'resistance', 2720: 'reduces', 2721: 'category', 2722: 'poorly', 2723: 'posted', 2724: 'happily', 2725: 'bothered', 2726: 'bundled', 2727: 'requiring', 2728: 'converted', 2729: 'prize', 2730: 'aaas', 2731: 'prepared', 2732: 'beautifully', 2733: 'differences', 2734: 'blow', 2735: 'assumed', 2736: 'btw', 2737: 'lantern', 2738: 'contacts', 2739: 'summer', 2740: 'upcoming', 2741: 'math', 2742: 'recharged', 2743: 'cancelling', 2744: 'hubby', 2745: 'joke', 2746: 'needless', 2747: 'solved', 2748: 'weigh', 2749: 'situations', 2750: 'nose', 2751: 'thomas', 2752: 'recycle', 2753: 'periodically', 2754: 'cats', 2755: 'chinese', 2756: 'legs', 2757: 'caused', 2758: 'weekly', 2759: 'keypad', 2760: 'cabinet', 2761: 'doa', 2762: 'flashing', 2763: 'corroded', 2764: 'ruin', 2765: 'input', 2766: 'leap', 2767: 'mp3', 2768: 'warehouse', 2769: 'availability', 2770: 'costing', 2771: 'endurance', 2772: 'retailers', 2773: 'shared', 2774: 'prefect', 2775: 'jacket', 2776: 'temperature', 2777: 'sensors', 2778: 'bummer', 2779: 'fifty', 2780: 'consume', 2781: 'abilities', 2782: 'reluctant', 2783: 'natural', 2784: 'lifetime', 2785: 'correct', 2786: 'depot', 2787: 'cake', 2788: 'ridiculously', 2789: 'pricy', 2790: 'ultimately', 2791: 'tomorrow', 2792: 'discounted', 2793: 'suited', 2794: 'tendency', 2795: 'overly', 2796: 'eco', 2797: 'bout', 2798: 'cast', 2799: 'suit', 2800: 'wasting', 2801: 'ultimate', 2802: 'lesser', 2803: 'informed', 2804: 'success', 2805: 'shocked', 2806: 'walk', 2807: 'verify', 2808: 'random', 2809: 'nest', 2810: 'theres', 2811: 'gigs', 2812: 'code', 2813: 'creating', 2814: 'whatsoever', 2815: 'bummed', 2816: 'ride', 2817: 'ruining', 2818: 'essential', 2819: 'bar', 2820: 'events', 2821: 'telling', 2822: 'regards', 2823: 'appearance', 2824: 'served', 2825: 'ends', 2826: 'discover', 2827: 'spots', 2828: 'title', 2829: 'sometime', 2830: 'combined', 2831: 'amazingly', 2832: 'awkward', 2833: 'crack', 2834: 'silly', 2835: 'citizen', 2836: 'recognize', 2837: 'connectors', 2838: 'mommy', 2839: 'laptops', 2840: 'sits', 2841: 'mesh', 2842: 'secondary', 2843: 'macbook', 2844: 'blocks', 2845: 'patience', 2846: 'adapters', 2847: 'informative', 2848: 'answers', 2849: 'networks', 2850: 'pressing', 2851: 'itunes', 2852: 'learns', 2853: 'integrated', 2854: 'ios', 2855: 'cellular', 2856: 'hearing', 2857: 'sports', 2858: 'pleasant', 2859: 'syncs', 2860: 'smarter', 2861: 'improves', 2862: 'dictionary', 2863: 'fonts', 2864: 'management', 2865: 'peace', 2866: 'jump', 2867: 'dedicated', 2868: 'paperweight', 2869: 'uniform', 2870: 'stylus', 2871: 'east', 2872: 'gym', 2873: 'awsome', 2874: 'towards', 2875: 'survived', 2876: 'mickey', 2877: 'clubhouse', 2878: 'vivid', 2879: 'relaxing', 2880: 'exit', 2881: 'layout', 2882: 'everytime', 2883: 'bills', 2884: 'shes', 2885: 'godson', 2886: 'carousel', 2887: 'characters', 2888: 'atleast', 2889: 'completed', 2890: 'copies', 2891: 'bonuses', 2892: 'novels', 2893: 'autistic', 2894: 'partly', 2895: 'explained', 2896: 'convert', 2897: 'cumbersome', 2898: 'associates', 2899: 'preschool', 2900: 'struggling', 2901: 'daugther', 2902: 'barnes', 2903: 'luv', 2904: 'boost', 2905: 'lightest', 2906: 'won‚äôt', 2907: 'prizes', 2908: 'i‚äôve', 2909: 'quest', 2910: 'blister', 2911: 'food', 2912: 'agree', 2913: 'commodity', 2914: 'advice', 2915: 'stumbled', 2916: 'riding', 2917: 'replacements', 2918: 'internally', 2919: 'rechargable', 2920: 'dirt', 2921: 'tier', 2922: 'comforting', 2923: 'maintain', 2924: 'comfort', 2925: 'backing', 2926: 'appliances', 2927: 'subscribed', 2928: 'tremendous', 2929: 'wizard', 2930: 'considerably', 2931: 'labeled', 2932: 'walkie', 2933: 'hurry', 2934: 'arrives', 2935: 'hits', 2936: 'resting', 2937: 'cellophane', 2938: 'shots', 2939: 'photography', 2940: 'badly', 2941: 'cleaning', 2942: 'insulin', 2943: 'omg', 2944: 'knife', 2945: 'expert', 2946: 'slowly', 2947: 'bathroom', 2948: 'trimmer', 2949: 'appliance', 2950: 'motor', 2951: 'unused', 2952: 'score', 2953: 'kidding', 2954: 'dispose', 2955: 'prepare', 2956: 'neck', 2957: 'recieved', 2958: 'blood', 2959: 'construction', 2960: 'deadbolt', 2961: 'ground', 2962: 'logitech', 2963: 'harbor', 2964: 'wonder', 2965: 'sooo', 2966: 'understatement', 2967: 'channel', 2968: 'produces', 2969: 'complains', 2970: 'amd', 2971: 'stash', 2972: 'faulty', 2973: 'fresher', 2974: 'team', 2975: 'advertise', 2976: 'highlight', 2977: 'hanging', 2978: 'rule', 2979: 'statement', 2980: 'trusty', 2981: 'hardcore', 2982: 'insane', 2983: 'tonight', 2984: 'stood', 2985: 'rescue', 2986: 'repeatedly', 2987: 'leg', 2988: 'panasonic', 2989: 'message', 2990: 'carefully', 2991: 'chances', 2992: 'organize', 2993: 'layer', 2994: 'result', 2995: 'yard', 2996: 'soap', 2997: 'schedule', 2998: 'loss', 2999: 'wire', 3000: 'talked', 3001: 'backwards', 3002: 'dvd', 3003: 'displayed', 3004: 'orange', 3005: 'dependent', 3006: 'conveniently', 3007: 'desktop', 3008: 'compromise', 3009: 'pace', 3010: 'yearly', 3011: 'thanksgiving', 3012: 'visual', 3013: 'dust', 3014: 'heavily', 3015: 'unique', 3016: 'apparent', 3017: 'cds', 3018: 'echos', 3019: 'freedom', 3020: 'written', 3021: 'dream', 3022: 'sleeping', 3023: 'carries', 3024: 'blows', 3025: 'tote', 3026: 'necessarily', 3027: 'patio', 3028: 'rapid', 3029: 'angles', 3030: 'stops', 3031: 'cooler', 3032: 'nylon', 3033: 'padding', 3034: 'letter', 3035: 'sleeker', 3036: 'florida', 3037: 'document', 3038: 'disabled', 3039: 'describing', 3040: 'song', 3041: 'vocabulary', 3042: 'recognition', 3043: 'upstairs', 3044: 'headphone', 3045: 'understands', 3046: 'siri', 3047: 'calendar', 3048: 'selections', 3049: 'effortlessly', 3050: 'flawless', 3051: 'tries', 3052: 'dirty', 3053: 'outdoors', 3054: 'debating', 3055: 'promotion', 3056: 'finish', 3057: 'coverage', 3058: 'sharper', 3059: 'worthy', 3060: 'definition', 3061: 'exceeds', 3062: 'hindsight', 3063: 'sunny', 3064: 'distracted', 3065: 'travelers', 3066: 'addict', 3067: 'environments', 3068: 'flaws', 3069: 'retired', 3070: 'dinner', 3071: 'engage', 3072: 'clunky', 3073: 'primetime', 3074: 'navigates', 3075: 'gigabytes', 3076: 'vlc', 3077: 'seamlessly', 3078: 'appointments', 3079: 'rotating', 3080: 'rotate', 3081: 'moms', 3082: 'wonders', 3083: 'meetings', 3084: 'approve', 3085: 'fireos', 3086: 'slippery', 3087: 'puzzle', 3088: 'editing', 3089: 'intermediate', 3090: 'crashed', 3091: 'ticking', 3092: 'bath', 3093: 'neice', 3094: 'permission', 3095: 'stepdaughter', 3096: 'accessed', 3097: 'combine', 3098: 'shield', 3099: 'stories', 3100: 'inability', 3101: 'fees', 3102: '7in', 3103: '8th', 3104: 'unfortunate', 3105: 'repairs', 3106: 'aggravating', 3107: 'router', 3108: 'prob', 3109: 'overdrive', 3110: 'asus', 3111: 'horizontal', 3112: 'seat', 3113: 'scrolling', 3114: 'sim', 3115: 'occasions', 3116: 'disch', 3117: 'staying', 3118: 'teacher', 3119: 'confirmed', 3120: 'pulled', 3121: 'surprising', 3122: 'restock', 3123: 'wal', 3124: 'mart', 3125: 'performer', 3126: 'namebrand', 3127: 'returns', 3128: 'elaborate', 3129: 'console', 3130: 'sending', 3131: 'rip', 3132: 'cheep', 3133: 'mortar', 3134: 'outperformed', 3135: 'procells', 3136: 'production', 3137: 'buzzing', 3138: 'crappy', 3139: 'retailer', 3140: 'bundles', 3141: 'tightly', 3142: 'dig', 3143: 'nowadays', 3144: 'mics', 3145: 'continuous', 3146: 'cleaned', 3147: 'winter', 3148: 'carrier', 3149: 'lying', 3150: 'english', 3151: 'counter', 3152: 'whose', 3153: 'fortune', 3154: 'liquid', 3155: 'scared', 3156: 'dry', 3157: 'razor', 3158: 'continued', 3159: 'nobody', 3160: 'recurring', 3161: 'monday', 3162: 'dads', 3163: 'confidence', 3164: 'woman', 3165: 'labels', 3166: 'esp', 3167: 'lovely', 3168: 'hurt', 3169: 'wasted', 3170: 'stayed', 3171: 'strap', 3172: 'electricity', 3173: 'manufacturing', 3174: 'pictured', 3175: 'satisfaction', 3176: 'japan', 3177: 'promises', 3178: 'batters', 3179: 'insert', 3180: 'reordering', 3181: 'posts', 3182: 'concerns', 3183: 'opinions', 3184: 'contemplating', 3185: 'stack', 3186: 'ebay', 3187: 'thicker', 3188: 'calculators', 3189: 'elements', 3190: 'tax', 3191: 'maps', 3192: 'simpler', 3193: 'secret', 3194: 'remains', 3195: 'beaten', 3196: 'matched', 3197: 'considered', 3198: 'decoration', 3199: 'defiantly', 3200: 'recorder', 3201: 'liking', 3202: 'reviewing', 3203: 'hide', 3204: 'imagined', 3205: 'opposed', 3206: 'dozens', 3207: 'reordered', 3208: 'expense', 3209: 'closely', 3210: 'booklet', 3211: 'drove', 3212: 'density', 3213: 'unhappy', 3214: 'driving', 3215: 'drawers', 3216: 'army', 3217: 'cancel', 3218: 'indicated', 3219: 'reputation', 3220: 'handful', 3221: 'struggle', 3222: 'dispenser', 3223: 'branding', 3224: 'certified', 3225: 'measure', 3226: 'mile', 3227: 'tips', 3228: 'taste', 3229: 'unacceptable', 3230: 'sanity', 3231: 'energenizer', 3232: 'payment', 3233: 'suddenly', 3234: 'handling', 3235: 'lackluster', 3236: 'ninja', 3237: 'mwh', 3238: 'july', 3239: 'destroy', 3240: 'frozen', 3241: 'eating', 3242: 'additionally', 3243: 'foot', 3244: 'astonishing', 3245: 'anti', 3246: 'tivo', 3247: 'weighing', 3248: 'nature', 3249: 'nonstop', 3250: 'satisfying', 3251: 'philosophy', 3252: 'experiences', 3253: 'south', 3254: 'usefulness', 3255: 'utility', 3256: 'effectively', 3257: 'potato', 3258: 'raise', 3259: 'strings', 3260: 'reduction', 3261: 'intention', 3262: 'compatibility', 3263: 'screws', 3264: 'american', 3265: 'extend', 3266: 'virus', 3267: 'frame', 3268: 'recognized', 3269: 'unusable', 3270: 'cruise', 3271: 'praise', 3272: 'reception', 3273: 'wanna', 3274: 'training', 3275: 'pieces', 3276: 'sudden', 3277: 'satisfy', 3278: 'practice', 3279: 'drives', 3280: 'alleviate', 3281: 'breakage', 3282: 'featured', 3283: 'grey', 3284: 'straps', 3285: 'shaped', 3286: 'els', 3287: 'neoprene', 3288: 'educated', 3289: 'glasses', 3290: 'preference', 3291: 'resolve', 3292: 'tapping', 3293: 'answered', 3294: 'mobility', 3295: 'hue', 3296: 'disadvantage', 3297: 'whim', 3298: 'episode', 3299: 'connections', 3300: 'aps', 3301: 'pulling', 3302: 'synced', 3303: 'valuable', 3304: 'figuring', 3305: 'glitches', 3306: 'alternate', 3307: 'amps', 3308: 'understanding', 3309: 'foreign', 3310: 'pw2', 3311: 'scroll', 3312: 'focus', 3313: 'copy', 3314: 'becomes', 3315: 'ambient', 3316: 'lovers', 3317: 'sunshine', 3318: 'spoiled', 3319: 'misses', 3320: 'beauty', 3321: 'spouse', 3322: 'dpi', 3323: 'suggestions', 3324: 'adore', 3325: 'optional', 3326: 'cousin', 3327: 'launcher', 3328: 'laggy', 3329: 'insisted', 3330: 'icon', 3331: '3yo', 3332: 'entertains', 3333: 'airport', 3334: 'disability', 3335: 'limitation', 3336: 'googleplay', 3337: 'mothers', 3338: 'childproof', 3339: 'brothers', 3340: 'dosent', 3341: 'cracks', 3342: 'preschooler', 3343: 'salesperson', 3344: 'dropbox', 3345: 'throughly', 3346: 'beneficial', 3347: 'component', 3348: 'insignia', 3349: 'withstand', 3350: 'achievements', 3351: 'smoother', 3352: 'driver', 3353: 'tutorial', 3354: 'weekend', 3355: 'preschoolers', 3356: 'modest', 3357: 'introducing', 3358: '5gb', 3359: 'eliminates', 3360: 'syndrome', 3361: 'outdated', 3362: 'semester', 3363: 'reward', 3364: 'aswell', 3365: 'ghz', 3366: 'requirement', 3367: 'dispute', 3368: 'tutorials', 3369: 'enter', 3370: 'spoke', 3371: 'summary', 3372: 'visits', 3373: '4yo', 3374: 'drag', 3375: 'gorgeous', 3376: 'yahoo', 3377: 'equipped', 3378: 'aimed', 3379: 'restricts', 3380: 'airline', 3381: '5yr', 3382: 'elementary', 3383: 'att', 3384: 'sturdier', 3385: 'fianc√', 3386: 'utube', 3387: 'crisper', 3388: '8hd', 3389: 'banking', 3390: 'asks', 3391: 'spreadsheets', 3392: 'safeguard', 3393: 'circadian', 3394: 'rhythm', 3395: 'baught', 3396: 'registering', 3397: 'grandpa', 3398: 'grandfather', 3399: 'stepkids', 3400: 'clash', 3401: 'illumination', 3402: '‚äù', 3403: 'doesn‚äôt', 3404: 'instructed', 3405: 'quirk', 3406: 'iceland', 3407: 'pintrest', 3408: 'earbuds', 3409: 'steelbook', 3410: 'casing', 3411: 'pcs', 3412: 'inconsistent', 3413: 'fish', 3414: 'thankful', 3415: 'respectable', 3416: 'rates', 3417: 'motorized', 3418: 'blew', 3419: 'combination', 3420: 'exciting', 3421: 'shopper', 3422: 'reviewer', 3423: 'claimed', 3424: 'fake', 3425: 'bravo', 3426: 'rival', 3427: '10x', 3428: 'mediocre', 3429: 'mercury', 3430: 'closer', 3431: 'scales', 3432: 'varieties', 3433: 'laugh', 3434: 'mainstream', 3435: 'stronger', 3436: 'fewer', 3437: 'income', 3438: 'fool', 3439: 'equivalents', 3440: 'countless', 3441: 'indicate', 3442: 'inferior', 3443: 'drinks', 3444: 'hunting', 3445: 'lay', 3446: 'fluke', 3447: 'variation', 3448: 'attempted', 3449: 'annoyance', 3450: 'confirm', 3451: 'confident', 3452: 'feb', 3453: 'bomb', 3454: 'mon', 3455: 'wrist', 3456: 'physically', 3457: 'sunday', 3458: 'trains', 3459: 'emergencies', 3460: 'eneloop', 3461: 'famous', 3462: 'sacrifice', 3463: 'performers', 3464: 'contain', 3465: 'prepaid', 3466: 'project', 3467: 'ceiling', 3468: 'deserves', 3469: 'responding', 3470: 'essentially', 3471: 'earth', 3472: 'distractions', 3473: 'recieve', 3474: 'walked', 3475: 'ikea', 3476: 'experiment', 3477: 'burnt', 3478: 'terribly', 3479: 'sams', 3480: 'circuit', 3481: 'guaranteed', 3482: 'scissors', 3483: 'lid', 3484: 'environmentally', 3485: 'dated', 3486: 'mark', 3487: 'drugstore', 3488: 'thermometers', 3489: 'sticking', 3490: 'boat', 3491: 'file', 3492: 'batery', 3493: 'ish', 3494: 'giant', 3495: 'seal', 3496: 'generics', 3497: 'dough', 3498: 'goo', 3499: 'juju', 3500: 'cams', 3501: 'massive', 3502: 'listed', 3503: 'wasteful', 3504: 'bear', 3505: 'calculator', 3506: 'selecting', 3507: 'supplier', 3508: 'rechargables', 3509: 'mag', 3510: 'freshness', 3511: 'loosing', 3512: 'bye', 3513: 'negatives', 3514: 'weaker', 3515: 'cousins', 3516: 'twist', 3517: 'prove', 3518: 'anticipated', 3519: 'vacs', 3520: 'lowes', 3521: 'players', 3522: 'placing', 3523: 'insanely', 3524: 'organizer', 3525: 'teenagers', 3526: 'rich', 3527: 'spares', 3528: 'arranged', 3529: 'transport', 3530: 'dimmer', 3531: 'slick', 3532: 'smallest', 3533: 'examples', 3534: 'headlamp', 3535: 'lightening', 3536: 'talkies', 3537: 'woo', 3538: 'attempts', 3539: 'produced', 3540: 'states', 3541: 'proudly', 3542: 'stairs', 3543: 'hopes', 3544: 'thermometer', 3545: 'supplies', 3546: 'remarkably', 3547: 'stable', 3548: 'economy', 3549: 'relief', 3550: 'suprised', 3551: 'firetv', 3552: 'chocolate', 3553: 'gun', 3554: 'noticing', 3555: 'shall', 3556: 'ratings', 3557: 'bet', 3558: 'roughly', 3559: 'switches', 3560: 'continuously', 3561: 'generous', 3562: 'medical', 3563: 'doctors', 3564: 'weekends', 3565: 'patient', 3566: 'truth', 3567: 'sources', 3568: 'recharges', 3569: 'whoever', 3570: 'fabric', 3571: 'estimate', 3572: 'edges', 3573: 'messes', 3574: 'complaining', 3575: 'dump', 3576: 'forgotten', 3577: 'equally', 3578: 'lie', 3579: 'center', 3580: 'act', 3581: 'fare', 3582: 'accepted', 3583: 'burns', 3584: 'batterie', 3585: 'licensing', 3586: 'plans', 3587: 'spelling', 3588: 'resale', 3589: 'habit', 3590: 'remembers', 3591: 'science', 3592: 'meh', 3593: 'ate', 3594: 'individuals', 3595: 'stink', 3596: 'concept', 3597: 'filtered', 3598: 'killing', 3599: 'goodies', 3600: '10th', 3601: 'lazy', 3602: 'culprit', 3603: 'nonetheless', 3604: 'sends', 3605: 'tall', 3606: 'passed', 3607: 'clients', 3608: 'spine', 3609: 'unplugged', 3610: 'alexia', 3611: 'expired', 3612: 'sessions', 3613: 'mix', 3614: 'repair', 3615: 'foray', 3616: 'clip', 3617: 'remembered', 3618: 'rocket', 3619: 'binge', 3620: 'girlfriends', 3621: 'sliding', 3622: 'uploads', 3623: 'minimally', 3624: 'stylish', 3625: 'distraction', 3626: 'canvas', 3627: 'briefcase', 3628: 'usability', 3629: 'nomad', 3630: 'kindal', 3631: 'procedure', 3632: 'hotels', 3633: 'cooking', 3634: 'communications', 3635: 'dock', 3636: 'answering', 3637: 'texas', 3638: 'bringing', 3639: 'unexpected', 3640: 'tinny', 3641: 'cradle', 3642: 'nursing', 3643: 'degrees', 3644: 'audiophile', 3645: 'hype', 3646: 'bothering', 3647: 'obsessed', 3648: 'controlling', 3649: 'lugging', 3650: 'extent', 3651: 'pet', 3652: 'chip', 3653: 'bible', 3654: 'backward', 3655: 'translations', 3656: 'ereaders', 3657: 'kobo', 3658: 'york', 3659: 'evenly', 3660: 'nearest', 3661: 'refresh', 3662: 'lcd', 3663: 'mastered', 3664: 'pickup', 3665: 'canceled', 3666: 'palm', 3667: 'reference', 3668: 'goal', 3669: 'address', 3670: 'awake', 3671: 'wakes', 3672: 'wider', 3673: 'slides', 3674: 'refer', 3675: 'pure', 3676: 'waking', 3677: 'viber', 3678: 'grt', 3679: 'immensely', 3680: 'kickstand', 3681: '3gb', 3682: 'standing', 3683: 'gpu', 3684: 'hogging', 3685: 'casually', 3686: 'restriction', 3687: 'rights', 3688: 'onother', 3689: 'repossess', 3690: 'clearing', 3691: 'cache', 3692: 'stating', 3693: 'upgradable', 3694: 'supporting', 3695: 'novice', 3696: 'booting', 3697: 'certificate', 3698: 'stone', 3699: 'root', 3700: 'paw', 3701: 'surprises', 3702: 'lover', 3703: 'tvs', 3704: 'hurts', 3705: 'wears', 3706: 'slowing', 3707: 'refined', 3708: 'interests', 3709: 'descent', 3710: 'screed', 3711: 'structure', 3712: 'implemented', 3713: 'grandbaby', 3714: 'personnel', 3715: 'outperforms', 3716: 'supervise', 3717: 'babysitter', 3718: 'bloatware', 3719: 'pixels', 3720: 'magnets', 3721: 'specially', 3722: 'scratches', 3723: 'nursery', 3724: 'rhymes', 3725: 'hospital', 3726: 'silicon', 3727: 'backlights', 3728: 'pdfs', 3729: 'amazone', 3730: 'twitter', 3731: 'manageable', 3732: 'subscriptions', 3733: 'subscribing', 3734: 'unconditional', 3735: 'withstands', 3736: 'disabilities', 3737: 'languages', 3738: 'breakable', 3739: 'episodes', 3740: '8yo', 3741: 'destructive', 3742: 'subsidize', 3743: 'freebies', 3744: 'comics', 3745: 'centered', 3746: 'wondering', 3747: 'popping', 3748: 'sesame', 3749: 'street', 3750: '32g', 3751: 'noble', 3752: 'curved', 3753: 'lte', 3754: 'processes', 3755: 'permanently', 3756: 'clutter', 3757: 'horsepower', 3758: 'representative', 3759: 'clans', 3760: 'therapy', 3761: 'assists', 3762: 'youth', 3763: 'excuse', 3764: 'deducted', 3765: 'pleasurable', 3766: 'fatigue', 3767: 'he‚äôs', 3768: 'worm', 3769: 'hbo', 3770: 'maximum', 3771: 'unaware', 3772: 'removes', 3773: 'assignments', 3774: 'reduce', 3775: 'misleading', 3776: 'crossword', 3777: 'touches', 3778: 'kindel', 3779: 'aluminum', 3780: 'leader', 3781: 'runtime', 3782: 'sample', 3783: 'runtime100', 3784: 'hrs200', 3785: 'hrs400', 3786: 'gigantic', 3787: 'purchaser', 3788: 'headset', 3789: 'heads', 3790: 'measures', 3791: 'mower', 3792: 'excellant', 3793: 'outage', 3794: 'dissatisfied', 3795: 'reflects', 3796: 'beet', 3797: 'industry', 3798: 'coin', 3799: 'corroding', 3800: 'excelente', 3801: 'rivals', 3802: 'carton', 3803: 'aok', 3804: 'theater', 3805: 'record', 3806: 'immediate', 3807: 'kick', 3808: 'retain', 3809: 'woods', 3810: 'boom', 3811: 'lacka', 3812: 'duh', 3813: 'multimeter', 3814: 'cordless', 3815: 'mas', 3816: 'canon', 3817: 'exposure', 3818: 'ear', 3819: 'downstairs', 3820: 'vote', 3821: 'pays', 3822: 'temperatures', 3823: 'holder', 3824: 'proper', 3825: 'unreal', 3826: 'impatient', 3827: 'thankfully', 3828: 'longtime', 3829: 'adv', 3830: 'pressed', 3831: 'disappear', 3832: 'groupon', 3833: 'breast', 3834: 'encountered', 3835: 'death', 3836: 'row', 3837: 'gizmos', 3838: 'pointer', 3839: 'pinch', 3840: 'proud', 3841: 'manufactured', 3842: 'sunbeam', 3843: 'stats', 3844: 'bags', 3845: 'wearing', 3846: 'bats', 3847: 'brief', 3848: 'corners', 3849: 'expansive', 3850: 'shack', 3851: 'freaking', 3852: 'kill', 3853: 'earthquake', 3854: 'critical', 3855: 'ripoff', 3856: 'official', 3857: 'failing', 3858: 'backs', 3859: 'consumers', 3860: 'screwing', 3861: 'eyesight', 3862: 'reserve', 3863: 'cvs', 3864: 'depth', 3865: 'cam', 3866: 'rounds', 3867: 'surround', 3868: 'wine', 3869: 'opener', 3870: 'characteristics', 3871: 'surely', 3872: 'loyal', 3873: 'feed', 3874: 'impossibly', 3875: 'strike', 3876: 'durcell', 3877: 'eneloops', 3878: 'arises', 3879: 'boots', 3880: 'solutions', 3881: 'indistinguishable', 3882: 'clue', 3883: 'clicker', 3884: 'expectation', 3885: 'rabbit', 3886: 'grate', 3887: 'directed', 3888: 'allot', 3889: 'yea', 3890: 'sensing', 3891: 'cup', 3892: 'amongst', 3893: 'torn', 3894: 'comparably', 3895: 'batter', 3896: 'childrens', 3897: 'accessibility', 3898: 'subjective', 3899: 'painful', 3900: 'combo', 3901: 'deer', 3902: 'pantry', 3903: 'ugh', 3904: 'upside', 3905: 'competitively', 3906: 'removing', 3907: 'majority', 3908: 'naturally', 3909: 'responsible', 3910: 'gamers', 3911: 'hopeful', 3912: 'pricier', 3913: 'hurting', 3914: 'mounted', 3915: 'apartment', 3916: 'hunt', 3917: 'fanatic', 3918: 'nite', 3919: 'million', 3920: 'admittedly', 3921: 'runner', 3922: 'importance', 3923: 'exaggerating', 3924: 'cluttered', 3925: 'darker', 3926: 'projects', 3927: 'electrons', 3928: 'reliably', 3929: 'stretch', 3930: 'locations', 3931: 'lead', 3932: 'according', 3933: 'xfinity', 3934: 'unwrap', 3935: 'swap', 3936: 'photographer', 3937: 'thermostats', 3938: 'til', 3939: 'twelve', 3940: 'trucks', 3941: 'camper', 3942: 'exceptionally', 3943: 'gem', 3944: 'deciding', 3945: 'commonly', 3946: 'backpacks', 3947: 'dealing', 3948: 'whichever', 3949: 'japanese', 3950: 'industrial', 3951: 'nerf', 3952: 'risk', 3953: 'fortunately', 3954: 'heating', 3955: 'village', 3956: 'plant', 3957: 'iam', 3958: 'efficiently', 3959: 'obsolete', 3960: 'downsides', 3961: 'engineering', 3962: 'sing', 3963: 'lowe', 3964: 'dslr', 3965: 'toilet', 3966: 'drum', 3967: 'planned', 3968: 'virtually', 3969: 'identify', 3970: 'spam', 3971: 'breaker', 3972: 'seeking', 3973: 'distinguish', 3974: 'fuzzy', 3975: 'soi', 3976: 'cat', 3977: 'wet', 3978: 'sauce', 3979: 'piano', 3980: 'stain', 3981: 'focused', 3982: 'scope', 3983: 'essentials', 3984: 'shutting', 3985: 'moves', 3986: 'shortest', 3987: 'replenish', 3988: 'eliminate', 3989: 'easter', 3990: 'opposite', 3991: 'ect', 3992: 'moderate', 3993: 'stress', 3994: 'unusual', 3995: 'bricks', 3996: 'varies', 3997: 'manufacture', 3998: 'suffice', 3999: 'raovac', 4000: 'dissapointed', 4001: 'shocking', 4002: 'reciever', 4003: 'comments', 4004: 'crying', 4005: 'corrected', 4006: 'calculations', 4007: 'extrapolating', 4008: 'shirt', 4009: 'forced', 4010: 'skip', 4011: 'objective', 4012: 'blu', 4013: 'warnings', 4014: 'digging', 4015: 'forgot', 4016: 'independent', 4017: 'decade', 4018: 'swapped', 4019: 'lesson', 4020: 'sophisticated', 4021: 'pacific', 4022: 'farther', 4023: 'pants', 4024: 'evens', 4025: 'frother', 4026: 'encased', 4027: 'consideration', 4028: 'vibrator', 4029: 'typed', 4030: 'memberships', 4031: 'fyi', 4032: 'goog', 4033: 'icing', 4034: 'cartridge', 4035: 'backyard', 4036: '99cent', 4037: 'bleed', 4038: 'prone', 4039: 'spectrum', 4040: 'counts', 4041: 'pause', 4042: 'enables', 4043: 'frankly', 4044: 'arent', 4045: 'guarantees', 4046: 'centre', 4047: 'binders', 4048: 'discs', 4049: 'excitement', 4050: 'kodi', 4051: 'signs', 4052: 'sheet', 4053: 'stands', 4054: 'daylight', 4055: 'circle', 4056: 'doll', 4057: 'drone', 4058: 'animals', 4059: 'rectangular', 4060: 'logs', 4061: 'standby', 4062: 'taller', 4063: 'similarly', 4064: 'lieu', 4065: 'pens', 4066: 'daddy', 4067: 'lady', 4068: 'preparation', 4069: 'guards', 4070: 'crinkly', 4071: 'belongings', 4072: 'sections', 4073: 'accordingly', 4074: 'pocketed', 4075: 'highlights', 4076: 'zipper', 4077: 'traveled', 4078: 'notebook', 4079: 'toward', 4080: 'fitted', 4081: 'wars', 4082: 'fashionable', 4083: 'usb3', 4084: 'slipping', 4085: 'expands', 4086: 'mailed', 4087: 'settle', 4088: 'socket', 4089: 'privacy', 4090: 'accidents', 4091: 'facts', 4092: 'funny', 4093: 'phrase', 4094: 'neil', 4095: 'wemo', 4096: 'transportation', 4097: 'recipes', 4098: 'wikipedia', 4099: 'complants', 4100: 'continually', 4101: 'accustomed', 4102: 'activating', 4103: 'jbl', 4104: 'listened', 4105: 'conversation', 4106: 'habe', 4107: 'fort', 4108: 'requested', 4109: 'podcasts', 4110: 'filling', 4111: 'automated', 4112: 'alexis', 4113: 'integrate', 4114: 'poolside', 4115: 'status', 4116: 'taps', 4117: 'housework', 4118: 'downgraded', 4119: 'building', 4120: 'session', 4121: 'volumes', 4122: '60s', 4123: 'doubles', 4124: 'notifications', 4125: 'syncing', 4126: 'plated', 4127: 'speeds', 4128: 'designing', 4129: 'irritating', 4130: 'gentle', 4131: 'distributed', 4132: 'dictionaries', 4133: 'wonky', 4134: 'ounces', 4135: 'dims', 4136: 'experimental', 4137: 'thrones', 4138: 'tweaking', 4139: 'viable', 4140: 'bothers', 4141: 'fingerprints', 4142: 'flying', 4143: 'turner', 4144: 'problematic', 4145: 'inadvertently', 4146: 'ancient', 4147: 'acct', 4148: 'aloud', 4149: 'zippy', 4150: 'attract', 4151: 'hefty', 4152: 'spendy', 4153: 'audiobook', 4154: 'haptic', 4155: 'healthy', 4156: 'hiccups', 4157: 'rolled', 4158: 'settled', 4159: 'graphical', 4160: 'worlds', 4161: 'chooses', 4162: 'scary', 4163: 'nails', 4164: 'sprout', 4165: 'technological', 4166: 'nbc', 4167: 'jumping', 4168: 'disconcerting', 4169: 'categories', 4170: 'hasmore', 4171: 'novices', 4172: 'treated', 4173: 'colorful', 4174: 'intelligent', 4175: 'tuck', 4176: '7inch', 4177: 'somewhe', 4178: 'intimidating', 4179: 'mono', 4180: 'alight', 4181: '64gig', 4182: 'reg', 4183: 'kindlefire', 4184: 'temporary', 4185: 'whilst', 4186: 'customized', 4187: 'custom', 4188: 'estate', 4189: 'mindless', 4190: 'glitchy', 4191: 'insure', 4192: 'ties', 4193: 'restaurant', 4194: 'saavy', 4195: 'segment', 4196: '20gb', 4197: 'defect', 4198: 'glossy', 4199: 'guides', 4200: 'resetting', 4201: 'newphew', 4202: 'belong', 4203: 'tasking', 4204: 'dji', 4205: 'powerhouse', 4206: 'absorbs', 4207: 'git', 4208: 'possibilities', 4209: 'referring', 4210: 'portal', 4211: 'tricky', 4212: 'supervision', 4213: 'passes', 4214: 'renew', 4215: 'nana', 4216: 'art', 4217: 'impaired', 4218: 'bumpers', 4219: 'dryer', 4220: 'landed', 4221: 'dose', 4222: 'alittle', 4223: 'perks', 4224: 'straightforward', 4225: 'awseome', 4226: 'granddaugther', 4227: 'dreamtab', 4228: 'enclosure', 4229: 'affected', 4230: 'allotted', 4231: 'multitasking', 4232: 'goggle', 4233: 'spin', 4234: 'housed', 4235: 'slik', 4236: 'folders', 4237: 'heading', 4238: 'despise', 4239: 'swyping', 4240: 'relying', 4241: 'carpal', 4242: 'tunnel', 4243: 'weaknesses', 4244: 'legitimately', 4245: 'biting', 4246: 'alike', 4247: '1gb', 4248: 'fire8', 4249: 'hitting', 4250: 'homerun', 4251: 'washed', 4252: 'leaning', 4253: '10in', 4254: 'watcher', 4255: 'byod', 4256: 'howto', 4257: 'fixes', 4258: 'opportunities', 4259: 'cross', 4260: 'fundraiser', 4261: '11yr', 4262: 'sega', 4263: 'teaches', 4264: 'conclusion', 4265: 'tweeting', 4266: 'curriculums', 4267: 'acess', 4268: 'guppies', 4269: 'reported', 4270: 'kindled', 4271: 'tot', 4272: 'toast', 4273: 'fianc', 4274: '32mb', 4275: 'manager', 4276: 'sees', 4277: 'bedt', 4278: 'sideload', 4279: 'wound', 4280: 'bloat', 4281: 'fed', 4282: 'protectors', 4283: 'clogs', 4284: 'hardwood', 4285: 'schooling', 4286: 'seventy', 4287: 'bent', 4288: 'hack', 4289: 'presence', 4290: 'samsungs', 4291: 'playtime', 4292: 'exam', 4293: 'taught', 4294: 'frees', 4295: 'schools', 4296: 'appreciation', 4297: 'voids', 4298: 'miniature', 4299: 'positives', 4300: 'acting', 4301: '5year', 4302: 'spilled', 4303: 'bookshelves', 4304: 'renting', 4305: 'snappier', 4306: 'aren‚äôt', 4307: 'lovin', 4308: 'taplet', 4309: 'lettering', 4310: 'texting', 4311: 'rainy', 4312: 'political', 4313: 'introduction', 4314: 'merchandise', 4315: 'fiance', 4316: 'targeted', 4317: 'delicate', 4318: 'conceal', 4319: 'messed', 4320: 'article', 4321: 'relax', 4322: 'doors', 4323: 'getjar', 4324: 'restarted', 4325: 'bending', 4326: 'expressed', 4327: 'flag', 4328: 'measly', 4329: 'variant', 4330: 'pixel', 4331: 'you‚äôre', 4332: 'that‚äôs', 4333: 'viewer', 4334: 'australia', 4335: 'temps', 4336: 'dividing', 4337: 'comparative', 4338: 'organization', 4339: 'scenarios', 4340: 'gathered', 4341: 'indoors', 4342: 'primitive', 4343: 'improving', 4344: 'preform', 4345: 'infrequently', 4346: 'conditioned', 4347: 'dan', 4348: 'surveillance', 4349: 'fellow', 4350: 'reusable', 4351: 'genuine', 4352: 'ordinary', 4353: 'troubles', 4354: 'kodak', 4355: 'floating', 4356: 'cylinders', 4357: 'effectiveness', 4358: 'arthritis', 4359: 'fired', 4360: 'quantum', 4361: 'determined', 4362: 'receipt', 4363: 'necessities', 4364: 'recycled', 4365: 'fifth', 4366: 'perishable', 4367: 'remainder', 4368: 'mill', 4369: 'voltmeter', 4370: 'ripping', 4371: 'playstation', 4372: 'outlast', 4373: 'detail', 4374: 'shifts', 4375: 'corrugated', 4376: 'disposables', 4377: 'tolerance', 4378: 'concert', 4379: 'translate', 4380: 'hated', 4381: 'permanent', 4382: 'ending', 4383: 'demands', 4384: 'nuff', 4385: 'instances', 4386: 'polarity', 4387: 'partially', 4388: 'discharged', 4389: 'alive', 4390: 'biased', 4391: 'french', 4392: 'restocked', 4393: 'temp', 4394: 'swings', 4395: 'bouncers', 4396: 'functioned', 4397: 'deserved', 4398: 'suction', 4399: 'preformed', 4400: 'occurs', 4401: 'january', 4402: 'evaluating', 4403: 'disturbing', 4404: 'timed', 4405: 'oversized', 4406: 'freak', 4407: 'vibrating', 4408: 'appalled', 4409: 'feet', 4410: 'attack', 4411: 'motors', 4412: 'beeps', 4413: 'distance', 4414: 'cap', 4415: 'terminal', 4416: 'disposed', 4417: 'hazardous', 4418: 'projector', 4419: 'idk', 4420: 'solely', 4421: 'mos', 4422: 'recharger', 4423: 'cabinets', 4424: 'spray', 4425: 'joule', 4426: 'wreaths', 4427: 'unimportant', 4428: 'photographers', 4429: 'discard', 4430: 'guessed', 4431: 'frameless', 4432: 'nizn', 4433: 'favor', 4434: 'subpar', 4435: 'hidden', 4436: 'blah', 4437: 'vouch', 4438: 'dura', 4439: 'fresheners', 4440: 'lamps', 4441: 'realistic', 4442: 'ion', 4443: 'bottle', 4444: 'reservations', 4445: 'false', 4446: 'bars', 4447: 'fashion', 4448: 'argue', 4449: 'duralast', 4450: 'easiest', 4451: 'humble', 4452: 'scenario', 4453: 'shipper', 4454: 'thx', 4455: 'cheapos', 4456: 'battle', 4457: 'planet', 4458: 'circuits', 4459: 'batterize', 4460: 'transaction', 4461: 'tuff', 4462: 'fulfill', 4463: 'handing', 4464: 'specifications', 4465: 'adorable', 4466: 'fantastically', 4467: 'pile', 4468: 'refrigerator', 4469: 'pkg', 4470: 'imho', 4471: 'apiece', 4472: 'dent', 4473: 'competes', 4474: 'unfair', 4475: 'honesty', 4476: 'beard', 4477: 'impression', 4478: 'nearby', 4479: 'namely', 4480: 'hungry', 4481: 'exceed', 4482: 'shaver', 4483: 'military', 4484: 'consuming', 4485: 'bubbles', 4486: 'sellers', 4487: 'placement', 4488: 'wrappers', 4489: 'criteria', 4490: 'counterparts', 4491: 'moisture', 4492: 'jeff', 4493: 'marks', 4494: 'emptor', 4495: 'fancier', 4496: 'lifesaver', 4497: 'goodbye', 4498: 'approx', 4499: 'battiers', 4500: 'increasingly', 4501: 'recomend', 4502: 'sore', 4503: 'reckless', 4504: 'tie', 4505: 'shops', 4506: 'exp', 4507: 'pods', 4508: 'glowing', 4509: 'ole', 4510: 'clamshells', 4511: 'granted', 4512: 'plow', 4513: 'foreseeable', 4514: 'burst', 4515: 'backups', 4516: 'definetly', 4517: 'melt', 4518: 'enegizer', 4519: 'opted', 4520: 'associated', 4521: 'bay', 4522: 'triggers', 4523: 'demanding', 4524: 'fumbling', 4525: 'exercise', 4526: 'leary', 4527: 'stole', 4528: 'route', 4529: 'rentals', 4530: 'topic', 4531: 'jet', 4532: 'reliability', 4533: 'qty', 4534: 'twos', 4535: 'chew', 4536: 'context', 4537: 'mundane', 4538: 'patterns', 4539: 'destroying', 4540: 'suggestion', 4541: 'withing', 4542: 'september', 4543: 'rayovak', 4544: 'investing', 4545: 'responses', 4546: 'dangerous', 4547: 'engine', 4548: 'baggies', 4549: 'sided', 4550: 'workout', 4551: 'waistband', 4552: 'errands', 4553: 'warmer', 4554: 'maxwell', 4555: 'modem', 4556: 'horrendous', 4557: 'sticker', 4558: 'printing', 4559: 'rust', 4560: 'nevertheless', 4561: 'alas', 4562: 'screw', 4563: 'robot', 4564: 'entering', 4565: 'beeped', 4566: 'signed', 4567: 'minus', 4568: 'former', 4569: 'oily', 4570: 'optical', 4571: 'soaked', 4572: 'beater', 4573: 'leaky', 4574: 'swapping', 4575: 'degrade', 4576: 'wee', 4577: 'picky', 4578: 'monitored', 4579: 'body', 4580: 'discoloration', 4581: 'knocked', 4582: 'knockoffs', 4583: 'grouped', 4584: 'lame', 4585: 'steep', 4586: 'weekdays', 4587: 'decades', 4588: 'unsatisfactory', 4589: 'shear', 4590: 'utterly', 4591: 'begining', 4592: 'driven', 4593: 'sleeves', 4594: 'rapidly', 4595: 'accomodate', 4596: 'readily', 4597: 'finished', 4598: 'deep', 4599: 'iffy', 4600: 'cycle', 4601: 'countries', 4602: 'reminds', 4603: 'surrounding', 4604: 'swear', 4605: 'wild', 4606: 'sword', 4607: 'dice', 4608: 'harmful', 4609: 'percentage', 4610: 'indicates', 4611: 'containing', 4612: 'conventional', 4613: 'measuring', 4614: 'lens', 4615: 'ticks', 4616: 'fat', 4617: 'variable', 4618: 'techs', 4619: 'menards', 4620: 'quirky', 4621: 'malfunctions', 4622: 'interrupted', 4623: 'film', 4624: 'verified', 4625: 'uncommon', 4626: 'degree', 4627: 'todays', 4628: 'gauge', 4629: 'studio', 4630: 'seals', 4631: 'questionable', 4632: 'durecell', 4633: 'wishing', 4634: 'watering', 4635: 'adopted', 4636: 'animal', 4637: '9th', 4638: 'convienent', 4639: 'ferocious', 4640: 'sole', 4641: 'grat', 4642: 'listing', 4643: 'whereas', 4644: 'credible', 4645: 'titan', 4646: 'wave', 4647: 'panel', 4648: 'qualify', 4649: 'sennheiser', 4650: 'shooting', 4651: 'rare', 4652: 'bicycle', 4653: 'nikon', 4654: 'convince', 4655: 'dude', 4656: 'tape', 4657: 'interior', 4658: 'bjs', 4659: 'ring', 4660: 'horribly', 4661: 'hama', 4662: 'hung', 4663: 'tension', 4664: 'whats', 4665: 'directtv', 4666: 'ethernet', 4667: 'pointless', 4668: '2hrs', 4669: 'compliment', 4670: 'disappoints', 4671: 'albeit', 4672: 'millions', 4673: 'racks', 4674: 'survive', 4675: 'drainage', 4676: 'followed', 4677: 'mush', 4678: 'vehicles', 4679: 'dandy', 4680: 'glade', 4681: 'smells', 4682: 'fork', 4683: 'attempting', 4684: 'refuses', 4685: 'heaven', 4686: 'uploaded', 4687: 'shoes', 4688: 'embarrassing', 4689: 'relationships', 4690: 'unbearably', 4691: 'grew', 4692: 'clips', 4693: 'keeper', 4694: 'toshiba', 4695: 'vibration', 4696: 'suspended', 4697: 'modification', 4698: 'strips', 4699: 'bottoms', 4700: 'retrofit', 4701: 'interfere', 4702: 'accommodate', 4703: 'lecture', 4704: 'tags', 4705: 'pulls', 4706: 'chromebook', 4707: 'macair', 4708: 'snags', 4709: 'friction', 4710: 'beer', 4711: 'cozy', 4712: 'koozie', 4713: 'slit', 4714: 'machinery', 4715: 'wandering', 4716: 'shoutout', 4717: 'classy', 4718: 'scene', 4719: 'darth', 4720: 'vader', 4721: 'mask', 4722: 'unboxed', 4723: 'tee', 4724: 'amp', 4725: 'dell', 4726: 'slips', 4727: 'fab', 4728: 'passport', 4729: 'hides', 4730: 'litter', 4731: 'conversion', 4732: 'guest', 4733: 'echoes', 4734: 'traffic', 4735: 'appearing', 4736: 'expanding', 4737: 'unplug', 4738: 'adaptable', 4739: 'automation', 4740: 'inclusion', 4741: 'partner', 4742: 'host', 4743: 'gathering', 4744: 'bare', 4745: 'lows', 4746: 'footprint', 4747: 'shopped', 4748: 'shines', 4749: 'understandable', 4750: 'wires', 4751: 'alex', 4752: 'speaking', 4753: 'scores', 4754: 'advantages', 4755: 'unlocking', 4756: 'discontinued', 4757: 'headline', 4758: 'bough', 4759: 'stationary', 4760: 'scheduled', 4761: 'tub', 4762: 'dos', 4763: 'speech', 4764: 'pairing', 4765: 'beef', 4766: 'onboard', 4767: 'maximize', 4768: 'closest', 4769: 'talks', 4770: 'lightweigh', 4771: 'knitting', 4772: 'clicks', 4773: 'commute', 4774: 'hub', 4775: 'flipping', 4776: 'narrow', 4777: 'christian', 4778: 'bump', 4779: 'squeeze', 4780: 'yellowish', 4781: 'elegant', 4782: 'nighttime', 4783: 'newspapers', 4784: 'join', 4785: 'secondly', 4786: 'tint', 4787: 'visibility', 4788: 'glowlight', 4789: 'latter', 4790: 'misplaced', 4791: 'swipes', 4792: 'pluses', 4793: 'quietly', 4794: 'tilted', 4795: 'thumb', 4796: 'fold', 4797: 'intrusive', 4798: 'trigger', 4799: 'splurge', 4800: 'skipping', 4801: 'preferences', 4802: 'introduce', 4803: 'reflective', 4804: 'wether', 4805: 'unwrapped', 4806: 'thorough', 4807: 'challenges', 4808: 'standpoint', 4809: 'treadmill', 4810: 'begging', 4811: 'restarting', 4812: 'unsupervised', 4813: 'kicks', 4814: 'gigahertz', 4815: 'megapixel', 4816: 'shoots', 4817: 'excitedly', 4818: 'stutdy', 4819: '8mm', 4820: 'unbox', 4821: 'dyslexic', 4822: 'ranges', 4823: 'adultsa', 4824: 'encounter', 4825: 'clog', 4826: 'tabletthe', 4827: 'programmer', 4828: 'grandchilds', 4829: 'streamlined', 4830: 'restrictive', 4831: 'hesitation', 4832: 'adolescent', 4833: '4yrs', 4834: 'chronic', 4835: 'droid', 4836: 'survives', 4837: '30yr', 4838: 'majorly', 4839: 'guided', 4840: 'didon', 4841: 'recreational', 4842: 'rewards', 4843: 'wind', 4844: 'observe', 4845: 'micky', 4846: 'minnie', 4847: 'hypersensitive', 4848: 'rent', 4849: 'studying', 4850: 'tween', 4851: 'crosswords', 4852: 'wifes', 4853: 'distribute', 4854: 'viewed', 4855: 'accomplished', 4856: 'panels', 4857: 'recommends', 4858: 'aka', 4859: 'positively', 4860: 'entered', 4861: 'payed', 4862: 'array', 4863: 'stepping', 4864: 'infant', 4865: 'beforehand', 4866: 'clerk', 4867: 'handlings', 4868: '2year', 4869: 'restricting', 4870: 'ireader', 4871: 'amaxzon', 4872: 'toddlerseasy', 4873: 'carryeasy', 4874: 'difficulties', 4875: 'pushed', 4876: 'honeatly', 4877: 'inconvenience', 4878: 'logging', 4879: 'shabby', 4880: 'usr', 4881: 'cushioning', 4882: '‚ò∫', 4883: 'geating', 4884: 'boredom', 4885: 'lick', 4886: 'easyer', 4887: 'grafics', 4888: 'conection', 4889: 'fallen', 4890: 'downfalls', 4891: 'courses', 4892: 'blotches', 4893: 'anyday', 4894: 'farmers', 4895: 'almanac', 4896: 'patents', 4897: 'afternoon', 4898: 'tooo', 4899: 'bounced', 4900: 'bland', 4901: 'snuff', 4902: 'retina', 4903: 'city', 4904: 'concrete', 4905: 'intact', 4906: 'stepped', 4907: 'misbehaving', 4908: 'toodler', 4909: 'enroll', 4910: 'conducive', 4911: 'mucheveryday', 4912: 'gamehis', 4913: 'pove', 4914: 'refuse', 4915: 'parameters', 4916: 'prop', 4917: 'specials', 4918: 'amozon', 4919: 'whit', 4920: 'surrounds', 4921: 'desent', 4922: '15mins', 4923: 'glambaby', 4924: 'fiddled', 4925: 'lifesavers', 4926: 'object', 4927: 'lifw', 4928: 'witnessed', 4929: 'laminate', 4930: 'gaurantee', 4931: 'aweosme', 4932: 'encouraged', 4933: 'dictate', 4934: 'kindleized', 4935: 'pricegood', 4936: 'unrelated', 4937: 'goggleplay', 4938: 'musicality', 4939: 'kidproof', 4940: 'action', 4941: 'eady', 4942: 'certificates', 4943: 'buffers', 4944: 'assisted', 4945: 'grainy', 4946: 'fascinated', 4947: 'kindergarten', 4948: 'gaining', 4949: 'experiance', 4950: 'figthing', 4951: 'catalog', 4952: 'exited', 4953: 'height', 4954: 'golden', 4955: 'duarable', 4956: 'needespecially', 4957: 'jissela', 4958: 'quieter', 4959: 'instructional', 4960: 'nakes', 4961: 'shatter', 4962: 'gurantee', 4963: 'regulate', 4964: 'ips', 4965: 'chosen', 4966: 'expandability', 4967: 'purposly', 4968: 'curiosity', 4969: 'hammer', 4970: 'washer', 4971: 'recipients', 4972: 'quetion', 4973: 'warenty', 4974: 'incorporate', 4975: 'selected', 4976: 'investigated', 4977: 'headstart', 4978: 'kiosk', 4979: 'trys', 4980: 'menial', 4981: 'perspective', 4982: 'grouping', 4983: '200gb', 4984: 'titles', 4985: 'equates', 4986: 'nterface', 4987: 'interruption', 4988: 'unauthorized', 4989: 'rethinking', 4990: 'bold', 4991: 'youngster', 4992: 'contorl', 4993: 'grands', 4994: 'usin', 4995: 'grownup', 4996: 'durrible', 4997: 'cords', 4998: 'partial', 4999: 'sdmini', 5000: 'chtistmas', 5001: 'crime', 5002: 'farone', 5003: 'adhd', 5004: 'sterdy', 5005: 'dif', 5006: 'differentiate', 5007: 'imagination', 5008: 'appschild', 5009: '1yo', 5010: 'granville', 5011: '100s', 5012: 'someday', 5013: 'everynight', 5014: 'dnt', 5015: '3yrs', 5016: 'fondly', 5017: 'pokemon', 5018: 'easiness', 5019: 'cooperate', 5020: 'antivirus', 5021: 'satisfies', 5022: 'broadcasting', 5023: 'whey', 5024: 'wrath', 5025: 'prof', 5026: 'reboots', 5027: 'tablett', 5028: 'phooey', 5029: 'suggesting', 5030: 'assumwd', 5031: 'hover', 5032: 'daugter', 5033: 'kiddy', 5034: 'proclaims', 5035: 'pausing', 5036: 'roaming', 5037: 'gamecircle', 5038: 'shelves', 5039: 'indestructable', 5040: 'invention', 5041: 'stair', 5042: 'velcro', 5043: 'maui', 5044: 'onext', 5045: 'abke', 5046: 'ranged', 5047: 'invasive', 5048: 'mgr', 5049: 'jerk', 5050: 'elite', 5051: 'conpaired', 5052: 'facets', 5053: 'tge', 5054: 'incident', 5055: 'nobles', 5056: 'foldover', 5057: 'phablet', 5058: '500ish', 5059: 'tying', 5060: 'uniformity', 5061: '6yrs', 5062: 'tosses', 5063: 'externally', 5064: 'engineered', 5065: 'hardback', 5066: 'webpage', 5067: 'froze', 5068: 'undone', 5069: 'albums', 5070: 'wad', 5071: 'interact', 5072: 'drawing', 5073: 'werent', 5074: '10and', 5075: 'pixelated', 5076: 'bascially', 5077: 'commuter', 5078: 'sleeps', 5079: 'endure', 5080: 'overloaded', 5081: 'managing', 5082: 'reactions', 5083: 'goodidn', 5084: 'sentences', 5085: 'sone', 5086: 'pumper', 5087: 'gripping', 5088: 'avoids', 5089: 'smartphones', 5090: 'lockscreen', 5091: 'comfy', 5092: 'sounded', 5093: 'cautious', 5094: 'fiddle', 5095: 'configurable', 5096: 'babes', 5097: 'jeans', 5098: 'tinier', 5099: 'modify', 5100: 'procesor', 5101: 'raining', 5102: 'differentiator', 5103: 'gravity', 5104: 'kindels', 5105: 'ergonomical', 5106: 'ergonomics', 5107: 'snaps', 5108: 'deliberately', 5109: 'align', 5110: 'prolongs', 5111: 'brainier', 5112: 'reappearance', 5113: 'vanished', 5114: 'pinched', 5115: 'shifting', 5116: 'positions', 5117: 'thinness', 5118: 'justification', 5119: 'unsnaps', 5120: 'wheni', 5121: 'refreshes', 5122: 'squarish', 5123: 'elliptical', 5124: 'orientation', 5125: 'passages', 5126: 'laston', 5127: 'occur', 5128: 'succeed', 5129: 'unprepared', 5130: 'ounce', 5131: 'designs', 5132: 'trace', 5133: 'illusion', 5134: 'rotates', 5135: 'loudly', 5136: 'redesign', 5137: 'lighweight', 5138: 'author', 5139: 'promotional', 5140: 'misinformed', 5141: 'inherited', 5142: 'audibles', 5143: 'reinstall', 5144: 'starbucks', 5145: 'messenger', 5146: 'tabletsome', 5147: 'multiplication', 5148: 'division', 5149: 'securely', 5150: 'musically', 5151: 'pocketbook', 5152: 'professionals', 5153: 'jon', 5154: 'tony', 5155: 'gbss', 5156: 'morn', 5157: 'coherent', 5158: '14yo', 5159: 'grabs', 5160: 'hitch', 5161: 'shy', 5162: 'shattered', 5163: 'existed', 5164: 'udated', 5165: 'interfacing', 5166: 'nices', 5167: 'speedcons', 5168: 'digitally', 5169: 'fortunate', 5170: 'conecctions', 5171: 'solitare', 5172: 'sodoko', 5173: 'slr', 5174: 'wipe', 5175: 'tsa', 5176: 'screening', 5177: 'circling', 5178: 'atlantic', 5179: 'bite', 5180: 'fire7', 5181: 'northern', 5182: 'theach', 5183: 'hockey', 5184: 'playimg', 5185: 'baskey', 5186: 'snob', 5187: 'mere', 5188: 'mathematically', 5189: 'equation', 5190: 'combining', 5191: 'nextbook', 5192: 'browses', 5193: 'spoiler', 5194: 'sport', 5195: 'bypassed', 5196: 'brightest', 5197: 'loudness', 5198: 'blazing', 5199: 'kidsmode', 5200: 'adapt', 5201: 'endured', 5202: 'begginers', 5203: 'reccommend', 5204: 'screensaver', 5205: 'chipper', 5206: 'viewers', 5207: 'niche', 5208: 'pare', 5209: 'oonz', 5210: 'texted', 5211: 'kurio', 5212: 'published', 5213: 'messageer', 5214: 'annoys', 5215: 'angel', 5216: 'preteens', 5217: 'my9', 5218: 'craft', 5219: 'ligher', 5220: 'ore', 5221: 'giveaways', 5222: 'india', 5223: 'rightly', 5224: 'scanned', 5225: 'fought', 5226: 'textbook', 5227: 'influence', 5228: 'readings', 5229: 'mtv', 5230: 'kicked', 5231: 'hugh', 5232: '5yo', 5233: 'desciples', 5234: 'autofocus', 5235: 'qualities', 5236: '2days', 5237: 'tweens', 5238: 'displaynice', 5239: 'heft', 5240: 'marketchild', 5241: 'ration', 5242: 'johnny', 5243: 'visa', 5244: 'hay', 5245: 'sails', 5246: 'insensitive', 5247: 'determination', 5248: 'tabletyou', 5249: 'nnby', 5250: 'authors', 5251: 'sahre', 5252: 'availablesare', 5253: 'relevant', 5254: 'definate', 5255: 'beoke', 5256: 'soo', 5257: 'llite', 5258: 'polarizing', 5259: 'kinde', 5260: 'firends', 5261: 'allots', 5262: 'clumsiness', 5263: 'knack', 5264: 'map', 5265: 'deletion', 5266: 'approach', 5267: 'consice', 5268: 'chime', 5269: 'trilogies', 5270: 'sorcerer', 5271: 'magical', 5272: 'kiddie', 5273: 'safeguards', 5274: 'repaved', 5275: 'spongy', 5276: 'furbished', 5277: 'pops', 5278: 'dubious', 5279: 'interferes', 5280: 'graduates', 5281: 'compatable', 5282: 'acording', 5283: 'linsay', 5284: 'anticipate', 5285: 'screenlike', 5286: 'feachers', 5287: 'goodexcellent', 5288: 'stalls', 5289: 'downtime', 5290: 'tempered', 5291: 'gleeful', 5292: 'supportive', 5293: 'traditionalist', 5294: 'tryed', 5295: 'goings', 5296: 'ixl', 5297: 'flowers', 5298: 'miracle', 5299: 'hd10', 5300: 'faces', 5301: 'excellence', 5302: 'discussions', 5303: 'portrait', 5304: 'bypass', 5305: 'dashboard', 5306: 'strategy', 5307: 'distances', 5308: 'patrol', 5309: 'child‚äôs', 5310: 'periodicals', 5311: 'hdtv', 5312: 'mobi', 5313: 'problame', 5314: 'guests', 5315: '4star', 5316: 'priceim', 5317: 'remain', 5318: 'fooling', 5319: 'computed', 5320: 'graph', 5321: 'summarizing', 5322: 'dept', 5323: 'repeatable', 5324: 'precise', 5325: 'environmental', 5326: 'opus', 5327: 'c2000', 5328: 'analyzer', 5329: 'affects', 5330: 'case100', 5331: 'flashlight200', 5332: 'flashlight400', 5333: 'flashlightnote', 5334: 'beatable', 5335: 'supplied', 5336: 'eclipsed', 5337: 'hrsas', 5338: 'comperable', 5339: 'contract', 5340: 'noting', 5341: 'closable', 5342: 'mentions', 5343: 'findings', 5344: 'hrsmy', 5345: 'batteriesduracell', 5346: 'mn2400', 5347: 'packduracell', 5348: 'pc2400bkd09energizer', 5349: 'batteriesmaxell', 5350: 'cellrayovac', 5351: 'stockpile', 5352: 'drink', 5353: 'shelter', 5354: 'enginzer', 5355: 'transmitters', 5356: 'advised', 5357: 'defintely', 5358: 'namebrands', 5359: 'tens', 5360: 'machines', 5361: 'chain', 5362: 'transfers', 5363: 'lift', 5364: 'empty', 5365: 'fone', 5366: 'perfarmance', 5367: 'agenda', 5368: 'discharging', 5369: 'grateful', 5370: 'abundance', 5371: 'chaege', 5372: 'poorest', 5373: 'dang', 5374: 'triplets', 5375: 'strikes', 5376: 'uncertainty', 5377: 'supplement', 5378: 'dfd', 5379: 'specified', 5380: 'leery', 5381: 'foods', 5382: 'consistency', 5383: 'acceptably', 5384: 'upsized', 5385: 'wax', 5386: 'effusive', 5387: 'poetic', 5388: 'handhelds', 5389: 'lotta', 5390: 'delight', 5391: 'hero', 5392: 'brandname', 5393: 'biodegradable', 5394: 'fearful', 5395: 'rigorous', 5396: 'shacka', 5397: 'cr123', 5398: 'weddings', 5399: 'wegmans', 5400: 'rav', 5401: 'refunded', 5402: 'fails', 5403: 'wrecked', 5404: 'altogether', 5405: 'oxidation', 5406: 'knocking', 5407: 'paging', 5408: 'greatplease', 5409: 'sockets', 5410: 'cupboard', 5411: 'gained', 5412: 'furnace', 5413: 'replenishment', 5414: 'crash', 5415: 'decorative', 5416: 'sins', 5417: 'mar', 5418: '26really', 5419: 'spanish', 5420: 'advocate', 5421: 'goto', 5422: 'operational', 5423: 'ventured', 5424: 'costo', 5425: 'disturb', 5426: 'bateries', 5427: 'begins', 5428: 'skeptic', 5429: 'concerning', 5430: 'rows', 5431: 'duracellslast', 5432: 'dormant', 5433: 'fixture', 5434: 'notably', 5435: 'recording', 5436: 'surpised', 5437: 'noted', 5438: 'sligtly', 5439: 'faith', 5440: 'doubts', 5441: 'unexpectedly', 5442: 'pencil', 5443: 'deplete', 5444: 'jury', 5445: 'doo', 5446: 'equate', 5447: 'prematurely', 5448: 'gritty', 5449: 'diapers', 5450: 'capacitancethey', 5451: 'mouses', 5452: 'checker', 5453: 'evaluation', 5454: 'lonely', 5455: 'rougher', 5456: 'hose', 5457: 'fan1', 5458: 'mechanism', 5459: 'holders', 5460: 'headsets', 5461: 'cosco', 5462: 'recyclable', 5463: 'postage', 5464: 'makeup', 5465: 'roof', 5466: 'mostof', 5467: '12x', 5468: 'operable', 5469: 'skimp', 5470: 'beg', 5471: 'confirmation', 5472: 'cbatteries', 5473: 'landfills', 5474: 'amazn', 5475: 'deterred', 5476: 'cuff', 5477: 'wired', 5478: 'closets', 5479: 'docket', 5480: 'thief', 5481: 'dorky', 5482: 'headache', 5483: 'conduct', 5484: 'hiking', 5485: 'tire', 5486: 'expends', 5487: 'workused', 5488: 'hyped', 5489: 'plots', 5490: 'nov', 5491: 'unpack', 5492: 'dynamic', 5493: 'affordability', 5494: '66v', 5495: 'vey', 5496: 'agaun', 5497: 'vacuum', 5498: 'scanner', 5499: 'batteris', 5500: 'consequently', 5501: 'simultaneously', 5502: 'supplying', 5503: 'masses', 5504: 'vastly', 5505: 'amazom', 5506: 'reflect', 5507: 'trade', 5508: 'homes', 5509: 'expeted', 5510: 'diameter', 5511: 'childs', 5512: 'jod', 5513: 'jobs', 5514: 'hight', 5515: 'batteriess', 5516: 'decribed', 5517: 'vender', 5518: 'goodgood', 5519: 'blast', 5520: 'notable', 5521: 'orderd', 5522: 'sucking', 5523: 'impress', 5524: 'pice', 5525: 'cares', 5526: 'cuts', 5527: 'batteries4', 5528: 'sourced', 5529: 'expectedfit', 5530: 'anazon', 5531: 'slime', 5532: 'outlasting', 5533: 'guitar', 5534: 'scientist', 5535: 'wink', 5536: 'values', 5537: 'boss', 5538: 'definately', 5539: '39in', 5540: 'itemfast', 5541: 'shipmenthigh', 5542: 'whopping', 5543: 'refill', 5544: 'coz', 5545: 'energetically', 5546: 'tact', 5547: 'battieries', 5548: 'sbe', 5549: 'evaluates', 5550: 'etekcity', 5551: 'hat', 5552: 'driggs', 5553: 'stockpiling', 5554: 'pleasing', 5555: 'diabetic', 5556: 'inner', 5557: 'behold', 5558: 'teddy', 5559: 'proceeded', 5560: 'prosgood', 5561: 'valueworks', 5562: 'expectedappropriate', 5563: 'lifeconsnone', 5564: 'detecting', 5565: 'qc15', 5566: 'forming', 5567: 'unbiased', 5568: 'trackpad', 5569: 'race', 5570: 'tracks', 5571: 'comcast', 5572: 'batties', 5573: 'assorted', 5574: 'relabeled', 5575: 'everyready', 5576: 'excels', 5577: 'shrunk', 5578: 'llike', 5579: 'enougfh', 5580: 'laundry', 5581: 'blackjack', 5582: 'optimal', 5583: 'steer', 5584: 'utilitarian', 5585: 'advisable', 5586: 'seeping', 5587: 'undamaged', 5588: 'conducted', 5589: 'gut', 5590: 'rayovaks', 5591: 'appealing', 5592: 'uncertain', 5593: 'deliveryl', 5594: 'ankles', 5595: 'swelling', 5596: 'silky', 5597: 'dec', 5598: 'snag', 5599: 'marginal', 5600: 'undervoltage', 5601: '48v', 5602: 'wrt', 5603: 'satisfactorily', 5604: 'junky', 5605: 'david', 5606: 'undoubtedly', 5607: 'gobbles', 5608: 'discounts', 5609: 'studies', 5610: 'contained', 5611: 'graphing', 5612: 'acme', 5613: 'coyote', 5614: 'ray333ray2001yahoo', 5615: 'bid', 5616: 'disclosure', 5617: 'monetary', 5618: 'feelings', 5619: 'titanium', 5620: 'seldom', 5621: 'camp', 5622: 'evaluator', 5623: 'cycles', 5624: 'seeming', 5625: 'labor', 5626: 'meticulously', 5627: 'cent', 5628: 'intervalometers', 5629: 'uppity', 5630: 'jiggy', 5631: 'noisemakers', 5632: 'exist', 5633: 'snmap', 5634: 'electroniucs', 5635: 'uising', 5636: 'durably', 5637: 'maisto', 5638: 'crawler', 5639: 'yucky', 5640: 'inclement', 5641: 'dogs', 5642: 'partway', 5643: 'outlasts', 5644: 'profitable', 5645: 'enuf', 5646: 'dressed', 5647: 'cancellation', 5648: 'marker', 5649: 'insider', 5650: 'speeding', 5651: 'convient', 5652: 'mucho', 5653: 'grassyass', 5654: 'frogs', 5655: 'athey', 5656: 'heartbeat', 5657: 'amazin', 5658: 'qc25', 5659: 'negligible', 5660: 'staples', 5661: 'moneys', 5662: 'tracking', 5663: 'stuffer', 5664: 'hoo', 5665: 'backed', 5666: 'bunnies', 5667: 'noteven', 5668: 'atany', 5669: 'flame', 5670: 'hole', 5671: 'thieves', 5672: 'sept', 5673: 'bus', 5674: 'vector', 5675: 'despicable', 5676: 'unworthy', 5677: 'fabulously', 5678: 'definently', 5679: 'advertized', 5680: 'puzzled', 5681: 'refusing', 5682: 'overwhelmingly', 5683: 'postive', 5684: 'investigation', 5685: 'fbi', 5686: 'yeari', 5687: 'gray', 5688: 'zoom', 5689: 'wrote', 5690: 'plainly', 5691: 'someplace', 5692: 'forgetting', 5693: 'wally', 5694: 'amaozon', 5695: 'bootie', 5696: 'coral', 5697: 'wearable', 5698: 'peter', 5699: 'referred', 5700: 'alt', 5701: 'drastically', 5702: 'musician', 5703: 'shure', 5704: 'beta', 5705: 'disastrous', 5706: 'pity', 5707: 'gullible', 5708: 'dancing', 5709: 'decor', 5710: 'seek', 5711: 'sawing', 5712: 'vital', 5713: 'stacked', 5714: 'corresponding', 5715: 'labeler', 5716: 'manufactures', 5717: 'draws', 5718: 'magnificent', 5719: 'deserve', 5720: 'rake', 5721: 'lazer', 5722: 'forking', 5723: 'measurements', 5724: 'neater', 5725: 'debates', 5726: 'roomates', 5727: 'coud', 5728: 'mistaken', 5729: 'hiss', 5730: 'coughing', 5731: 'choking', 5732: 'literal', 5733: 'puddles', 5734: 'peeled', 5735: 'overexposure', 5736: 'surfaces', 5737: 'ineffective', 5738: 'unsafe', 5739: 'freshener', 5740: 'inspection', 5741: 'developed', 5742: 'paranoia', 5743: 'rings', 5744: 'puddle', 5745: 'upto', 5746: 'orangeish', 5747: 'loan', 5748: 'knob', 5749: 'faded', 5750: 'agian', 5751: 'acive', 5752: 'tactical', 5753: 'musical', 5754: 'ranch', 5755: 'nit', 5756: 'blinked', 5757: 'successful', 5758: 'divide', 5759: 'exorbitant', 5760: 'collar', 5761: 'sucked', 5762: 'newegg', 5763: 'trackball', 5764: 'proclaimed', 5765: 'scaring', 5766: 'rite', 5767: 'aid', 5768: 'qualms', 5769: 'rolls', 5770: 'lightup', 5771: '4pack', 5772: 'dip', 5773: 'misc', 5774: 'opt', 5775: 'defeats', 5776: 'motorola', 5777: 'walkabouts', 5778: 'walkabout', 5779: 'noqw', 5780: 'depleted', 5781: 'dispensers', 5782: 'milliamp', 5783: 'outputting', 5784: 'gradual', 5785: 'marginally', 5786: 'tune', 5787: 'ent', 5788: 'brutal', 5789: 'ugly', 5790: 'baffled', 5791: 'tore', 5792: 'insta', 5793: 'bulb', 5794: 'inserting', 5795: 'overpaid', 5796: 'collectibles', 5797: 'pillow', 5798: 'freezer', 5799: 'survival', 5800: 'drying', 5801: 'typo', 5802: 'refilled', 5803: 'predicted', 5804: 'beeping', 5805: 'milage', 5806: 'mare', 5807: 'falmeless', 5808: 'quilty', 5809: 'bagel', 5810: 'melted', 5811: 'vertically', 5812: 'vertical', 5813: 'specialty', 5814: 'amope', 5815: 'headlight', 5816: 'lightly', 5817: 'gurus', 5818: 'outmuch', 5819: 'sea', 5820: 'colorado', 5821: 'rangers', 5822: 'visible', 5823: 'las', 5824: 'promise', 5825: 'asian', 5826: 'infamous', 5827: 'reality', 5828: 'asia', 5829: 'idle', 5830: 'notices', 5831: 'bah', 5832: 'humbug', 5833: 'baldwin', 5834: 'keyless', 5835: 'san', 5836: 'francisco', 5837: 'weakened', 5838: 'gameboy', 5839: 'startled', 5840: 'closing', 5841: 'conservative', 5842: 'tornado', 5843: 'disasters', 5844: 'screaming', 5845: 'cry', 5846: 'pets', 5847: 'sweat', 5848: 'commented', 5849: 'substantially', 5850: 'hve', 5851: 'gameplay', 5852: 'downhill', 5853: 'war', 5854: 'elseware', 5855: 'russian', 5856: 'joint', 5857: 'ansered', 5858: 'largest', 5859: 'leaiagel', 5860: 'chips', 5861: 'watt', 5862: 'dewdrop', 5863: 'bargin', 5864: 'dependability', 5865: 'ocd', 5866: 'coated', 5867: 'milk', 5868: 'dimmed', 5869: 'incrementally', 5870: 'goodnight', 5871: 'pita', 5872: 'ahve', 5873: 'outa', 5874: 'pir', 5875: 'scatter', 5876: 'beast', 5877: 'infrequent', 5878: 'polished', 5879: 'marketed', 5880: 'destruction', 5881: 'choo', 5882: 'intending', 5883: 'junkie', 5884: 'hallmark', 5885: 'figurines', 5886: 'letchall', 5887: '5vdc', 5888: 'judge', 5889: 'folk', 5890: 'bands', 5891: 'critique', 5892: 'evaluated', 5893: 'itd', 5894: 'recargable', 5895: 'hoard', 5896: 'hike', 5897: 'neighbor', 5898: 'offen', 5899: 'unreliable', 5900: 'pattern', 5901: 'visually', 5902: 'inspecting', 5903: 'sampling', 5904: 'weighed', 5905: 'implied', 5906: 'recap', 5907: 'surefire', 5908: 'youre', 5909: 'raised', 5910: 'imac', 5911: 'normalto', 5912: 'irrigation', 5913: 'drip', 5914: 'shrinkwrapped', 5915: 'acuity', 5916: 'wowing', 5917: 'swore', 5918: 'sennheisers', 5919: 'pronounced', 5920: 'barring', 5921: '120is', 5922: 'afresh', 5923: 'wast', 5924: 'refunds', 5925: 'waist', 5926: 'weve', 5927: 'presume', 5928: 'engergizer', 5929: 'furby', 5930: 'artificial', 5931: 'mantelpiece', 5932: 'dramatic', 5933: 'edited', 5934: 'obtain', 5935: 'grabbing', 5936: '48aa', 5937: 'amizon', 5938: 'shelve', 5939: 'considerable', 5940: 'meat', 5941: 'fuel', 5942: 'butt', 5943: 'paint', 5944: 'enigizeer', 5945: 'popup', 5946: 'disbelief', 5947: 'believed', 5948: 'deter', 5949: 'duresall', 5950: 'eneagiser', 5951: 'underneath', 5952: 'decorator', 5953: 'stager', 5954: 'roommate', 5955: 'foil', 5956: 'itll', 5957: 'mexican', 5958: 'perfection', 5959: 'engines', 5960: 'vice', 5961: 'substance', 5962: 'disc', 5963: 'shares', 5964: 'bend', 5965: 'displaying', 5966: 'steaming', 5967: 'tubitv', 5968: 'subscriber', 5969: 'streamed', 5970: 'components', 5971: 'fiber', 5972: 'vendor', 5973: 'sheer', 5974: 'dominate', 5975: 'mistakenly', 5976: 'jesus', 5977: 'park', 5978: 'fours', 5979: 'percent', 5980: 'unfriendly', 5981: 'discovering', 5982: 'outrageous', 5983: 'maintains', 5984: 'outshines', 5985: 'reuse', 5986: 'lego', 5987: 'faults', 5988: 'coupon', 5989: '22mm', 5990: 'insures', 5991: 'stuffed', 5992: 'centerpieces', 5993: 'fade', 5994: 'conspiracy', 5995: 'guzzler', 5996: 'donated', 5997: 'believer', 5998: 'signature', 5999: '25v', 6000: 'guessing', 6001: 'wattage', 6002: 'dresser', 6003: 'altra', 6004: 'dances', 6005: 'coloring', 6006: 'tossed', 6007: 'lithiums', 6008: 'mouth', 6009: 'community', 6010: 'slant', 6011: 'distinctive', 6012: 'papers', 6013: 'cellphone', 6014: 'suitcase', 6015: 'stiff', 6016: 'hall', 6017: 'surplus', 6018: 'accompanied', 6019: 'belongs', 6020: 'buckles', 6021: 'accents', 6022: 'matching', 6023: 'pod', 6024: 'flap', 6025: 'shock', 6026: 'kitty', 6027: 'elder', 6028: 'explanatory', 6029: 'relatives', 6030: 'forms', 6031: 'nough', 6032: 'european', 6033: 'outlets', 6034: 'funtional', 6035: 'international', 6036: 'cloth', 6037: 'preferable', 6038: 'lemon', 6039: 'watts', 6040: 'hotel', 6041: 'bedside', 6042: 'fidelity', 6043: 'gratifying', 6044: 'programmers', 6045: 'shuffle', 6046: 'thunder', 6047: 'involved', 6048: 'laws', 6049: 'stutters', 6050: 'inputs', 6051: 'helper', 6052: 'cylinder', 6053: 'aux', 6054: 'charts', 6055: 'dolby', 6056: 'houses', 6057: 'alexas', 6058: 'complement', 6059: 'podcast', 6060: 'reminders', 6061: 'firmware', 6062: 'kinks', 6063: 'couldnt', 6064: 'conversations', 6065: 'avail', 6066: '70s', 6067: 'releasing', 6068: 'tunein', 6069: 'phillips', 6070: 'accent', 6071: 'tunes', 6072: 'soundlink', 6073: 'highs', 6074: 'virtual', 6075: 'ecobee', 6076: 'extension', 6077: 'reminder', 6078: 'steam', 6079: 'surrounded', 6080: 'thetap', 6081: 'shower', 6082: '80s', 6083: 'iheart', 6084: 'sling', 6085: 'graduation', 6086: 'sewing', 6087: 'implementation', 6088: 'harmony', 6089: 'enhancements', 6090: 'steals', 6091: 'procrastinated', 6092: 'uploading', 6093: 'involve', 6094: 'printers', 6095: 'caution', 6096: 'documentation', 6097: 'bandwidth', 6098: 'papperwhite', 6099: 'perfected', 6100: 'bluish', 6101: 'surpasses', 6102: 'effects', 6103: 'nightlight', 6104: 'texts', 6105: 'ppi', 6106: 'agents', 6107: 'chapter', 6108: 'lending', 6109: 'definitions', 6110: 'lightens', 6111: 'glow', 6112: 'leisure', 6113: 'scratched', 6114: 'textured', 6115: 'lacked', 6116: 'readeri', 6117: 'generations', 6118: 'increasing', 6119: 'truthfully', 6120: 'elated', 6121: 'noticible', 6122: 'recessed', 6123: 'intrigued', 6124: 'weightless', 6125: 'pagepress', 6126: 'promotes', 6127: 'dimly', 6128: 'experts', 6129: 'seemless', 6130: 'lovethis', 6131: 'covering', 6132: 'shortcomings', 6133: 'finicky', 6134: 'notepad', 6135: 'tilt', 6136: 'abused', 6137: 'reconnect', 6138: 'granddaugter', 6139: 'starfall', 6140: 'announcedherself', 6141: 'conversing', 6142: 'wordless', 6143: 'pictorialstart', 6144: 'vague', 6145: 'thisdevice', 6146: 'thatfills', 6147: 'protocol', 6148: 'encryption', 6149: 'toattach', 6150: 'asstounding', 6151: 'walled', 6152: 'garden', 6153: 'tethers', 6154: 'easyperfect', 6155: 'carrasoul', 6156: 'loadout', 6157: 'unresponsive', 6158: 'inaccurate', 6159: 'overcome', 6160: 'outcome', 6161: 'marvel', 6162: 'champions', 6163: 'readout', 6164: 'then10', 6165: 'transferring', 6166: 'upright', 6167: 'rebooting', 6168: 'hasslevery', 6169: 'diapointed', 6170: 'vocal', 6171: 'identifying', 6172: 'motivation', 6173: 'unwilling', 6174: 'progressing', 6175: 'avi', 6176: 'anniversary', 6177: 'nextflix', 6178: 'facetime', 6179: 'fierce', 6180: 'convinient', 6181: 'to12', 6182: 'disneyland', 6183: 'tranquil', 6184: 'ecosphere', 6185: 'buggy', 6186: 'dime', 6187: 'smokes', 6188: 'iut', 6189: 'organ', 6190: 'resolutions', 6191: 'mp4', 6192: 'pirce', 6193: 'beginers', 6194: 'cal', 6195: 'saggy', 6196: 'sixth', 6197: 'cubby', 6198: 'drivers', 6199: 'grrat', 6200: 'foe', 6201: 'xmas2015', 6202: 'preteen', 6203: 'ata', 6204: 'greatcons', 6205: 'telegram', 6206: 'hindrance', 6207: 'ƒ∞t', 6208: 'wonderfull', 6209: 'godchild', 6210: 'builtin', 6211: 'youreyes', 6212: 'breathe', 6213: 'frustrates', 6214: 'optimum', 6215: 'speakes', 6216: 'battert', 6217: 'boasting', 6218: 'decrease', 6219: 'decode', 6220: 'hevc', 6221: 'televisions', 6222: 'stopper', 6223: 'billboard', 6224: 'upfront', 6225: 'subsidized', 6226: 'bur', 6227: 'repaired', 6228: 'floors', 6229: 'criticism', 6230: 'labtop', 6231: 'mexico', 6232: 'sorted', 6233: 'busted', 6234: 'increideble', 6235: 'onclude', 6236: 'pinsharp', 6237: 'souped', 6238: 'aplication', 6239: 'youand', 6240: 'broad', 6241: 'offices', 6242: 'mechanics', 6243: 'awwsome', 6244: 'flattered', 6245: 'predominately', 6246: 'netflixs', 6247: 'undesirable', 6248: 'disables', 6249: 'designated', 6250: 'cited', 6251: 'silent', 6252: 'priceless', 6253: 'greatthank', 6254: 'motivated', 6255: 'germany', 6256: 'mandated', 6257: 'acer', 6258: 'eve', 6259: 'valuegreat', 6260: 'homeschool', 6261: 'blackfriday', 6262: 'fire1', 6263: 'accesses', 6264: 'impresses', 6265: 'preferring', 6266: 'vanilla', 6267: 'flagship', 6268: 'replacemwnt', 6269: 'rhe', 6270: 'helpedalways', 6271: 'agent', 6272: 'worksheets', 6273: 'colleagues', 6274: 'downer', 6275: 'manegement', 6276: 'calenders', 6277: 'buggers', 6278: 'lindle', 6279: 'flyer', 6280: 'uninterrupted', 6281: 'voiding', 6282: 'tweaks', 6283: 'recommeneded', 6284: 'homer', 6285: 'vietnam', 6286: 'veteran', 6287: 'firefox', 6288: 'abount', 6289: 'sofisticated', 6290: 'disspoinment', 6291: 'andi', 6292: 'teblets', 6293: 'proff', 6294: 'migration', 6295: 'executive', 6296: 'multifunction', 6297: 'summons', 6298: 'mirroring', 6299: 'considerarions', 6300: 'mint', 6301: 'hooking', 6302: 'tab3', 6303: 'spreadsheet', 6304: 'retrieval', 6305: 'collect', 6306: 'gallery', 6307: 'hybrid', 6308: 'unread', 6309: 'investments', 6310: '8year', 6311: 'prety', 6312: 'recovered', 6313: 'deeply', 6314: 'los', 6315: 'possibility', 6316: 'permissions', 6317: 'strides', 6318: 'facebooking', 6319: 'shifted', 6320: 'laterthis', 6321: 'infact', 6322: '7mm', 6323: 'futuristic', 6324: 'modt', 6325: 'yer', 6326: 'itshe', 6327: 'abcmouse', 6328: 'youngsters', 6329: 'laughing', 6330: 'gre', 6331: 'disappeared', 6332: 'formatted', 6333: 'demensions', 6334: 'godsend', 6335: 'undergraduate', 6336: 'biology', 6337: 'stepmom', 6338: 'proficient', 6339: 'somebody', 6340: 'ened', 6341: 'encourages', 6342: 'weakest', 6343: 'hookup', 6344: 'reloaded', 6345: 'intense', 6346: 'litchi', 6347: 'mavic', 6348: 'doorbuster', 6349: 'assign', 6350: 'barrows', 6351: 'wildlife', 6352: 'appt', 6353: 'litthe', 6354: 'gigabyte', 6355: 'docx', 6356: 'xlsx', 6357: 'pptx', 6358: 'diversity', 6359: 'approached', 6360: 'explaining', 6361: 'assocate', 6362: 'shakey', 6363: 'fitness', 6364: 'motivates', 6365: 'smartwatch', 6366: 'fews', 6367: 'wasd', 6368: 'collecting', 6369: 'positioned', 6370: '189ppi', 6371: 'laminated', 6372: 'nitpicks', 6373: 'punches', 6374: 'bullet', 6375: 'briefings', 6376: 'demon', 6377: 'sandisk', 6378: 'inlaws', 6379: 'uncle', 6380: 'useage', 6381: 'sneakily', 6382: 'assure', 6383: '10yr', 6384: '2yrs', 6385: 'alterior', 6386: 'motive', 6387: 'chord', 6388: 'positional', 6389: 'ereading', 6390: 'pixelation', 6391: 'heaviness', 6392: 'bejeweled', 6393: 'blitz', 6394: 'slugginess', 6395: 'satified', 6396: 'incompatibilities', 6397: 'eagerness', 6398: 'strict', 6399: 'gutter', 6400: 'bcuz', 6401: 'proximity', 6402: 'imporoved', 6403: 'marriage', 6404: 'wotks', 6405: 'hearts', 6406: 'interns', 6407: 'azi', 6408: 'fre', 6409: 'tine', 6410: 'fronts', 6411: 'espn3', 6412: 'unschooled', 6413: 'theyll', 6414: '30sec', 6415: 'jumps', 6416: 'spongbob', 6417: 'defender', 6418: 'booted', 6419: 'disallow', 6420: 'interpreted', 6421: 'dangers', 6422: 'calmly', 6423: 'chatter', 6424: 'kidsit', 6425: 'educationali', 6426: 'smell', 6427: 'offshoot', 6428: 'unobtrusive', 6429: 'earphone', 6430: 'capture', 6431: 'retirement', 6432: 'everythig', 6433: 'figertips', 6434: 'intend', 6435: 'teething', 6436: '6hours', 6437: 'fbs', 6438: 'championship', 6439: 'bama', 6440: 'salesgirl', 6441: 'themes', 6442: 'signing', 6443: 'jostled', 6444: 'tiniest', 6445: 'charity', 6446: 'charitable', 6447: 'kaspersky', 6448: 'complimentary', 6449: 'apponto', 6450: 'nookereader', 6451: 'voicecast', 6452: 'routes', 6453: 'reaponse', 6454: 'laggs', 6455: 'adust', 6456: 'collections', 6457: 'struggles', 6458: 'powerpoints', 6459: 'platforms', 6460: 'html', 6461: 'bookclub', 6462: 'spead', 6463: 'wishlist', 6464: 'rablet', 6465: 'husbandand', 6466: 'discreet', 6467: 'orginal', 6468: 'awsomo', 6469: 'headlines', 6470: 'iwas', 6471: '7year', 6472: 'issued', 6473: 'aiming', 6474: 'samsug', 6475: 'accept', 6476: 'asphalt', 6477: 'playable', 6478: 'xbox1', 6479: 'ps4', 6480: 'dubbles', 6481: 'bbuy', 6482: 'outsell', 6483: 'unavailable', 6484: 'recovery', 6485: 'tremendously', 6486: 'kindlely', 6487: 'fiery', 6488: 'acces', 6489: 'venue', 6490: 'picks', 6491: 'reconnecting', 6492: 'jammed', 6493: 'savior', 6494: 'freespace', 6495: 'independence', 6496: 'calmness', 6497: 'hire', 6498: 'schooled', 6499: 'assoc', 6500: 'parenting', 6501: 'abit', 6502: 'relocate', 6503: 'tmtis', 6504: 'cruzing', 6505: 'phantom', 6506: 'underpowered', 6507: 'mbr', 6508: 'duel', 6509: 'workable', 6510: 'alternatve', 6511: 'purcase', 6512: 'purchasei', 6513: 'contol', 6514: 'solicited', 6515: 'integrations', 6516: 'surfacing', 6517: 'detracts', 6518: 'expirence', 6519: 'remind', 6520: 'cheaped', 6521: 'appeares', 6522: 'tread', 6523: 'multifaceted', 6524: 'firehd8', 6525: 'rubs', 6526: 'arounds', 6527: 'smudges', 6528: 'paws', 6529: 'ness', 6530: 'supportled', 6531: 'conflicting', 6532: 'isnot', 6533: 'contender', 6534: 'sorely', 6535: 'accedently', 6536: 'minuscule', 6537: 'an3', 6538: 'stripped', 6539: 'inexpeisve', 6540: 'pretyy', 6541: 'premitive', 6542: 'educationally', 6543: 'familiarizing', 6544: 'eaxh', 6545: 'bith', 6546: 'geeks', 6547: 'downright', 6548: 'imaginable', 6549: 'grandbabie', 6550: 'lunchtime', 6551: 'nerve', 6552: 'wracking', 6553: 'sims', 6554: 'bing', 6555: 'trending', 6556: 'blocked', 6557: 'gotchas', 6558: 'locking', 6559: 'nano', 6560: 'pictureshe', 6561: 'acquainted', 6562: 'hug', 6563: 'survey', 6564: 'greenish', 6565: 'appeared', 6566: 'integrates', 6567: 'entertainig', 6568: 'farms', 6569: 'viedos', 6570: 'applies', 6571: 'reflection', 6572: 'authenticated', 6573: 'sis', 6574: '9yo', 6575: 'fianc√©', 6576: 'pointed', 6577: 'triplet', 6578: 'ahs8n', 6579: 'cruising', 6580: 'biographys', 6581: 'plying', 6582: 'apts', 6583: 'sceen', 6584: 'kkep', 6585: 'downgrading', 6586: 'brenda', 6587: 'disrespectful', 6588: 'rude', 6589: 'representing', 6590: 'salary', 6591: 'scenes', 6592: 'benefiting', 6593: 'stalk', 6594: 'clones', 6595: 'savoy', 6596: 'greats', 6597: 'unboxing', 6598: '64kb', 6599: 'atari', 6600: 'presets', 6601: 'explains', 6602: 'elmo', 6603: 'temporarily', 6604: 'aiden', 6605: 'anime', 6606: 'edgewise', 6607: 'exterior', 6608: 'craze', 6609: 'deficits', 6610: 'passcode', 6611: 'lokes', 6612: 'supportable', 6613: 'canaccess', 6614: 'wolf', 6615: 'barley', 6616: 'fox', 6617: 'easyto', 6618: 'crafted', 6619: 'glue', 6620: 'topics', 6621: 'bugging', 6622: 'passwords', 6623: 'chubby', 6624: 'stills', 6625: 'freetimeunlimited', 6626: 'apply', 6627: 'biking', 6628: 'lastlonger', 6629: 'hangs', 6630: 'himsince', 6631: 'bok', 6632: 'assisting', 6633: 'warranties', 6634: 'overheating', 6635: 'nonresponsive', 6636: 'midday', 6637: 'swype', 6638: 'shimmering', 6639: 'stomach', 6640: 'exclusive', 6641: 'kindlle', 6642: 'authorized', 6643: 'polite', 6644: 'wtf', 6645: 'aggravation', 6646: 'precious', 6647: 'thursday', 6648: 'checks', 6649: 'allthough', 6650: 'cutoff', 6651: 'toggling', 6652: 'underway', 6653: 'easel', 6654: 'articulating', 6655: 'leapfrog', 6656: 'fay', 6657: 'hds', 6658: 'gety', 6659: 'minds', 6660: 'cramped', 6661: 'regretted', 6662: 'fridaypros', 6663: 'processors', 6664: 'soundwell', 6665: 'builtcons', 6666: 'accomplish', 6667: 'storenet', 6668: 'wnough', 6669: 'warrant', 6670: 'poloroid', 6671: 'unrivaled', 6672: 'pixelating', 6673: 'nexus7', 6674: 'alert', 6675: 'ond', 6676: 'expectationin', 6677: 'solving', 6678: 'advertisment', 6679: 'stoped', 6680: 'movement', 6681: 'foor', 6682: 'websurfing', 6683: 'traveler', 6684: 'rood', 6685: 'fashioned', 6686: 'peppa', 6687: 'pig', 6688: 'samaumg', 6689: 'haircut', 6690: 'dentist', 6691: 'productively', 6692: 'netflick', 6693: 'pkus', 6694: 'tangerine', 6695: 'redbox', 6696: 'dull', 6697: 'inexplicably', 6698: 'chatging', 6699: 'formated', 6700: 'fat32', 6701: 'ntfs', 6702: 'xfat', 6703: 'aftermarket', 6704: 'coc', 6705: 'launched', 6706: 'hint', 6707: 'stinks', 6708: 'octane', 6709: 'fruit', 6710: 'casting', 6711: 'frog', 6712: 'recomended', 6713: 'kidz', 6714: 'lenovo', 6715: 'rail', 6716: 'acc', 6717: 'grankids', 6718: 'lotmore', 6719: 'streamline', 6720: 'loathe', 6721: 'discontinue', 6722: 'unbecoming', 6723: 'pronto', 6724: 'bogs', 6725: 'craig', 6726: 'producs', 6727: 'functinality', 6728: 'exchanges', 6729: 'kendal', 6730: 'cardscons', 6731: 'workaround', 6732: 'intrusiveoverall', 6733: 'mishandled', 6734: 'casei', 6735: 'replaceable', 6736: 'ager', 6737: 'slouch', 6738: 'ôºå', 6739: 'upgradesôºålove', 6740: 'utilizing', 6741: 'gardening', 6742: 'hints', 6743: 'breed', 6744: 'alwyas', 6745: 'sec', 6746: 'dreamed', 6747: 'preordered', 6748: 'juggling', 6749: 'ubiquitous', 6750: 'rcase', 6751: 'zinio', 6752: 'loosens', 6753: 'lib', 6754: 'ninety', 6755: 'expectionations', 6756: 'cabin', 6757: 'announced', 6758: '‚äúdual', 6759: 'wouldn‚äôt', 6760: 'reverses', 6761: 'eighth', 6762: 'imaging', 6763: 'inadequate', 6764: 'appts', 6765: 'alaska', 6766: 'kathleen', 6767: 'stroyek', 6768: 'dishwashers', 6769: 'peaceful', 6770: 'techonology', 6771: 'finishing', 6772: 'dat', 6773: 'fitst', 6774: 'rehab', 6775: 'multiplied', 6776: 'tasker', 6777: 'protections', 6778: 'fifteen', 6779: 'hawaii', 6780: 'cloths', 6781: 'pesky', 6782: 'poundage', 6783: 'airlines', 6784: 'itl', 6785: 'pleanty', 6786: 'freely', 6787: 'fanciest', 6788: 'tabelt', 6789: 'tabet', 6790: 'everday', 6791: 'technologically', 6792: 'multiuse', 6793: 'screamreal', 6794: 'profrssional', 6795: 'sharpness', 6796: '13th', 6797: 'voracious', 6798: 'pff', 6799: 'resort', 6800: 'enlarged', 6801: 'peasy', 6802: 'cookbooks', 6803: 'handsets', 6804: 'netflexs', 6805: 'undergrond', 6806: 'seams', 6807: 'efficiency', 6808: 'thr', 6809: 'programmable', 6810: 'chugs', 6811: 'rules', 6812: 'wantedbest', 6813: 'alsome', 6814: 'disconnected', 6815: 'difiitioin', 6816: 'pounds', 6817: 'transactions', 6818: 'theatre', 6819: 'tix', 6820: 'yokod', 6821: 'inverted', 6822: 'patchy', 6823: 'touted', 6824: 'thinnest', 6825: 'kindly', 6826: 'kindle10', 6827: 'printer', 6828: 'remotely', 6829: 'moments', 6830: 'obtrusive', 6831: 'yoru', 6832: 'cnn', 6833: 'struggleit', 6834: 'heed', 6835: 'void', 6836: 'bumping', 6837: 'gosh', 6838: 'excel', 6839: 'amoled', 6840: 'stolen', 6841: 'astounding', 6842: 'slicone', 6843: 'everthing', 6844: 'loooks', 6845: '16gig', 6846: 'becuase', 6847: 'default', 6848: 'solitair', 6849: 'sodium', 6850: 'conv', 6851: 'bookstores', 6852: 'almighty', 6853: 'politics', 6854: 'marine', 6855: 'flips', 6856: 'crate', 6857: 'learnered', 6858: 'sorting', 6859: 'sequencing', 6860: 'adh', 6861: 'irrelevant', 6862: 'children‚äôs', 6863: 'fingerprint', 6864: 'generationworking', 6865: 'immersive', 6866: 'fintie', 6867: 'headrest', 6868: 'cracking', 6869: 'hiccup', 6870: 'navigated', 6871: 'functionalities', 6872: 'thw', 6873: 'haven‚äôt', 6874: 'landscape', 6875: '1year', 6876: 'comic', 6877: 'i‚äôd', 6878: 'mins', 6879: 'she‚äôs', 6880: 'earphones', 6881: 'supplemental', 6882: 'hd2', 6883: 'networking', 6884: 'delays', 6885: 'considers', 6886: 'nighty', 6887: 'charlie', 6888: 'berenstain', 6889: 'bears', 6890: 'dino', 6891: 'selects', 6892: 'grandparent', 6893: 'xmass', 6894: 'convincing', 6895: 'foster', 6896: 'blocking', 6897: 'protecting', 6898: 'spill', 6899: 'lookin', 6900: 'backspace', 6901: 'fory', 6902: 'artistic', 6903: 'apk', 6904: 'browsers', 6905: 'warrantee', 6906: 'pushes', 6907: 'enhance', 6908: 'inconvient', 6909: 'kore', 6910: 'films', 6911: 'appropariate', 6912: 'treat', 6913: 'motivate', 6914: 'wasn‚äôt', 6915: 'sprint', 6916: 'inevitably', 6917: '8yr', 6918: 'simplest', 6919: 'ipods', 6920: 'tabwet', 6921: 'masks', 6922: '100ish', 6923: 'doubled', 6924: 'thks', 6925: 'regulation', 6926: 'attempt', 6927: 'futile', 6928: 'tethering', 6929: 'oit', 6930: 'tumblr', 6931: 'magnet', 6932: 'kangaroo', 6933: 'pogo', 6934: 'launch', 6935: 'discerning', 6936: 'abcs', 6937: 'advancement', 6938: 'stringer', 6939: 'consulting', 6940: 'buyshock', 6941: 'firesticks', 6942: 'pauses', 6943: 'feaures', 6944: 'crucial', 6945: 'allowance', 6946: 'tabletscons', 6947: 'football', 6948: 'ruins', 6949: '7yo', 6950: 'fianc√©e', 6951: 'enjoyes', 6952: 'folded', 6953: 'arrow', 6954: 'bits', 6955: 'kindle2', 6956: 'personalized', 6957: 'champ', 6958: 'sheets', 6959: 'beeding', 6960: 'towels', 6961: '2months', 6962: 'doorbell', 6963: 'kno', 6964: 'eeeks', 6965: 'experimented', 6966: 'inedible', 6967: 'usedd', 6968: 'tthrough', 6969: 'oprah', 6970: 'chuckle', 6971: 'integral', 6972: 'thes', 6973: 'xpected', 6974: 'swears', 6975: 'leappads', 6976: 'ps3', 6977: 'excessive', 6978: 'lieutenant', 6979: 'forrest', 6980: 'fluctuate', 6981: 'scavenging', 6982: 'stealing', 6983: 'renewed', 6984: 'vigor', 6985: 'fueling', 6986: 'gallon', 6987: 'foursomes', 6988: 'objects', 6989: 'adequately', 6990: 'bht', 6991: 'lrice', 6992: 'theyblast', 6993: 'thunking', 6994: 'definitly', 6995: 'wirth', 6996: 'tires', 6997: 'brakes', 6998: 'subscdiption', 6999: 'energize', 7000: 'steers', 7001: 'zillion', 7002: 'anker', 7003: 'poop', 7004: 'uxcelplastic', 7005: 'tacky', 7006: 'whivh', 7007: 'annually', 7008: 'arrangement', 7009: 'resealable', 7010: 'puedo', 7011: 'recomendarlo', 7012: 'ampliamente', 7013: 'recommendedgo', 7014: 'offbrand', 7015: 'garabge', 7016: 'productions', 7017: 'lab', 7018: 'proves', 7019: 'ass', 7020: 'talkie', 7021: 'scotts', 7022: 'evidence', 7023: 'batt', 7024: 'iced', 7025: 'ice', 7026: 'cubes', 7027: 'melting', 7028: 'darkness', 7029: 'plentiful', 7030: 'ooze', 7031: 'ambition', 7032: 'involving', 7033: 'sieve', 7034: 'rank', 7035: 'toasts', 7036: 'announcements', 7037: 'sacked', 7038: 'raters', 7039: 'conclude', 7040: 'taylor', 7041: 'swift', 7042: 'properties', 7043: 'speedflash', 7044: 'victim', 7045: 'captured', 7046: 'exposures', 7047: 'macs', 7048: '8pack', 7049: 'retire', 7050: 'internals', 7051: 'ineligible', 7052: 'raw', 7053: 'wholesale', 7054: 'multiples', 7055: 'teeth', 7056: 'buzz', 7057: 'amazong', 7058: 'alter', 7059: 'earliest', 7060: 'reoccurring', 7061: 'branch', 7062: 'woeful', 7063: 'sizzling', 7064: 'fizzling', 7065: 'female', 7066: 'violent', 7067: 'nasty', 7068: 'coating', 7069: 'everseriously', 7070: 'blinded', 7071: 'diabetes', 7072: 'inventory', 7073: 'chinse', 7074: 'dutch', 7075: 'oddest', 7076: 'pumpkin', 7077: 'advise', 7078: 'conscious', 7079: 'trackballs', 7080: 'terrifc', 7081: 'dash', 7082: 'onthese', 7083: 'buddy', 7084: 'co2', 7085: 'convience', 7086: 'kwikset', 7087: 'kevo', 7088: 'blinkforhome', 7089: 'expenditures', 7090: 'pulse', 7091: 'oximeter', 7092: 'cheaperand', 7093: 'unbrandedbatteries', 7094: 'mover', 7095: 'gar', 7096: 'bage', 7097: 'defribrilator', 7098: 'greek', 7099: 'isles', 7100: 'siberia', 7101: 'nyet', 7102: 'drift', 7103: 'tripping', 7104: 'respective', 7105: 'cardiac', 7106: 'surgeon', 7107: 'suffer', 7108: 'wretched', 7109: 'sprayed', 7110: 'furious', 7111: 'unexplainably', 7112: 'restocking', 7113: 'bursts', 7114: 'shortens', 7115: 'sharpener', 7116: 'manards', 7117: 'wilol', 7118: 'samples', 7119: 'shameful', 7120: 'diminishes', 7121: 'spoil', 7122: 'rotten', 7123: 'trump', 7124: 'shoulders', 7125: 'creative', 7126: 'profit', 7127: 'chess', 7128: 'complicates', 7129: 'abnormal', 7130: 'disposing', 7131: 'eta', 7132: 'youpros', 7133: 'batteriesthey', 7134: 'aroundcons', 7135: 'impressions', 7136: '1one', 7137: 'shooted', 7138: 'goofy', 7139: 'excellently', 7140: 'defectlve', 7141: 'straighten', 7142: 'alongside', 7143: 'occasion', 7144: 'wiggle', 7145: 'pit', 7146: 'buckle', 7147: '4hours', 7148: 'schlage', 7149: 'puck', 7150: 'deodorizer', 7151: 'ant', 7152: 'wheel', 7153: 'blink', 7154: 'worthiness', 7155: 'chineese', 7156: 'rockclimbing', 7157: 'variables', 7158: 'wins', 7159: 'experiments', 7160: 'pooped', 7161: 'shaky', 7162: 'clam', 7163: 'environmentaly', 7164: '6volt', 7165: 'bans', 7166: 'subscribesave', 7167: 'stache', 7168: 'everybit', 7169: 'discusses', 7170: 'unselfish', 7171: 'relish', 7172: 'reducing', 7173: 'unlikely', 7174: 'dimensions', 7175: 'pricecons', 7176: 'noneadditional', 7177: 'considerations', 7178: 'starsif', 7179: 'nimhs', 7180: 'adventure', 7181: 'averaged', 7182: 'circular', 7183: 'tick', 7184: 'nomenclature', 7185: 'realizing', 7186: 'leasti', 7187: 'productis', 7188: 'expectedfits', 7189: 'president', 7190: 'thesed', 7191: 'magnifying', 7192: 'necessitates', 7193: 'origin', 7194: 'reviewd', 7195: 'facemask', 7196: 'blame', 7197: 'drinking', 7198: 'tea', 7199: 'teas', 7200: 'flavors', 7201: 'tangy', 7202: 'aftertaste', 7203: '6mos', 7204: 'evenings', 7205: 'swissphone', 7206: 'pager', 7207: 'evaluations', 7208: 'rout', 7209: 'havnt', 7210: 'pas', 7211: 'abi', 7212: 'wuality', 7213: 'offerings', 7214: 'homeless', 7215: 'competitioo', 7216: 'sanyo', 7217: 'asdfghj', 7218: 'hols', 7219: 'betters', 7220: 'buen', 7221: 'producto', 7222: 'buenos', 7223: 'productos', 7224: 'wrone', 7225: 'battreries', 7226: 'alternatibve', 7227: 'refrig', 7228: 'delicious', 7229: 'iob', 7230: 'deed', 7231: 'duran', 7232: 'muchisimo', 7233: 'recomiendo', 7234: 'apocalypse', 7235: 'willbuy', 7236: 'exelent', 7237: 'fanastic', 7238: 'doorstep', 7239: 'procuct', 7240: 'produc', 7241: 'batteiries', 7242: 'graat', 7243: 'grea', 7244: 'dael', 7245: 'valueright', 7246: 'greatf', 7247: 'greatvprice', 7248: 'gteat', 7249: 'transmtter', 7250: 'puchase', 7251: 'sinister', 7252: 'duraccels', 7253: 'replacments', 7254: 'prewrapped', 7255: 'barreries', 7256: 'adverised', 7257: 'legit', 7258: 'amanzon', 7259: 'koslosky', 7260: 'endorsement', 7261: 'ncie', 7262: 'okey', 7263: 'daniel', 7264: 'mauro', 7265: 'savd', 7266: 'squillions', 7267: 'expedited', 7268: 'goood', 7269: 'complies', 7270: 'recomment', 7271: 'wor', 7272: 'reccoment', 7273: 'chianese', 7274: 'jose', 7275: 'realy', 7276: 'quaility', 7277: 'ther', 7278: 'ecpected', 7279: 'immortal', 7280: 'soul', 7281: 'zap', 7282: 'discribed', 7283: 'appease', 7284: 'dollartree', 7285: 'lightbulbs', 7286: 'gurfr', 7287: 'ner', 7288: 'onggrevrf', 7289: 'gur', 7290: 'evtug', 7291: 'cevprf', 7292: 'gung', 7293: 'abg', 7294: 'ernyyl', 7295: 'ohg', 7296: 'tbbq', 7297: 'rabhtu', 7298: 'abj', 7299: 'notation', 7300: 'convent', 7301: 'exxpected', 7302: 'morethese', 7303: 'sdfgsdfgsdfgsdfgsdfg', 7304: 'jim', 7305: 'sems', 7306: 'batterues', 7307: 'defaults', 7308: 'rally', 7309: 'thery', 7310: 'warehouses', 7311: 'expire', 7312: 'hardship', 7313: 'loathing', 7314: 'sprained', 7315: 'slice', 7316: 'strait', 7317: 'unwrapping', 7318: 'funcitonality', 7319: 'flicker', 7320: 'gina', 7321: 'explosions', 7322: 'ranks', 7323: 'excessively', 7324: 'humidity', 7325: 'marketplace', 7326: 'maker', 7327: 'boats', 7328: 'aircraft', 7329: 'offshore', 7330: 'america', 7331: 'kills', 7332: 'assortment', 7333: 'bascis', 7334: 'fustration', 7335: 'bacic', 7336: 'topped', 7337: 'evaluate', 7338: 'thrifty', 7339: 'sealable', 7340: 'shortwave', 7341: 'fins', 7342: 'slices', 7343: 'genius', 7344: 'dedicate', 7345: 'scads', 7346: 'dumping', 7347: 'heater', 7348: 'blackweb', 7349: 'wiimote', 7350: 'discuss', 7351: 'ripp', 7352: 'prick', 7353: '1day', 7354: 'feeders', 7355: 'sso', 7356: 'normall', 7357: 'conair', 7358: 'defuzzer', 7359: 'clothing', 7360: 'bogus', 7361: 'appropriately', 7362: 'dynex', 7363: 'battey', 7364: 'aficionado', 7365: 'ought', 7366: 'ery', 7367: 'functiomal', 7368: 'spaces', 7369: 'backless', 7370: 'multipacks', 7371: 'loopy', 7372: 'goof', 7373: 'rounding', 7374: 'minimums', 7375: 'gots', 7376: 'tha', 7377: 'after2', 7378: 'exhibiting', 7379: 'sensibilities', 7380: 'generates', 7381: 'powder', 7382: 'emergeny', 7383: 'storms', 7384: 'zombie', 7385: 'attacks', 7386: 'amir', 7387: 'ziploc', 7388: 'xbone', 7389: 'scuf', 7390: 'ecological', 7391: 'exhausted', 7392: 'undemanding', 7393: 'minimalist', 7394: 'outperform', 7395: 'expencted', 7396: 'rush', 7397: 'samsclub', 7398: 'courtesy', 7399: 'trusting', 7400: 'functionlime', 7401: 'suprisingly', 7402: 'woohoo', 7403: 'master', 7404: 'akaline', 7405: 'stb', 7406: 'superbly', 7407: 'ams', 7408: 'miscellaneous', 7409: 'freat', 7410: 'themyou', 7411: 'purchaed', 7412: 'necessity', 7413: 'producing', 7414: 'desert', 7415: 'degradation', 7416: 'abandon', 7417: 'dread', 7418: 'hintgreat', 7419: 'affiliate', 7420: 'compensation', 7421: 'integrity', 7422: 'elses', 7423: 'hasstle', 7424: 'conjunction', 7425: 'conflicted', 7426: 'estimated', 7427: 'dumb', 7428: 'chalk', 7429: 'owl', 7430: 'walkway', 7431: 'grocers', 7432: 'rollers', 7433: 'supper', 7434: 'brands2', 7435: 'box3', 7436: 'infinitely', 7437: 'clamshell', 7438: 'deliveries', 7439: 'mishaps', 7440: 'unfortunetly', 7441: 'a4a', 7442: 'possession', 7443: 'makers', 7444: 'aroind', 7445: 'monthwill', 7446: 'durecel', 7447: 'eneegizer', 7448: 'thier', 7449: 'mobey', 7450: 'compliments', 7451: 'spoken', 7452: 'lynordering', 7453: 'mailer', 7454: 'sizeable', 7455: 'rattling', 7456: 'tipping', 7457: 'jumbled', 7458: 'established', 7459: 'lask', 7460: 'maglight', 7461: 'overlooked', 7462: 'organizing', 7463: 'strictly', 7464: 'nintendo', 7465: 'inexpressive', 7466: 'ham', 7467: 'egger', 7468: 'fooled', 7469: 'favs', 7470: 'roommates', 7471: 'cluster', 7472: 'unrechargables', 7473: 'cree', 7474: 'unsurprisingly', 7475: 'mord', 7476: 'george', 7477: 'raving', 7478: 'swooped', 7479: 'recharable', 7480: 'alkline', 7481: 'discussion', 7482: 'marc', 7483: 'correra', 7484: 'oral', 7485: 'irrigator', 7486: 'praiseworthy', 7487: 'alsoconveniently', 7488: 'bursting', 7489: 'ultrasonic', 7490: 'bark', 7491: 'perfer', 7492: 'quanty', 7493: 'fakes', 7494: 'trailer', 7495: 'fridge', 7496: 'wel', 7497: 'mane', 7498: 'deny', 7499: 'energerzier', 7500: 'determining', 7501: 'aprs', 7502: 'motorcycle', 7503: 'gloveboxes', 7504: 'rubberbands', 7505: 'mortgage', 7506: 'exaggeration', 7507: 'ships', 7508: 'longrun', 7509: 'routinely', 7510: 'counters', 7511: 'ifnnot', 7512: 'stamp', 7513: 'geotrax', 7514: 'jay', 7515: 'horror', 7516: 'liner', 7517: 'enrolled', 7518: 'blowing', 7519: 'nuclear', 7520: 'conditioner', 7521: 'hosed', 7522: 'reiterate', 7523: 'disservice', 7524: 'vouche', 7525: 'floored', 7526: 'prattle', 7527: 'fitbit', 7528: 'battereis', 7529: 'scientifically', 7530: 'regulations', 7531: 'parcels', 7532: 'tears', 7533: 'forgive', 7534: 'confirms', 7535: 'repurchasing', 7536: 'craziest', 7537: 'desided', 7538: 'grass', 7539: '25hp', 7540: 'role', 7541: 'lengthy', 7542: 'ziplock', 7543: 'attach', 7544: 'jynger', 7545: 'doggy', 7546: 'suckers', 7547: 'palate', 7548: 'radioshack', 7549: 'shift', 7550: 'stingy', 7551: 'kittens', 7552: 'logged', 7553: 'maxwells', 7554: 'aug', 7555: 'jan', 7556: 'render', 7557: 'sucker', 7558: 'immense', 7559: 'turnover', 7560: 'formulation', 7561: '48th', 7562: 'engineer', 7563: 'dutifully', 7564: 'frankenstein', 7565: 'shaking', 7566: 'hips', 7567: 'bowl', 7568: 'appreciative', 7569: 'impacted', 7570: 'encountering', 7571: 'pry', 7572: 'ordeal', 7573: 'apples', 7574: 'cartridges', 7575: 'dymo', 7576: 'peripheral', 7577: 'ingredients', 7578: 'rejected', 7579: 'diminished', 7580: 'clued', 7581: 'mailman', 7582: 'multiplack', 7583: 'fulcrum', 7584: 'forwarded', 7585: 'spoofingamazon', 7586: 'bullets', 7587: 'tossing', 7588: 'valve', 7589: 'ahesive', 7590: 'ripped', 7591: 'paddle', 7592: 'layman', 7593: 'usages', 7594: 'anythinh', 7595: 'clippers', 7596: 'turtle', 7597: 'happiness', 7598: 'muahahahahaha', 7599: 'shouldnt', 7600: '96hrs', 7601: '6wks', 7602: 'reimbursement', 7603: 'reaccuring', 7604: 'packets', 7605: 'specialists', 7606: 'pawbo', 7607: 'corrosive', 7608: 'malfunction', 7609: 'residue', 7610: '24hrs', 7611: 'threes', 7612: 'seasons', 7613: 'stretched', 7614: 'gunmen', 7615: 'battteries', 7616: 'zer0', 7617: 'receivers', 7618: 'meters', 7619: 'delightful', 7620: 'consoles', 7621: 'harsh', 7622: 'nightlights', 7623: 'fiddler', 7624: 'maxx', 7625: 'jamuary', 7626: 'obsolescence', 7627: 'xb1', 7628: 'xb360', 7629: 'wiimotes', 7630: 'receipting', 7631: 'dcompared', 7632: 'durcaell', 7633: 'meeting', 7634: 'hello', 7635: 'policies', 7636: 'blinking', 7637: 'egg', 7638: 'structural', 7639: 'coincidence', 7640: 'crapped', 7641: 'spazzed', 7642: 'barking', 7643: 'crawled', 7644: 'brawl', 7645: 'bruised', 7646: 'defeated', 7647: 'biz', 7648: 'thy', 7649: 'rinse', 7650: 'lint', 7651: 'smiling', 7652: 'bottled', 7653: 'epic', 7654: 'stocks', 7655: 'pest', 7656: 'deterrent', 7657: 'trees', 7658: 'amazonbascis', 7659: 'marking', 7660: 'monster', 7661: 'byut', 7662: 'pathetic', 7663: 'ashamed', 7664: 'shrinkwrap', 7665: 'mikes', 7666: 'confusion', 7667: 'expires', 7668: 'defectsgreat', 7669: 'contraption', 7670: 'demons', 7671: 'jimmie', 7672: 'twisting', 7673: 'causes', 7674: 'undue', 7675: 'apologized', 7676: 'addage', 7677: 'hereafter', 7678: 'unoped', 7679: 'sock', 7680: 'snow', 7681: 'pumping', 7682: '2am', 7683: 'exploxed', 7684: 'blankets', 7685: 'newborn', 7686: '48pack', 7687: 'underwhelming', 7688: 'appeal', 7689: 'warned', 7690: 'turbo', 7691: 'brew', 7692: 'grinds', 7693: 'pot', 7694: 'extraordinary', 7695: 'costlywas', 7696: 'of225', 7697: 'peers', 7698: 'electricians', 7699: 'pole', 7700: 'pins', 7701: 'poles', 7702: 'speedlites', 7703: 'fujitsu', 7704: 'fouled', 7705: 'deceptively', 7706: 'energized', 7707: 'substandard', 7708: 'jk150601', 7709: 'ina', 7710: 'dissappintes', 7711: 'ceases', 7712: 'amaze', 7713: 'thee', 7714: 'lytes', 7715: 'packagedwell', 7716: 'moreamazonbasics', 7717: 'hyp', 7718: 'telephone', 7719: 'pitched', 7720: 'ergomatic', 7721: 'vibrate', 7722: 'veru', 7723: 'buttuns', 7724: 'probe', 7725: 'tighten', 7726: 'prope', 7727: 'scew', 7728: 'manufators', 7729: 'controler', 7730: 'hsve', 7731: 'shook', 7732: 'learner', 7733: 'duracels', 7734: 'hallway', 7735: 'perf', 7736: 'adaquate', 7737: 'cheper', 7738: 'nimh', 7739: 'rounded', 7740: 'v20', 7741: 'chewing', 7742: 'newly', 7743: 'possitive', 7744: 'damaging', 7745: 'frys', 7746: 'grandkid', 7747: 'sometine', 7748: 'unremarkable', 7749: 'assess', 7750: 'linus', 7751: 'sebastian', 7752: 'frugal', 7753: 'reassures', 7754: 'sth', 7755: 'tarnished', 7756: 'rusty', 7757: 'valuecons', 7758: 'ouststanding', 7759: 'cart', 7760: 'displeased', 7761: 'xl200', 7762: 'bashing', 7763: 'groans', 7764: 'bfrnd', 7765: 'fulfillment', 7766: 'bettery', 7767: 'electrician', 7768: 'andvreallyninportant', 7769: 'countertop', 7770: 'flatter', 7771: 'ourth', 7772: 'roller', 7773: 'thingy', 7774: 'yelled', 7775: 'fades', 7776: 'static', 7777: 'shoe', 7778: 'quicly', 7779: 'affordably', 7780: '1970s', 7781: 'west', 7782: 'rocky', 7783: 'mountains', 7784: 'collectors', 7785: 'attacked', 7786: 'swoosh', 7787: 'swing', 7788: 'hurriedly', 7789: 'swooshing', 7790: 'escaped', 7791: 'josecards', 7792: 'strategically', 7793: 'addicting', 7794: 'cordstained', 7795: 'remotesnot', 7796: 'thentakes', 7797: 'lst', 7798: 'wallymart', 7799: 'maxcell', 7800: 'leapster', 7801: 'explorers', 7802: 'touchpad', 7803: 'deeper', 7804: 'peak', 7805: 'retention', 7806: 'zippo', 7807: 'compensated', 7808: 'separating', 7809: 'lifted', 7810: 'tumbled', 7811: 'removal', 7812: 'vowed', 7813: 'revenge', 7814: 'furniture', 7815: 'petty', 7816: 'pains', 7817: 'shipments', 7818: 'containers', 7819: 'utter', 7820: 'ruleshaha', 7821: 'bilingual', 7822: 'leakers', 7823: 'calculated', 7824: 'memorex', 7825: 'theseboth', 7826: 'pedi', 7827: 'callused', 7828: 'grinder', 7829: 'workoutamazon', 7830: 'differencei', 7831: 'finepix', 7832: 'counted', 7833: 'einstein', 7834: 'lousy', 7835: 'royally', 7836: 'indication', 7837: 'resolves', 7838: 'warrants', 7839: 'fence', 7840: 'contains', 7841: 'attending', 7842: 'conforms', 7843: 'widely', 7844: 'incurred', 7845: 'hip', 7846: 'glance', 7847: 'powerexcellent', 7848: 'freshly', 7849: 'bettter', 7850: 'disconnects', 7851: 'mist', 7852: 'diffuser', 7853: 'discharges', 7854: 'vdc', 7855: 'locals', 7856: 'prolonged', 7857: 'bacterias', 7858: 'prepackaged', 7859: 'mars', 7860: 'traxxas', 7861: 'rustler', 7862: '115f', 7863: '127i', 7864: 'thess', 7865: 'int', 7866: 'ammount', 7867: 'fallout', 7868: 'excursions', 7869: 'raider', 7870: 'smashing', 7871: 'unsubscribed', 7872: 'otber', 7873: 'ski', 7874: 'wilderness', 7875: 'dummy', 7876: 'mulit', 7877: 'recorders', 7878: 'alcaline', 7879: 'tray', 7880: 'officer', 7881: 'afforadable', 7882: 'malice', 7883: 'unconditionally', 7884: 'property', 7885: 'temperamental', 7886: 'trustworthy', 7887: 'neighbors', 7888: 'chatty0371', 7889: 'liberal', 7890: 'arts', 7891: 'stander', 7892: 'suckered', 7893: 'chicken', 7894: 'coop', 7895: 'habitually', 7896: 'unequalled', 7897: 'pc1500', 7898: 'remained', 7899: 'tripped', 7900: 'bargains', 7901: 'chalking', 7902: 'rundown', 7903: 'ensures', 7904: 'shove', 7905: 'storebrand', 7906: 'unstable', 7907: 'skimping', 7908: 'insufficent', 7909: 'monkey', 7910: 'verses', 7911: 'heavyweight', 7912: 'fairy', 7913: 'pointers', 7914: 'timeframe', 7915: '2017not', 7916: 'sand', 7917: 'leaker', 7918: 'walgreen', 7919: 'lije', 7920: 'whooping', 7921: 'batteriers', 7922: 'runout', 7923: 'gadgetsremotes', 7924: 'qualifty', 7925: 'shine', 7926: 'puppy', 7927: 'antifreeze', 7928: 'jackpot', 7929: 'analysis', 7930: 'lll', 7931: 'voltages', 7932: 'professor', 7933: 'cheapdon', 7934: 'heckuva', 7935: 'grandtoddler', 7936: 'rotation', 7937: 'comperitive', 7938: 'piling', 7939: 'slipped', 7940: 'cery', 7941: 'wud', 7942: 'rendering', 7943: 'garmin', 7944: 'etrex', 7945: 'snack', 7946: 'classroom', 7947: 'ammo', 7948: 'asap', 7949: 'morepretty', 7950: 'valuation', 7951: 'police', 7952: 'slimy', 7953: 'suite', 7954: 'excelentproduct', 7955: 'exhaust', 7956: 'regularl', 7957: 'reciept', 7958: 'lastedn', 7959: 'ahh', 7960: 'untrustworthy', 7961: 'unopened', 7962: 'formally', 7963: 'unsurpassed', 7964: 'consensus', 7965: 'eyelash', 7966: 'curler', 7967: 'opting', 7968: 'tampered', 7969: 'ladder', 7970: 'liver', 7971: 'onions', 7972: 'themeslves', 7973: '10pk', 7974: '20pk', 7975: 'descovering', 7976: 'cumulative', 7977: 'tricked', 7978: 'grasp', 7979: 'cello', 7980: 'batteriesdon', 7981: 'longdon', 7982: 'theseyou', 7983: 'eliminated', 7984: 'snuck', 7985: 'theseas', 7986: 'unlucky', 7987: 'umm', 7988: 'likeany', 7989: 'differents', 7990: 'supposedly', 7991: 'predecessors', 7992: 'contacting', 7993: 'idigital', 7994: 'born', 7995: 'encompasses', 7996: 'giver', 7997: 'entity', 7998: 'onslaught', 7999: 'prisrob', 8000: 'outweigh', 8001: 'wth', 8002: 'nickle', 8003: 'diming', 8004: 'flyers', 8005: 'noti', 8006: 'bob', 8007: 'spells', 8008: 'triedi', 8009: 'decline', 8010: 'coupons', 8011: 'human', 8012: 'nocturnal', 8013: 'digiscale', 8014: 'infrared', 8015: 'd600', 8016: 'batteres', 8017: 'anecdotal', 8018: 'rightand', 8019: 'farhighly', 8020: 'sceptical', 8021: 'tease', 8022: 'alleged', 8023: 'addiction', 8024: 'subsequently', 8025: 'consistentl', 8026: 'neighborhood', 8027: 'listof', 8028: 'circumference', 8029: 'fri', 8030: 'vendors', 8031: 'propose', 8032: 'placements', 8033: 'forgetful', 8034: 'storesquality', 8035: 'comparatively', 8036: 'grooming', 8037: 'avaiable', 8038: '6months', 8039: 'branching', 8040: 'mouseses', 8041: 'aluminumun', 8042: 'pecker', 8043: 'financial', 8044: 'advisor', 8045: 'wagging', 8046: 'jurys', 8047: 'containment', 8048: 'sealer', 8049: 'grr', 8050: 'speechless', 8051: 'discarding', 8052: 'favourite', 8053: 'dvds', 8054: 'donate', 8055: 'towers', 8056: 'boycotting', 8057: 'netting', 8058: 'trim', 8059: 'attachment', 8060: 'lies', 8061: 'anchor', 8062: 'arch', 8063: 'tatty', 8064: 'spreads', 8065: 'eared', 8066: 'overally', 8067: 'sloppy', 8068: 'cope', 8069: 'trendy', 8070: 'island', 8071: 'hasle', 8072: 'coworker', 8073: 'compaints', 8074: 'metered', 8075: 'optic', 8076: 'addon', 8077: 'poorer', 8078: 'exploted', 8079: 'jazzed', 8080: 'goods', 8081: 'comprehensively', 8082: 'zerg', 8083: 'supermarket', 8084: 'cuter', 8085: 'skinny', 8086: 'flow', 8087: '61v', 8088: 'snail', 8089: '2aa', 8090: 'multiply', 8091: 'scattered', 8092: 'appreciable', 8093: 'holy', 8094: 'moly', 8095: 'bam', 8096: 'tucked', 8097: 'wand', 8098: 'theamazon', 8099: 'mystical', 8100: 'guitars', 8101: 'boombox', 8102: 'lifestyle', 8103: 'deterioration', 8104: 'batteriesi', 8105: 'newi', 8106: 'calculate', 8107: 'steroids', 8108: 'males', 8109: 'cobtroller', 8110: 'chains', 8111: 'shorting', 8112: 'differ', 8113: 'bulbs', 8114: 'thea', 8115: 'nymph', 8116: 'thwy', 8117: 'remite', 8118: 'arelucky', 8119: 'wasteyour', 8120: 'contracted', 8121: 'harbour', 8122: 'dissappointed', 8123: 'weels', 8124: 'taillight', 8125: 'intensity', 8126: 'attracted', 8127: 'energiser', 8128: 'returnable', 8129: 'configure', 8130: 'latley', 8131: 'batteires', 8132: 'expiring', 8133: 'scuba', 8134: 'areal', 8135: 'depicted', 8136: 'tightest', 8137: 'clearances', 8138: 'powr', 8139: 'amazes', 8140: 'haveing', 8141: 'accurately', 8142: 'muchlovegratitude', 8143: 'decorating', 8144: 'dealgreat', 8145: 'wat', 8146: 'maglite', 8147: 'captain', 8148: 'okk', 8149: 'organical', 8150: 'paperboard', 8151: 'shockingly', 8152: 'anxious', 8153: 'powerfull', 8154: 'agaib', 8155: 'ware', 8156: 'ful', 8157: 'rechargebles', 8158: 'artwork', 8159: 'valued', 8160: 'wll', 8161: 'defintiely', 8162: 'nuf', 8163: 'meanwhile', 8164: 'outdid', 8165: 'distinguished', 8166: 'countduracell', 8167: 'dammit', 8168: 'fml', 8169: 'dela', 8170: 'lifecycle', 8171: 'walkies', 8172: 'bonknbatteries', 8173: 'cnadles', 8174: 'celo', 8175: 'fart', 8176: 'robotics', 8177: 'nxt', 8178: 'clipping', 8179: 'luna', 8180: '99c', 8181: '12pack', 8182: 'formance', 8183: 'jumper', 8184: 'distorted', 8185: 'packagethese', 8186: 'wraps', 8187: 'imprinted', 8188: 'accented', 8189: 'protruding', 8190: 'descriptions', 8191: 'lr03', 8192: 'am4', 8193: 'symbols', 8194: 'circuited', 8195: 'improperly', 8196: 'arrows', 8197: 'speedlite', 8198: 'barbie', 8199: 'autoship', 8200: 'junkies', 8201: 'shredder', 8202: 'wager', 8203: 'buyng', 8204: 'mybaby', 8205: 'homedics', 8206: 'soundspa', 8207: '2016i', 8208: 'achieving', 8209: 'strands', 8210: 'ceremony', 8211: 'memorable', 8212: 'formed', 8213: 'partitions', 8214: 'theorize', 8215: 'applicable', 8216: 'conjecture', 8217: 'quibble', 8218: 'batteriessize', 8219: 'noneoverall', 8220: 'bargainwould', 8221: 'seam', 8222: 'ext', 8223: 'odds', 8224: 'helicopter', 8225: 'chewed', 8226: 'batreries', 8227: 'battries', 8228: 'thailand', 8229: 'recloseable', 8230: 'canisters', 8231: 'evil', 8232: 'abroad', 8233: 'forego', 8234: 'consumable', 8235: 'rayb', 8236: 'batches', 8237: 'separates', 8238: 'tamiya', 8239: 'harry', 8240: 'potter', 8241: 'wondered', 8242: '2016batteries', 8243: 'retract', 8244: 'calvin', 8245: 'lightsaber', 8246: 'expensivewith', 8247: 'thisthe', 8248: 'respectively', 8249: 'hundredth', 8250: 'electrochemistry', 8251: 'corrode', 8252: 'flickering', 8253: 'stems', 8254: 'grins', 8255: 'repeated', 8256: 'lined', 8257: 'terminals', 8258: 'squat', 8259: 'solidly', 8260: 'firmly', 8261: 'concluding', 8262: 'firm', 8263: 'piddle', 8264: 'absorbent', 8265: 'arena', 8266: 'column', 8267: 'emphasizing', 8268: 'approximate', 8269: 'carbon', 8270: 'monoxide', 8271: 'listnever', 8272: 'dateevery', 8273: 'brandsi', 8274: 'indiana', 8275: 'everteady', 8276: 'cans', 8277: 'killed', 8278: 'semi', 8279: 'ehh', 8280: 'estimation', 8281: 'pumpkins', 8282: 'brightly', 8283: 'fry', 8284: 'streamlight', 8285: 'microstream', 8286: 'greatcame', 8287: 'woke', 8288: 'forbid', 8289: 'pricr', 8290: 'promote', 8291: 'shoppers', 8292: 'freakin', 8293: 'stripping', 8294: 'costoco', 8295: 'attest', 8296: 'sizing', 8297: 'visibly', 8298: 'snice', 8299: 'forthcoming', 8300: 'camcorder', 8301: 'magically', 8302: 'boo', 8303: 'betterthan', 8304: 'topay', 8305: 'cannon', 8306: 'wipes', 8307: 'sings', 8308: 'holter', 8309: 'monitors', 8310: 'patients', 8311: 'reschedule', 8312: 'dung', 8313: 'migrated', 8314: 'savers', 8315: 'doodads', 8316: 'trst', 8317: 'reluctantly', 8318: 'speedlight', 8319: 'techy', 8320: 'chase', 8321: 'shuttle', 8322: 'moon', 8323: 'junkiest', 8324: 'propellent', 8325: 'rummaging', 8326: 'desperation', 8327: 'eternity', 8328: 'earbleeding', 8329: 'menopausal', 8330: 'torpedo', 8331: 'john', 8332: 'induced', 8333: 'ytd', 8334: 'touchee', 8335: 'effiency', 8336: 'amore', 8337: 'possessions', 8338: 'mama', 8339: 'isolated', 8340: 'kudos', 8341: 'needlessly', 8342: 'ned', 8343: '75v', 8344: 'dor', 8345: 'lat', 8346: 'probley', 8347: 'about8', 8348: 'reconsider', 8349: 'turkeys', 8350: 'idisappointed', 8351: 'batterieswith', 8352: 'pak', 8353: 'paks', 8354: 'whywouldamazonbother', 8355: 'century', 8356: 'duper', 8357: 'records', 8358: 'drama', 8359: 'amazonbasicis', 8360: 'bases', 8361: 'cursing', 8362: 'gods', 8363: 'forsaking', 8364: 'rage', 8365: 'grossed', 8366: 'hiding', 8367: 'dosappointed', 8368: 'smoothest', 8369: 'ownded', 8370: 'yards', 8371: 'stressful', 8372: 'elevated', 8373: 'tilting', 8374: 'ventilated', 8375: 'typewriter', 8376: 'ibm', 8377: 'selectrics', 8378: 'royals', 8379: 'sight', 8380: 'rise', 8381: 'slanting', 8382: 'inward', 8383: 'worker', 8384: 'spillage', 8385: 'wrists', 8386: 'perforated', 8387: 'peripherals', 8388: 'subject', 8389: 'rivets', 8390: 'welded', 8391: 'touched', 8392: 'envy', 8393: 'snuggly', 8394: 'accessory', 8395: 'nalgene', 8396: 'destinations', 8397: 'constructioncompares', 8398: 'favorably', 8399: 'packsno', 8400: 'brandinggreat', 8401: 'detaillarge', 8402: 'compartmentlots', 8403: 'subcompartmentsorganizer', 8404: 'sundries', 8405: 'compartmentcons', 8406: 'lookstop', 8407: 'perfunctorystiff', 8408: 'movedthe', 8409: 'piping', 8410: 'embossed', 8411: 'slippage', 8412: 'sufficiently', 8413: 'generously', 8414: 'jansport', 8415: 'bean', 8416: 'manilla', 8417: 'paraphernalia', 8418: 'obligatory', 8419: 'zippered', 8420: 'ballistic', 8421: 'earing', 8422: 'dividers', 8423: 'manipulated', 8424: 'walking', 8425: 'sewn', 8426: 'caliber', 8427: 'anticipation', 8428: 'studios', 8429: 'royal', 8430: 'caribbean', 8431: '6yo', 8432: 'extraneous', 8433: 'pouch', 8434: 'punctured', 8435: 'pencils', 8436: 'cinch', 8437: 'width', 8438: 'loosened', 8439: 'lining', 8440: 'idems', 8441: 'rains', 8442: 'timberline', 8443: 'classified', 8444: 'sturdiness', 8445: 'tumbles', 8446: 'lunchbox', 8447: 'bulges', 8448: 'rigidly', 8449: 'posture', 8450: 'organizational', 8451: 'remembering', 8452: 'diminish', 8453: 'ouch', 8454: 'lifelong', 8455: 'ww2', 8456: 'outfitted', 8457: 'snowshoe', 8458: 'mildew', 8459: 'fittings', 8460: 'ergonomicshere', 8461: 'contemporary', 8462: 'tradeoff', 8463: 'tekkie', 8464: 'fabrics', 8465: 'tugs', 8466: 'wrestle', 8467: 'shekels', 8468: 'inspiron', 8469: 'diary', 8470: 'technician', 8471: 'paperwork', 8472: 'sandwiches', 8473: 'western', 8474: '2tb', 8475: 'aesthetics', 8476: 'passports', 8477: 'reassuring', 8478: '40cm', 8479: 'ruggedised', 8480: 'usefully', 8481: 'netted', 8482: 'commuting', 8483: 'women', 8484: 'sked', 8485: 'hollow', 8486: 'internationally', 8487: 'changeable', 8488: 'norway', 8489: 'worded', 8490: 'converter', 8491: 'norwegian', 8492: 'criticisms', 8493: '110w', 8494: 'abv', 8495: 'miracles', 8496: 'outliers', 8497: 'israel', 8498: 'interchangeable', 8499: 'powerfast', 8500: 'slippes', 8501: 'pan', 8502: 'bedridden', 8503: 'configured', 8504: 'intervals', 8505: 'fitting', 8506: 'usbs', 8507: 'scrabble', 8508: 'intercom', 8509: 'questionso', 8510: 'instrumentals', 8511: 'mantovani', 8512: 'paul', 8513: 'mauriat', 8514: 'herb', 8515: 'alpert', 8516: 'diamond', 8517: 'petula', 8518: 'clark', 8519: 'cubs', 8520: 'motels', 8521: 'dubuque', 8522: 'singing', 8523: 'rainforest', 8524: 'mississippi', 8525: 'mood', 8526: 'anyones', 8527: 'queries', 8528: 'phrased', 8529: 'agreeing', 8530: 'copyright', 8531: 'promt', 8532: 'apposed', 8533: 'robotic', 8534: 'departure', 8535: 'owen', 8536: 'disconnect', 8537: 'skill', 8538: 'mariachi', 8539: '5star', 8540: 'avarage', 8541: 'draugther', 8542: 'ganes', 8543: 'aws', 8544: 'interaction', 8545: 'innovation', 8546: 'uncanny', 8547: 'horoscope', 8548: 'portablebility', 8549: 'sweden', 8550: 'portugal', 8551: 'lake', 8552: 'jokes', 8553: 'lifx', 8554: 'satchel', 8555: 'ittt', 8556: 'wirelessly', 8557: 'iheartradio', 8558: 'woken', 8559: 'mike', 8560: 'hectic', 8561: 'coll', 8562: 'interactions', 8563: 'retrieves', 8564: 'valid', 8565: 'gor', 8566: 'bluetoothdecent', 8567: 'excess', 8568: 'informs', 8569: 'forcast', 8570: 'prouducts', 8571: 'conpack', 8572: 'adoptor', 8573: 'usefule', 8574: 'highway', 8575: 'batterey', 8576: 'worldwide', 8577: 'iceberg', 8578: 'compensate', 8579: 'andespn', 8580: 'tethered', 8581: 'upholstery', 8582: 'fave', 8583: 'fot', 8584: 'comprehensive', 8585: 'unclear', 8586: 'disconnecting', 8587: 'toggle', 8588: 'thruout', 8589: 'understood', 8590: 'existent', 8591: 'mids', 8592: 'duly', 8593: 'luke', 8594: 'distortion', 8595: 'amazement', 8596: 'amzon', 8597: 'inbuilt', 8598: 'inna', 8599: 'playlist', 8600: 'yearbook', 8601: 'cnet', 8602: 'frustrations', 8603: 'requesting', 8604: 'commandscons', 8605: '4ghz', 8606: 'speakersoverall', 8607: 'greatdifficult', 8608: 'sseems', 8609: 'weary', 8610: 'exercising', 8611: 'verbally', 8612: 'genre', 8613: 'forecast', 8614: 'namesake', 8615: 'chagrin', 8616: 'intro', 8617: 'outdside', 8618: 'yell', 8619: 'acoustics', 8620: 'booming', 8621: 'domino', 8622: 'summon', 8623: 'spy', 8624: 'independant', 8625: 'playlists', 8626: 'forecasts', 8627: 'indefinite', 8628: 'merely', 8629: 'belkin', 8630: '‚äì', 8631: 'boughy', 8632: 'alezxa', 8633: 'algorithms', 8634: 'coolest', 8635: 'inventions', 8636: 'innovative', 8637: 'committed', 8638: 'paradigm', 8639: 'gain', 8640: 'expenses', 8641: 'treble', 8642: 'recognizes', 8643: 'novelty', 8644: 'scratchy', 8645: 'execution', 8646: 'interconnected', 8647: 'circlers', 8648: 'dystopia', 8649: 'eggers', 8650: 'escape', 8651: 'prompts', 8652: 'pizza', 8653: 'hail', 8654: 'uber', 8655: 'npr', 8656: 'likenit', 8657: 'intimidated', 8658: 'safer', 8659: 'balcony', 8660: 'productive', 8661: 'dorms', 8662: 'tappy', 8663: 'configuration', 8664: 'avaliable', 8665: 'alley', 8666: 'audiophiles', 8667: 'instructive', 8668: 'mimi', 8669: 'kdis', 8670: 'interruptions', 8671: 'hut', 8672: 'gizmo', 8673: 'interpreting', 8674: 'guam', 8675: 'plagued', 8676: 'memorize', 8677: 'pill', 8678: 'flexible', 8679: 'graduated', 8680: 'vis', 8681: 'renders', 8682: 'forgets', 8683: 'conveniences', 8684: 'heaper', 8685: 'announcement', 8686: 'marino', 8687: 'briefs', 8688: 'fishing', 8689: 'linking', 8690: 'deaf', 8691: 'surroundings', 8692: 'surreptitiously', 8693: 'communicate', 8694: 'defeat', 8695: 'stages', 8696: 'smartness', 8697: 'usd150', 8698: 'tin', 8699: 'covenient', 8700: 'relation', 8701: 'hands‚ä¶you', 8702: 'handsyou', 8703: 'bemoaning', 8704: 'scoop', 8705: 'smartthings', 8706: 'ifttt', 8707: 'multipurpose', 8708: 'balanced', 8709: 'tuning', 8710: 'detect', 8711: 'smarthome', 8712: 'artist', 8713: 'someways', 8714: 'michael', 8715: 'bolton', 8716: 'bruce', 8717: 'springsteen', 8718: 'cult', 8719: 'trashing', 8720: 'triby', 8721: 'partnerships', 8722: 'sonos', 8723: 'hvac', 8724: 'trivia', 8725: 'ijnfo', 8726: 'repository', 8727: 'instructio', 8728: 'caveats', 8729: 'forte', 8730: 'honeywell', 8731: 'pits', 8732: 'wold', 8733: 'hmmm', 8734: 'printable', 8735: 'evolve', 8736: 'schedules', 8737: 'unknowingly', 8738: 'responded', 8739: 'siriusxm', 8740: 'howard', 8741: 'stern', 8742: 'nfl', 8743: 'mlb', 8744: 'satellite', 8745: 'solo', 8746: 'rice', 8747: 'solves', 8748: 'bones', 8749: 'county', 8750: 'ignorance', 8751: 'paperwite', 8752: 'kindler', 8753: 'pixles', 8754: 'lengths', 8755: 'seagate', 8756: 'bottleneck', 8757: 'shielded', 8758: 'rectangle', 8759: 'motherboard', 8760: 'shielding', 8761: 'upholds', 8762: 'throughput', 8763: 'lifts', 8764: 'lean', 8765: 'whites', 8766: 'chairs', 8767: 'concentrate', 8768: 'invent', 8769: 'mountain', 8770: 'stroke', 8771: 'mystery', 8772: '110v', 8773: '100v', 8774: '240v', 8775: 'copywriter', 8776: 'understandfor', 8777: 'nap', 8778: 'grandson‚äôs', 8779: 'replies', 8780: 'satistfy', 8781: 'eink', 8782: 'christ', 8783: 'nazareth', 8784: 'voyages', 8785: 'bless', 8786: 'crank', 8787: 'gloves', 8788: 'disliking', 8789: 'rocking', 8790: 'minimize', 8791: 'shud', 8792: 'ttry', 8793: 'sensation', 8794: 'costliest', 8795: 'helium', 8796: 'balloon', 8797: 'paris', 8798: 'dominance', 8799: 'hepatic', 8800: 'earning', 8801: 'tone', 8802: 'distracts', 8803: 'matte', 8804: 'specialized', 8805: 'consult', 8806: 'situ', 8807: 'trading', 8808: 'urge', 8809: 'evolution', 8810: 'adverse', 8811: 'disrupts', 8812: 'melatonin', 8813: 'king', 8814: 'avaiailable', 8815: 'res', 8816: '300dpi', 8817: 'taxes', 8818: 'georgia', 8819: 'qualifying', 8820: 'whiter', 8821: 'pw3', 8822: 'crumb', 8823: 'catcher', 8824: 'batterry', 8825: 'exactlo', 8826: 'nooks', 8827: 'cadillac', 8828: 'whip', 8829: 'receives', 8830: 'handbag', 8831: 'conistent', 8832: 'adopter', 8833: 'resisted', 8834: 'brightens', 8835: 'pol', 8836: 'madman', 8837: 'vacations', 8838: 'sulight', 8839: 'frankfort', 8840: 'welcomed', 8841: 'builder', 8842: 'confused', 8843: 'specialties', 8844: 'bitten', 8845: 'supporter', 8846: 'baggie', 8847: 'duck', 8848: 'gathers', 8849: 'manages', 8850: 'basket', 8851: 'pending', 8852: 'addresses', 8853: 'toldpeople', 8854: 'wishes', 8855: 'blackscreen', 8856: 'concentration', 8857: 'warentee', 8858: 'scratch', 8859: 'blueish', 8860: 'defense', 8861: 'mighty', 8862: 'copperish', 8863: 'toned', 8864: 'prettymuch', 8865: 'kindle4nt', 8866: 'thelarge', 8867: 'ofmaking', 8868: 'havefound', 8869: 'buyhas', 8870: 'thestore', 8871: 'enlarges', 8872: 'resize', 8873: 'transportability', 8874: 'adoption', 8875: 'aura', 8876: 'ditch', 8877: 'aquired', 8878: 'browny', 8879: 'dimming', 8880: 'pagesif', 8881: 'ligths', 8882: 'encyclopedia', 8883: 'indigenous', 8884: 'utilizes', 8885: 'restaurants', 8886: 'planes', 8887: 'dallas', 8888: 'overheat', 8889: 'andy', 8890: 'remarked', 8891: 'habits', 8892: 'mandates', 8893: 'variations', 8894: 'sticked', 8895: 'appreciates', 8896: '6weeks', 8897: '3weeks', 8898: 'voraciously', 8899: 'tjis', 8900: 'readin', 8901: 'bookmarks', 8902: 'lightness', 8903: 'recommendable', 8904: 'remarkable', 8905: 'compensates', 8906: 'ghost', 8907: 'backlot', 8908: 'spills', 8909: 'adjuster', 8910: 'homepage', 8911: 'ipadmini', 8912: 'air2', 8913: 'hardcover', 8914: 'pannier', 8915: 'facedown', 8916: 'apprehensive', 8917: 'nicest', 8918: '4gb', 8919: 'reimagined', 8920: 'nailed', 8921: 'detachment', 8922: 'theft', 8923: 'seattle', 8924: 'fear', 8925: 'achieved', 8926: 'bias', 8927: 'breakcons', 8928: 'animation', 8929: 'powerpoint', 8930: 'tinged', 8931: 'forums', 8932: 'sued', 8933: 'antenna', 8934: 'gradient', 8935: 'visualize', 8936: 'downgrade', 8937: 'pw1', 8938: 'addressed', 8939: 'distressed', 8940: 'adapts', 8941: 'lightlove', 8942: 'resume', 8943: 'luddite', 8944: 'biggie', 8945: 'fluidity', 8946: 'impact', 8947: 'dirtying', 8948: 'suffers', 8949: 'operator', 8950: 'borders', 8951: 'diagram', 8952: 'bookmark', 8953: 'clippings', 8954: 'otter', 8955: 'ver', 8956: 'defunct', 8957: 'disassembling', 8958: 'crimp', 8959: 'rhyme', 8960: 'pinging', 8961: 'turners', 8962: 'splurged', 8963: 'owners', 8964: 'effortless', 8965: 'formats', 8966: 'stage', 8967: 'archive', 8968: 'symbol', 8969: 'easliy', 8970: 'resets', 8971: 'thhought', 8972: 'noe', 8973: 'littlebit', 8974: 'hards', 8975: 'respect', 8976: 'screencons', 8977: 'frustratingwith', 8978: 'binged', 8979: 'boundbook', 8980: 'upcharge', 8981: 'interfaceneeds', 8982: 'passion', 8983: 'flatness', 8984: 'hep', 8985: 'there‚äôs', 8986: 'gradually', 8987: 'lowering', 8988: 'unparalleled', 8989: 'tract', 8990: 'longing', 8991: 'proposition', 8992: 'prefered', 8993: 'loyalty', 8994: 'nonexistent', 8995: 'movers', 8996: 'produ', 8997: 'freind', 8998: 'shadows', 8999: 'bound', 9000: 'mentioning', 9001: 'horizontally', 9002: 'efficacy', 9003: 'humbly', 9004: 'submit', 9005: 'notches', 9006: 'indispensable', 9007: 'paperbacks', 9008: 'tackle', 9009: 'character', 9010: 'nespresso', 9011: 'capsules', 9012: 'capsule', 9013: 'piled', 9014: 'amusing', 9015: 'messaging', 9016: 'nightstand', 9017: 'rape', 9018: 'mount', 9019: 'copes', 9020: 'calming', 9021: 'modes', 9022: 'homemade', 9023: 'nordic', 9024: 'outs', 9025: 'thangs', 9026: 'impede', 9027: 'kf8', 9028: 'panicked', 9029: 'hogs', 9030: 'cookbook', 9031: 'slowest', 9032: 'recipe', 9033: 'slarts', 9034: 'althought', 9035: 'unpredictable', 9036: 'futon', 9037: 'wood', 9038: 'beastly', 9039: 'deceased', 9040: 'gecksqd', 9041: 'painstakingly', 9042: 'honeycomb', 9043: 'contenders', 9044: 'crowd', 9045: 'educate', 9046: 'educating', 9047: 'marketamazon', 9048: 'deems', 9049: 'tryout', 9050: 'friendas', 9051: 'doc', 9052: 'grandaughters', 9053: 'scan', 9054: 'codes', 9055: 'multitude', 9056: 'tapes', 9057: 'technilogical', 9058: 'pime', 9059: 'clothes', 9060: 'shaping', 9061: 'overages', 9062: 'manipulate', 9063: '¬†i', 9064: 'doin', 9065: 'extensively', 9066: 'yoga', 9067: 'assessible', 9068: 'ownership', 9069: 'clinicals', 9070: 'techny', 9071: 'captable', 9072: 'timing', 9073: 'grandboy', 9074: 'moto', 9075: 'discussing', 9076: 'promos', 9077: 'ehhh', 9078: '1week', 9079: 'explandable', 9080: 'unaceptable', 9081: 'tones', 9082: 'vulcans', 9083: 'manuals', 9084: 'acrobat', 9085: 'otoh', 9086: 'offended', 9087: 'philips', 9088: 'suster', 9089: 'docs', 9090: 'performant', 9091: 'ilovemy', 9092: 'clamps', 9093: 'pie', 9094: 'ook', 9095: 'preserve', 9096: 'replay', 9097: 'transportable', 9098: 'fugured', 9099: 'k8d', 9100: 'ringer', 9101: 'hipsters', 9102: 'buds', 9103: 'improvments', 9104: 'unorganized', 9105: 'cease', 9106: 'surpassed', 9107: 'preoccupied', 9108: 'programmed', 9109: 'shoves', 9110: 'hroat', 9111: 'haveit', 9112: 'girly', 9113: 'fears', 9114: 'pict', 9115: 'recuperating', 9116: 'saleman', 9117: 'hilariously', 9118: 'warrenty', 9119: 'wry', 9120: 'byee', 9121: 'server', 9122: 'misled', 9123: 'captivated', 9124: 'gui', 9125: 'nad', 9126: 'lightings', 9127: 'completly', 9128: 'polarized', 9129: 'sunglasses', 9130: 'satisfiedeasier', 9131: 'caring', 9132: 'scrutiny', 9133: 'purses', 9134: 'seatmate', 9135: 'overhead', 9136: '37th', 9137: 'writes', 9138: 'margins', 9139: 'clearness', 9140: 'seated', 9141: 'sky', 9142: 'detached', 9143: 'preffered', 9144: 'stuffers', 9145: 'veeery', 9146: 'mostle', 9147: 'somthing', 9148: 'fas', 9149: 'wfi', 9150: 'soundbar', 9151: 'affodable', 9152: 'seventh', 9153: 'disrupt', 9154: 'wasthe', 9155: 'criticize', 9156: 'breath', 9157: 'hasnt', 9158: 'kindergarteners', 9159: 'ignorant', 9160: 'putin', 9161: 'secured', 9162: 'pound', 9163: 'yetfastestand', 9164: 'relaxation', 9165: 'usefulto', 9166: 'transfered', 9167: 'griendly', 9168: 'kerplot', 9169: 'gona', 9170: 'squenting', 9171: 'ph√≤ne', 9172: 'overwhelming', 9173: 'piggyback', 9174: 'megapixels', 9175: 'accounting', 9176: 'lagging', 9177: 'novel', 9178: 'feather', 9179: 'prints', 9180: 'qwerks', 9181: 'onternet', 9182: 'workmanship', 9183: 'abysmal', 9184: 'shorted', 9185: 'kicking', 9186: 'dwarfs', 9187: 'cream', 9188: 'stark', 9189: '16mb', 9190: 'intent', 9191: 'flavor', 9192: 'coexist', 9193: 'ztotop', 9194: 'backstrap', 9195: 'playbooks', 9196: 'tempted', 9197: 'mil', 9198: 'confess', 9199: 'universe', 9200: 'andriod', 9201: '8inch', 9202: 'hardwark', 9203: '50its', 9204: 'needy', 9205: 'lawrence', 9206: 'buffalo', 9207: 'recommenf', 9208: 'creation', 9209: 'history', 9210: 'dptrp1', 9211: '20ish', 9212: 'longshot', 9213: 'actuality', 9214: 'reportedly', 9215: 'bookworms', 9216: 'cages', 9217: 'gates', 9218: 'drastic', 9219: 'appple', 9220: 'fora', 9221: 'who‚äôs', 9222: 'solitary', 9223: 'axis', 9224: 'tosed', 9225: 'screan', 9226: 'soundresponsivealexa', 9227: 'awesomebest', 9228: 'pricebattery', 9229: '256gb', 9230: '2mp', 9231: 'hd‚äôs', 9232: 'mygirlfriend', 9233: 'smeary', 9234: 'featuring', 9235: 'extract', 9236: 'copied', 9237: 'blade', 9238: 'netbooks', 9239: 'zillionth', 9240: 'egad', 9241: 'it‚äôsadvertisement', 9242: 'scree', 9243: 'it‚äô', 9244: 'heavyweights', 9245: 'carseat', 9246: 'everyway', 9247: 'mamy', 9248: 'outgrown', 9249: 'permits', 9250: 'permit', 9251: 'evidenced', 9252: 'hating', 9253: 'terrified', 9254: 'deductible', 9255: 'kindie', 9256: 'chency', 9257: '1080p', 9258: 'cellphones', 9259: '2years', 9260: 'strangers', 9261: 'preview', 9262: 'baseline', 9263: 'hotmail', 9264: 'banks', 9265: 'surfuring', 9266: 'wil', 9267: 'surel', 9268: 'surfs', 9269: 'hound', 9270: 'hobby', 9271: '13k', 9272: 'interms', 9273: 'tokens', 9274: 'debit', 9275: 'nightmare', 9276: 'delivering', 9277: 'dents', 9278: 'provider', 9279: 'hokey', 9280: 'beefy', 9281: 'coloer', 9282: 'specify', 9283: 'coarse', 9284: 'transcribe', 9285: 'handwriting', 9286: 'suggests', 9287: 'conferencing', 9288: 'gran', 9289: 'unbreakable', 9290: 'adicting', 9291: 'youse', 9292: 'uncomplicated', 9293: '8gig', 9294: 'wieght', 9295: 'compelling', 9296: 'slowed', 9297: 'startup', 9298: 'clogged', 9299: 'promoting', 9300: 'weakness', 9301: 'ignored', 9302: 'dismissed', 9303: 'promo', 9304: 'folio', 9305: 'complications', 9306: 'emailing', 9307: 'sametime', 9308: 'buyand', 9309: 'renowned', 9310: 'predecessor', 9311: 'fav', 9312: 'victory', 9313: 'varying', 9314: 'forsee', 9315: 'hoopla', 9316: 'wit', 9317: '2gbs', 9318: 'customizing', 9319: 'hardest', 9320: 'arguably', 9321: 'humming', 9322: 'wash', 9323: 'conneseiur', 9324: 'matches', 9325: 'lifting', 9326: 'weights', 9327: 'tongift', 9328: 'enought', 9329: 'setback', 9330: '12gb', 9331: 'ypu', 9332: 'tou', 9333: 'netlfix', 9334: 'woeks', 9335: 'lounging', 9336: 'fragile', 9337: 'couples', 9338: 'streamming', 9339: 'workscons', 9340: 'agps', 9341: 'choppy', 9342: 'starte', 9343: 'gramps', 9344: 'tike', 9345: 'carpet', 9346: 'intentions', 9347: 'forum', 9348: 'planing', 9349: 'asd', 9350: 'meltdowns', 9351: 'meltdown', 9352: 'vga', 9353: 'turnoff', 9354: 'outlook', 9355: 'client', 9356: '‚äùtablet', 9357: 'sitters', 9358: 'multiwindow', 9359: 'authorize', 9360: 'theon', 9361: 'droppable', 9362: '99my', 9363: 'moblie', 9364: 'hotspots', 9365: 'dearly', 9366: 'availablility', 9367: 'ranging', 9368: 'maximized', 9369: '‚äúparent', 9370: 'control‚äù', 9371: 'westland', 9372: 'missouri', 9373: 'mossouri', 9374: 'jefferson', 9375: 'hassles', 9376: 'successfully', 9377: 'blessing', 9378: 'downs', 9379: 'spec', 9380: 'atmos', 9381: 'soundstage', 9382: 'straw', 9383: 'lamented', 9384: 'slamming', 9385: 'crafting', 9386: 'cricut', 9387: 'producteasy', 9388: 'compainion', 9389: 'gagets', 9390: 'pursued', 9391: 'swiped', 9392: 'changer', 9393: 'furthermore', 9394: 'mentally', 9395: 'fledged', 9396: 'primaril', 9397: 'resilience', 9398: 'heights', 9399: 'strengths', 9400: 'discretely', 9401: 'minors', 9402: 'sporting', 9403: 'dea', 9404: 'sideloaded', 9405: 'fastand', 9406: 'iô∏è', 9407: 'kuds', 9408: 'used6', 9409: 'impressing', 9410: 'knowledged', 9411: 'bumps', 9412: 'expressions', 9413: 'willbe', 9414: 'transports', 9415: 'prine', 9416: 'tabletwould', 9417: 'fro', 9418: 'everwhere', 9419: 'serving', 9420: 'aim', 9421: 'preset', 9422: '5ghz', 9423: 'showtime', 9424: 'cheesy', 9425: 'multitasks', 9426: 'let‚äôs', 9427: '5years', 9428: 'iseasy', 9429: 'mother‚äôs', 9430: 'mami‚äôs', 9431: 'she‚äôll', 9432: 'kurios', 9433: 'resists', 9434: 'purchashed', 9435: 'video‚äôs', 9436: 'asset', 9437: 'precision', 9438: 'fuller', 9439: 'ki8ds', 9440: 'brained', 9441: 'diagnosed', 9442: 'encephalitis', 9443: 'regain', 9444: 'replacinglove', 9445: 'freeplay', 9446: 'goddaughter', 9447: '1hr', 9448: 'grin', 9449: 'baked', 9450: 'bbc', 9451: 'huh', 9452: 'ghj', 9453: 'purely', 9454: 'eagerly', 9455: 'arguing', 9456: 'aforementioned', 9457: 'experimenting', 9458: 'crummy', 9459: 'retains', 9460: 'awkwardly', 9461: 'shoddy', 9462: 'viewwhere', 9463: 'documentaries', 9464: 'nowe', 9465: 'rmv', 9466: '3vstates', 9467: 'abusive', 9468: 'teachers', 9469: 'incase', 9470: 'potty', 9471: 'schoolwork', 9472: 'appointment', 9473: 'panted', 9474: 'mario', 9475: 'chocked', 9476: 'mission', 9477: 'slippy', 9478: 'attribute', 9479: 'ands', 9480: 'fritz', 9481: 'nauseum', 9482: 'crashing', 9483: 'dive', 9484: 'quickness', 9485: 'avery', 9486: 'sincemy', 9487: 'serviceman', 9488: 'wife‚äôs', 9489: 'sudoku', 9490: 'mymom', 9491: 'stall', 9492: 'tabley', 9493: 'brorher', 9494: 'instrument', 9495: 'easey', 9496: 'improvents', 9497: 'absolutelt', 9498: 'ise', 9499: 'enhances', 9500: 'withstood', 9501: 'stool', 9502: 'kindleeasy', 9503: 'staggering', 9504: 'boggles', 9505: 'bug', 9506: 'verygood', 9507: 'muted', 9508: 'bulkiness', 9509: 'resonable', 9510: 'transitioning', 9511: 'runnig', 9512: 'averything', 9513: 'forcibly', 9514: 'demonstrated', 9515: '1month', 9516: 'old‚äôs', 9517: 'macular', 9518: 'degeneration', 9519: 'flashiest', 9520: '1and', 9521: 'youself', 9522: 'tempeture', 9523: 'detailing', 9524: 'crafty', 9525: 'serviceskindle', 9526: 'amazonbut', 9527: 'firehd', 9528: 'skinned', 9529: 'lolipop', 9530: 'nougat', 9531: 'semitransparent', 9532: 'blackish', 9533: 'pefect', 9534: 'iimited', 9535: 'comixology', 9536: 'pixilated', 9537: 'we‚äôve', 9538: 'deivce', 9539: 'vet', 9540: 'buffered', 9541: 'reaching', 9542: 'youd', 9543: 'modded', 9544: 'filters', 9545: 'doh', 9546: 'juvenile', 9547: 'mini4', 9548: 'meantime', 9549: 'alerting', 9550: '20s', 9551: 'outta', 9552: 'compaired', 9553: 'qualitygreat', 9554: 'screenshot', 9555: 'possibilty', 9556: 'callinh', 9557: 'firstly', 9558: 'persons', 9559: 'adept', 9560: 'cushion', 9561: 'wheels', 9562: 'spinning', 9563: 'incapabilities', 9564: 'populated', 9565: 'unexplained', 9566: 'elders', 9567: 'gbyte', 9568: 'header', 9569: 'cyber', 9570: 'insistence', 9571: 'subsequent', 9572: 'complex', 9573: 'troublesome', 9574: 'ponying', 9575: 'contaced', 9576: 'concluded', 9577: 'framework', 9578: 'painless', 9579: 'daycare', 9580: 'divice', 9581: 'clud', 9582: 'thur', 9583: 'calm', 9584: 'imposed', 9585: 'voices', 9586: 'kissing', 9587: 'forkids', 9588: 'prep', 9589: 'deregistered', 9590: 'jeep', 9591: 'buggin', 9592: '‚äúyou', 9593: 'tube‚äù', 9594: 'manny', 9595: 'comeon', 9596: 'fulfills', 9597: 'britbox', 9598: 'dementia', 9599: 'overwhelmed', 9600: 'connivence', 9601: 'sake', 9602: 'wacky', 9603: 'crashes', 9604: 'bouncing', 9605: 'os‚äô', 9606: 'vast', 9607: 'coverts', 9608: 'happend', 9609: 'adapting', 9610: 'aluminium', 9611: 'oven', 9612: 'convection', 9613: 'blemish', 9614: 'detract', 9615: 'slash', 9616: 'sweaty', 9617: 'capturing', 9618: 'stanby', 9619: 'backside', 9620: 'grippy', 9621: 'epaper', 9622: 'unreasonable', 9623: 'whispersync', 9624: 'airpod', 9625: 'emailed', 9626: 'inquiring', 9627: 'registration', 9628: 'submitted', 9629: 'slowness', 9630: 'grandniece', 9631: 'gravitated', 9632: 'certainty', 9633: 'ttje', 9634: 'backpacking', 9635: 'haul', 9636: 'pigeon', 9637: 'holed', 9638: 'declines', 9639: 'monopoly', 9640: 'cutting', 9641: 'zooms', 9642: 'notification', 9643: 'reminded', 9644: 'doesnot', 9645: 'compacted', 9646: 'brighten', 9647: 'flickers', 9648: 'battary', 9649: 'curriculum', 9650: 'glear', 9651: 'oss', 9652: 'demerit', 9653: 'thereafter', 9654: 'kns', 9655: 'daytime', 9656: '2yo', 9657: 'beech', 9658: 'bookworm', 9659: 'simplistic', 9660: 'suprises', 9661: 'thouroughly', 9662: 'adventures', 9663: 'unbelievably', 9664: 'delay', 9665: 'completion', 9666: 'highlighted', 9667: 'compiled', 9668: 'optimist', 9669: 'rad', 9670: 'lovit', 9671: 'caveman', 9672: 'silicone', 9673: 'touchable', 9674: 'worms', 9675: 'touchy', 9676: 'sicnce', 9677: 'dmv', 9678: 'bifocals', 9679: 'migraines', 9680: 'crossed', 9681: 'headaches', 9682: 'understandably', 9683: 'defected', 9684: '4gig', 9685: '1gig', 9686: 'reverse', 9687: 'realise', 9688: 'wwan', 9689: 'matted', 9690: 'illiterate', 9691: 'bled', 9692: 'phrases', 9693: 'collected', 9694: 'inadvertant', 9695: 'twitchy', 9696: 'erasing', 9697: 'dreregistering', 9698: 'prompted', 9699: 'deduct', 9700: 'calibre', 9701: 'plugging', 9702: 'unknown', 9703: 'cycled', 9704: 'corrupted', 9705: 'infinite', 9706: 'loop', 9707: 'refurbishment', 9708: 'gigabit', 9709: 'severely', 9710: 'handicapped', 9711: 'armchair', 9712: '11year', 9713: 'bathtub', 9714: 'baths', 9715: 'tulsa', 9716: 'struggled', 9717: 'theory', 9718: 'desperate', 9719: 'oddly', 9720: 'gingerbread', 9721: 'inputting', 9722: 'domke', 9723: 'lenses', 9724: 'tailor', 9725: 'sewed', 9726: 'paring', 9727: 'hid', 9728: 'blackberry', 9729: 'playbook', 9730: 'transformer', 9731: 'digit', 9732: 'viewable', 9733: 'alphanumeric', 9734: 'omissions', 9735: 'down2', 9736: 'spaced', 9737: 'spacious', 9738: 'smallish', 9739: 'sparse', 9740: 'hzdc', 9741: 'ampsthis', 9742: 'flextronics', 9743: 'a00810', 9744: 'condo', 9745: 'nothin', 9746: 'intermittently', 9747: 'preferably', 9748: 'disintegrating', 9749: 'isulation', 9750: 'slave', 9751: 'imported', 9752: 'cablesanyonei', 9753: 'donuts', 9754: 'bloom', 9755: '10s', 9756: 'mature', 9757: 'undergo', 9758: 'radioactive', 9759: 'decay', 9760: 'sequin', 9761: 'nashville', 9762: 'congrats', 9763: 'recommendations', 9764: 'indicators', 9765: 'asesome', 9766: 'begrudge', 9767: 'genuinely', 9768: 'miro', 9769: 'dizzying', 9770: 'delegating', 9771: 'foremost', 9772: 'alleviating', 9773: 'considerate', 9774: 'trifold', 9775: 'dishes', 9776: 'cook', 9777: 'willynilly', 9778: 'inexspensive', 9779: 'recreation', 9780: 'negotiate', 9781: 'reclining', 9782: 'inthe', 9783: 'simplty', 9784: 'graduate', 9785: 'twitch', 9786: 'crews', 9787: 'boggling', 9788: '240gb', 9789: 'restarts', 9790: 'jazz', 9791: 'muss', 9792: 'prettier', 9793: 'deployment', 9794: 'blueray', 9795: 'twhat', 9796: 'relable', 9797: 'darkens', 9798: 'bothersome', 9799: 'awesomely', 9800: 'an¬†inexpensive', 9801: 'amout', 9802: 'highlygreat', 9803: '‚äãis', 9804: 'tbe', 9805: 'tbey', 9806: 'casino', 9807: 'moneyenough', 9808: 'gamesdecent', 9809: 'lifecons', 9810: 'weekslow', 9811: 'grest', 9812: '1mobile', 9813: 'roots', 9814: 'woudl', 9815: 'coclors', 9816: '6gb', 9817: 'mixture', 9818: 'goggles', 9819: 'frienday', 9820: 'morei', 9821: 'fsntastic', 9822: 'settling', 9823: 'qualitygood', 9824: 'moneycan', 9825: 'awesomeness', 9826: 'xan', 9827: 'microtransactions', 9828: 'childthis', 9829: 'fide', 9830: 'overjoyed', 9831: 'weighted', 9832: 'imy', 9833: 'becazuse', 9834: 'haf', 9835: 'stoeage', 9836: 'babysit', 9837: 'disappointments', 9838: 'unimpressive', 9839: 'drawbacks', 9840: 'humans', 9841: 'perpetually', 9842: 'stickum', 9843: 'anxiety', 9844: 'inducing', 9845: 'demonstrate', 9846: 'murphy', 9847: 'economic', 9848: 'truely', 9849: 'narration', 9850: 'graded', 9851: 'customet', 9852: 'tabket', 9853: 'featuers', 9854: 'malfunctioning', 9855: 'wen', 9856: 'lounger', 9857: 'paretal', 9858: 'probobly', 9859: 'lagginess', 9860: 'ipad2', 9861: 'cortonna', 9862: 'hates', 9863: 'camer', 9864: 'costed', 9865: 'mayday', 9866: 'gateway', 9867: 'reaction', 9868: 'shades', 9869: 'scheduling', 9870: 'alertanative', 9871: 'pearl', 9872: 'rearvision', 9873: 'mounts', 9874: 'magnetically', 9875: 'vent', 9876: 'kindlelishous', 9877: 'competent', 9878: 'relies', 9879: 'readi', 9880: 'blanking', 9881: 'moztly', 9882: 'bookreader'}\n"
     ]
    }
   ],
   "source": [
    "print(word_dict)"
   ]
  },
  {
   "cell_type": "code",
   "execution_count": 52,
   "metadata": {
    "_uuid": "84fb6fd51471eb56b28f16363ee08ac595c4e7e8"
   },
   "outputs": [],
   "source": [
    "reviews_encoded = [];\n",
    "for i,review in enumerate(review_cleans):\n",
    "    reviews_encoded.append([sequence_dict[x] for x in review]);"
   ]
  },
  {
   "cell_type": "code",
   "execution_count": 53,
   "metadata": {
    "_uuid": "b13e980f55ddc0b1c7393b7f02df7e34c2075abd",
    "scrolled": true
   },
   "outputs": [
    {
     "data": {
      "text/plain": [
       "(array([ 103.,  997., 1857., 1050., 1723., 1952., 2455., 2299., 1932.,\n",
       "        1571., 1373., 1105.,  916.,  878.,  719.,  645.,  559.,  520.,\n",
       "         481.,  418.,  360.,  335.,  342.,  527.]),\n",
       " array([ 0,  1,  2,  3,  4,  5,  6,  7,  8,  9, 10, 11, 12, 13, 14, 15, 16,\n",
       "        17, 18, 19, 20, 21, 22, 23, 24]),\n",
       " <BarContainer object of 24 artists>)"
      ]
     },
     "execution_count": 53,
     "metadata": {},
     "output_type": "execute_result"
    },
    {
     "data": {
      "image/png": "[encoded data removed]",
      "text/plain": [
       "<Figure size 432x288 with 1 Axes>"
      ]
     },
     "metadata": {
      "needs_background": "light"
     },
     "output_type": "display_data"
    }
   ],
   "source": [
    "lengths = [len(x) for x in reviews_encoded]\n",
    "plt.hist(lengths, bins=range(25))"
   ]
  },
  {
   "cell_type": "code",
   "execution_count": 54,
   "metadata": {
    "_uuid": "d9e6ef8d044751d8c5d3a36e2ae491fa85a1242b",
    "scrolled": true
   },
   "outputs": [
    {
     "name": "stdout",
     "output_type": "stream",
     "text": [
      "[93, 43, 1490]\n"
     ]
    }
   ],
   "source": [
    "print(reviews_encoded[135])"
   ]
  },
  {
   "cell_type": "code",
   "execution_count": 55,
   "metadata": {
    "_uuid": "87e31193c72aa64f7c60817711d66063476c4a57"
   },
   "outputs": [],
   "source": [
    "max_cap =8;\n",
    "X = pad_sequences(reviews_encoded, maxlen=max_cap, truncating='post')"
   ]
  },
  {
   "cell_type": "code",
   "execution_count": 56,
   "metadata": {
    "_uuid": "d6367322ea14503fd209873daa4ab1244af5fe99"
   },
   "outputs": [],
   "source": [
    "Y = np.array([[0,1] if '0' in label else [1,0] for label in labels])"
   ]
  },
  {
   "cell_type": "code",
   "execution_count": 57,
   "metadata": {
    "_uuid": "70184e14b8f973ce1138860f5b0a0e1c16b2f7d0"
   },
   "outputs": [],
   "source": [
    "np.random.seed(1024);\n",
    "random_posits = np.arange(len(X))\n",
    "np.random.shuffle(random_posits);"
   ]
  },
  {
   "cell_type": "code",
   "execution_count": 58,
   "metadata": {
    "_uuid": "fa2bf329f15404cd476f61dca63a8f9d6ef8bd78"
   },
   "outputs": [],
   "source": [
    "X = X[random_posits];\n",
    "Y = Y[random_posits];"
   ]
  },
  {
   "cell_type": "code",
   "execution_count": 59,
   "metadata": {
    "_uuid": "9c2b4b34866178c7d8f4416b07d6611f700533aa"
   },
   "outputs": [],
   "source": [
    "train_cap = int(0.75 * len(X));\n",
    "dev_cap = int(0.93 * len(X));"
   ]
  },
  {
   "cell_type": "code",
   "execution_count": 60,
   "metadata": {
    "_uuid": "2dd4e0ee4e74c83056428e964d1b7be6a7ea2a2a",
    "scrolled": true
   },
   "outputs": [],
   "source": [
    "X_train, Y_train = X[:train_cap], Y[:train_cap]\n",
    "X_dev, Y_dev = X[train_cap:dev_cap], Y[train_cap:dev_cap]\n",
    "X_test1, Y_test1 = X[dev_cap:], Y[dev_cap:]"
   ]
  },
  {
   "cell_type": "markdown",
   "metadata": {},
   "source": [
    "## **Customized Neural Network (LSTM) for Classification**"
   ]
  },
  {
   "cell_type": "code",
   "execution_count": null,
   "metadata": {},
   "outputs": [],
   "source": []
  },
  {
   "cell_type": "code",
   "execution_count": 61,
   "metadata": {},
   "outputs": [
    {
     "name": "stdout",
     "output_type": "stream",
     "text": [
      "Model: \"sequential\"\n",
      "_________________________________________________________________\n",
      "Layer (type)                 Output Shape              Param #   \n",
      "=================================================================\n",
      "embedding (Embedding)        (None, 8, 8)              79064     \n",
      "_________________________________________________________________\n",
      "lstm (LSTM)                  (None, 8, 150)            95400     \n",
      "_________________________________________________________________\n",
      "lstm_1 (LSTM)                (None, 8, 125)            138000    \n",
      "_________________________________________________________________\n",
      "lstm_2 (LSTM)                (None, 8, 110)            103840    \n",
      "_________________________________________________________________\n",
      "lstm_3 (LSTM)                (None, 110)               97240     \n",
      "_________________________________________________________________\n",
      "dense (Dense)                (None, 100)               11100     \n",
      "_________________________________________________________________\n",
      "dense_1 (Dense)              (None, 80)                8080      \n",
      "_________________________________________________________________\n",
      "dense_2 (Dense)              (None, 60)                4860      \n",
      "_________________________________________________________________\n",
      "dense_3 (Dense)              (None, 40)                2440      \n",
      "_________________________________________________________________\n",
      "dense_4 (Dense)              (None, 20)                820       \n",
      "_________________________________________________________________\n",
      "dense_5 (Dense)              (None, 2)                 42        \n",
      "=================================================================\n",
      "Total params: 540,886\n",
      "Trainable params: 540,886\n",
      "Non-trainable params: 0\n",
      "_________________________________________________________________\n",
      "None\n",
      "Epoch 1/20\n",
      "1329/1329 [==============================] - 55s 33ms/step - loss: 0.4625 - accuracy: 0.9036 - val_loss: 0.2916 - val_accuracy: 0.9023\n",
      "Epoch 2/20\n",
      "1329/1329 [==============================] - 40s 30ms/step - loss: 0.2704 - accuracy: 0.9002 - val_loss: 0.2592 - val_accuracy: 0.9027\n",
      "Epoch 3/20\n",
      "1329/1329 [==============================] - 39s 30ms/step - loss: 0.2264 - accuracy: 0.9159 - val_loss: 0.2493 - val_accuracy: 0.9149\n",
      "Epoch 4/20\n",
      "1329/1329 [==============================] - 40s 30ms/step - loss: 0.1986 - accuracy: 0.9286 - val_loss: 0.2275 - val_accuracy: 0.9149\n",
      "Epoch 5/20\n",
      "1329/1329 [==============================] - 40s 30ms/step - loss: 0.1797 - accuracy: 0.9378 - val_loss: 0.2197 - val_accuracy: 0.9182\n",
      "Epoch 6/20\n",
      "1329/1329 [==============================] - 40s 30ms/step - loss: 0.1657 - accuracy: 0.9424 - val_loss: 0.2255 - val_accuracy: 0.9210\n",
      "Epoch 7/20\n",
      "1329/1329 [==============================] - 40s 30ms/step - loss: 0.1532 - accuracy: 0.9503 - val_loss: 0.2204 - val_accuracy: 0.9216\n",
      "Epoch 8/20\n",
      "1329/1329 [==============================] - 41s 31ms/step - loss: 0.1459 - accuracy: 0.9538 - val_loss: 0.2202 - val_accuracy: 0.9229\n",
      "Epoch 9/20\n",
      "1329/1329 [==============================] - 40s 30ms/step - loss: 0.1311 - accuracy: 0.9575 - val_loss: 0.2161 - val_accuracy: 0.9278\n",
      "Epoch 10/20\n",
      "1329/1329 [==============================] - 40s 30ms/step - loss: 0.1345 - accuracy: 0.9582 - val_loss: 0.2201 - val_accuracy: 0.9241\n",
      "Epoch 11/20\n",
      "1329/1329 [==============================] - 40s 30ms/step - loss: 0.1286 - accuracy: 0.9612 - val_loss: 0.2206 - val_accuracy: 0.9249\n",
      "Epoch 12/20\n",
      "1329/1329 [==============================] - 40s 30ms/step - loss: 0.1171 - accuracy: 0.9654 - val_loss: 0.2231 - val_accuracy: 0.9272\n",
      "Epoch 13/20\n",
      "1329/1329 [==============================] - 40s 30ms/step - loss: 0.1183 - accuracy: 0.9659 - val_loss: 0.2250 - val_accuracy: 0.9267\n",
      "Epoch 14/20\n",
      "1329/1329 [==============================] - 40s 30ms/step - loss: 0.1088 - accuracy: 0.9697 - val_loss: 0.2255 - val_accuracy: 0.9280\n",
      "Epoch 15/20\n",
      "1329/1329 [==============================] - 40s 30ms/step - loss: 0.1107 - accuracy: 0.9686 - val_loss: 0.2278 - val_accuracy: 0.9290\n",
      "Epoch 16/20\n",
      "1329/1329 [==============================] - 40s 30ms/step - loss: 0.1055 - accuracy: 0.9707 - val_loss: 0.2260 - val_accuracy: 0.9300\n",
      "Epoch 17/20\n",
      "1329/1329 [==============================] - 40s 30ms/step - loss: 0.1020 - accuracy: 0.9722 - val_loss: 0.2255 - val_accuracy: 0.9255\n",
      "Epoch 18/20\n",
      "1329/1329 [==============================] - 41s 30ms/step - loss: 0.1012 - accuracy: 0.9725 - val_loss: 0.2342 - val_accuracy: 0.9296\n",
      "Epoch 19/20\n",
      "1329/1329 [==============================] - 40s 30ms/step - loss: 0.1032 - accuracy: 0.9714 - val_loss: 0.2350 - val_accuracy: 0.9304\n",
      "Epoch 20/20\n",
      "1329/1329 [==============================] - 40s 30ms/step - loss: 0.1046 - accuracy: 0.9728 - val_loss: 0.2331 - val_accuracy: 0.9290\n",
      "dict_keys(['loss', 'accuracy', 'val_loss', 'val_accuracy'])\n"
     ]
    }
   ],
   "source": [
    "from keras.models import Sequential\n",
    "from keras.layers import Dense\n",
    "from keras.backend import eval\n",
    "from keras.optimizers import Adam\n",
    "from keras.layers import LSTM\n",
    "from keras.layers.embeddings import Embedding\n",
    "\n",
    "\n",
    "model1 = Sequential();\n",
    "model1.add(Embedding(len(word_dict)+1, max_cap, input_length=max_cap));\n",
    "#adding a LSTM layer of dim 1--\n",
    "model1.add(LSTM(150, return_sequences=True));\n",
    "model1.add(LSTM(125, return_sequences=True));\n",
    "model1.add(LSTM(110, return_sequences=True));\n",
    "model1.add(LSTM(110, return_sequences=False));\n",
    "#adding a dense layer with activation function of relu\n",
    "model1.add(Dense(100, activation='relu', kernel_initializer='uniform'));#best 50,relu\n",
    "model1.add(Dense(80, activation='relu', kernel_initializer='uniform'));\n",
    "model1.add(Dense(60, activation='relu', kernel_initializer='uniform'));\n",
    "model1.add(Dense(40, activation='relu', kernel_initializer='uniform'));\n",
    "model1.add(Dense(20, activation='relu', kernel_initializer='uniform'));\n",
    "#adding the final output activation with activation function of softmax\n",
    "model1.add(Dense(2, activation='sigmoid', kernel_initializer='uniform'));\n",
    "print(model1.summary());\n",
    "optimizer = Adam(lr=0.0001, decay=0.0001);\n",
    "\n",
    "model1.compile(loss='binary_crossentropy', optimizer=optimizer, metrics=['accuracy'])\n",
    "# fit model and run it for 20 epochs\n",
    "history = model1.fit(X_train, Y_train, batch_size=16, epochs=20, validation_data=(X_dev, Y_dev))\n",
    "# list all data in history\n",
    "print(history.history.keys())"
   ]
  },
  {
   "cell_type": "code",
   "execution_count": 62,
   "metadata": {},
   "outputs": [
    {
     "name": "stdout",
     "output_type": "stream",
     "text": [
      "62/62 [==============================] - 4s 12ms/step - loss: 0.2299 - accuracy: 0.9370\n",
      "Test accuracy: 93.6996%\n"
     ]
    }
   ],
   "source": [
    "score = model1.evaluate(X_test1, Y_test1)\n",
    "print(\"Test accuracy: %0.4f%%\" % (score[1]*100))"
   ]
  },
  {
   "cell_type": "code",
   "execution_count": 63,
   "metadata": {},
   "outputs": [
    {
     "data": {
      "image/png": "[encoded data removed]",
      "text/plain": [
       "<Figure size 432x288 with 1 Axes>"
      ]
     },
     "metadata": {
      "needs_background": "light"
     },
     "output_type": "display_data"
    }
   ],
   "source": [
    "import matplotlib.pyplot as plt\n",
    "plt.plot(history.history['loss'])\n",
    "plt.plot(history.history['val_loss'])\n",
    "plt.title('Model Loss')\n",
    "plt.ylim(0.00, 0.50)\n",
    "plt.ylabel('Loss')\n",
    "plt.xlabel('Epochs')\n",
    "plt.legend(['Training Loss', 'Testing Loss'], loc='upper right')\n",
    "plt.show()"
   ]
  },
  {
   "cell_type": "code",
   "execution_count": 64,
   "metadata": {},
   "outputs": [
    {
     "data": {
      "image/png": "[encoded data removed]",
      "text/plain": [
       "<Figure size 432x288 with 1 Axes>"
      ]
     },
     "metadata": {
      "needs_background": "light"
     },
     "output_type": "display_data"
    }
   ],
   "source": [
    "import matplotlib.pyplot as plt\n",
    "plt.plot(history.history['accuracy'])\n",
    "plt.plot(history.history['val_accuracy'])\n",
    "plt.title('Model Accuracy')\n",
    "plt.ylim(0.800,1.000)\n",
    "plt.xlim(0,5)\n",
    "plt.ylabel('Accuracy')\n",
    "plt.xlabel('Epochs')\n",
    "plt.legend(['Training Accuracy', 'Testing Accuracy'], loc='lower right')\n",
    "plt.show()"
   ]
  },
  {
   "cell_type": "code",
   "execution_count": 65,
   "metadata": {},
   "outputs": [
    {
     "name": "stdout",
     "output_type": "stream",
     "text": [
      "62/62 [==============================] - 1s 13ms/step - loss: 0.2299 - accuracy: 0.9370\n",
      "Test accuracy: 93.70%\n"
     ]
    }
   ],
   "source": [
    "score = model1.evaluate(X_test1, Y_test1)\n",
    "print(\"Test accuracy: %0.2f%%\" % (score[1]*100))"
   ]
  },
  {
   "cell_type": "code",
   "execution_count": null,
   "metadata": {},
   "outputs": [],
   "source": []
  }
 ],
 "metadata": {
  "kernelspec": {
   "display_name": "Python 3",
   "language": "python",
   "name": "python3"
  },
  "language_info": {
   "codemirror_mode": {
    "name": "ipython",
    "version": 3
   },
   "file_extension": ".py",
   "mimetype": "text/x-python",
   "name": "python",
   "nbconvert_exporter": "python",
   "pygments_lexer": "ipython3",
   "version": "3.8.5"
  }
 },
 "nbformat": 4,
 "nbformat_minor": 1
}
